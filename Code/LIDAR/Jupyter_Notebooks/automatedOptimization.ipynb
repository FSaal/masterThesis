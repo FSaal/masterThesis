{
 "cells": [
  {
   "cell_type": "markdown",
   "source": [
    "In this notebook, different variable values can be tested programmatically, to increase a score."
   ],
   "metadata": {}
  },
  {
   "cell_type": "code",
   "execution_count": 3,
   "source": [
    "from tf.transformations import euler_from_quaternion, euler_matrix\n",
    "import ros_numpy\n",
    "import pcl\n",
    "import time\n",
    "import numpy as np\n",
    "import math\n",
    "import rosbag\n",
    "import pandas as pd\n",
    "import plotly.express as px\n",
    "import plotly.graph_objects as go\n",
    "from plotly.offline import plot\n",
    "from plotly.subplots import make_subplots"
   ],
   "outputs": [],
   "metadata": {}
  },
  {
   "cell_type": "code",
   "execution_count": 4,
   "source": [
    "bag_path = '/home/user/rosbags/big/hdl_slam_validation/2021-10-07-08-32-58.bag'\n",
    "# Load rosbag\n",
    "bag = rosbag.Bag(bag_path)\n",
    "\n",
    "# Extract data from hdl bag\n",
    "# Contains raw lidar data and the position/orientation of car\n",
    "pose = []\n",
    "for topic, msg, t in bag.read_messages(topics='/odom'):\n",
    "    pose.append(msg.pose.pose)\n",
    "lidar = []\n",
    "for topic, msg, t in bag.read_messages(topics='/rslidar_points'):\n",
    "    lidar.append(msg)\n",
    "\n",
    "# To synchronize both topics, remove first of odom and the last 2 of rslidar\n",
    "pose = pose[1:]\n",
    "lidar = lidar[:-2]"
   ],
   "outputs": [],
   "metadata": {}
  },
  {
   "cell_type": "code",
   "execution_count": 5,
   "source": [
    "# My ROS Node\n",
    "class VisualDetection():\n",
    "\n",
    "    def __init__(self, ransac_distance_thresh=0.017, ransac_weight=0.125, ransac_make_seg=50,\n",
    "    voxel_leaf=0.1, plane_near_ground=0.8, cut=[0, 30, -3.5, 3.5, -1, 1.5], max_iter=4,\n",
    "    min_points=100):\n",
    "        self.distance_threshold = ransac_distance_thresh\n",
    "        self.distance_weight = ransac_weight\n",
    "        self.ransac_make_segmenter_normals = ransac_make_seg\n",
    "        self.plane_near_ground = plane_near_ground\n",
    "        self.cut = cut\n",
    "        self.min_points = min_points\n",
    "        self.max_iterations = max_iter\n",
    "        self.voxel_leaf = voxel_leaf\n",
    "\n",
    "    def spin(self, cloud, pose):\n",
    "        self.cloud = cloud\n",
    "        self.pose = pose\n",
    "        # Convert PointCloud2 msg to numpy array\n",
    "        pc_array = ros_numpy.point_cloud2.pointcloud2_to_xyz_array(self.cloud, remove_nans=True)\n",
    "        # Apply lidar to car frame transformation\n",
    "        pc_array_tf = self.transform_pc(pc_array, roll=0, pitch=25.53, yaw=0)\n",
    "        # Filter unwanted points (to reduce point cloud size) with passthrough filter\n",
    "        pc_array_cut = self.reduce_pc(pc_array_tf, self.cut)\n",
    "        # Convert numpy array to pcl object\n",
    "        pc_cut = pcl.PointCloud()\n",
    "        pc_cut.from_array(pc_array_cut.astype('float32'))\n",
    "        # Downsample point cloud using voxel filter to further decrease size\n",
    "        pc_small = self.voxel_filter(pc_cut, self.voxel_leaf)\n",
    "        # Perform RANSAC until no new planes are being detected\n",
    "        plane_coor, data = self.plane_detection(pc_small, self.min_points, self.max_iterations)\n",
    "        return plane_coor, data\n",
    "\n",
    "    def transform_pc(self, pc, roll=0, pitch=0, yaw=0, transl_x=1.753, transl_y=0, transl_z=1.156):\n",
    "        \"\"\"Transformation from Lidar frame to car frame. Rotation in rad and translation in m.\"\"\"\n",
    "        # Rotation matrix\n",
    "        rot = euler_matrix(roll, pitch, yaw, 'sxyz')[:3, :3]\n",
    "        # Apply rotation\n",
    "        pc_tf = np.inner(pc, rot)\n",
    "        # Translation\n",
    "        translation = [transl_x, transl_y, transl_z]\n",
    "        # Combine rotation and translation\n",
    "        pc_tf += translation\n",
    "        return pc_tf\n",
    "\n",
    "    def reduce_pc(self, pc, cut):\n",
    "        \"\"\"Removes points outside of box\"\"\"\n",
    "        x_lower, x_upper, y_lower, y_upper, z_lower, z_upper = cut\n",
    "        pc_cut = pc[(pc[:, 0] > x_lower) & (pc[:, 0] < x_upper) & (pc[:, 1] > y_lower) & (\n",
    "            pc[:, 1] < y_upper) & (pc[:, 2] > z_lower) & (pc[:, 2] < z_upper)]\n",
    "        return pc_cut\n",
    "\n",
    "    def voxel_filter(self, pc, leaf_size):\n",
    "        \"\"\"Downsample point cloud using voxel filter\"\"\"\n",
    "        vg = pc.make_voxel_grid_filter()\n",
    "        # Leaf_size is the length of the side of the voxel cube in m\n",
    "        vg.set_leaf_size(leaf_size, leaf_size, leaf_size)\n",
    "        pc_filtered = vg.filter()\n",
    "        # print('Reduced size from {} to {}'.format(pc.size, pc_filtered.size))\n",
    "        return pc_filtered\n",
    "\n",
    "    def plane_detection(self, pc, min_points, max_planes):\n",
    "        \"\"\"Detects all planes in point cloud\"\"\"\n",
    "        # Ground vector\n",
    "        g_vec = None\n",
    "        counter = 0\n",
    "        while pc.size > min_points and counter < max_planes:\n",
    "            # Detect most dominate plane and get inliers and normal vector\n",
    "            indices, coefficients = self.ransac(pc)\n",
    "            n_vec = coefficients[:-1]\n",
    "\n",
    "            # Split pointcloud in inliers and outliers of plane\n",
    "            pc, plane, pc_points = self.split_pc(pc, indices)\n",
    "\n",
    "            # Exit if plane is empty\n",
    "            if not plane:\n",
    "                return [], []\n",
    "\n",
    "            # Ignore walls to the side or in front\n",
    "            if self.is_plane_near_ground(n_vec, self.plane_near_ground):\n",
    "                # First ground like detection is most probably the ground\n",
    "                if g_vec is None:\n",
    "                    g_vec = n_vec\n",
    "                # Either ground is detected again or potential ramp\n",
    "                else:\n",
    "                    is_ramp, data = self.ramp_detection(plane, g_vec, n_vec, 4, 7, 0, 5, 2, 4, 0, 10)\n",
    "                    if is_ramp:\n",
    "                        # Transform plane from local rslidar coordinates to global map coordinates\n",
    "                        plane_global = self.relative_to_absolute(plane)\n",
    "                        return plane_global, data\n",
    "                    else:  \n",
    "                        continue\n",
    "            counter += 1\n",
    "        return [], []\n",
    "\n",
    "    def relative_to_absolute(self, pc):\n",
    "        \"\"\"Transforms relative lidar data to absolute by adding translation rotating\"\"\"\n",
    "        # pc_arr = pc.to_array()\n",
    "        pc_arr = np.array(pc)\n",
    "        # Odometer\n",
    "        pos = self.pose.position\n",
    "        translation = [pos.x, pos.y, pos.z]\n",
    "        ori = self.pose.orientation\n",
    "        quat = [ori.x, ori.y, ori.z, ori.w]\n",
    "        roll, pitch, yaw = euler_from_quaternion(quat)\n",
    "        # Rotation matrix\n",
    "        rot = euler_matrix(roll, pitch, yaw, 'sxyz')[:3, :3]\n",
    "        # Apply rotation\n",
    "        pc_tf = np.inner(pc_arr, rot)\n",
    "        # Combine rotation and translation\n",
    "        pc_tf += translation\n",
    "        return pc_tf\n",
    "\n",
    "    def ramp_detection(\n",
    "            self, plane, g_vec, n_vec, min_angle, max_angle, \n",
    "            min_height, max_height, min_width, max_width, \n",
    "            min_length, max_length, logging=False):\n",
    "        \"\"\"Checks if conditions to be considered a ramp are fullfilled.\"\"\"\n",
    "        # Convert pcl plane to numpy array\n",
    "        plane_array = np.array(plane)\n",
    "        # Calculate angle [deg] between new and previously recorded normal vector of ground\n",
    "        angle = self.angle_calc(g_vec, n_vec)\n",
    "        # Get ramp height (Difference between z-values of furthest and nearest point)\n",
    "        height = max(plane_array[:, 2]) - min(plane_array[:, 2])\n",
    "        # Get ramp width (Difference between y-values)\n",
    "        width = max(plane_array[:, 1]) - min(plane_array[:, 1])\n",
    "        # Length in x direction \n",
    "        x = max(plane_array[:, 0]) - min(plane_array[:, 0])\n",
    "        # Get ramp length (using pythagorean theorem)\n",
    "        length = math.sqrt(x**2 + height**2)\n",
    "        # Ramp distance (x-value of nearest point of the plane)\n",
    "        dist = min(plane_array[:,0])\n",
    "        data = [angle, dist, width, length, height]\n",
    "        if min_angle <= angle <= max_angle:\n",
    "            pass\n",
    "        else:\n",
    "            return False, data\n",
    "        if min_height <= height <= max_height:\n",
    "            pass\n",
    "        else:\n",
    "            return False, data\n",
    "        if min_width <= width <= max_width:\n",
    "            pass\n",
    "        else:\n",
    "            return False, data\n",
    "        if min_length <= length <= max_length:\n",
    "            pass\n",
    "        else:\n",
    "            return False, data\n",
    "        return True, data\n",
    "\n",
    "    def ransac(self, pc):\n",
    "        \"\"\"Finds inliers and normal vector of dominant plane\"\"\"\n",
    "        # 50?\n",
    "        seg = pc.make_segmenter_normals(self.ransac_make_segmenter_normals)\n",
    "        # Doubles the speed if True\n",
    "        seg.set_optimize_coefficients(True)\n",
    "        seg.set_model_type(pcl.SACMODEL_NORMAL_PLANE)\n",
    "        seg.set_method_type(pcl.SAC_RANSAC)\n",
    "        # How close a point must be to model to be considered inlier\n",
    "        seg.set_distance_threshold(self.distance_threshold)\n",
    "        # normal_distance_weight?\n",
    "        seg.set_normal_distance_weight(self.distance_weight)\n",
    "        # How many tries\n",
    "        seg.set_max_iterations(100)\n",
    "        indices, coefficients = seg.segment()\n",
    "        return indices, coefficients\n",
    "\n",
    "    def split_pc(self, pc, inliers):\n",
    "        \"\"\"Extract detected plane from point cloud and split into two pcs\"\"\"\n",
    "        # Get point cooridnates of plane\n",
    "        detected_plane = [pc[i] for i in inliers]\n",
    "        # Point cloud of detected plane (inliers)\n",
    "        pc_inliers = pc.extract(inliers)\n",
    "        # Point cloud of outliers\n",
    "        outlier_indices = list(set(np.arange(pc.size)).symmetric_difference(inliers))\n",
    "        pc_outliers = pc.extract(outlier_indices)\n",
    "        return pc_outliers, detected_plane, pc_inliers\n",
    "\n",
    "    def is_plane_near_ground(self, v, threshold=0.8):\n",
    "        \"\"\"Returns True if plane is on the ground (and false if e.g. side wall)\"\"\"\n",
    "        return abs(v[2]) > threshold   \n",
    "\n",
    "    def angle_calc(self, v1, v2, degrees=True):\n",
    "        \"\"\"Calculate angle between two vectors (planes)\"\"\"\n",
    "        # Assuming both vectors can be rotated alongside one axis to be aligned\n",
    "        dot = np.dot(v1, v2)\n",
    "        if dot <= 1:\n",
    "            angle = np.arccos(dot)\n",
    "        else:\n",
    "            angle = 0\n",
    "        if degrees is True:\n",
    "            return np.degrees(angle)\n",
    "        else:\n",
    "            return angle"
   ],
   "outputs": [],
   "metadata": {}
  },
  {
   "cell_type": "code",
   "execution_count": 133,
   "source": [
    "def dumb_optimizer(varIndex, start, end, steps=6, visualize=True):\n",
    "    # Variables that can be changed\n",
    "    var_names = ['ransac_distance_thresh', 'ransac_weight', 'ransac_make_seg',\n",
    "        'voxel_leaf', 'plane_near_ground', 'max_iter', 'min_points', 'cut']\n",
    "    # Standard parameters\n",
    "    params = [0.017, 0.125, 50, 0.1, 0.8, 4, 100, [0, 30, -3.5, 3.5, -1, 1.5]]\n",
    "    # List for visualization\n",
    "    vis_list = []\n",
    "    # Change parameter value every run\n",
    "    for var_val in np.linspace(start, end, steps):\n",
    "        # Adjust input parameter\n",
    "        params[varIndex] = var_val\n",
    "        # Create instance of class\n",
    "        vd = VisualDetection(ransac_distance_thresh=params[0], ransac_weight=params[1], \n",
    "        ransac_make_seg=params[2], voxel_leaf=params[3], plane_near_ground=params[4], \n",
    "        max_iter=params[5], min_points=params[6], cut=params[7])\n",
    "        # Lists to fill, will contain entry for each plane\n",
    "        planes = []\n",
    "        ramp_stats = []\n",
    "        # Timestop\n",
    "        start_t = time.time()\n",
    "        for i in range(len(lidar)):\n",
    "            plane_points, data = vd.spin(lidar[i], pose[i])\n",
    "            planes.append(plane_points)\n",
    "            ramp_stats.append(data)\n",
    "        # Timestop end\n",
    "        runtime = time.time() - start_t\n",
    "\n",
    "        # Remove empty lists (when no ramp has been detected)\n",
    "        ramp_arrays = [x for x in planes if x != []]\n",
    "        ramp_stats = [x for x in ramp_stats if x != []]\n",
    "\n",
    "        # Convert list to dictionary\n",
    "        dic = []\n",
    "        for i, arr in enumerate(ramp_arrays):\n",
    "            for j, point in enumerate(arr):\n",
    "                dic.append(\n",
    "                    {\n",
    "                        'sampleIdx': i,\n",
    "                        'pointIdx': j,\n",
    "                        'x': point[0],\n",
    "                        'y': point[1],\n",
    "                        'z': point[2]\n",
    "                    }\n",
    "                )\n",
    "        # And finally to pandas Dataframe\n",
    "        df = pd.DataFrame(dic)\n",
    "        # Adjust column order\n",
    "        df = df[['sampleIdx', 'pointIdx', 'x', 'y', 'z']]\n",
    "\n",
    "        # Ground truth coordinates of ramp (measured by using globalmap points)\n",
    "        x_range = [-21, -9]\n",
    "        y_range = [35, 39] \n",
    "\n",
    "        # Check if a point lies within ramp region\n",
    "        lies_inside = []\n",
    "        for i,x in enumerate(df['x']):\n",
    "            if x_range[0] < x < x_range[1]:\n",
    "                if y_range[0] < df['y'][i] < y_range[1]:\n",
    "                    # True if x and y coordinate inside region\n",
    "                    lies_inside.append(True)\n",
    "                else:\n",
    "                    lies_inside.append(False)\n",
    "            else:\n",
    "                lies_inside.append(False)\n",
    "        # Add column (if point lies in region) to data frame\n",
    "        df['inlier'] = lies_inside\n",
    "\n",
    "        # Calculate how many points of each sample lie in ramp region\n",
    "        true_inliers = []\n",
    "        samples_num = df.sampleIdx.max() + 1\n",
    "        for i in range(samples_num):\n",
    "            # Bool list of inliers and outliers of sample\n",
    "            bool_lst = df[df['sampleIdx'] == i]['inlier']\n",
    "            # Percentage of inliers of sample\n",
    "            true_inliers.append(sum(bool_lst) / float(len(bool_lst)))\n",
    "\n",
    "        # Average percentage of points in ramp region per sample\n",
    "        score = np.array(true_inliers).mean()\n",
    "        print('With parameter {} = {} the score was {:05.2f}% with a runtime of {:05.2f}s'.format(\n",
    "            var_names[varIndex], var_val, score*100, runtime))\n",
    "        # Todo: Add expected value of ramp (sth like time from when ramp is visible\n",
    "        # Todo: until not times the rate)\n",
    "        print('Out of ... expected samples, {} were detected.'.format(len(true_inliers)))\n",
    "        vis_list.append([var_names[varIndex], var_val, score*100, runtime])\n",
    "    if visualize:\n",
    "        df = pd.DataFrame(vis_list)\n",
    "        fig = make_subplots(rows=1, cols=2, \n",
    "        subplot_titles=('Score (higher is better)', 'Runtime (lower is better)'),\n",
    "        y_title='Parameter value')\n",
    "        fig.add_trace(go.Bar(\n",
    "            y = df.iloc[:,1], x=df.iloc[:,2],\n",
    "            name=\"Score\",\n",
    "            orientation='h', \n",
    "            textposition='inside'\n",
    "        ))\n",
    "        fig.add_trace(go.Bar(\n",
    "            y = df.iloc[:,1], x=df.iloc[:,3],\n",
    "            name=\"Runtime\",\n",
    "            orientation='h', \n",
    "            marker_color='orange',\n",
    "            textposition='inside'\n",
    "        ), row=1, col=2)\n",
    "        fig.update_traces(texttemplate='%{y:.3f}', insidetextanchor=\"middle\")\n",
    "        fig.update_xaxes(title_text=\"Percentage [%]\", row=1, col=1)\n",
    "        fig.update_xaxes(title_text=\"Time [s]\", row=1, col=2)\n",
    "        fig.update_layout(title_text=\"Performance for different \" + vis_list[0][0] + \" values\")\n",
    "        fig.show()\n",
    "        return fig"
   ],
   "outputs": [],
   "metadata": {}
  },
  {
   "cell_type": "markdown",
   "source": [
    "The following parameters can be tested (standard value on right hand side):\n",
    "\n",
    "0. ransac_distance_thresh=0.017\n",
    "1. ransac_weight=0.125\n",
    "2. ransac_make_seg=50,\n",
    "3. voxel_leaf=0.1\n",
    "4. plane_near_ground=0.8\n",
    "5. cut=[0, 30, -3.5, 3.5, -1, 1.5]\n",
    "6. max_iter=4\n",
    "7. min_points=100\n",
    "\n",
    "The optimizer takes the following input:\n",
    "\n",
    "`def dumb_optimizer(varIndex, start, end, steps=6)`\n",
    "\n",
    "The score and runtime are displayed in the following plots.\n",
    "\n",
    "The score is calculated as the average value of inlier percentage per detected plane, that is considered a ramp. Hence it is also possible to get a perfect score of 100%, while only one plane was detected. To tackle this problem, another plot was created further down, which shows the ratio and count of true positives and false positives.\n",
    "\n",
    "The best way to evaluate would be to set a constant number of positives manually. E.g. if the car is 20m in front of a ramp it should be able to detect it, until the lower threshold has been reached, e.g. 5m before the ramp, at which the lidar can not distinguish between ground and ramp anymore.\n",
    "\n",
    "Because right now the amount of positives changes for each sample / parameter change, which is not good."
   ],
   "metadata": {}
  },
  {
   "cell_type": "code",
   "execution_count": 5,
   "source": [
    "# Standard parameters\n",
    "params = [0.017, 0.125, 50, 0.1, 0.8, 4, 100, [0, 30, -3.5, 3.5, -1, 1.5]]\n",
    "# Change each parameter by 50 to 100% and explore their influence\n",
    "for i in range(7):\n",
    "    if i != 4:\n",
    "        dumb_optimizer(i, params[i]*0.5, params[i]*2, 4)"
   ],
   "outputs": [
    {
     "output_type": "stream",
     "name": "stderr",
     "text": [
      "/home/user/.local/lib/python2.7/site-packages/ipykernel_launcher.py:30: DeprecationWarning:\n",
      "\n",
      "elementwise comparison failed; this will raise an error in the future.\n",
      "\n"
     ]
    },
    {
     "output_type": "stream",
     "name": "stdout",
     "text": [
      "With parameter ransac_distance_thresh = 0.0085 the score was 58.28% with a runtime of 14.70s\n",
      "Out of ... expected samples, 78 were detected.\n",
      "With parameter ransac_distance_thresh = 0.017 the score was 81.05% with a runtime of 09.77s\n",
      "Out of ... expected samples, 69 were detected.\n",
      "With parameter ransac_distance_thresh = 0.0255 the score was 67.17% with a runtime of 10.43s\n",
      "Out of ... expected samples, 69 were detected.\n",
      "With parameter ransac_distance_thresh = 0.034 the score was 57.08% with a runtime of 08.78s\n",
      "Out of ... expected samples, 71 were detected.\n"
     ]
    },
    {
     "output_type": "display_data",
     "data": {
      "application/vnd.plotly.v1+json": {
       "config": {
        "plotlyServerURL": "https://plot.ly"
       },
       "data": [
        {
         "textposition": "inside",
         "name": "Score",
         "texttemplate": "%{y:.3f}",
         "insidetextanchor": "middle",
         "y": [
          0.0085,
          0.017,
          0.025500000000000002,
          0.034
         ],
         "x": [
          58.28407879869471,
          81.04513209617922,
          67.17263939029507,
          57.082180293226884
         ],
         "type": "bar",
         "orientation": "h"
        },
        {
         "textposition": "inside",
         "name": "Runtime",
         "yaxis": "y2",
         "texttemplate": "%{y:.3f}",
         "insidetextanchor": "middle",
         "marker": {
          "color": "orange"
         },
         "xaxis": "x2",
         "y": [
          0.0085,
          0.017,
          0.025500000000000002,
          0.034
         ],
         "x": [
          14.700052976608276,
          9.773582935333252,
          10.431864976882935,
          8.781590938568115
         ],
         "type": "bar",
         "orientation": "h"
        }
       ],
       "layout": {
        "template": {
         "data": {
          "mesh3d": [
           {
            "colorbar": {
             "outlinewidth": 0,
             "ticks": ""
            },
            "type": "mesh3d"
           }
          ],
          "scattercarpet": [
           {
            "marker": {
             "colorbar": {
              "outlinewidth": 0,
              "ticks": ""
             }
            },
            "type": "scattercarpet"
           }
          ],
          "pie": [
           {
            "automargin": true,
            "type": "pie"
           }
          ],
          "surface": [
           {
            "colorbar": {
             "outlinewidth": 0,
             "ticks": ""
            },
            "type": "surface",
            "colorscale": [
             [
              0,
              "#0d0887"
             ],
             [
              0.1111111111111111,
              "#46039f"
             ],
             [
              0.2222222222222222,
              "#7201a8"
             ],
             [
              0.3333333333333333,
              "#9c179e"
             ],
             [
              0.4444444444444444,
              "#bd3786"
             ],
             [
              0.5555555555555556,
              "#d8576b"
             ],
             [
              0.6666666666666666,
              "#ed7953"
             ],
             [
              0.7777777777777778,
              "#fb9f3a"
             ],
             [
              0.8888888888888888,
              "#fdca26"
             ],
             [
              1,
              "#f0f921"
             ]
            ]
           }
          ],
          "table": [
           {
            "header": {
             "line": {
              "color": "white"
             },
             "fill": {
              "color": "#C8D4E3"
             }
            },
            "cells": {
             "line": {
              "color": "white"
             },
             "fill": {
              "color": "#EBF0F8"
             }
            },
            "type": "table"
           }
          ],
          "scatterpolargl": [
           {
            "marker": {
             "colorbar": {
              "outlinewidth": 0,
              "ticks": ""
             }
            },
            "type": "scatterpolargl"
           }
          ],
          "contour": [
           {
            "colorbar": {
             "outlinewidth": 0,
             "ticks": ""
            },
            "type": "contour",
            "colorscale": [
             [
              0,
              "#0d0887"
             ],
             [
              0.1111111111111111,
              "#46039f"
             ],
             [
              0.2222222222222222,
              "#7201a8"
             ],
             [
              0.3333333333333333,
              "#9c179e"
             ],
             [
              0.4444444444444444,
              "#bd3786"
             ],
             [
              0.5555555555555556,
              "#d8576b"
             ],
             [
              0.6666666666666666,
              "#ed7953"
             ],
             [
              0.7777777777777778,
              "#fb9f3a"
             ],
             [
              0.8888888888888888,
              "#fdca26"
             ],
             [
              1,
              "#f0f921"
             ]
            ]
           }
          ],
          "carpet": [
           {
            "baxis": {
             "endlinecolor": "#2a3f5f",
             "gridcolor": "white",
             "linecolor": "white",
             "minorgridcolor": "white",
             "startlinecolor": "#2a3f5f"
            },
            "type": "carpet",
            "aaxis": {
             "endlinecolor": "#2a3f5f",
             "gridcolor": "white",
             "linecolor": "white",
             "minorgridcolor": "white",
             "startlinecolor": "#2a3f5f"
            }
           }
          ],
          "contourcarpet": [
           {
            "colorbar": {
             "outlinewidth": 0,
             "ticks": ""
            },
            "type": "contourcarpet"
           }
          ],
          "heatmap": [
           {
            "colorbar": {
             "outlinewidth": 0,
             "ticks": ""
            },
            "type": "heatmap",
            "colorscale": [
             [
              0,
              "#0d0887"
             ],
             [
              0.1111111111111111,
              "#46039f"
             ],
             [
              0.2222222222222222,
              "#7201a8"
             ],
             [
              0.3333333333333333,
              "#9c179e"
             ],
             [
              0.4444444444444444,
              "#bd3786"
             ],
             [
              0.5555555555555556,
              "#d8576b"
             ],
             [
              0.6666666666666666,
              "#ed7953"
             ],
             [
              0.7777777777777778,
              "#fb9f3a"
             ],
             [
              0.8888888888888888,
              "#fdca26"
             ],
             [
              1,
              "#f0f921"
             ]
            ]
           }
          ],
          "scattermapbox": [
           {
            "marker": {
             "colorbar": {
              "outlinewidth": 0,
              "ticks": ""
             }
            },
            "type": "scattermapbox"
           }
          ],
          "scatter3d": [
           {
            "marker": {
             "colorbar": {
              "outlinewidth": 0,
              "ticks": ""
             }
            },
            "line": {
             "colorbar": {
              "outlinewidth": 0,
              "ticks": ""
             }
            },
            "type": "scatter3d"
           }
          ],
          "scattergl": [
           {
            "marker": {
             "colorbar": {
              "outlinewidth": 0,
              "ticks": ""
             }
            },
            "type": "scattergl"
           }
          ],
          "scatterternary": [
           {
            "marker": {
             "colorbar": {
              "outlinewidth": 0,
              "ticks": ""
             }
            },
            "type": "scatterternary"
           }
          ],
          "histogram2d": [
           {
            "colorbar": {
             "outlinewidth": 0,
             "ticks": ""
            },
            "type": "histogram2d",
            "colorscale": [
             [
              0,
              "#0d0887"
             ],
             [
              0.1111111111111111,
              "#46039f"
             ],
             [
              0.2222222222222222,
              "#7201a8"
             ],
             [
              0.3333333333333333,
              "#9c179e"
             ],
             [
              0.4444444444444444,
              "#bd3786"
             ],
             [
              0.5555555555555556,
              "#d8576b"
             ],
             [
              0.6666666666666666,
              "#ed7953"
             ],
             [
              0.7777777777777778,
              "#fb9f3a"
             ],
             [
              0.8888888888888888,
              "#fdca26"
             ],
             [
              1,
              "#f0f921"
             ]
            ]
           }
          ],
          "heatmapgl": [
           {
            "colorbar": {
             "outlinewidth": 0,
             "ticks": ""
            },
            "type": "heatmapgl",
            "colorscale": [
             [
              0,
              "#0d0887"
             ],
             [
              0.1111111111111111,
              "#46039f"
             ],
             [
              0.2222222222222222,
              "#7201a8"
             ],
             [
              0.3333333333333333,
              "#9c179e"
             ],
             [
              0.4444444444444444,
              "#bd3786"
             ],
             [
              0.5555555555555556,
              "#d8576b"
             ],
             [
              0.6666666666666666,
              "#ed7953"
             ],
             [
              0.7777777777777778,
              "#fb9f3a"
             ],
             [
              0.8888888888888888,
              "#fdca26"
             ],
             [
              1,
              "#f0f921"
             ]
            ]
           }
          ],
          "scatterpolar": [
           {
            "marker": {
             "colorbar": {
              "outlinewidth": 0,
              "ticks": ""
             }
            },
            "type": "scatterpolar"
           }
          ],
          "histogram": [
           {
            "marker": {
             "colorbar": {
              "outlinewidth": 0,
              "ticks": ""
             }
            },
            "type": "histogram"
           }
          ],
          "scattergeo": [
           {
            "marker": {
             "colorbar": {
              "outlinewidth": 0,
              "ticks": ""
             }
            },
            "type": "scattergeo"
           }
          ],
          "bar": [
           {
            "marker": {
             "line": {
              "color": "#E5ECF6",
              "width": 0.5
             }
            },
            "error_x": {
             "color": "#2a3f5f"
            },
            "type": "bar",
            "error_y": {
             "color": "#2a3f5f"
            }
           }
          ],
          "choropleth": [
           {
            "colorbar": {
             "outlinewidth": 0,
             "ticks": ""
            },
            "type": "choropleth"
           }
          ],
          "parcoords": [
           {
            "line": {
             "colorbar": {
              "outlinewidth": 0,
              "ticks": ""
             }
            },
            "type": "parcoords"
           }
          ],
          "barpolar": [
           {
            "marker": {
             "line": {
              "color": "#E5ECF6",
              "width": 0.5
             }
            },
            "type": "barpolar"
           }
          ],
          "histogram2dcontour": [
           {
            "colorbar": {
             "outlinewidth": 0,
             "ticks": ""
            },
            "type": "histogram2dcontour",
            "colorscale": [
             [
              0,
              "#0d0887"
             ],
             [
              0.1111111111111111,
              "#46039f"
             ],
             [
              0.2222222222222222,
              "#7201a8"
             ],
             [
              0.3333333333333333,
              "#9c179e"
             ],
             [
              0.4444444444444444,
              "#bd3786"
             ],
             [
              0.5555555555555556,
              "#d8576b"
             ],
             [
              0.6666666666666666,
              "#ed7953"
             ],
             [
              0.7777777777777778,
              "#fb9f3a"
             ],
             [
              0.8888888888888888,
              "#fdca26"
             ],
             [
              1,
              "#f0f921"
             ]
            ]
           }
          ],
          "scatter": [
           {
            "marker": {
             "colorbar": {
              "outlinewidth": 0,
              "ticks": ""
             }
            },
            "type": "scatter"
           }
          ]
         },
         "layout": {
          "shapedefaults": {
           "line": {
            "color": "#2a3f5f"
           }
          },
          "polar": {
           "radialaxis": {
            "ticks": "",
            "gridcolor": "white",
            "linecolor": "white"
           },
           "bgcolor": "#E5ECF6",
           "angularaxis": {
            "ticks": "",
            "gridcolor": "white",
            "linecolor": "white"
           }
          },
          "colorway": [
           "#636efa",
           "#EF553B",
           "#00cc96",
           "#ab63fa",
           "#FFA15A",
           "#19d3f3",
           "#FF6692",
           "#B6E880",
           "#FF97FF",
           "#FECB52"
          ],
          "ternary": {
           "bgcolor": "#E5ECF6",
           "baxis": {
            "ticks": "",
            "gridcolor": "white",
            "linecolor": "white"
           },
           "caxis": {
            "ticks": "",
            "gridcolor": "white",
            "linecolor": "white"
           },
           "aaxis": {
            "ticks": "",
            "gridcolor": "white",
            "linecolor": "white"
           }
          },
          "autotypenumbers": "strict",
          "colorscale": {
           "diverging": [
            [
             0,
             "#8e0152"
            ],
            [
             0.1,
             "#c51b7d"
            ],
            [
             0.2,
             "#de77ae"
            ],
            [
             0.3,
             "#f1b6da"
            ],
            [
             0.4,
             "#fde0ef"
            ],
            [
             0.5,
             "#f7f7f7"
            ],
            [
             0.6,
             "#e6f5d0"
            ],
            [
             0.7,
             "#b8e186"
            ],
            [
             0.8,
             "#7fbc41"
            ],
            [
             0.9,
             "#4d9221"
            ],
            [
             1,
             "#276419"
            ]
           ],
           "sequential": [
            [
             0,
             "#0d0887"
            ],
            [
             0.1111111111111111,
             "#46039f"
            ],
            [
             0.2222222222222222,
             "#7201a8"
            ],
            [
             0.3333333333333333,
             "#9c179e"
            ],
            [
             0.4444444444444444,
             "#bd3786"
            ],
            [
             0.5555555555555556,
             "#d8576b"
            ],
            [
             0.6666666666666666,
             "#ed7953"
            ],
            [
             0.7777777777777778,
             "#fb9f3a"
            ],
            [
             0.8888888888888888,
             "#fdca26"
            ],
            [
             1,
             "#f0f921"
            ]
           ],
           "sequentialminus": [
            [
             0,
             "#0d0887"
            ],
            [
             0.1111111111111111,
             "#46039f"
            ],
            [
             0.2222222222222222,
             "#7201a8"
            ],
            [
             0.3333333333333333,
             "#9c179e"
            ],
            [
             0.4444444444444444,
             "#bd3786"
            ],
            [
             0.5555555555555556,
             "#d8576b"
            ],
            [
             0.6666666666666666,
             "#ed7953"
            ],
            [
             0.7777777777777778,
             "#fb9f3a"
            ],
            [
             0.8888888888888888,
             "#fdca26"
            ],
            [
             1,
             "#f0f921"
            ]
           ]
          },
          "paper_bgcolor": "white",
          "plot_bgcolor": "#E5ECF6",
          "title": {
           "x": 0.05
          },
          "scene": {
           "zaxis": {
            "linecolor": "white",
            "ticks": "",
            "gridwidth": 2,
            "showbackground": true,
            "zerolinecolor": "white",
            "gridcolor": "white",
            "backgroundcolor": "#E5ECF6"
           },
           "xaxis": {
            "linecolor": "white",
            "ticks": "",
            "gridwidth": 2,
            "showbackground": true,
            "zerolinecolor": "white",
            "gridcolor": "white",
            "backgroundcolor": "#E5ECF6"
           },
           "yaxis": {
            "linecolor": "white",
            "ticks": "",
            "gridwidth": 2,
            "showbackground": true,
            "zerolinecolor": "white",
            "gridcolor": "white",
            "backgroundcolor": "#E5ECF6"
           }
          },
          "yaxis": {
           "automargin": true,
           "title": {
            "standoff": 15
           },
           "zerolinewidth": 2,
           "ticks": "",
           "zerolinecolor": "white",
           "gridcolor": "white",
           "linecolor": "white"
          },
          "coloraxis": {
           "colorbar": {
            "outlinewidth": 0,
            "ticks": ""
           }
          },
          "hoverlabel": {
           "align": "left"
          },
          "xaxis": {
           "automargin": true,
           "title": {
            "standoff": 15
           },
           "zerolinewidth": 2,
           "ticks": "",
           "zerolinecolor": "white",
           "gridcolor": "white",
           "linecolor": "white"
          },
          "mapbox": {
           "style": "light"
          },
          "hovermode": "closest",
          "font": {
           "color": "#2a3f5f"
          },
          "geo": {
           "showland": true,
           "bgcolor": "white",
           "showlakes": true,
           "landcolor": "#E5ECF6",
           "subunitcolor": "white",
           "lakecolor": "white"
          },
          "annotationdefaults": {
           "arrowwidth": 1,
           "arrowhead": 0,
           "arrowcolor": "#2a3f5f"
          }
         }
        },
        "title": {
         "text": "Performance for different ransac_distance_thresh values"
        },
        "yaxis": {
         "domain": [
          0,
          1
         ],
         "anchor": "x"
        },
        "xaxis2": {
         "domain": [
          0.55,
          1
         ],
         "anchor": "y2",
         "title": {
          "text": "Time [s]"
         }
        },
        "yaxis2": {
         "domain": [
          0,
          1
         ],
         "anchor": "x2"
        },
        "xaxis": {
         "domain": [
          0,
          0.45
         ],
         "anchor": "y",
         "title": {
          "text": "Percentage [%]"
         }
        },
        "annotations": [
         {
          "yanchor": "bottom",
          "xref": "paper",
          "xanchor": "center",
          "yref": "paper",
          "text": "Score (higher is better)",
          "y": 1,
          "x": 0.225,
          "font": {
           "size": 16
          },
          "showarrow": false
         },
         {
          "yanchor": "bottom",
          "xref": "paper",
          "xanchor": "center",
          "yref": "paper",
          "text": "Runtime (lower is better)",
          "y": 1,
          "x": 0.775,
          "font": {
           "size": 16
          },
          "showarrow": false
         },
         {
          "yanchor": "middle",
          "xref": "paper",
          "xanchor": "right",
          "yref": "paper",
          "text": "Parameter value",
          "xshift": -40,
          "textangle": -90,
          "y": 0.5,
          "x": 0,
          "font": {
           "size": 16
          },
          "showarrow": false
         }
        ]
       }
      }
     },
     "metadata": {}
    },
    {
     "output_type": "stream",
     "name": "stdout",
     "text": [
      "With parameter ransac_weight = 0.0625 the score was 70.92% with a runtime of 10.07s\n",
      "Out of ... expected samples, 77 were detected.\n",
      "With parameter ransac_weight = 0.125 the score was 81.05% with a runtime of 09.92s\n",
      "Out of ... expected samples, 69 were detected.\n",
      "With parameter ransac_weight = 0.1875 the score was 74.55% with a runtime of 09.82s\n",
      "Out of ... expected samples, 88 were detected.\n",
      "With parameter ransac_weight = 0.25 the score was 70.27% with a runtime of 09.86s\n",
      "Out of ... expected samples, 86 were detected.\n"
     ]
    },
    {
     "output_type": "display_data",
     "data": {
      "application/vnd.plotly.v1+json": {
       "config": {
        "plotlyServerURL": "https://plot.ly"
       },
       "data": [
        {
         "textposition": "inside",
         "name": "Score",
         "texttemplate": "%{y:.3f}",
         "insidetextanchor": "middle",
         "y": [
          0.0625,
          0.125,
          0.1875,
          0.25
         ],
         "x": [
          70.91585822198974,
          81.04513209617922,
          74.54881859810439,
          70.26514904013614
         ],
         "type": "bar",
         "orientation": "h"
        },
        {
         "textposition": "inside",
         "name": "Runtime",
         "yaxis": "y2",
         "texttemplate": "%{y:.3f}",
         "insidetextanchor": "middle",
         "marker": {
          "color": "orange"
         },
         "xaxis": "x2",
         "y": [
          0.0625,
          0.125,
          0.1875,
          0.25
         ],
         "x": [
          10.065141916275024,
          9.922268152236938,
          9.815059900283813,
          9.864260911941528
         ],
         "type": "bar",
         "orientation": "h"
        }
       ],
       "layout": {
        "template": {
         "data": {
          "mesh3d": [
           {
            "colorbar": {
             "outlinewidth": 0,
             "ticks": ""
            },
            "type": "mesh3d"
           }
          ],
          "scattercarpet": [
           {
            "marker": {
             "colorbar": {
              "outlinewidth": 0,
              "ticks": ""
             }
            },
            "type": "scattercarpet"
           }
          ],
          "pie": [
           {
            "automargin": true,
            "type": "pie"
           }
          ],
          "surface": [
           {
            "colorbar": {
             "outlinewidth": 0,
             "ticks": ""
            },
            "type": "surface",
            "colorscale": [
             [
              0,
              "#0d0887"
             ],
             [
              0.1111111111111111,
              "#46039f"
             ],
             [
              0.2222222222222222,
              "#7201a8"
             ],
             [
              0.3333333333333333,
              "#9c179e"
             ],
             [
              0.4444444444444444,
              "#bd3786"
             ],
             [
              0.5555555555555556,
              "#d8576b"
             ],
             [
              0.6666666666666666,
              "#ed7953"
             ],
             [
              0.7777777777777778,
              "#fb9f3a"
             ],
             [
              0.8888888888888888,
              "#fdca26"
             ],
             [
              1,
              "#f0f921"
             ]
            ]
           }
          ],
          "table": [
           {
            "header": {
             "line": {
              "color": "white"
             },
             "fill": {
              "color": "#C8D4E3"
             }
            },
            "cells": {
             "line": {
              "color": "white"
             },
             "fill": {
              "color": "#EBF0F8"
             }
            },
            "type": "table"
           }
          ],
          "scatterpolargl": [
           {
            "marker": {
             "colorbar": {
              "outlinewidth": 0,
              "ticks": ""
             }
            },
            "type": "scatterpolargl"
           }
          ],
          "contour": [
           {
            "colorbar": {
             "outlinewidth": 0,
             "ticks": ""
            },
            "type": "contour",
            "colorscale": [
             [
              0,
              "#0d0887"
             ],
             [
              0.1111111111111111,
              "#46039f"
             ],
             [
              0.2222222222222222,
              "#7201a8"
             ],
             [
              0.3333333333333333,
              "#9c179e"
             ],
             [
              0.4444444444444444,
              "#bd3786"
             ],
             [
              0.5555555555555556,
              "#d8576b"
             ],
             [
              0.6666666666666666,
              "#ed7953"
             ],
             [
              0.7777777777777778,
              "#fb9f3a"
             ],
             [
              0.8888888888888888,
              "#fdca26"
             ],
             [
              1,
              "#f0f921"
             ]
            ]
           }
          ],
          "carpet": [
           {
            "baxis": {
             "endlinecolor": "#2a3f5f",
             "gridcolor": "white",
             "linecolor": "white",
             "minorgridcolor": "white",
             "startlinecolor": "#2a3f5f"
            },
            "type": "carpet",
            "aaxis": {
             "endlinecolor": "#2a3f5f",
             "gridcolor": "white",
             "linecolor": "white",
             "minorgridcolor": "white",
             "startlinecolor": "#2a3f5f"
            }
           }
          ],
          "contourcarpet": [
           {
            "colorbar": {
             "outlinewidth": 0,
             "ticks": ""
            },
            "type": "contourcarpet"
           }
          ],
          "heatmap": [
           {
            "colorbar": {
             "outlinewidth": 0,
             "ticks": ""
            },
            "type": "heatmap",
            "colorscale": [
             [
              0,
              "#0d0887"
             ],
             [
              0.1111111111111111,
              "#46039f"
             ],
             [
              0.2222222222222222,
              "#7201a8"
             ],
             [
              0.3333333333333333,
              "#9c179e"
             ],
             [
              0.4444444444444444,
              "#bd3786"
             ],
             [
              0.5555555555555556,
              "#d8576b"
             ],
             [
              0.6666666666666666,
              "#ed7953"
             ],
             [
              0.7777777777777778,
              "#fb9f3a"
             ],
             [
              0.8888888888888888,
              "#fdca26"
             ],
             [
              1,
              "#f0f921"
             ]
            ]
           }
          ],
          "scattermapbox": [
           {
            "marker": {
             "colorbar": {
              "outlinewidth": 0,
              "ticks": ""
             }
            },
            "type": "scattermapbox"
           }
          ],
          "scatter3d": [
           {
            "marker": {
             "colorbar": {
              "outlinewidth": 0,
              "ticks": ""
             }
            },
            "line": {
             "colorbar": {
              "outlinewidth": 0,
              "ticks": ""
             }
            },
            "type": "scatter3d"
           }
          ],
          "scattergl": [
           {
            "marker": {
             "colorbar": {
              "outlinewidth": 0,
              "ticks": ""
             }
            },
            "type": "scattergl"
           }
          ],
          "scatterternary": [
           {
            "marker": {
             "colorbar": {
              "outlinewidth": 0,
              "ticks": ""
             }
            },
            "type": "scatterternary"
           }
          ],
          "histogram2d": [
           {
            "colorbar": {
             "outlinewidth": 0,
             "ticks": ""
            },
            "type": "histogram2d",
            "colorscale": [
             [
              0,
              "#0d0887"
             ],
             [
              0.1111111111111111,
              "#46039f"
             ],
             [
              0.2222222222222222,
              "#7201a8"
             ],
             [
              0.3333333333333333,
              "#9c179e"
             ],
             [
              0.4444444444444444,
              "#bd3786"
             ],
             [
              0.5555555555555556,
              "#d8576b"
             ],
             [
              0.6666666666666666,
              "#ed7953"
             ],
             [
              0.7777777777777778,
              "#fb9f3a"
             ],
             [
              0.8888888888888888,
              "#fdca26"
             ],
             [
              1,
              "#f0f921"
             ]
            ]
           }
          ],
          "heatmapgl": [
           {
            "colorbar": {
             "outlinewidth": 0,
             "ticks": ""
            },
            "type": "heatmapgl",
            "colorscale": [
             [
              0,
              "#0d0887"
             ],
             [
              0.1111111111111111,
              "#46039f"
             ],
             [
              0.2222222222222222,
              "#7201a8"
             ],
             [
              0.3333333333333333,
              "#9c179e"
             ],
             [
              0.4444444444444444,
              "#bd3786"
             ],
             [
              0.5555555555555556,
              "#d8576b"
             ],
             [
              0.6666666666666666,
              "#ed7953"
             ],
             [
              0.7777777777777778,
              "#fb9f3a"
             ],
             [
              0.8888888888888888,
              "#fdca26"
             ],
             [
              1,
              "#f0f921"
             ]
            ]
           }
          ],
          "scatterpolar": [
           {
            "marker": {
             "colorbar": {
              "outlinewidth": 0,
              "ticks": ""
             }
            },
            "type": "scatterpolar"
           }
          ],
          "histogram": [
           {
            "marker": {
             "colorbar": {
              "outlinewidth": 0,
              "ticks": ""
             }
            },
            "type": "histogram"
           }
          ],
          "scattergeo": [
           {
            "marker": {
             "colorbar": {
              "outlinewidth": 0,
              "ticks": ""
             }
            },
            "type": "scattergeo"
           }
          ],
          "bar": [
           {
            "marker": {
             "line": {
              "color": "#E5ECF6",
              "width": 0.5
             }
            },
            "error_x": {
             "color": "#2a3f5f"
            },
            "type": "bar",
            "error_y": {
             "color": "#2a3f5f"
            }
           }
          ],
          "choropleth": [
           {
            "colorbar": {
             "outlinewidth": 0,
             "ticks": ""
            },
            "type": "choropleth"
           }
          ],
          "parcoords": [
           {
            "line": {
             "colorbar": {
              "outlinewidth": 0,
              "ticks": ""
             }
            },
            "type": "parcoords"
           }
          ],
          "barpolar": [
           {
            "marker": {
             "line": {
              "color": "#E5ECF6",
              "width": 0.5
             }
            },
            "type": "barpolar"
           }
          ],
          "histogram2dcontour": [
           {
            "colorbar": {
             "outlinewidth": 0,
             "ticks": ""
            },
            "type": "histogram2dcontour",
            "colorscale": [
             [
              0,
              "#0d0887"
             ],
             [
              0.1111111111111111,
              "#46039f"
             ],
             [
              0.2222222222222222,
              "#7201a8"
             ],
             [
              0.3333333333333333,
              "#9c179e"
             ],
             [
              0.4444444444444444,
              "#bd3786"
             ],
             [
              0.5555555555555556,
              "#d8576b"
             ],
             [
              0.6666666666666666,
              "#ed7953"
             ],
             [
              0.7777777777777778,
              "#fb9f3a"
             ],
             [
              0.8888888888888888,
              "#fdca26"
             ],
             [
              1,
              "#f0f921"
             ]
            ]
           }
          ],
          "scatter": [
           {
            "marker": {
             "colorbar": {
              "outlinewidth": 0,
              "ticks": ""
             }
            },
            "type": "scatter"
           }
          ]
         },
         "layout": {
          "shapedefaults": {
           "line": {
            "color": "#2a3f5f"
           }
          },
          "polar": {
           "radialaxis": {
            "ticks": "",
            "gridcolor": "white",
            "linecolor": "white"
           },
           "bgcolor": "#E5ECF6",
           "angularaxis": {
            "ticks": "",
            "gridcolor": "white",
            "linecolor": "white"
           }
          },
          "colorway": [
           "#636efa",
           "#EF553B",
           "#00cc96",
           "#ab63fa",
           "#FFA15A",
           "#19d3f3",
           "#FF6692",
           "#B6E880",
           "#FF97FF",
           "#FECB52"
          ],
          "ternary": {
           "bgcolor": "#E5ECF6",
           "baxis": {
            "ticks": "",
            "gridcolor": "white",
            "linecolor": "white"
           },
           "caxis": {
            "ticks": "",
            "gridcolor": "white",
            "linecolor": "white"
           },
           "aaxis": {
            "ticks": "",
            "gridcolor": "white",
            "linecolor": "white"
           }
          },
          "autotypenumbers": "strict",
          "colorscale": {
           "diverging": [
            [
             0,
             "#8e0152"
            ],
            [
             0.1,
             "#c51b7d"
            ],
            [
             0.2,
             "#de77ae"
            ],
            [
             0.3,
             "#f1b6da"
            ],
            [
             0.4,
             "#fde0ef"
            ],
            [
             0.5,
             "#f7f7f7"
            ],
            [
             0.6,
             "#e6f5d0"
            ],
            [
             0.7,
             "#b8e186"
            ],
            [
             0.8,
             "#7fbc41"
            ],
            [
             0.9,
             "#4d9221"
            ],
            [
             1,
             "#276419"
            ]
           ],
           "sequential": [
            [
             0,
             "#0d0887"
            ],
            [
             0.1111111111111111,
             "#46039f"
            ],
            [
             0.2222222222222222,
             "#7201a8"
            ],
            [
             0.3333333333333333,
             "#9c179e"
            ],
            [
             0.4444444444444444,
             "#bd3786"
            ],
            [
             0.5555555555555556,
             "#d8576b"
            ],
            [
             0.6666666666666666,
             "#ed7953"
            ],
            [
             0.7777777777777778,
             "#fb9f3a"
            ],
            [
             0.8888888888888888,
             "#fdca26"
            ],
            [
             1,
             "#f0f921"
            ]
           ],
           "sequentialminus": [
            [
             0,
             "#0d0887"
            ],
            [
             0.1111111111111111,
             "#46039f"
            ],
            [
             0.2222222222222222,
             "#7201a8"
            ],
            [
             0.3333333333333333,
             "#9c179e"
            ],
            [
             0.4444444444444444,
             "#bd3786"
            ],
            [
             0.5555555555555556,
             "#d8576b"
            ],
            [
             0.6666666666666666,
             "#ed7953"
            ],
            [
             0.7777777777777778,
             "#fb9f3a"
            ],
            [
             0.8888888888888888,
             "#fdca26"
            ],
            [
             1,
             "#f0f921"
            ]
           ]
          },
          "paper_bgcolor": "white",
          "plot_bgcolor": "#E5ECF6",
          "title": {
           "x": 0.05
          },
          "scene": {
           "zaxis": {
            "linecolor": "white",
            "ticks": "",
            "gridwidth": 2,
            "showbackground": true,
            "zerolinecolor": "white",
            "gridcolor": "white",
            "backgroundcolor": "#E5ECF6"
           },
           "xaxis": {
            "linecolor": "white",
            "ticks": "",
            "gridwidth": 2,
            "showbackground": true,
            "zerolinecolor": "white",
            "gridcolor": "white",
            "backgroundcolor": "#E5ECF6"
           },
           "yaxis": {
            "linecolor": "white",
            "ticks": "",
            "gridwidth": 2,
            "showbackground": true,
            "zerolinecolor": "white",
            "gridcolor": "white",
            "backgroundcolor": "#E5ECF6"
           }
          },
          "yaxis": {
           "automargin": true,
           "title": {
            "standoff": 15
           },
           "zerolinewidth": 2,
           "ticks": "",
           "zerolinecolor": "white",
           "gridcolor": "white",
           "linecolor": "white"
          },
          "coloraxis": {
           "colorbar": {
            "outlinewidth": 0,
            "ticks": ""
           }
          },
          "hoverlabel": {
           "align": "left"
          },
          "xaxis": {
           "automargin": true,
           "title": {
            "standoff": 15
           },
           "zerolinewidth": 2,
           "ticks": "",
           "zerolinecolor": "white",
           "gridcolor": "white",
           "linecolor": "white"
          },
          "mapbox": {
           "style": "light"
          },
          "hovermode": "closest",
          "font": {
           "color": "#2a3f5f"
          },
          "geo": {
           "showland": true,
           "bgcolor": "white",
           "showlakes": true,
           "landcolor": "#E5ECF6",
           "subunitcolor": "white",
           "lakecolor": "white"
          },
          "annotationdefaults": {
           "arrowwidth": 1,
           "arrowhead": 0,
           "arrowcolor": "#2a3f5f"
          }
         }
        },
        "title": {
         "text": "Performance for different ransac_weight values"
        },
        "yaxis": {
         "domain": [
          0,
          1
         ],
         "anchor": "x"
        },
        "xaxis2": {
         "domain": [
          0.55,
          1
         ],
         "anchor": "y2",
         "title": {
          "text": "Time [s]"
         }
        },
        "yaxis2": {
         "domain": [
          0,
          1
         ],
         "anchor": "x2"
        },
        "xaxis": {
         "domain": [
          0,
          0.45
         ],
         "anchor": "y",
         "title": {
          "text": "Percentage [%]"
         }
        },
        "annotations": [
         {
          "yanchor": "bottom",
          "xref": "paper",
          "xanchor": "center",
          "yref": "paper",
          "text": "Score (higher is better)",
          "y": 1,
          "x": 0.225,
          "font": {
           "size": 16
          },
          "showarrow": false
         },
         {
          "yanchor": "bottom",
          "xref": "paper",
          "xanchor": "center",
          "yref": "paper",
          "text": "Runtime (lower is better)",
          "y": 1,
          "x": 0.775,
          "font": {
           "size": 16
          },
          "showarrow": false
         },
         {
          "yanchor": "middle",
          "xref": "paper",
          "xanchor": "right",
          "yref": "paper",
          "text": "Parameter value",
          "xshift": -40,
          "textangle": -90,
          "y": 0.5,
          "x": 0,
          "font": {
           "size": 16
          },
          "showarrow": false
         }
        ]
       }
      }
     },
     "metadata": {}
    },
    {
     "output_type": "stream",
     "name": "stdout",
     "text": [
      "With parameter ransac_make_seg = 25.0 the score was 71.29% with a runtime of 10.07s\n",
      "Out of ... expected samples, 71 were detected.\n",
      "With parameter ransac_make_seg = 50.0 the score was 81.05% with a runtime of 12.40s\n",
      "Out of ... expected samples, 69 were detected.\n",
      "With parameter ransac_make_seg = 75.0 the score was 52.08% with a runtime of 16.58s\n",
      "Out of ... expected samples, 58 were detected.\n",
      "With parameter ransac_make_seg = 100.0 the score was 32.09% with a runtime of 20.27s\n",
      "Out of ... expected samples, 55 were detected.\n"
     ]
    },
    {
     "output_type": "display_data",
     "data": {
      "application/vnd.plotly.v1+json": {
       "config": {
        "plotlyServerURL": "https://plot.ly"
       },
       "data": [
        {
         "textposition": "inside",
         "name": "Score",
         "texttemplate": "%{y:.3f}",
         "insidetextanchor": "middle",
         "y": [
          25,
          50,
          75,
          100
         ],
         "x": [
          71.29293022723552,
          81.04513209617922,
          52.08040828186174,
          32.09014780517735
         ],
         "type": "bar",
         "orientation": "h"
        },
        {
         "textposition": "inside",
         "name": "Runtime",
         "yaxis": "y2",
         "texttemplate": "%{y:.3f}",
         "insidetextanchor": "middle",
         "marker": {
          "color": "orange"
         },
         "xaxis": "x2",
         "y": [
          25,
          50,
          75,
          100
         ],
         "x": [
          10.070401906967163,
          12.395072937011719,
          16.579914093017578,
          20.265269994735718
         ],
         "type": "bar",
         "orientation": "h"
        }
       ],
       "layout": {
        "template": {
         "data": {
          "mesh3d": [
           {
            "colorbar": {
             "outlinewidth": 0,
             "ticks": ""
            },
            "type": "mesh3d"
           }
          ],
          "scattercarpet": [
           {
            "marker": {
             "colorbar": {
              "outlinewidth": 0,
              "ticks": ""
             }
            },
            "type": "scattercarpet"
           }
          ],
          "pie": [
           {
            "automargin": true,
            "type": "pie"
           }
          ],
          "surface": [
           {
            "colorbar": {
             "outlinewidth": 0,
             "ticks": ""
            },
            "type": "surface",
            "colorscale": [
             [
              0,
              "#0d0887"
             ],
             [
              0.1111111111111111,
              "#46039f"
             ],
             [
              0.2222222222222222,
              "#7201a8"
             ],
             [
              0.3333333333333333,
              "#9c179e"
             ],
             [
              0.4444444444444444,
              "#bd3786"
             ],
             [
              0.5555555555555556,
              "#d8576b"
             ],
             [
              0.6666666666666666,
              "#ed7953"
             ],
             [
              0.7777777777777778,
              "#fb9f3a"
             ],
             [
              0.8888888888888888,
              "#fdca26"
             ],
             [
              1,
              "#f0f921"
             ]
            ]
           }
          ],
          "table": [
           {
            "header": {
             "line": {
              "color": "white"
             },
             "fill": {
              "color": "#C8D4E3"
             }
            },
            "cells": {
             "line": {
              "color": "white"
             },
             "fill": {
              "color": "#EBF0F8"
             }
            },
            "type": "table"
           }
          ],
          "scatterpolargl": [
           {
            "marker": {
             "colorbar": {
              "outlinewidth": 0,
              "ticks": ""
             }
            },
            "type": "scatterpolargl"
           }
          ],
          "contour": [
           {
            "colorbar": {
             "outlinewidth": 0,
             "ticks": ""
            },
            "type": "contour",
            "colorscale": [
             [
              0,
              "#0d0887"
             ],
             [
              0.1111111111111111,
              "#46039f"
             ],
             [
              0.2222222222222222,
              "#7201a8"
             ],
             [
              0.3333333333333333,
              "#9c179e"
             ],
             [
              0.4444444444444444,
              "#bd3786"
             ],
             [
              0.5555555555555556,
              "#d8576b"
             ],
             [
              0.6666666666666666,
              "#ed7953"
             ],
             [
              0.7777777777777778,
              "#fb9f3a"
             ],
             [
              0.8888888888888888,
              "#fdca26"
             ],
             [
              1,
              "#f0f921"
             ]
            ]
           }
          ],
          "carpet": [
           {
            "baxis": {
             "endlinecolor": "#2a3f5f",
             "gridcolor": "white",
             "linecolor": "white",
             "minorgridcolor": "white",
             "startlinecolor": "#2a3f5f"
            },
            "type": "carpet",
            "aaxis": {
             "endlinecolor": "#2a3f5f",
             "gridcolor": "white",
             "linecolor": "white",
             "minorgridcolor": "white",
             "startlinecolor": "#2a3f5f"
            }
           }
          ],
          "contourcarpet": [
           {
            "colorbar": {
             "outlinewidth": 0,
             "ticks": ""
            },
            "type": "contourcarpet"
           }
          ],
          "heatmap": [
           {
            "colorbar": {
             "outlinewidth": 0,
             "ticks": ""
            },
            "type": "heatmap",
            "colorscale": [
             [
              0,
              "#0d0887"
             ],
             [
              0.1111111111111111,
              "#46039f"
             ],
             [
              0.2222222222222222,
              "#7201a8"
             ],
             [
              0.3333333333333333,
              "#9c179e"
             ],
             [
              0.4444444444444444,
              "#bd3786"
             ],
             [
              0.5555555555555556,
              "#d8576b"
             ],
             [
              0.6666666666666666,
              "#ed7953"
             ],
             [
              0.7777777777777778,
              "#fb9f3a"
             ],
             [
              0.8888888888888888,
              "#fdca26"
             ],
             [
              1,
              "#f0f921"
             ]
            ]
           }
          ],
          "scattermapbox": [
           {
            "marker": {
             "colorbar": {
              "outlinewidth": 0,
              "ticks": ""
             }
            },
            "type": "scattermapbox"
           }
          ],
          "scatter3d": [
           {
            "marker": {
             "colorbar": {
              "outlinewidth": 0,
              "ticks": ""
             }
            },
            "line": {
             "colorbar": {
              "outlinewidth": 0,
              "ticks": ""
             }
            },
            "type": "scatter3d"
           }
          ],
          "scattergl": [
           {
            "marker": {
             "colorbar": {
              "outlinewidth": 0,
              "ticks": ""
             }
            },
            "type": "scattergl"
           }
          ],
          "scatterternary": [
           {
            "marker": {
             "colorbar": {
              "outlinewidth": 0,
              "ticks": ""
             }
            },
            "type": "scatterternary"
           }
          ],
          "histogram2d": [
           {
            "colorbar": {
             "outlinewidth": 0,
             "ticks": ""
            },
            "type": "histogram2d",
            "colorscale": [
             [
              0,
              "#0d0887"
             ],
             [
              0.1111111111111111,
              "#46039f"
             ],
             [
              0.2222222222222222,
              "#7201a8"
             ],
             [
              0.3333333333333333,
              "#9c179e"
             ],
             [
              0.4444444444444444,
              "#bd3786"
             ],
             [
              0.5555555555555556,
              "#d8576b"
             ],
             [
              0.6666666666666666,
              "#ed7953"
             ],
             [
              0.7777777777777778,
              "#fb9f3a"
             ],
             [
              0.8888888888888888,
              "#fdca26"
             ],
             [
              1,
              "#f0f921"
             ]
            ]
           }
          ],
          "heatmapgl": [
           {
            "colorbar": {
             "outlinewidth": 0,
             "ticks": ""
            },
            "type": "heatmapgl",
            "colorscale": [
             [
              0,
              "#0d0887"
             ],
             [
              0.1111111111111111,
              "#46039f"
             ],
             [
              0.2222222222222222,
              "#7201a8"
             ],
             [
              0.3333333333333333,
              "#9c179e"
             ],
             [
              0.4444444444444444,
              "#bd3786"
             ],
             [
              0.5555555555555556,
              "#d8576b"
             ],
             [
              0.6666666666666666,
              "#ed7953"
             ],
             [
              0.7777777777777778,
              "#fb9f3a"
             ],
             [
              0.8888888888888888,
              "#fdca26"
             ],
             [
              1,
              "#f0f921"
             ]
            ]
           }
          ],
          "scatterpolar": [
           {
            "marker": {
             "colorbar": {
              "outlinewidth": 0,
              "ticks": ""
             }
            },
            "type": "scatterpolar"
           }
          ],
          "histogram": [
           {
            "marker": {
             "colorbar": {
              "outlinewidth": 0,
              "ticks": ""
             }
            },
            "type": "histogram"
           }
          ],
          "scattergeo": [
           {
            "marker": {
             "colorbar": {
              "outlinewidth": 0,
              "ticks": ""
             }
            },
            "type": "scattergeo"
           }
          ],
          "bar": [
           {
            "marker": {
             "line": {
              "color": "#E5ECF6",
              "width": 0.5
             }
            },
            "error_x": {
             "color": "#2a3f5f"
            },
            "type": "bar",
            "error_y": {
             "color": "#2a3f5f"
            }
           }
          ],
          "choropleth": [
           {
            "colorbar": {
             "outlinewidth": 0,
             "ticks": ""
            },
            "type": "choropleth"
           }
          ],
          "parcoords": [
           {
            "line": {
             "colorbar": {
              "outlinewidth": 0,
              "ticks": ""
             }
            },
            "type": "parcoords"
           }
          ],
          "barpolar": [
           {
            "marker": {
             "line": {
              "color": "#E5ECF6",
              "width": 0.5
             }
            },
            "type": "barpolar"
           }
          ],
          "histogram2dcontour": [
           {
            "colorbar": {
             "outlinewidth": 0,
             "ticks": ""
            },
            "type": "histogram2dcontour",
            "colorscale": [
             [
              0,
              "#0d0887"
             ],
             [
              0.1111111111111111,
              "#46039f"
             ],
             [
              0.2222222222222222,
              "#7201a8"
             ],
             [
              0.3333333333333333,
              "#9c179e"
             ],
             [
              0.4444444444444444,
              "#bd3786"
             ],
             [
              0.5555555555555556,
              "#d8576b"
             ],
             [
              0.6666666666666666,
              "#ed7953"
             ],
             [
              0.7777777777777778,
              "#fb9f3a"
             ],
             [
              0.8888888888888888,
              "#fdca26"
             ],
             [
              1,
              "#f0f921"
             ]
            ]
           }
          ],
          "scatter": [
           {
            "marker": {
             "colorbar": {
              "outlinewidth": 0,
              "ticks": ""
             }
            },
            "type": "scatter"
           }
          ]
         },
         "layout": {
          "shapedefaults": {
           "line": {
            "color": "#2a3f5f"
           }
          },
          "polar": {
           "radialaxis": {
            "ticks": "",
            "gridcolor": "white",
            "linecolor": "white"
           },
           "bgcolor": "#E5ECF6",
           "angularaxis": {
            "ticks": "",
            "gridcolor": "white",
            "linecolor": "white"
           }
          },
          "colorway": [
           "#636efa",
           "#EF553B",
           "#00cc96",
           "#ab63fa",
           "#FFA15A",
           "#19d3f3",
           "#FF6692",
           "#B6E880",
           "#FF97FF",
           "#FECB52"
          ],
          "ternary": {
           "bgcolor": "#E5ECF6",
           "baxis": {
            "ticks": "",
            "gridcolor": "white",
            "linecolor": "white"
           },
           "caxis": {
            "ticks": "",
            "gridcolor": "white",
            "linecolor": "white"
           },
           "aaxis": {
            "ticks": "",
            "gridcolor": "white",
            "linecolor": "white"
           }
          },
          "autotypenumbers": "strict",
          "colorscale": {
           "diverging": [
            [
             0,
             "#8e0152"
            ],
            [
             0.1,
             "#c51b7d"
            ],
            [
             0.2,
             "#de77ae"
            ],
            [
             0.3,
             "#f1b6da"
            ],
            [
             0.4,
             "#fde0ef"
            ],
            [
             0.5,
             "#f7f7f7"
            ],
            [
             0.6,
             "#e6f5d0"
            ],
            [
             0.7,
             "#b8e186"
            ],
            [
             0.8,
             "#7fbc41"
            ],
            [
             0.9,
             "#4d9221"
            ],
            [
             1,
             "#276419"
            ]
           ],
           "sequential": [
            [
             0,
             "#0d0887"
            ],
            [
             0.1111111111111111,
             "#46039f"
            ],
            [
             0.2222222222222222,
             "#7201a8"
            ],
            [
             0.3333333333333333,
             "#9c179e"
            ],
            [
             0.4444444444444444,
             "#bd3786"
            ],
            [
             0.5555555555555556,
             "#d8576b"
            ],
            [
             0.6666666666666666,
             "#ed7953"
            ],
            [
             0.7777777777777778,
             "#fb9f3a"
            ],
            [
             0.8888888888888888,
             "#fdca26"
            ],
            [
             1,
             "#f0f921"
            ]
           ],
           "sequentialminus": [
            [
             0,
             "#0d0887"
            ],
            [
             0.1111111111111111,
             "#46039f"
            ],
            [
             0.2222222222222222,
             "#7201a8"
            ],
            [
             0.3333333333333333,
             "#9c179e"
            ],
            [
             0.4444444444444444,
             "#bd3786"
            ],
            [
             0.5555555555555556,
             "#d8576b"
            ],
            [
             0.6666666666666666,
             "#ed7953"
            ],
            [
             0.7777777777777778,
             "#fb9f3a"
            ],
            [
             0.8888888888888888,
             "#fdca26"
            ],
            [
             1,
             "#f0f921"
            ]
           ]
          },
          "paper_bgcolor": "white",
          "plot_bgcolor": "#E5ECF6",
          "title": {
           "x": 0.05
          },
          "scene": {
           "zaxis": {
            "linecolor": "white",
            "ticks": "",
            "gridwidth": 2,
            "showbackground": true,
            "zerolinecolor": "white",
            "gridcolor": "white",
            "backgroundcolor": "#E5ECF6"
           },
           "xaxis": {
            "linecolor": "white",
            "ticks": "",
            "gridwidth": 2,
            "showbackground": true,
            "zerolinecolor": "white",
            "gridcolor": "white",
            "backgroundcolor": "#E5ECF6"
           },
           "yaxis": {
            "linecolor": "white",
            "ticks": "",
            "gridwidth": 2,
            "showbackground": true,
            "zerolinecolor": "white",
            "gridcolor": "white",
            "backgroundcolor": "#E5ECF6"
           }
          },
          "yaxis": {
           "automargin": true,
           "title": {
            "standoff": 15
           },
           "zerolinewidth": 2,
           "ticks": "",
           "zerolinecolor": "white",
           "gridcolor": "white",
           "linecolor": "white"
          },
          "coloraxis": {
           "colorbar": {
            "outlinewidth": 0,
            "ticks": ""
           }
          },
          "hoverlabel": {
           "align": "left"
          },
          "xaxis": {
           "automargin": true,
           "title": {
            "standoff": 15
           },
           "zerolinewidth": 2,
           "ticks": "",
           "zerolinecolor": "white",
           "gridcolor": "white",
           "linecolor": "white"
          },
          "mapbox": {
           "style": "light"
          },
          "hovermode": "closest",
          "font": {
           "color": "#2a3f5f"
          },
          "geo": {
           "showland": true,
           "bgcolor": "white",
           "showlakes": true,
           "landcolor": "#E5ECF6",
           "subunitcolor": "white",
           "lakecolor": "white"
          },
          "annotationdefaults": {
           "arrowwidth": 1,
           "arrowhead": 0,
           "arrowcolor": "#2a3f5f"
          }
         }
        },
        "title": {
         "text": "Performance for different ransac_make_seg values"
        },
        "yaxis": {
         "domain": [
          0,
          1
         ],
         "anchor": "x"
        },
        "xaxis2": {
         "domain": [
          0.55,
          1
         ],
         "anchor": "y2",
         "title": {
          "text": "Time [s]"
         }
        },
        "yaxis2": {
         "domain": [
          0,
          1
         ],
         "anchor": "x2"
        },
        "xaxis": {
         "domain": [
          0,
          0.45
         ],
         "anchor": "y",
         "title": {
          "text": "Percentage [%]"
         }
        },
        "annotations": [
         {
          "yanchor": "bottom",
          "xref": "paper",
          "xanchor": "center",
          "yref": "paper",
          "text": "Score (higher is better)",
          "y": 1,
          "x": 0.225,
          "font": {
           "size": 16
          },
          "showarrow": false
         },
         {
          "yanchor": "bottom",
          "xref": "paper",
          "xanchor": "center",
          "yref": "paper",
          "text": "Runtime (lower is better)",
          "y": 1,
          "x": 0.775,
          "font": {
           "size": 16
          },
          "showarrow": false
         },
         {
          "yanchor": "middle",
          "xref": "paper",
          "xanchor": "right",
          "yref": "paper",
          "text": "Parameter value",
          "xshift": -40,
          "textangle": -90,
          "y": 0.5,
          "x": 0,
          "font": {
           "size": 16
          },
          "showarrow": false
         }
        ]
       }
      }
     },
     "metadata": {}
    },
    {
     "output_type": "stream",
     "name": "stdout",
     "text": [
      "With parameter voxel_leaf = 0.05 the score was 68.56% with a runtime of 18.31s\n",
      "Out of ... expected samples, 79 were detected.\n",
      "With parameter voxel_leaf = 0.1 the score was 81.05% with a runtime of 12.62s\n",
      "Out of ... expected samples, 69 were detected.\n",
      "With parameter voxel_leaf = 0.15 the score was 66.41% with a runtime of 10.71s\n",
      "Out of ... expected samples, 73 were detected.\n",
      "With parameter voxel_leaf = 0.2 the score was 64.08% with a runtime of 09.43s\n",
      "Out of ... expected samples, 57 were detected.\n"
     ]
    },
    {
     "output_type": "display_data",
     "data": {
      "application/vnd.plotly.v1+json": {
       "config": {
        "plotlyServerURL": "https://plot.ly"
       },
       "data": [
        {
         "textposition": "inside",
         "name": "Score",
         "texttemplate": "%{y:.3f}",
         "insidetextanchor": "middle",
         "y": [
          0.05,
          0.1,
          0.15000000000000002,
          0.2
         ],
         "x": [
          68.55807630007442,
          81.04513209617922,
          66.41308662094931,
          64.08404504381305
         ],
         "type": "bar",
         "orientation": "h"
        },
        {
         "textposition": "inside",
         "name": "Runtime",
         "yaxis": "y2",
         "texttemplate": "%{y:.3f}",
         "insidetextanchor": "middle",
         "marker": {
          "color": "orange"
         },
         "xaxis": "x2",
         "y": [
          0.05,
          0.1,
          0.15000000000000002,
          0.2
         ],
         "x": [
          18.310877799987793,
          12.62010407447815,
          10.713321924209595,
          9.429634094238281
         ],
         "type": "bar",
         "orientation": "h"
        }
       ],
       "layout": {
        "template": {
         "data": {
          "mesh3d": [
           {
            "colorbar": {
             "outlinewidth": 0,
             "ticks": ""
            },
            "type": "mesh3d"
           }
          ],
          "scattercarpet": [
           {
            "marker": {
             "colorbar": {
              "outlinewidth": 0,
              "ticks": ""
             }
            },
            "type": "scattercarpet"
           }
          ],
          "pie": [
           {
            "automargin": true,
            "type": "pie"
           }
          ],
          "surface": [
           {
            "colorbar": {
             "outlinewidth": 0,
             "ticks": ""
            },
            "type": "surface",
            "colorscale": [
             [
              0,
              "#0d0887"
             ],
             [
              0.1111111111111111,
              "#46039f"
             ],
             [
              0.2222222222222222,
              "#7201a8"
             ],
             [
              0.3333333333333333,
              "#9c179e"
             ],
             [
              0.4444444444444444,
              "#bd3786"
             ],
             [
              0.5555555555555556,
              "#d8576b"
             ],
             [
              0.6666666666666666,
              "#ed7953"
             ],
             [
              0.7777777777777778,
              "#fb9f3a"
             ],
             [
              0.8888888888888888,
              "#fdca26"
             ],
             [
              1,
              "#f0f921"
             ]
            ]
           }
          ],
          "table": [
           {
            "header": {
             "line": {
              "color": "white"
             },
             "fill": {
              "color": "#C8D4E3"
             }
            },
            "cells": {
             "line": {
              "color": "white"
             },
             "fill": {
              "color": "#EBF0F8"
             }
            },
            "type": "table"
           }
          ],
          "scatterpolargl": [
           {
            "marker": {
             "colorbar": {
              "outlinewidth": 0,
              "ticks": ""
             }
            },
            "type": "scatterpolargl"
           }
          ],
          "contour": [
           {
            "colorbar": {
             "outlinewidth": 0,
             "ticks": ""
            },
            "type": "contour",
            "colorscale": [
             [
              0,
              "#0d0887"
             ],
             [
              0.1111111111111111,
              "#46039f"
             ],
             [
              0.2222222222222222,
              "#7201a8"
             ],
             [
              0.3333333333333333,
              "#9c179e"
             ],
             [
              0.4444444444444444,
              "#bd3786"
             ],
             [
              0.5555555555555556,
              "#d8576b"
             ],
             [
              0.6666666666666666,
              "#ed7953"
             ],
             [
              0.7777777777777778,
              "#fb9f3a"
             ],
             [
              0.8888888888888888,
              "#fdca26"
             ],
             [
              1,
              "#f0f921"
             ]
            ]
           }
          ],
          "carpet": [
           {
            "baxis": {
             "endlinecolor": "#2a3f5f",
             "gridcolor": "white",
             "linecolor": "white",
             "minorgridcolor": "white",
             "startlinecolor": "#2a3f5f"
            },
            "type": "carpet",
            "aaxis": {
             "endlinecolor": "#2a3f5f",
             "gridcolor": "white",
             "linecolor": "white",
             "minorgridcolor": "white",
             "startlinecolor": "#2a3f5f"
            }
           }
          ],
          "contourcarpet": [
           {
            "colorbar": {
             "outlinewidth": 0,
             "ticks": ""
            },
            "type": "contourcarpet"
           }
          ],
          "heatmap": [
           {
            "colorbar": {
             "outlinewidth": 0,
             "ticks": ""
            },
            "type": "heatmap",
            "colorscale": [
             [
              0,
              "#0d0887"
             ],
             [
              0.1111111111111111,
              "#46039f"
             ],
             [
              0.2222222222222222,
              "#7201a8"
             ],
             [
              0.3333333333333333,
              "#9c179e"
             ],
             [
              0.4444444444444444,
              "#bd3786"
             ],
             [
              0.5555555555555556,
              "#d8576b"
             ],
             [
              0.6666666666666666,
              "#ed7953"
             ],
             [
              0.7777777777777778,
              "#fb9f3a"
             ],
             [
              0.8888888888888888,
              "#fdca26"
             ],
             [
              1,
              "#f0f921"
             ]
            ]
           }
          ],
          "scattermapbox": [
           {
            "marker": {
             "colorbar": {
              "outlinewidth": 0,
              "ticks": ""
             }
            },
            "type": "scattermapbox"
           }
          ],
          "scatter3d": [
           {
            "marker": {
             "colorbar": {
              "outlinewidth": 0,
              "ticks": ""
             }
            },
            "line": {
             "colorbar": {
              "outlinewidth": 0,
              "ticks": ""
             }
            },
            "type": "scatter3d"
           }
          ],
          "scattergl": [
           {
            "marker": {
             "colorbar": {
              "outlinewidth": 0,
              "ticks": ""
             }
            },
            "type": "scattergl"
           }
          ],
          "scatterternary": [
           {
            "marker": {
             "colorbar": {
              "outlinewidth": 0,
              "ticks": ""
             }
            },
            "type": "scatterternary"
           }
          ],
          "histogram2d": [
           {
            "colorbar": {
             "outlinewidth": 0,
             "ticks": ""
            },
            "type": "histogram2d",
            "colorscale": [
             [
              0,
              "#0d0887"
             ],
             [
              0.1111111111111111,
              "#46039f"
             ],
             [
              0.2222222222222222,
              "#7201a8"
             ],
             [
              0.3333333333333333,
              "#9c179e"
             ],
             [
              0.4444444444444444,
              "#bd3786"
             ],
             [
              0.5555555555555556,
              "#d8576b"
             ],
             [
              0.6666666666666666,
              "#ed7953"
             ],
             [
              0.7777777777777778,
              "#fb9f3a"
             ],
             [
              0.8888888888888888,
              "#fdca26"
             ],
             [
              1,
              "#f0f921"
             ]
            ]
           }
          ],
          "heatmapgl": [
           {
            "colorbar": {
             "outlinewidth": 0,
             "ticks": ""
            },
            "type": "heatmapgl",
            "colorscale": [
             [
              0,
              "#0d0887"
             ],
             [
              0.1111111111111111,
              "#46039f"
             ],
             [
              0.2222222222222222,
              "#7201a8"
             ],
             [
              0.3333333333333333,
              "#9c179e"
             ],
             [
              0.4444444444444444,
              "#bd3786"
             ],
             [
              0.5555555555555556,
              "#d8576b"
             ],
             [
              0.6666666666666666,
              "#ed7953"
             ],
             [
              0.7777777777777778,
              "#fb9f3a"
             ],
             [
              0.8888888888888888,
              "#fdca26"
             ],
             [
              1,
              "#f0f921"
             ]
            ]
           }
          ],
          "scatterpolar": [
           {
            "marker": {
             "colorbar": {
              "outlinewidth": 0,
              "ticks": ""
             }
            },
            "type": "scatterpolar"
           }
          ],
          "histogram": [
           {
            "marker": {
             "colorbar": {
              "outlinewidth": 0,
              "ticks": ""
             }
            },
            "type": "histogram"
           }
          ],
          "scattergeo": [
           {
            "marker": {
             "colorbar": {
              "outlinewidth": 0,
              "ticks": ""
             }
            },
            "type": "scattergeo"
           }
          ],
          "bar": [
           {
            "marker": {
             "line": {
              "color": "#E5ECF6",
              "width": 0.5
             }
            },
            "error_x": {
             "color": "#2a3f5f"
            },
            "type": "bar",
            "error_y": {
             "color": "#2a3f5f"
            }
           }
          ],
          "choropleth": [
           {
            "colorbar": {
             "outlinewidth": 0,
             "ticks": ""
            },
            "type": "choropleth"
           }
          ],
          "parcoords": [
           {
            "line": {
             "colorbar": {
              "outlinewidth": 0,
              "ticks": ""
             }
            },
            "type": "parcoords"
           }
          ],
          "barpolar": [
           {
            "marker": {
             "line": {
              "color": "#E5ECF6",
              "width": 0.5
             }
            },
            "type": "barpolar"
           }
          ],
          "histogram2dcontour": [
           {
            "colorbar": {
             "outlinewidth": 0,
             "ticks": ""
            },
            "type": "histogram2dcontour",
            "colorscale": [
             [
              0,
              "#0d0887"
             ],
             [
              0.1111111111111111,
              "#46039f"
             ],
             [
              0.2222222222222222,
              "#7201a8"
             ],
             [
              0.3333333333333333,
              "#9c179e"
             ],
             [
              0.4444444444444444,
              "#bd3786"
             ],
             [
              0.5555555555555556,
              "#d8576b"
             ],
             [
              0.6666666666666666,
              "#ed7953"
             ],
             [
              0.7777777777777778,
              "#fb9f3a"
             ],
             [
              0.8888888888888888,
              "#fdca26"
             ],
             [
              1,
              "#f0f921"
             ]
            ]
           }
          ],
          "scatter": [
           {
            "marker": {
             "colorbar": {
              "outlinewidth": 0,
              "ticks": ""
             }
            },
            "type": "scatter"
           }
          ]
         },
         "layout": {
          "shapedefaults": {
           "line": {
            "color": "#2a3f5f"
           }
          },
          "polar": {
           "radialaxis": {
            "ticks": "",
            "gridcolor": "white",
            "linecolor": "white"
           },
           "bgcolor": "#E5ECF6",
           "angularaxis": {
            "ticks": "",
            "gridcolor": "white",
            "linecolor": "white"
           }
          },
          "colorway": [
           "#636efa",
           "#EF553B",
           "#00cc96",
           "#ab63fa",
           "#FFA15A",
           "#19d3f3",
           "#FF6692",
           "#B6E880",
           "#FF97FF",
           "#FECB52"
          ],
          "ternary": {
           "bgcolor": "#E5ECF6",
           "baxis": {
            "ticks": "",
            "gridcolor": "white",
            "linecolor": "white"
           },
           "caxis": {
            "ticks": "",
            "gridcolor": "white",
            "linecolor": "white"
           },
           "aaxis": {
            "ticks": "",
            "gridcolor": "white",
            "linecolor": "white"
           }
          },
          "autotypenumbers": "strict",
          "colorscale": {
           "diverging": [
            [
             0,
             "#8e0152"
            ],
            [
             0.1,
             "#c51b7d"
            ],
            [
             0.2,
             "#de77ae"
            ],
            [
             0.3,
             "#f1b6da"
            ],
            [
             0.4,
             "#fde0ef"
            ],
            [
             0.5,
             "#f7f7f7"
            ],
            [
             0.6,
             "#e6f5d0"
            ],
            [
             0.7,
             "#b8e186"
            ],
            [
             0.8,
             "#7fbc41"
            ],
            [
             0.9,
             "#4d9221"
            ],
            [
             1,
             "#276419"
            ]
           ],
           "sequential": [
            [
             0,
             "#0d0887"
            ],
            [
             0.1111111111111111,
             "#46039f"
            ],
            [
             0.2222222222222222,
             "#7201a8"
            ],
            [
             0.3333333333333333,
             "#9c179e"
            ],
            [
             0.4444444444444444,
             "#bd3786"
            ],
            [
             0.5555555555555556,
             "#d8576b"
            ],
            [
             0.6666666666666666,
             "#ed7953"
            ],
            [
             0.7777777777777778,
             "#fb9f3a"
            ],
            [
             0.8888888888888888,
             "#fdca26"
            ],
            [
             1,
             "#f0f921"
            ]
           ],
           "sequentialminus": [
            [
             0,
             "#0d0887"
            ],
            [
             0.1111111111111111,
             "#46039f"
            ],
            [
             0.2222222222222222,
             "#7201a8"
            ],
            [
             0.3333333333333333,
             "#9c179e"
            ],
            [
             0.4444444444444444,
             "#bd3786"
            ],
            [
             0.5555555555555556,
             "#d8576b"
            ],
            [
             0.6666666666666666,
             "#ed7953"
            ],
            [
             0.7777777777777778,
             "#fb9f3a"
            ],
            [
             0.8888888888888888,
             "#fdca26"
            ],
            [
             1,
             "#f0f921"
            ]
           ]
          },
          "paper_bgcolor": "white",
          "plot_bgcolor": "#E5ECF6",
          "title": {
           "x": 0.05
          },
          "scene": {
           "zaxis": {
            "linecolor": "white",
            "ticks": "",
            "gridwidth": 2,
            "showbackground": true,
            "zerolinecolor": "white",
            "gridcolor": "white",
            "backgroundcolor": "#E5ECF6"
           },
           "xaxis": {
            "linecolor": "white",
            "ticks": "",
            "gridwidth": 2,
            "showbackground": true,
            "zerolinecolor": "white",
            "gridcolor": "white",
            "backgroundcolor": "#E5ECF6"
           },
           "yaxis": {
            "linecolor": "white",
            "ticks": "",
            "gridwidth": 2,
            "showbackground": true,
            "zerolinecolor": "white",
            "gridcolor": "white",
            "backgroundcolor": "#E5ECF6"
           }
          },
          "yaxis": {
           "automargin": true,
           "title": {
            "standoff": 15
           },
           "zerolinewidth": 2,
           "ticks": "",
           "zerolinecolor": "white",
           "gridcolor": "white",
           "linecolor": "white"
          },
          "coloraxis": {
           "colorbar": {
            "outlinewidth": 0,
            "ticks": ""
           }
          },
          "hoverlabel": {
           "align": "left"
          },
          "xaxis": {
           "automargin": true,
           "title": {
            "standoff": 15
           },
           "zerolinewidth": 2,
           "ticks": "",
           "zerolinecolor": "white",
           "gridcolor": "white",
           "linecolor": "white"
          },
          "mapbox": {
           "style": "light"
          },
          "hovermode": "closest",
          "font": {
           "color": "#2a3f5f"
          },
          "geo": {
           "showland": true,
           "bgcolor": "white",
           "showlakes": true,
           "landcolor": "#E5ECF6",
           "subunitcolor": "white",
           "lakecolor": "white"
          },
          "annotationdefaults": {
           "arrowwidth": 1,
           "arrowhead": 0,
           "arrowcolor": "#2a3f5f"
          }
         }
        },
        "title": {
         "text": "Performance for different voxel_leaf values"
        },
        "yaxis": {
         "domain": [
          0,
          1
         ],
         "anchor": "x"
        },
        "xaxis2": {
         "domain": [
          0.55,
          1
         ],
         "anchor": "y2",
         "title": {
          "text": "Time [s]"
         }
        },
        "yaxis2": {
         "domain": [
          0,
          1
         ],
         "anchor": "x2"
        },
        "xaxis": {
         "domain": [
          0,
          0.45
         ],
         "anchor": "y",
         "title": {
          "text": "Percentage [%]"
         }
        },
        "annotations": [
         {
          "yanchor": "bottom",
          "xref": "paper",
          "xanchor": "center",
          "yref": "paper",
          "text": "Score (higher is better)",
          "y": 1,
          "x": 0.225,
          "font": {
           "size": 16
          },
          "showarrow": false
         },
         {
          "yanchor": "bottom",
          "xref": "paper",
          "xanchor": "center",
          "yref": "paper",
          "text": "Runtime (lower is better)",
          "y": 1,
          "x": 0.775,
          "font": {
           "size": 16
          },
          "showarrow": false
         },
         {
          "yanchor": "middle",
          "xref": "paper",
          "xanchor": "right",
          "yref": "paper",
          "text": "Parameter value",
          "xshift": -40,
          "textangle": -90,
          "y": 0.5,
          "x": 0,
          "font": {
           "size": 16
          },
          "showarrow": false
         }
        ]
       }
      }
     },
     "metadata": {}
    },
    {
     "output_type": "stream",
     "name": "stdout",
     "text": [
      "With parameter max_iter = 2.0 the score was 84.66% with a runtime of 10.44s\n",
      "Out of ... expected samples, 65 were detected.\n",
      "With parameter max_iter = 4.0 the score was 81.05% with a runtime of 12.06s\n",
      "Out of ... expected samples, 69 were detected.\n",
      "With parameter max_iter = 6.0 the score was 81.32% with a runtime of 12.84s\n",
      "Out of ... expected samples, 70 were detected.\n",
      "With parameter max_iter = 8.0 the score was 81.32% with a runtime of 12.85s\n",
      "Out of ... expected samples, 70 were detected.\n"
     ]
    },
    {
     "output_type": "display_data",
     "data": {
      "application/vnd.plotly.v1+json": {
       "config": {
        "plotlyServerURL": "https://plot.ly"
       },
       "data": [
        {
         "textposition": "inside",
         "name": "Score",
         "texttemplate": "%{y:.3f}",
         "insidetextanchor": "middle",
         "y": [
          2,
          4,
          6,
          8
         ],
         "x": [
          84.6588984669331,
          81.04513209617922,
          81.31591592337665,
          81.31591592337665
         ],
         "type": "bar",
         "orientation": "h"
        },
        {
         "textposition": "inside",
         "name": "Runtime",
         "yaxis": "y2",
         "texttemplate": "%{y:.3f}",
         "insidetextanchor": "middle",
         "marker": {
          "color": "orange"
         },
         "xaxis": "x2",
         "y": [
          2,
          4,
          6,
          8
         ],
         "x": [
          10.43752408027649,
          12.055370807647705,
          12.838068008422852,
          12.845003128051758
         ],
         "type": "bar",
         "orientation": "h"
        }
       ],
       "layout": {
        "template": {
         "data": {
          "mesh3d": [
           {
            "colorbar": {
             "outlinewidth": 0,
             "ticks": ""
            },
            "type": "mesh3d"
           }
          ],
          "scattercarpet": [
           {
            "marker": {
             "colorbar": {
              "outlinewidth": 0,
              "ticks": ""
             }
            },
            "type": "scattercarpet"
           }
          ],
          "pie": [
           {
            "automargin": true,
            "type": "pie"
           }
          ],
          "surface": [
           {
            "colorbar": {
             "outlinewidth": 0,
             "ticks": ""
            },
            "type": "surface",
            "colorscale": [
             [
              0,
              "#0d0887"
             ],
             [
              0.1111111111111111,
              "#46039f"
             ],
             [
              0.2222222222222222,
              "#7201a8"
             ],
             [
              0.3333333333333333,
              "#9c179e"
             ],
             [
              0.4444444444444444,
              "#bd3786"
             ],
             [
              0.5555555555555556,
              "#d8576b"
             ],
             [
              0.6666666666666666,
              "#ed7953"
             ],
             [
              0.7777777777777778,
              "#fb9f3a"
             ],
             [
              0.8888888888888888,
              "#fdca26"
             ],
             [
              1,
              "#f0f921"
             ]
            ]
           }
          ],
          "table": [
           {
            "header": {
             "line": {
              "color": "white"
             },
             "fill": {
              "color": "#C8D4E3"
             }
            },
            "cells": {
             "line": {
              "color": "white"
             },
             "fill": {
              "color": "#EBF0F8"
             }
            },
            "type": "table"
           }
          ],
          "scatterpolargl": [
           {
            "marker": {
             "colorbar": {
              "outlinewidth": 0,
              "ticks": ""
             }
            },
            "type": "scatterpolargl"
           }
          ],
          "contour": [
           {
            "colorbar": {
             "outlinewidth": 0,
             "ticks": ""
            },
            "type": "contour",
            "colorscale": [
             [
              0,
              "#0d0887"
             ],
             [
              0.1111111111111111,
              "#46039f"
             ],
             [
              0.2222222222222222,
              "#7201a8"
             ],
             [
              0.3333333333333333,
              "#9c179e"
             ],
             [
              0.4444444444444444,
              "#bd3786"
             ],
             [
              0.5555555555555556,
              "#d8576b"
             ],
             [
              0.6666666666666666,
              "#ed7953"
             ],
             [
              0.7777777777777778,
              "#fb9f3a"
             ],
             [
              0.8888888888888888,
              "#fdca26"
             ],
             [
              1,
              "#f0f921"
             ]
            ]
           }
          ],
          "carpet": [
           {
            "baxis": {
             "endlinecolor": "#2a3f5f",
             "gridcolor": "white",
             "linecolor": "white",
             "minorgridcolor": "white",
             "startlinecolor": "#2a3f5f"
            },
            "type": "carpet",
            "aaxis": {
             "endlinecolor": "#2a3f5f",
             "gridcolor": "white",
             "linecolor": "white",
             "minorgridcolor": "white",
             "startlinecolor": "#2a3f5f"
            }
           }
          ],
          "contourcarpet": [
           {
            "colorbar": {
             "outlinewidth": 0,
             "ticks": ""
            },
            "type": "contourcarpet"
           }
          ],
          "heatmap": [
           {
            "colorbar": {
             "outlinewidth": 0,
             "ticks": ""
            },
            "type": "heatmap",
            "colorscale": [
             [
              0,
              "#0d0887"
             ],
             [
              0.1111111111111111,
              "#46039f"
             ],
             [
              0.2222222222222222,
              "#7201a8"
             ],
             [
              0.3333333333333333,
              "#9c179e"
             ],
             [
              0.4444444444444444,
              "#bd3786"
             ],
             [
              0.5555555555555556,
              "#d8576b"
             ],
             [
              0.6666666666666666,
              "#ed7953"
             ],
             [
              0.7777777777777778,
              "#fb9f3a"
             ],
             [
              0.8888888888888888,
              "#fdca26"
             ],
             [
              1,
              "#f0f921"
             ]
            ]
           }
          ],
          "scattermapbox": [
           {
            "marker": {
             "colorbar": {
              "outlinewidth": 0,
              "ticks": ""
             }
            },
            "type": "scattermapbox"
           }
          ],
          "scatter3d": [
           {
            "marker": {
             "colorbar": {
              "outlinewidth": 0,
              "ticks": ""
             }
            },
            "line": {
             "colorbar": {
              "outlinewidth": 0,
              "ticks": ""
             }
            },
            "type": "scatter3d"
           }
          ],
          "scattergl": [
           {
            "marker": {
             "colorbar": {
              "outlinewidth": 0,
              "ticks": ""
             }
            },
            "type": "scattergl"
           }
          ],
          "scatterternary": [
           {
            "marker": {
             "colorbar": {
              "outlinewidth": 0,
              "ticks": ""
             }
            },
            "type": "scatterternary"
           }
          ],
          "histogram2d": [
           {
            "colorbar": {
             "outlinewidth": 0,
             "ticks": ""
            },
            "type": "histogram2d",
            "colorscale": [
             [
              0,
              "#0d0887"
             ],
             [
              0.1111111111111111,
              "#46039f"
             ],
             [
              0.2222222222222222,
              "#7201a8"
             ],
             [
              0.3333333333333333,
              "#9c179e"
             ],
             [
              0.4444444444444444,
              "#bd3786"
             ],
             [
              0.5555555555555556,
              "#d8576b"
             ],
             [
              0.6666666666666666,
              "#ed7953"
             ],
             [
              0.7777777777777778,
              "#fb9f3a"
             ],
             [
              0.8888888888888888,
              "#fdca26"
             ],
             [
              1,
              "#f0f921"
             ]
            ]
           }
          ],
          "heatmapgl": [
           {
            "colorbar": {
             "outlinewidth": 0,
             "ticks": ""
            },
            "type": "heatmapgl",
            "colorscale": [
             [
              0,
              "#0d0887"
             ],
             [
              0.1111111111111111,
              "#46039f"
             ],
             [
              0.2222222222222222,
              "#7201a8"
             ],
             [
              0.3333333333333333,
              "#9c179e"
             ],
             [
              0.4444444444444444,
              "#bd3786"
             ],
             [
              0.5555555555555556,
              "#d8576b"
             ],
             [
              0.6666666666666666,
              "#ed7953"
             ],
             [
              0.7777777777777778,
              "#fb9f3a"
             ],
             [
              0.8888888888888888,
              "#fdca26"
             ],
             [
              1,
              "#f0f921"
             ]
            ]
           }
          ],
          "scatterpolar": [
           {
            "marker": {
             "colorbar": {
              "outlinewidth": 0,
              "ticks": ""
             }
            },
            "type": "scatterpolar"
           }
          ],
          "histogram": [
           {
            "marker": {
             "colorbar": {
              "outlinewidth": 0,
              "ticks": ""
             }
            },
            "type": "histogram"
           }
          ],
          "scattergeo": [
           {
            "marker": {
             "colorbar": {
              "outlinewidth": 0,
              "ticks": ""
             }
            },
            "type": "scattergeo"
           }
          ],
          "bar": [
           {
            "marker": {
             "line": {
              "color": "#E5ECF6",
              "width": 0.5
             }
            },
            "error_x": {
             "color": "#2a3f5f"
            },
            "type": "bar",
            "error_y": {
             "color": "#2a3f5f"
            }
           }
          ],
          "choropleth": [
           {
            "colorbar": {
             "outlinewidth": 0,
             "ticks": ""
            },
            "type": "choropleth"
           }
          ],
          "parcoords": [
           {
            "line": {
             "colorbar": {
              "outlinewidth": 0,
              "ticks": ""
             }
            },
            "type": "parcoords"
           }
          ],
          "barpolar": [
           {
            "marker": {
             "line": {
              "color": "#E5ECF6",
              "width": 0.5
             }
            },
            "type": "barpolar"
           }
          ],
          "histogram2dcontour": [
           {
            "colorbar": {
             "outlinewidth": 0,
             "ticks": ""
            },
            "type": "histogram2dcontour",
            "colorscale": [
             [
              0,
              "#0d0887"
             ],
             [
              0.1111111111111111,
              "#46039f"
             ],
             [
              0.2222222222222222,
              "#7201a8"
             ],
             [
              0.3333333333333333,
              "#9c179e"
             ],
             [
              0.4444444444444444,
              "#bd3786"
             ],
             [
              0.5555555555555556,
              "#d8576b"
             ],
             [
              0.6666666666666666,
              "#ed7953"
             ],
             [
              0.7777777777777778,
              "#fb9f3a"
             ],
             [
              0.8888888888888888,
              "#fdca26"
             ],
             [
              1,
              "#f0f921"
             ]
            ]
           }
          ],
          "scatter": [
           {
            "marker": {
             "colorbar": {
              "outlinewidth": 0,
              "ticks": ""
             }
            },
            "type": "scatter"
           }
          ]
         },
         "layout": {
          "shapedefaults": {
           "line": {
            "color": "#2a3f5f"
           }
          },
          "polar": {
           "radialaxis": {
            "ticks": "",
            "gridcolor": "white",
            "linecolor": "white"
           },
           "bgcolor": "#E5ECF6",
           "angularaxis": {
            "ticks": "",
            "gridcolor": "white",
            "linecolor": "white"
           }
          },
          "colorway": [
           "#636efa",
           "#EF553B",
           "#00cc96",
           "#ab63fa",
           "#FFA15A",
           "#19d3f3",
           "#FF6692",
           "#B6E880",
           "#FF97FF",
           "#FECB52"
          ],
          "ternary": {
           "bgcolor": "#E5ECF6",
           "baxis": {
            "ticks": "",
            "gridcolor": "white",
            "linecolor": "white"
           },
           "caxis": {
            "ticks": "",
            "gridcolor": "white",
            "linecolor": "white"
           },
           "aaxis": {
            "ticks": "",
            "gridcolor": "white",
            "linecolor": "white"
           }
          },
          "autotypenumbers": "strict",
          "colorscale": {
           "diverging": [
            [
             0,
             "#8e0152"
            ],
            [
             0.1,
             "#c51b7d"
            ],
            [
             0.2,
             "#de77ae"
            ],
            [
             0.3,
             "#f1b6da"
            ],
            [
             0.4,
             "#fde0ef"
            ],
            [
             0.5,
             "#f7f7f7"
            ],
            [
             0.6,
             "#e6f5d0"
            ],
            [
             0.7,
             "#b8e186"
            ],
            [
             0.8,
             "#7fbc41"
            ],
            [
             0.9,
             "#4d9221"
            ],
            [
             1,
             "#276419"
            ]
           ],
           "sequential": [
            [
             0,
             "#0d0887"
            ],
            [
             0.1111111111111111,
             "#46039f"
            ],
            [
             0.2222222222222222,
             "#7201a8"
            ],
            [
             0.3333333333333333,
             "#9c179e"
            ],
            [
             0.4444444444444444,
             "#bd3786"
            ],
            [
             0.5555555555555556,
             "#d8576b"
            ],
            [
             0.6666666666666666,
             "#ed7953"
            ],
            [
             0.7777777777777778,
             "#fb9f3a"
            ],
            [
             0.8888888888888888,
             "#fdca26"
            ],
            [
             1,
             "#f0f921"
            ]
           ],
           "sequentialminus": [
            [
             0,
             "#0d0887"
            ],
            [
             0.1111111111111111,
             "#46039f"
            ],
            [
             0.2222222222222222,
             "#7201a8"
            ],
            [
             0.3333333333333333,
             "#9c179e"
            ],
            [
             0.4444444444444444,
             "#bd3786"
            ],
            [
             0.5555555555555556,
             "#d8576b"
            ],
            [
             0.6666666666666666,
             "#ed7953"
            ],
            [
             0.7777777777777778,
             "#fb9f3a"
            ],
            [
             0.8888888888888888,
             "#fdca26"
            ],
            [
             1,
             "#f0f921"
            ]
           ]
          },
          "paper_bgcolor": "white",
          "plot_bgcolor": "#E5ECF6",
          "title": {
           "x": 0.05
          },
          "scene": {
           "zaxis": {
            "linecolor": "white",
            "ticks": "",
            "gridwidth": 2,
            "showbackground": true,
            "zerolinecolor": "white",
            "gridcolor": "white",
            "backgroundcolor": "#E5ECF6"
           },
           "xaxis": {
            "linecolor": "white",
            "ticks": "",
            "gridwidth": 2,
            "showbackground": true,
            "zerolinecolor": "white",
            "gridcolor": "white",
            "backgroundcolor": "#E5ECF6"
           },
           "yaxis": {
            "linecolor": "white",
            "ticks": "",
            "gridwidth": 2,
            "showbackground": true,
            "zerolinecolor": "white",
            "gridcolor": "white",
            "backgroundcolor": "#E5ECF6"
           }
          },
          "yaxis": {
           "automargin": true,
           "title": {
            "standoff": 15
           },
           "zerolinewidth": 2,
           "ticks": "",
           "zerolinecolor": "white",
           "gridcolor": "white",
           "linecolor": "white"
          },
          "coloraxis": {
           "colorbar": {
            "outlinewidth": 0,
            "ticks": ""
           }
          },
          "hoverlabel": {
           "align": "left"
          },
          "xaxis": {
           "automargin": true,
           "title": {
            "standoff": 15
           },
           "zerolinewidth": 2,
           "ticks": "",
           "zerolinecolor": "white",
           "gridcolor": "white",
           "linecolor": "white"
          },
          "mapbox": {
           "style": "light"
          },
          "hovermode": "closest",
          "font": {
           "color": "#2a3f5f"
          },
          "geo": {
           "showland": true,
           "bgcolor": "white",
           "showlakes": true,
           "landcolor": "#E5ECF6",
           "subunitcolor": "white",
           "lakecolor": "white"
          },
          "annotationdefaults": {
           "arrowwidth": 1,
           "arrowhead": 0,
           "arrowcolor": "#2a3f5f"
          }
         }
        },
        "title": {
         "text": "Performance for different max_iter values"
        },
        "yaxis": {
         "domain": [
          0,
          1
         ],
         "anchor": "x"
        },
        "xaxis2": {
         "domain": [
          0.55,
          1
         ],
         "anchor": "y2",
         "title": {
          "text": "Time [s]"
         }
        },
        "yaxis2": {
         "domain": [
          0,
          1
         ],
         "anchor": "x2"
        },
        "xaxis": {
         "domain": [
          0,
          0.45
         ],
         "anchor": "y",
         "title": {
          "text": "Percentage [%]"
         }
        },
        "annotations": [
         {
          "yanchor": "bottom",
          "xref": "paper",
          "xanchor": "center",
          "yref": "paper",
          "text": "Score (higher is better)",
          "y": 1,
          "x": 0.225,
          "font": {
           "size": 16
          },
          "showarrow": false
         },
         {
          "yanchor": "bottom",
          "xref": "paper",
          "xanchor": "center",
          "yref": "paper",
          "text": "Runtime (lower is better)",
          "y": 1,
          "x": 0.775,
          "font": {
           "size": 16
          },
          "showarrow": false
         },
         {
          "yanchor": "middle",
          "xref": "paper",
          "xanchor": "right",
          "yref": "paper",
          "text": "Parameter value",
          "xshift": -40,
          "textangle": -90,
          "y": 0.5,
          "x": 0,
          "font": {
           "size": 16
          },
          "showarrow": false
         }
        ]
       }
      }
     },
     "metadata": {}
    },
    {
     "output_type": "stream",
     "name": "stdout",
     "text": [
      "With parameter min_points = 50.0 the score was 73.44% with a runtime of 13.18s\n",
      "Out of ... expected samples, 77 were detected.\n",
      "With parameter min_points = 100.0 the score was 81.05% with a runtime of 12.03s\n",
      "Out of ... expected samples, 69 were detected.\n",
      "With parameter min_points = 150.0 the score was 85.59% with a runtime of 11.56s\n",
      "Out of ... expected samples, 63 were detected.\n",
      "With parameter min_points = 200.0 the score was 87.75% with a runtime of 10.87s\n",
      "Out of ... expected samples, 55 were detected.\n"
     ]
    },
    {
     "output_type": "display_data",
     "data": {
      "application/vnd.plotly.v1+json": {
       "config": {
        "plotlyServerURL": "https://plot.ly"
       },
       "data": [
        {
         "textposition": "inside",
         "name": "Score",
         "texttemplate": "%{y:.3f}",
         "insidetextanchor": "middle",
         "y": [
          50,
          100,
          150,
          200
         ],
         "x": [
          73.43654694332943,
          81.04513209617922,
          85.58911293073595,
          87.75196022027923
         ],
         "type": "bar",
         "orientation": "h"
        },
        {
         "textposition": "inside",
         "name": "Runtime",
         "yaxis": "y2",
         "texttemplate": "%{y:.3f}",
         "insidetextanchor": "middle",
         "marker": {
          "color": "orange"
         },
         "xaxis": "x2",
         "y": [
          50,
          100,
          150,
          200
         ],
         "x": [
          13.175529956817627,
          12.031622886657715,
          11.564849853515625,
          10.867347955703735
         ],
         "type": "bar",
         "orientation": "h"
        }
       ],
       "layout": {
        "template": {
         "data": {
          "mesh3d": [
           {
            "colorbar": {
             "outlinewidth": 0,
             "ticks": ""
            },
            "type": "mesh3d"
           }
          ],
          "scattercarpet": [
           {
            "marker": {
             "colorbar": {
              "outlinewidth": 0,
              "ticks": ""
             }
            },
            "type": "scattercarpet"
           }
          ],
          "pie": [
           {
            "automargin": true,
            "type": "pie"
           }
          ],
          "surface": [
           {
            "colorbar": {
             "outlinewidth": 0,
             "ticks": ""
            },
            "type": "surface",
            "colorscale": [
             [
              0,
              "#0d0887"
             ],
             [
              0.1111111111111111,
              "#46039f"
             ],
             [
              0.2222222222222222,
              "#7201a8"
             ],
             [
              0.3333333333333333,
              "#9c179e"
             ],
             [
              0.4444444444444444,
              "#bd3786"
             ],
             [
              0.5555555555555556,
              "#d8576b"
             ],
             [
              0.6666666666666666,
              "#ed7953"
             ],
             [
              0.7777777777777778,
              "#fb9f3a"
             ],
             [
              0.8888888888888888,
              "#fdca26"
             ],
             [
              1,
              "#f0f921"
             ]
            ]
           }
          ],
          "table": [
           {
            "header": {
             "line": {
              "color": "white"
             },
             "fill": {
              "color": "#C8D4E3"
             }
            },
            "cells": {
             "line": {
              "color": "white"
             },
             "fill": {
              "color": "#EBF0F8"
             }
            },
            "type": "table"
           }
          ],
          "scatterpolargl": [
           {
            "marker": {
             "colorbar": {
              "outlinewidth": 0,
              "ticks": ""
             }
            },
            "type": "scatterpolargl"
           }
          ],
          "contour": [
           {
            "colorbar": {
             "outlinewidth": 0,
             "ticks": ""
            },
            "type": "contour",
            "colorscale": [
             [
              0,
              "#0d0887"
             ],
             [
              0.1111111111111111,
              "#46039f"
             ],
             [
              0.2222222222222222,
              "#7201a8"
             ],
             [
              0.3333333333333333,
              "#9c179e"
             ],
             [
              0.4444444444444444,
              "#bd3786"
             ],
             [
              0.5555555555555556,
              "#d8576b"
             ],
             [
              0.6666666666666666,
              "#ed7953"
             ],
             [
              0.7777777777777778,
              "#fb9f3a"
             ],
             [
              0.8888888888888888,
              "#fdca26"
             ],
             [
              1,
              "#f0f921"
             ]
            ]
           }
          ],
          "carpet": [
           {
            "baxis": {
             "endlinecolor": "#2a3f5f",
             "gridcolor": "white",
             "linecolor": "white",
             "minorgridcolor": "white",
             "startlinecolor": "#2a3f5f"
            },
            "type": "carpet",
            "aaxis": {
             "endlinecolor": "#2a3f5f",
             "gridcolor": "white",
             "linecolor": "white",
             "minorgridcolor": "white",
             "startlinecolor": "#2a3f5f"
            }
           }
          ],
          "contourcarpet": [
           {
            "colorbar": {
             "outlinewidth": 0,
             "ticks": ""
            },
            "type": "contourcarpet"
           }
          ],
          "heatmap": [
           {
            "colorbar": {
             "outlinewidth": 0,
             "ticks": ""
            },
            "type": "heatmap",
            "colorscale": [
             [
              0,
              "#0d0887"
             ],
             [
              0.1111111111111111,
              "#46039f"
             ],
             [
              0.2222222222222222,
              "#7201a8"
             ],
             [
              0.3333333333333333,
              "#9c179e"
             ],
             [
              0.4444444444444444,
              "#bd3786"
             ],
             [
              0.5555555555555556,
              "#d8576b"
             ],
             [
              0.6666666666666666,
              "#ed7953"
             ],
             [
              0.7777777777777778,
              "#fb9f3a"
             ],
             [
              0.8888888888888888,
              "#fdca26"
             ],
             [
              1,
              "#f0f921"
             ]
            ]
           }
          ],
          "scattermapbox": [
           {
            "marker": {
             "colorbar": {
              "outlinewidth": 0,
              "ticks": ""
             }
            },
            "type": "scattermapbox"
           }
          ],
          "scatter3d": [
           {
            "marker": {
             "colorbar": {
              "outlinewidth": 0,
              "ticks": ""
             }
            },
            "line": {
             "colorbar": {
              "outlinewidth": 0,
              "ticks": ""
             }
            },
            "type": "scatter3d"
           }
          ],
          "scattergl": [
           {
            "marker": {
             "colorbar": {
              "outlinewidth": 0,
              "ticks": ""
             }
            },
            "type": "scattergl"
           }
          ],
          "scatterternary": [
           {
            "marker": {
             "colorbar": {
              "outlinewidth": 0,
              "ticks": ""
             }
            },
            "type": "scatterternary"
           }
          ],
          "histogram2d": [
           {
            "colorbar": {
             "outlinewidth": 0,
             "ticks": ""
            },
            "type": "histogram2d",
            "colorscale": [
             [
              0,
              "#0d0887"
             ],
             [
              0.1111111111111111,
              "#46039f"
             ],
             [
              0.2222222222222222,
              "#7201a8"
             ],
             [
              0.3333333333333333,
              "#9c179e"
             ],
             [
              0.4444444444444444,
              "#bd3786"
             ],
             [
              0.5555555555555556,
              "#d8576b"
             ],
             [
              0.6666666666666666,
              "#ed7953"
             ],
             [
              0.7777777777777778,
              "#fb9f3a"
             ],
             [
              0.8888888888888888,
              "#fdca26"
             ],
             [
              1,
              "#f0f921"
             ]
            ]
           }
          ],
          "heatmapgl": [
           {
            "colorbar": {
             "outlinewidth": 0,
             "ticks": ""
            },
            "type": "heatmapgl",
            "colorscale": [
             [
              0,
              "#0d0887"
             ],
             [
              0.1111111111111111,
              "#46039f"
             ],
             [
              0.2222222222222222,
              "#7201a8"
             ],
             [
              0.3333333333333333,
              "#9c179e"
             ],
             [
              0.4444444444444444,
              "#bd3786"
             ],
             [
              0.5555555555555556,
              "#d8576b"
             ],
             [
              0.6666666666666666,
              "#ed7953"
             ],
             [
              0.7777777777777778,
              "#fb9f3a"
             ],
             [
              0.8888888888888888,
              "#fdca26"
             ],
             [
              1,
              "#f0f921"
             ]
            ]
           }
          ],
          "scatterpolar": [
           {
            "marker": {
             "colorbar": {
              "outlinewidth": 0,
              "ticks": ""
             }
            },
            "type": "scatterpolar"
           }
          ],
          "histogram": [
           {
            "marker": {
             "colorbar": {
              "outlinewidth": 0,
              "ticks": ""
             }
            },
            "type": "histogram"
           }
          ],
          "scattergeo": [
           {
            "marker": {
             "colorbar": {
              "outlinewidth": 0,
              "ticks": ""
             }
            },
            "type": "scattergeo"
           }
          ],
          "bar": [
           {
            "marker": {
             "line": {
              "color": "#E5ECF6",
              "width": 0.5
             }
            },
            "error_x": {
             "color": "#2a3f5f"
            },
            "type": "bar",
            "error_y": {
             "color": "#2a3f5f"
            }
           }
          ],
          "choropleth": [
           {
            "colorbar": {
             "outlinewidth": 0,
             "ticks": ""
            },
            "type": "choropleth"
           }
          ],
          "parcoords": [
           {
            "line": {
             "colorbar": {
              "outlinewidth": 0,
              "ticks": ""
             }
            },
            "type": "parcoords"
           }
          ],
          "barpolar": [
           {
            "marker": {
             "line": {
              "color": "#E5ECF6",
              "width": 0.5
             }
            },
            "type": "barpolar"
           }
          ],
          "histogram2dcontour": [
           {
            "colorbar": {
             "outlinewidth": 0,
             "ticks": ""
            },
            "type": "histogram2dcontour",
            "colorscale": [
             [
              0,
              "#0d0887"
             ],
             [
              0.1111111111111111,
              "#46039f"
             ],
             [
              0.2222222222222222,
              "#7201a8"
             ],
             [
              0.3333333333333333,
              "#9c179e"
             ],
             [
              0.4444444444444444,
              "#bd3786"
             ],
             [
              0.5555555555555556,
              "#d8576b"
             ],
             [
              0.6666666666666666,
              "#ed7953"
             ],
             [
              0.7777777777777778,
              "#fb9f3a"
             ],
             [
              0.8888888888888888,
              "#fdca26"
             ],
             [
              1,
              "#f0f921"
             ]
            ]
           }
          ],
          "scatter": [
           {
            "marker": {
             "colorbar": {
              "outlinewidth": 0,
              "ticks": ""
             }
            },
            "type": "scatter"
           }
          ]
         },
         "layout": {
          "shapedefaults": {
           "line": {
            "color": "#2a3f5f"
           }
          },
          "polar": {
           "radialaxis": {
            "ticks": "",
            "gridcolor": "white",
            "linecolor": "white"
           },
           "bgcolor": "#E5ECF6",
           "angularaxis": {
            "ticks": "",
            "gridcolor": "white",
            "linecolor": "white"
           }
          },
          "colorway": [
           "#636efa",
           "#EF553B",
           "#00cc96",
           "#ab63fa",
           "#FFA15A",
           "#19d3f3",
           "#FF6692",
           "#B6E880",
           "#FF97FF",
           "#FECB52"
          ],
          "ternary": {
           "bgcolor": "#E5ECF6",
           "baxis": {
            "ticks": "",
            "gridcolor": "white",
            "linecolor": "white"
           },
           "caxis": {
            "ticks": "",
            "gridcolor": "white",
            "linecolor": "white"
           },
           "aaxis": {
            "ticks": "",
            "gridcolor": "white",
            "linecolor": "white"
           }
          },
          "autotypenumbers": "strict",
          "colorscale": {
           "diverging": [
            [
             0,
             "#8e0152"
            ],
            [
             0.1,
             "#c51b7d"
            ],
            [
             0.2,
             "#de77ae"
            ],
            [
             0.3,
             "#f1b6da"
            ],
            [
             0.4,
             "#fde0ef"
            ],
            [
             0.5,
             "#f7f7f7"
            ],
            [
             0.6,
             "#e6f5d0"
            ],
            [
             0.7,
             "#b8e186"
            ],
            [
             0.8,
             "#7fbc41"
            ],
            [
             0.9,
             "#4d9221"
            ],
            [
             1,
             "#276419"
            ]
           ],
           "sequential": [
            [
             0,
             "#0d0887"
            ],
            [
             0.1111111111111111,
             "#46039f"
            ],
            [
             0.2222222222222222,
             "#7201a8"
            ],
            [
             0.3333333333333333,
             "#9c179e"
            ],
            [
             0.4444444444444444,
             "#bd3786"
            ],
            [
             0.5555555555555556,
             "#d8576b"
            ],
            [
             0.6666666666666666,
             "#ed7953"
            ],
            [
             0.7777777777777778,
             "#fb9f3a"
            ],
            [
             0.8888888888888888,
             "#fdca26"
            ],
            [
             1,
             "#f0f921"
            ]
           ],
           "sequentialminus": [
            [
             0,
             "#0d0887"
            ],
            [
             0.1111111111111111,
             "#46039f"
            ],
            [
             0.2222222222222222,
             "#7201a8"
            ],
            [
             0.3333333333333333,
             "#9c179e"
            ],
            [
             0.4444444444444444,
             "#bd3786"
            ],
            [
             0.5555555555555556,
             "#d8576b"
            ],
            [
             0.6666666666666666,
             "#ed7953"
            ],
            [
             0.7777777777777778,
             "#fb9f3a"
            ],
            [
             0.8888888888888888,
             "#fdca26"
            ],
            [
             1,
             "#f0f921"
            ]
           ]
          },
          "paper_bgcolor": "white",
          "plot_bgcolor": "#E5ECF6",
          "title": {
           "x": 0.05
          },
          "scene": {
           "zaxis": {
            "linecolor": "white",
            "ticks": "",
            "gridwidth": 2,
            "showbackground": true,
            "zerolinecolor": "white",
            "gridcolor": "white",
            "backgroundcolor": "#E5ECF6"
           },
           "xaxis": {
            "linecolor": "white",
            "ticks": "",
            "gridwidth": 2,
            "showbackground": true,
            "zerolinecolor": "white",
            "gridcolor": "white",
            "backgroundcolor": "#E5ECF6"
           },
           "yaxis": {
            "linecolor": "white",
            "ticks": "",
            "gridwidth": 2,
            "showbackground": true,
            "zerolinecolor": "white",
            "gridcolor": "white",
            "backgroundcolor": "#E5ECF6"
           }
          },
          "yaxis": {
           "automargin": true,
           "title": {
            "standoff": 15
           },
           "zerolinewidth": 2,
           "ticks": "",
           "zerolinecolor": "white",
           "gridcolor": "white",
           "linecolor": "white"
          },
          "coloraxis": {
           "colorbar": {
            "outlinewidth": 0,
            "ticks": ""
           }
          },
          "hoverlabel": {
           "align": "left"
          },
          "xaxis": {
           "automargin": true,
           "title": {
            "standoff": 15
           },
           "zerolinewidth": 2,
           "ticks": "",
           "zerolinecolor": "white",
           "gridcolor": "white",
           "linecolor": "white"
          },
          "mapbox": {
           "style": "light"
          },
          "hovermode": "closest",
          "font": {
           "color": "#2a3f5f"
          },
          "geo": {
           "showland": true,
           "bgcolor": "white",
           "showlakes": true,
           "landcolor": "#E5ECF6",
           "subunitcolor": "white",
           "lakecolor": "white"
          },
          "annotationdefaults": {
           "arrowwidth": 1,
           "arrowhead": 0,
           "arrowcolor": "#2a3f5f"
          }
         }
        },
        "title": {
         "text": "Performance for different min_points values"
        },
        "yaxis": {
         "domain": [
          0,
          1
         ],
         "anchor": "x"
        },
        "xaxis2": {
         "domain": [
          0.55,
          1
         ],
         "anchor": "y2",
         "title": {
          "text": "Time [s]"
         }
        },
        "yaxis2": {
         "domain": [
          0,
          1
         ],
         "anchor": "x2"
        },
        "xaxis": {
         "domain": [
          0,
          0.45
         ],
         "anchor": "y",
         "title": {
          "text": "Percentage [%]"
         }
        },
        "annotations": [
         {
          "yanchor": "bottom",
          "xref": "paper",
          "xanchor": "center",
          "yref": "paper",
          "text": "Score (higher is better)",
          "y": 1,
          "x": 0.225,
          "font": {
           "size": 16
          },
          "showarrow": false
         },
         {
          "yanchor": "bottom",
          "xref": "paper",
          "xanchor": "center",
          "yref": "paper",
          "text": "Runtime (lower is better)",
          "y": 1,
          "x": 0.775,
          "font": {
           "size": 16
          },
          "showarrow": false
         },
         {
          "yanchor": "middle",
          "xref": "paper",
          "xanchor": "right",
          "yref": "paper",
          "text": "Parameter value",
          "xshift": -40,
          "textangle": -90,
          "y": 0.5,
          "x": 0,
          "font": {
           "size": 16
          },
          "showarrow": false
         }
        ]
       }
      }
     },
     "metadata": {}
    }
   ],
   "metadata": {}
  },
  {
   "cell_type": "markdown",
   "source": [
    "Now visualize the number of true positives and false positives instead of the score"
   ],
   "metadata": {}
  },
  {
   "cell_type": "code",
   "execution_count": 135,
   "source": [
    "def dumb_optimizer2(varIndex, start, end, steps=6, visualize=True):\n",
    "    # Variables that can be changed\n",
    "    var_names = ['ransac_distance_thresh', 'ransac_weight', 'ransac_make_seg',\n",
    "        'voxel_leaf', 'plane_near_ground', 'max_iter', 'min_points', 'cut']\n",
    "    # Standard parameters\n",
    "    params = [0.017, 0.125, 50, 0.1, 0.8, 4, 100, [0, 30, -3.5, 3.5, -1, 1.5]]\n",
    "    # List for visualization\n",
    "    vis_list = []\n",
    "    # Change parameter value every run\n",
    "    for var_val in np.linspace(start, end, steps):\n",
    "        # Adjust input parameter\n",
    "        params[varIndex] = var_val\n",
    "        # Create instance of class\n",
    "        vd = VisualDetection(ransac_distance_thresh=params[0], ransac_weight=params[1], \n",
    "        ransac_make_seg=params[2], voxel_leaf=params[3], plane_near_ground=params[4], \n",
    "        max_iter=params[5], min_points=params[6], cut=params[7])\n",
    "        # Lists to fill, will contain entry for each plane\n",
    "        planes = []\n",
    "        ramp_stats = []\n",
    "        # Timestop\n",
    "        start_t = time.time()\n",
    "        for i in range(len(lidar)):\n",
    "            plane_points, data = vd.spin(lidar[i], pose[i])\n",
    "            planes.append(plane_points)\n",
    "            ramp_stats.append(data)\n",
    "        # Timestop end\n",
    "        runtime = time.time() - start_t\n",
    "\n",
    "        # Remove empty lists (when no ramp has been detected)\n",
    "        ramp_arrays = [x for x in planes if x != []]\n",
    "        ramp_stats = [x for x in ramp_stats if x != []]\n",
    "\n",
    "        # Convert list to dictionary\n",
    "        dic = []\n",
    "        for i, arr in enumerate(ramp_arrays):\n",
    "            for j, point in enumerate(arr):\n",
    "                dic.append(\n",
    "                    {\n",
    "                        'sampleIdx': i,\n",
    "                        'pointIdx': j,\n",
    "                        'x': point[0],\n",
    "                        'y': point[1],\n",
    "                        'z': point[2]\n",
    "                    }\n",
    "                )\n",
    "        # And finally to pandas Dataframe\n",
    "        df = pd.DataFrame(dic)\n",
    "        # Adjust column order\n",
    "        df = df[['sampleIdx', 'pointIdx', 'x', 'y', 'z']]\n",
    "\n",
    "        # Ground truth coordinates of ramp (measured by using globalmap points)\n",
    "        x_range = [-21, -9]\n",
    "        y_range = [35, 39] \n",
    "\n",
    "        # Check if a point lies within ramp region\n",
    "        lies_inside = []\n",
    "        for i,x in enumerate(df['x']):\n",
    "            if x_range[0] < x < x_range[1]:\n",
    "                if y_range[0] < df['y'][i] < y_range[1]:\n",
    "                    # True if x and y coordinate inside region\n",
    "                    lies_inside.append(True)\n",
    "                else:\n",
    "                    lies_inside.append(False)\n",
    "            else:\n",
    "                lies_inside.append(False)\n",
    "        # Add column (if point lies in region) to data frame\n",
    "        df['inlier'] = lies_inside\n",
    "\n",
    "        # Calculate how many points of each sample lie in ramp region\n",
    "        true_inliers = []\n",
    "        samples_num = df.sampleIdx.max() + 1\n",
    "        for i in range(samples_num):\n",
    "            # Bool list of inliers and outliers of sample\n",
    "            bool_lst = df[df['sampleIdx'] == i]['inlier']\n",
    "            # Percentage of inliers of sample\n",
    "            true_inliers.append(sum(bool_lst) / float(len(bool_lst)))\n",
    "\n",
    "        # Average percentage of points in ramp region per sample\n",
    "        score = np.array(true_inliers).mean()\n",
    "        print('With parameter {} = {} the score was {:05.2f}% with a runtime of {:05.2f}s'.format(\n",
    "            var_names[varIndex], var_val, score*100, runtime))\n",
    "        # Todo: Add expected value of ramp (sth like time from when ramp is visible\n",
    "        # Todo: until not times the rate)\n",
    "        print('Out of ... expected samples, {} were detected.'.format(len(true_inliers)))\n",
    "        vis_list.append([var_names[varIndex], var_val, score*100, runtime, true_inliers])\n",
    "    if visualize:\n",
    "        df = pd.DataFrame(vis_list)\n",
    "        tps = []\n",
    "        fps = []\n",
    "        for sample in df.iloc[:,4]:\n",
    "            tp = sum(np.array(sample) > 0.5)\n",
    "            tps.append(tp)\n",
    "            fps.append(len(sample) - tp)\n",
    "        df[5] = tps\n",
    "        df[6] = fps\n",
    "        fig = make_subplots(rows=1, cols=2, \n",
    "        subplot_titles=('TruePositives vs FalsePositives\\n(Should be high tp and low fp))', 'Runtime (lower is better)'),\n",
    "        y_title='Parameter value')\n",
    "        fig.add_trace(go.Bar(\n",
    "            y = df.iloc[:,1], x=df.iloc[:,5],\n",
    "            name=\"True positives\",\n",
    "            orientation='h', \n",
    "            textposition='inside', \n",
    "            offsetgroup=0\n",
    "        ))\n",
    "        fig.add_trace(go.Bar(\n",
    "            y = df.iloc[:,1], x=df.iloc[:,6],\n",
    "            name=\"False positives\",\n",
    "            orientation='h', \n",
    "            textposition='inside', \n",
    "            offsetgroup=0\n",
    "        ))\n",
    "        fig.add_trace(go.Bar(\n",
    "            y = df.iloc[:,1], x=df.iloc[:,3],\n",
    "            name=\"Runtime\",\n",
    "            orientation='h', \n",
    "            marker_color='orange',\n",
    "            textposition='inside'\n",
    "        ), row=1, col=2)\n",
    "        fig.update_traces(texttemplate='%{y:.3f}', insidetextanchor=\"middle\")\n",
    "        fig.update_xaxes(title_text=\"Sample count\", row=1, col=1)\n",
    "        fig.update_xaxes(title_text=\"Time [s]\", row=1, col=2)\n",
    "        fig.update_layout(title_text=\"Performance for different \" + vis_list[0][0] + \" values\")\n",
    "        fig.show()\n",
    "        return fig"
   ],
   "outputs": [],
   "metadata": {}
  },
  {
   "cell_type": "code",
   "execution_count": 136,
   "source": [
    "# Standard parameters\n",
    "params = [0.017, 0.125, 50, 0.1, 0.8, 4, 100, [0, 30, -3.5, 3.5, -1, 1.5]]\n",
    "# Change each parameter by 50 to 100% and explore their influence\n",
    "for i in range(7):\n",
    "    if i != 4:\n",
    "        dumb_optimizer2(i, params[i]*0.5, params[i]*2, 4)"
   ],
   "outputs": [
    {
     "output_type": "stream",
     "name": "stderr",
     "text": [
      "/home/user/.local/lib/python2.7/site-packages/ipykernel_launcher.py:30: DeprecationWarning:\n",
      "\n",
      "elementwise comparison failed; this will raise an error in the future.\n",
      "\n"
     ]
    },
    {
     "output_type": "stream",
     "name": "stdout",
     "text": [
      "With parameter ransac_distance_thresh = 0.0085 the score was 58.28% with a runtime of 14.68s\n",
      "Out of ... expected samples, 78 were detected.\n",
      "With parameter ransac_distance_thresh = 0.017 the score was 81.05% with a runtime of 12.01s\n",
      "Out of ... expected samples, 69 were detected.\n",
      "With parameter ransac_distance_thresh = 0.0255 the score was 67.17% with a runtime of 11.61s\n",
      "Out of ... expected samples, 69 were detected.\n",
      "With parameter ransac_distance_thresh = 0.034 the score was 57.08% with a runtime of 10.47s\n",
      "Out of ... expected samples, 71 were detected.\n"
     ]
    },
    {
     "output_type": "display_data",
     "data": {
      "application/vnd.plotly.v1+json": {
       "config": {
        "plotlyServerURL": "https://plot.ly"
       },
       "data": [
        {
         "textposition": "inside",
         "orientation": "h",
         "texttemplate": "%{y:.3f}",
         "insidetextanchor": "middle",
         "offsetgroup": "0",
         "y": [
          0.0085,
          0.017,
          0.025500000000000002,
          0.034
         ],
         "x": [
          47,
          59,
          50,
          45
         ],
         "type": "bar",
         "name": "True positives"
        },
        {
         "textposition": "inside",
         "orientation": "h",
         "texttemplate": "%{y:.3f}",
         "insidetextanchor": "middle",
         "offsetgroup": "0",
         "y": [
          0.0085,
          0.017,
          0.025500000000000002,
          0.034
         ],
         "x": [
          31,
          10,
          19,
          26
         ],
         "type": "bar",
         "name": "False positives"
        },
        {
         "textposition": "inside",
         "name": "Runtime",
         "yaxis": "y2",
         "texttemplate": "%{y:.3f}",
         "insidetextanchor": "middle",
         "marker": {
          "color": "orange"
         },
         "xaxis": "x2",
         "y": [
          0.0085,
          0.017,
          0.025500000000000002,
          0.034
         ],
         "x": [
          14.679685831069946,
          12.007191896438599,
          11.613368034362793,
          10.466285943984985
         ],
         "type": "bar",
         "orientation": "h"
        }
       ],
       "layout": {
        "template": {
         "data": {
          "mesh3d": [
           {
            "colorbar": {
             "outlinewidth": 0,
             "ticks": ""
            },
            "type": "mesh3d"
           }
          ],
          "scattercarpet": [
           {
            "marker": {
             "colorbar": {
              "outlinewidth": 0,
              "ticks": ""
             }
            },
            "type": "scattercarpet"
           }
          ],
          "pie": [
           {
            "automargin": true,
            "type": "pie"
           }
          ],
          "surface": [
           {
            "colorbar": {
             "outlinewidth": 0,
             "ticks": ""
            },
            "type": "surface",
            "colorscale": [
             [
              0,
              "#0d0887"
             ],
             [
              0.1111111111111111,
              "#46039f"
             ],
             [
              0.2222222222222222,
              "#7201a8"
             ],
             [
              0.3333333333333333,
              "#9c179e"
             ],
             [
              0.4444444444444444,
              "#bd3786"
             ],
             [
              0.5555555555555556,
              "#d8576b"
             ],
             [
              0.6666666666666666,
              "#ed7953"
             ],
             [
              0.7777777777777778,
              "#fb9f3a"
             ],
             [
              0.8888888888888888,
              "#fdca26"
             ],
             [
              1,
              "#f0f921"
             ]
            ]
           }
          ],
          "table": [
           {
            "header": {
             "line": {
              "color": "white"
             },
             "fill": {
              "color": "#C8D4E3"
             }
            },
            "cells": {
             "line": {
              "color": "white"
             },
             "fill": {
              "color": "#EBF0F8"
             }
            },
            "type": "table"
           }
          ],
          "scatterpolargl": [
           {
            "marker": {
             "colorbar": {
              "outlinewidth": 0,
              "ticks": ""
             }
            },
            "type": "scatterpolargl"
           }
          ],
          "contour": [
           {
            "colorbar": {
             "outlinewidth": 0,
             "ticks": ""
            },
            "type": "contour",
            "colorscale": [
             [
              0,
              "#0d0887"
             ],
             [
              0.1111111111111111,
              "#46039f"
             ],
             [
              0.2222222222222222,
              "#7201a8"
             ],
             [
              0.3333333333333333,
              "#9c179e"
             ],
             [
              0.4444444444444444,
              "#bd3786"
             ],
             [
              0.5555555555555556,
              "#d8576b"
             ],
             [
              0.6666666666666666,
              "#ed7953"
             ],
             [
              0.7777777777777778,
              "#fb9f3a"
             ],
             [
              0.8888888888888888,
              "#fdca26"
             ],
             [
              1,
              "#f0f921"
             ]
            ]
           }
          ],
          "carpet": [
           {
            "baxis": {
             "endlinecolor": "#2a3f5f",
             "gridcolor": "white",
             "linecolor": "white",
             "minorgridcolor": "white",
             "startlinecolor": "#2a3f5f"
            },
            "type": "carpet",
            "aaxis": {
             "endlinecolor": "#2a3f5f",
             "gridcolor": "white",
             "linecolor": "white",
             "minorgridcolor": "white",
             "startlinecolor": "#2a3f5f"
            }
           }
          ],
          "contourcarpet": [
           {
            "colorbar": {
             "outlinewidth": 0,
             "ticks": ""
            },
            "type": "contourcarpet"
           }
          ],
          "heatmap": [
           {
            "colorbar": {
             "outlinewidth": 0,
             "ticks": ""
            },
            "type": "heatmap",
            "colorscale": [
             [
              0,
              "#0d0887"
             ],
             [
              0.1111111111111111,
              "#46039f"
             ],
             [
              0.2222222222222222,
              "#7201a8"
             ],
             [
              0.3333333333333333,
              "#9c179e"
             ],
             [
              0.4444444444444444,
              "#bd3786"
             ],
             [
              0.5555555555555556,
              "#d8576b"
             ],
             [
              0.6666666666666666,
              "#ed7953"
             ],
             [
              0.7777777777777778,
              "#fb9f3a"
             ],
             [
              0.8888888888888888,
              "#fdca26"
             ],
             [
              1,
              "#f0f921"
             ]
            ]
           }
          ],
          "scattermapbox": [
           {
            "marker": {
             "colorbar": {
              "outlinewidth": 0,
              "ticks": ""
             }
            },
            "type": "scattermapbox"
           }
          ],
          "scatter3d": [
           {
            "marker": {
             "colorbar": {
              "outlinewidth": 0,
              "ticks": ""
             }
            },
            "line": {
             "colorbar": {
              "outlinewidth": 0,
              "ticks": ""
             }
            },
            "type": "scatter3d"
           }
          ],
          "scattergl": [
           {
            "marker": {
             "colorbar": {
              "outlinewidth": 0,
              "ticks": ""
             }
            },
            "type": "scattergl"
           }
          ],
          "scatterternary": [
           {
            "marker": {
             "colorbar": {
              "outlinewidth": 0,
              "ticks": ""
             }
            },
            "type": "scatterternary"
           }
          ],
          "histogram2d": [
           {
            "colorbar": {
             "outlinewidth": 0,
             "ticks": ""
            },
            "type": "histogram2d",
            "colorscale": [
             [
              0,
              "#0d0887"
             ],
             [
              0.1111111111111111,
              "#46039f"
             ],
             [
              0.2222222222222222,
              "#7201a8"
             ],
             [
              0.3333333333333333,
              "#9c179e"
             ],
             [
              0.4444444444444444,
              "#bd3786"
             ],
             [
              0.5555555555555556,
              "#d8576b"
             ],
             [
              0.6666666666666666,
              "#ed7953"
             ],
             [
              0.7777777777777778,
              "#fb9f3a"
             ],
             [
              0.8888888888888888,
              "#fdca26"
             ],
             [
              1,
              "#f0f921"
             ]
            ]
           }
          ],
          "heatmapgl": [
           {
            "colorbar": {
             "outlinewidth": 0,
             "ticks": ""
            },
            "type": "heatmapgl",
            "colorscale": [
             [
              0,
              "#0d0887"
             ],
             [
              0.1111111111111111,
              "#46039f"
             ],
             [
              0.2222222222222222,
              "#7201a8"
             ],
             [
              0.3333333333333333,
              "#9c179e"
             ],
             [
              0.4444444444444444,
              "#bd3786"
             ],
             [
              0.5555555555555556,
              "#d8576b"
             ],
             [
              0.6666666666666666,
              "#ed7953"
             ],
             [
              0.7777777777777778,
              "#fb9f3a"
             ],
             [
              0.8888888888888888,
              "#fdca26"
             ],
             [
              1,
              "#f0f921"
             ]
            ]
           }
          ],
          "scatterpolar": [
           {
            "marker": {
             "colorbar": {
              "outlinewidth": 0,
              "ticks": ""
             }
            },
            "type": "scatterpolar"
           }
          ],
          "histogram": [
           {
            "marker": {
             "colorbar": {
              "outlinewidth": 0,
              "ticks": ""
             }
            },
            "type": "histogram"
           }
          ],
          "scattergeo": [
           {
            "marker": {
             "colorbar": {
              "outlinewidth": 0,
              "ticks": ""
             }
            },
            "type": "scattergeo"
           }
          ],
          "bar": [
           {
            "marker": {
             "line": {
              "color": "#E5ECF6",
              "width": 0.5
             }
            },
            "error_x": {
             "color": "#2a3f5f"
            },
            "type": "bar",
            "error_y": {
             "color": "#2a3f5f"
            }
           }
          ],
          "choropleth": [
           {
            "colorbar": {
             "outlinewidth": 0,
             "ticks": ""
            },
            "type": "choropleth"
           }
          ],
          "parcoords": [
           {
            "line": {
             "colorbar": {
              "outlinewidth": 0,
              "ticks": ""
             }
            },
            "type": "parcoords"
           }
          ],
          "barpolar": [
           {
            "marker": {
             "line": {
              "color": "#E5ECF6",
              "width": 0.5
             }
            },
            "type": "barpolar"
           }
          ],
          "histogram2dcontour": [
           {
            "colorbar": {
             "outlinewidth": 0,
             "ticks": ""
            },
            "type": "histogram2dcontour",
            "colorscale": [
             [
              0,
              "#0d0887"
             ],
             [
              0.1111111111111111,
              "#46039f"
             ],
             [
              0.2222222222222222,
              "#7201a8"
             ],
             [
              0.3333333333333333,
              "#9c179e"
             ],
             [
              0.4444444444444444,
              "#bd3786"
             ],
             [
              0.5555555555555556,
              "#d8576b"
             ],
             [
              0.6666666666666666,
              "#ed7953"
             ],
             [
              0.7777777777777778,
              "#fb9f3a"
             ],
             [
              0.8888888888888888,
              "#fdca26"
             ],
             [
              1,
              "#f0f921"
             ]
            ]
           }
          ],
          "scatter": [
           {
            "marker": {
             "colorbar": {
              "outlinewidth": 0,
              "ticks": ""
             }
            },
            "type": "scatter"
           }
          ]
         },
         "layout": {
          "shapedefaults": {
           "line": {
            "color": "#2a3f5f"
           }
          },
          "polar": {
           "radialaxis": {
            "ticks": "",
            "gridcolor": "white",
            "linecolor": "white"
           },
           "bgcolor": "#E5ECF6",
           "angularaxis": {
            "ticks": "",
            "gridcolor": "white",
            "linecolor": "white"
           }
          },
          "colorway": [
           "#636efa",
           "#EF553B",
           "#00cc96",
           "#ab63fa",
           "#FFA15A",
           "#19d3f3",
           "#FF6692",
           "#B6E880",
           "#FF97FF",
           "#FECB52"
          ],
          "ternary": {
           "bgcolor": "#E5ECF6",
           "baxis": {
            "ticks": "",
            "gridcolor": "white",
            "linecolor": "white"
           },
           "caxis": {
            "ticks": "",
            "gridcolor": "white",
            "linecolor": "white"
           },
           "aaxis": {
            "ticks": "",
            "gridcolor": "white",
            "linecolor": "white"
           }
          },
          "autotypenumbers": "strict",
          "colorscale": {
           "diverging": [
            [
             0,
             "#8e0152"
            ],
            [
             0.1,
             "#c51b7d"
            ],
            [
             0.2,
             "#de77ae"
            ],
            [
             0.3,
             "#f1b6da"
            ],
            [
             0.4,
             "#fde0ef"
            ],
            [
             0.5,
             "#f7f7f7"
            ],
            [
             0.6,
             "#e6f5d0"
            ],
            [
             0.7,
             "#b8e186"
            ],
            [
             0.8,
             "#7fbc41"
            ],
            [
             0.9,
             "#4d9221"
            ],
            [
             1,
             "#276419"
            ]
           ],
           "sequential": [
            [
             0,
             "#0d0887"
            ],
            [
             0.1111111111111111,
             "#46039f"
            ],
            [
             0.2222222222222222,
             "#7201a8"
            ],
            [
             0.3333333333333333,
             "#9c179e"
            ],
            [
             0.4444444444444444,
             "#bd3786"
            ],
            [
             0.5555555555555556,
             "#d8576b"
            ],
            [
             0.6666666666666666,
             "#ed7953"
            ],
            [
             0.7777777777777778,
             "#fb9f3a"
            ],
            [
             0.8888888888888888,
             "#fdca26"
            ],
            [
             1,
             "#f0f921"
            ]
           ],
           "sequentialminus": [
            [
             0,
             "#0d0887"
            ],
            [
             0.1111111111111111,
             "#46039f"
            ],
            [
             0.2222222222222222,
             "#7201a8"
            ],
            [
             0.3333333333333333,
             "#9c179e"
            ],
            [
             0.4444444444444444,
             "#bd3786"
            ],
            [
             0.5555555555555556,
             "#d8576b"
            ],
            [
             0.6666666666666666,
             "#ed7953"
            ],
            [
             0.7777777777777778,
             "#fb9f3a"
            ],
            [
             0.8888888888888888,
             "#fdca26"
            ],
            [
             1,
             "#f0f921"
            ]
           ]
          },
          "paper_bgcolor": "white",
          "plot_bgcolor": "#E5ECF6",
          "title": {
           "x": 0.05
          },
          "scene": {
           "zaxis": {
            "linecolor": "white",
            "ticks": "",
            "gridwidth": 2,
            "showbackground": true,
            "zerolinecolor": "white",
            "gridcolor": "white",
            "backgroundcolor": "#E5ECF6"
           },
           "xaxis": {
            "linecolor": "white",
            "ticks": "",
            "gridwidth": 2,
            "showbackground": true,
            "zerolinecolor": "white",
            "gridcolor": "white",
            "backgroundcolor": "#E5ECF6"
           },
           "yaxis": {
            "linecolor": "white",
            "ticks": "",
            "gridwidth": 2,
            "showbackground": true,
            "zerolinecolor": "white",
            "gridcolor": "white",
            "backgroundcolor": "#E5ECF6"
           }
          },
          "yaxis": {
           "automargin": true,
           "title": {
            "standoff": 15
           },
           "zerolinewidth": 2,
           "ticks": "",
           "zerolinecolor": "white",
           "gridcolor": "white",
           "linecolor": "white"
          },
          "coloraxis": {
           "colorbar": {
            "outlinewidth": 0,
            "ticks": ""
           }
          },
          "hoverlabel": {
           "align": "left"
          },
          "xaxis": {
           "automargin": true,
           "title": {
            "standoff": 15
           },
           "zerolinewidth": 2,
           "ticks": "",
           "zerolinecolor": "white",
           "gridcolor": "white",
           "linecolor": "white"
          },
          "mapbox": {
           "style": "light"
          },
          "hovermode": "closest",
          "font": {
           "color": "#2a3f5f"
          },
          "geo": {
           "showland": true,
           "bgcolor": "white",
           "showlakes": true,
           "landcolor": "#E5ECF6",
           "subunitcolor": "white",
           "lakecolor": "white"
          },
          "annotationdefaults": {
           "arrowwidth": 1,
           "arrowhead": 0,
           "arrowcolor": "#2a3f5f"
          }
         }
        },
        "title": {
         "text": "Performance for different ransac_distance_thresh values"
        },
        "yaxis": {
         "domain": [
          0,
          1
         ],
         "anchor": "x"
        },
        "xaxis2": {
         "domain": [
          0.55,
          1
         ],
         "anchor": "y2",
         "title": {
          "text": "Time [s]"
         }
        },
        "yaxis2": {
         "domain": [
          0,
          1
         ],
         "anchor": "x2"
        },
        "xaxis": {
         "domain": [
          0,
          0.45
         ],
         "anchor": "y",
         "title": {
          "text": "Sample count"
         }
        },
        "annotations": [
         {
          "yanchor": "bottom",
          "xref": "paper",
          "xanchor": "center",
          "yref": "paper",
          "text": "TruePositives vs FalsePositives\n(Should be high tp and low fp))",
          "y": 1,
          "x": 0.225,
          "font": {
           "size": 16
          },
          "showarrow": false
         },
         {
          "yanchor": "bottom",
          "xref": "paper",
          "xanchor": "center",
          "yref": "paper",
          "text": "Runtime (lower is better)",
          "y": 1,
          "x": 0.775,
          "font": {
           "size": 16
          },
          "showarrow": false
         },
         {
          "yanchor": "middle",
          "xref": "paper",
          "xanchor": "right",
          "yref": "paper",
          "text": "Parameter value",
          "xshift": -40,
          "textangle": -90,
          "y": 0.5,
          "x": 0,
          "font": {
           "size": 16
          },
          "showarrow": false
         }
        ]
       }
      }
     },
     "metadata": {}
    },
    {
     "output_type": "stream",
     "name": "stdout",
     "text": [
      "With parameter ransac_weight = 0.0625 the score was 70.92% with a runtime of 13.06s\n",
      "Out of ... expected samples, 77 were detected.\n",
      "With parameter ransac_weight = 0.125 the score was 81.05% with a runtime of 13.21s\n",
      "Out of ... expected samples, 69 were detected.\n",
      "With parameter ransac_weight = 0.1875 the score was 74.55% with a runtime of 13.36s\n",
      "Out of ... expected samples, 88 were detected.\n",
      "With parameter ransac_weight = 0.25 the score was 70.27% with a runtime of 12.37s\n",
      "Out of ... expected samples, 86 were detected.\n"
     ]
    },
    {
     "output_type": "display_data",
     "data": {
      "application/vnd.plotly.v1+json": {
       "config": {
        "plotlyServerURL": "https://plot.ly"
       },
       "data": [
        {
         "textposition": "inside",
         "orientation": "h",
         "texttemplate": "%{y:.3f}",
         "insidetextanchor": "middle",
         "offsetgroup": "0",
         "y": [
          0.0625,
          0.125,
          0.1875,
          0.25
         ],
         "x": [
          59,
          59,
          68,
          61
         ],
         "type": "bar",
         "name": "True positives"
        },
        {
         "textposition": "inside",
         "orientation": "h",
         "texttemplate": "%{y:.3f}",
         "insidetextanchor": "middle",
         "offsetgroup": "0",
         "y": [
          0.0625,
          0.125,
          0.1875,
          0.25
         ],
         "x": [
          18,
          10,
          20,
          25
         ],
         "type": "bar",
         "name": "False positives"
        },
        {
         "textposition": "inside",
         "name": "Runtime",
         "yaxis": "y2",
         "texttemplate": "%{y:.3f}",
         "insidetextanchor": "middle",
         "marker": {
          "color": "orange"
         },
         "xaxis": "x2",
         "y": [
          0.0625,
          0.125,
          0.1875,
          0.25
         ],
         "x": [
          13.06076192855835,
          13.213793992996216,
          13.361738920211792,
          12.369895935058594
         ],
         "type": "bar",
         "orientation": "h"
        }
       ],
       "layout": {
        "template": {
         "data": {
          "mesh3d": [
           {
            "colorbar": {
             "outlinewidth": 0,
             "ticks": ""
            },
            "type": "mesh3d"
           }
          ],
          "scattercarpet": [
           {
            "marker": {
             "colorbar": {
              "outlinewidth": 0,
              "ticks": ""
             }
            },
            "type": "scattercarpet"
           }
          ],
          "pie": [
           {
            "automargin": true,
            "type": "pie"
           }
          ],
          "surface": [
           {
            "colorbar": {
             "outlinewidth": 0,
             "ticks": ""
            },
            "type": "surface",
            "colorscale": [
             [
              0,
              "#0d0887"
             ],
             [
              0.1111111111111111,
              "#46039f"
             ],
             [
              0.2222222222222222,
              "#7201a8"
             ],
             [
              0.3333333333333333,
              "#9c179e"
             ],
             [
              0.4444444444444444,
              "#bd3786"
             ],
             [
              0.5555555555555556,
              "#d8576b"
             ],
             [
              0.6666666666666666,
              "#ed7953"
             ],
             [
              0.7777777777777778,
              "#fb9f3a"
             ],
             [
              0.8888888888888888,
              "#fdca26"
             ],
             [
              1,
              "#f0f921"
             ]
            ]
           }
          ],
          "table": [
           {
            "header": {
             "line": {
              "color": "white"
             },
             "fill": {
              "color": "#C8D4E3"
             }
            },
            "cells": {
             "line": {
              "color": "white"
             },
             "fill": {
              "color": "#EBF0F8"
             }
            },
            "type": "table"
           }
          ],
          "scatterpolargl": [
           {
            "marker": {
             "colorbar": {
              "outlinewidth": 0,
              "ticks": ""
             }
            },
            "type": "scatterpolargl"
           }
          ],
          "contour": [
           {
            "colorbar": {
             "outlinewidth": 0,
             "ticks": ""
            },
            "type": "contour",
            "colorscale": [
             [
              0,
              "#0d0887"
             ],
             [
              0.1111111111111111,
              "#46039f"
             ],
             [
              0.2222222222222222,
              "#7201a8"
             ],
             [
              0.3333333333333333,
              "#9c179e"
             ],
             [
              0.4444444444444444,
              "#bd3786"
             ],
             [
              0.5555555555555556,
              "#d8576b"
             ],
             [
              0.6666666666666666,
              "#ed7953"
             ],
             [
              0.7777777777777778,
              "#fb9f3a"
             ],
             [
              0.8888888888888888,
              "#fdca26"
             ],
             [
              1,
              "#f0f921"
             ]
            ]
           }
          ],
          "carpet": [
           {
            "baxis": {
             "endlinecolor": "#2a3f5f",
             "gridcolor": "white",
             "linecolor": "white",
             "minorgridcolor": "white",
             "startlinecolor": "#2a3f5f"
            },
            "type": "carpet",
            "aaxis": {
             "endlinecolor": "#2a3f5f",
             "gridcolor": "white",
             "linecolor": "white",
             "minorgridcolor": "white",
             "startlinecolor": "#2a3f5f"
            }
           }
          ],
          "contourcarpet": [
           {
            "colorbar": {
             "outlinewidth": 0,
             "ticks": ""
            },
            "type": "contourcarpet"
           }
          ],
          "heatmap": [
           {
            "colorbar": {
             "outlinewidth": 0,
             "ticks": ""
            },
            "type": "heatmap",
            "colorscale": [
             [
              0,
              "#0d0887"
             ],
             [
              0.1111111111111111,
              "#46039f"
             ],
             [
              0.2222222222222222,
              "#7201a8"
             ],
             [
              0.3333333333333333,
              "#9c179e"
             ],
             [
              0.4444444444444444,
              "#bd3786"
             ],
             [
              0.5555555555555556,
              "#d8576b"
             ],
             [
              0.6666666666666666,
              "#ed7953"
             ],
             [
              0.7777777777777778,
              "#fb9f3a"
             ],
             [
              0.8888888888888888,
              "#fdca26"
             ],
             [
              1,
              "#f0f921"
             ]
            ]
           }
          ],
          "scattermapbox": [
           {
            "marker": {
             "colorbar": {
              "outlinewidth": 0,
              "ticks": ""
             }
            },
            "type": "scattermapbox"
           }
          ],
          "scatter3d": [
           {
            "marker": {
             "colorbar": {
              "outlinewidth": 0,
              "ticks": ""
             }
            },
            "line": {
             "colorbar": {
              "outlinewidth": 0,
              "ticks": ""
             }
            },
            "type": "scatter3d"
           }
          ],
          "scattergl": [
           {
            "marker": {
             "colorbar": {
              "outlinewidth": 0,
              "ticks": ""
             }
            },
            "type": "scattergl"
           }
          ],
          "scatterternary": [
           {
            "marker": {
             "colorbar": {
              "outlinewidth": 0,
              "ticks": ""
             }
            },
            "type": "scatterternary"
           }
          ],
          "histogram2d": [
           {
            "colorbar": {
             "outlinewidth": 0,
             "ticks": ""
            },
            "type": "histogram2d",
            "colorscale": [
             [
              0,
              "#0d0887"
             ],
             [
              0.1111111111111111,
              "#46039f"
             ],
             [
              0.2222222222222222,
              "#7201a8"
             ],
             [
              0.3333333333333333,
              "#9c179e"
             ],
             [
              0.4444444444444444,
              "#bd3786"
             ],
             [
              0.5555555555555556,
              "#d8576b"
             ],
             [
              0.6666666666666666,
              "#ed7953"
             ],
             [
              0.7777777777777778,
              "#fb9f3a"
             ],
             [
              0.8888888888888888,
              "#fdca26"
             ],
             [
              1,
              "#f0f921"
             ]
            ]
           }
          ],
          "heatmapgl": [
           {
            "colorbar": {
             "outlinewidth": 0,
             "ticks": ""
            },
            "type": "heatmapgl",
            "colorscale": [
             [
              0,
              "#0d0887"
             ],
             [
              0.1111111111111111,
              "#46039f"
             ],
             [
              0.2222222222222222,
              "#7201a8"
             ],
             [
              0.3333333333333333,
              "#9c179e"
             ],
             [
              0.4444444444444444,
              "#bd3786"
             ],
             [
              0.5555555555555556,
              "#d8576b"
             ],
             [
              0.6666666666666666,
              "#ed7953"
             ],
             [
              0.7777777777777778,
              "#fb9f3a"
             ],
             [
              0.8888888888888888,
              "#fdca26"
             ],
             [
              1,
              "#f0f921"
             ]
            ]
           }
          ],
          "scatterpolar": [
           {
            "marker": {
             "colorbar": {
              "outlinewidth": 0,
              "ticks": ""
             }
            },
            "type": "scatterpolar"
           }
          ],
          "histogram": [
           {
            "marker": {
             "colorbar": {
              "outlinewidth": 0,
              "ticks": ""
             }
            },
            "type": "histogram"
           }
          ],
          "scattergeo": [
           {
            "marker": {
             "colorbar": {
              "outlinewidth": 0,
              "ticks": ""
             }
            },
            "type": "scattergeo"
           }
          ],
          "bar": [
           {
            "marker": {
             "line": {
              "color": "#E5ECF6",
              "width": 0.5
             }
            },
            "error_x": {
             "color": "#2a3f5f"
            },
            "type": "bar",
            "error_y": {
             "color": "#2a3f5f"
            }
           }
          ],
          "choropleth": [
           {
            "colorbar": {
             "outlinewidth": 0,
             "ticks": ""
            },
            "type": "choropleth"
           }
          ],
          "parcoords": [
           {
            "line": {
             "colorbar": {
              "outlinewidth": 0,
              "ticks": ""
             }
            },
            "type": "parcoords"
           }
          ],
          "barpolar": [
           {
            "marker": {
             "line": {
              "color": "#E5ECF6",
              "width": 0.5
             }
            },
            "type": "barpolar"
           }
          ],
          "histogram2dcontour": [
           {
            "colorbar": {
             "outlinewidth": 0,
             "ticks": ""
            },
            "type": "histogram2dcontour",
            "colorscale": [
             [
              0,
              "#0d0887"
             ],
             [
              0.1111111111111111,
              "#46039f"
             ],
             [
              0.2222222222222222,
              "#7201a8"
             ],
             [
              0.3333333333333333,
              "#9c179e"
             ],
             [
              0.4444444444444444,
              "#bd3786"
             ],
             [
              0.5555555555555556,
              "#d8576b"
             ],
             [
              0.6666666666666666,
              "#ed7953"
             ],
             [
              0.7777777777777778,
              "#fb9f3a"
             ],
             [
              0.8888888888888888,
              "#fdca26"
             ],
             [
              1,
              "#f0f921"
             ]
            ]
           }
          ],
          "scatter": [
           {
            "marker": {
             "colorbar": {
              "outlinewidth": 0,
              "ticks": ""
             }
            },
            "type": "scatter"
           }
          ]
         },
         "layout": {
          "shapedefaults": {
           "line": {
            "color": "#2a3f5f"
           }
          },
          "polar": {
           "radialaxis": {
            "ticks": "",
            "gridcolor": "white",
            "linecolor": "white"
           },
           "bgcolor": "#E5ECF6",
           "angularaxis": {
            "ticks": "",
            "gridcolor": "white",
            "linecolor": "white"
           }
          },
          "colorway": [
           "#636efa",
           "#EF553B",
           "#00cc96",
           "#ab63fa",
           "#FFA15A",
           "#19d3f3",
           "#FF6692",
           "#B6E880",
           "#FF97FF",
           "#FECB52"
          ],
          "ternary": {
           "bgcolor": "#E5ECF6",
           "baxis": {
            "ticks": "",
            "gridcolor": "white",
            "linecolor": "white"
           },
           "caxis": {
            "ticks": "",
            "gridcolor": "white",
            "linecolor": "white"
           },
           "aaxis": {
            "ticks": "",
            "gridcolor": "white",
            "linecolor": "white"
           }
          },
          "autotypenumbers": "strict",
          "colorscale": {
           "diverging": [
            [
             0,
             "#8e0152"
            ],
            [
             0.1,
             "#c51b7d"
            ],
            [
             0.2,
             "#de77ae"
            ],
            [
             0.3,
             "#f1b6da"
            ],
            [
             0.4,
             "#fde0ef"
            ],
            [
             0.5,
             "#f7f7f7"
            ],
            [
             0.6,
             "#e6f5d0"
            ],
            [
             0.7,
             "#b8e186"
            ],
            [
             0.8,
             "#7fbc41"
            ],
            [
             0.9,
             "#4d9221"
            ],
            [
             1,
             "#276419"
            ]
           ],
           "sequential": [
            [
             0,
             "#0d0887"
            ],
            [
             0.1111111111111111,
             "#46039f"
            ],
            [
             0.2222222222222222,
             "#7201a8"
            ],
            [
             0.3333333333333333,
             "#9c179e"
            ],
            [
             0.4444444444444444,
             "#bd3786"
            ],
            [
             0.5555555555555556,
             "#d8576b"
            ],
            [
             0.6666666666666666,
             "#ed7953"
            ],
            [
             0.7777777777777778,
             "#fb9f3a"
            ],
            [
             0.8888888888888888,
             "#fdca26"
            ],
            [
             1,
             "#f0f921"
            ]
           ],
           "sequentialminus": [
            [
             0,
             "#0d0887"
            ],
            [
             0.1111111111111111,
             "#46039f"
            ],
            [
             0.2222222222222222,
             "#7201a8"
            ],
            [
             0.3333333333333333,
             "#9c179e"
            ],
            [
             0.4444444444444444,
             "#bd3786"
            ],
            [
             0.5555555555555556,
             "#d8576b"
            ],
            [
             0.6666666666666666,
             "#ed7953"
            ],
            [
             0.7777777777777778,
             "#fb9f3a"
            ],
            [
             0.8888888888888888,
             "#fdca26"
            ],
            [
             1,
             "#f0f921"
            ]
           ]
          },
          "paper_bgcolor": "white",
          "plot_bgcolor": "#E5ECF6",
          "title": {
           "x": 0.05
          },
          "scene": {
           "zaxis": {
            "linecolor": "white",
            "ticks": "",
            "gridwidth": 2,
            "showbackground": true,
            "zerolinecolor": "white",
            "gridcolor": "white",
            "backgroundcolor": "#E5ECF6"
           },
           "xaxis": {
            "linecolor": "white",
            "ticks": "",
            "gridwidth": 2,
            "showbackground": true,
            "zerolinecolor": "white",
            "gridcolor": "white",
            "backgroundcolor": "#E5ECF6"
           },
           "yaxis": {
            "linecolor": "white",
            "ticks": "",
            "gridwidth": 2,
            "showbackground": true,
            "zerolinecolor": "white",
            "gridcolor": "white",
            "backgroundcolor": "#E5ECF6"
           }
          },
          "yaxis": {
           "automargin": true,
           "title": {
            "standoff": 15
           },
           "zerolinewidth": 2,
           "ticks": "",
           "zerolinecolor": "white",
           "gridcolor": "white",
           "linecolor": "white"
          },
          "coloraxis": {
           "colorbar": {
            "outlinewidth": 0,
            "ticks": ""
           }
          },
          "hoverlabel": {
           "align": "left"
          },
          "xaxis": {
           "automargin": true,
           "title": {
            "standoff": 15
           },
           "zerolinewidth": 2,
           "ticks": "",
           "zerolinecolor": "white",
           "gridcolor": "white",
           "linecolor": "white"
          },
          "mapbox": {
           "style": "light"
          },
          "hovermode": "closest",
          "font": {
           "color": "#2a3f5f"
          },
          "geo": {
           "showland": true,
           "bgcolor": "white",
           "showlakes": true,
           "landcolor": "#E5ECF6",
           "subunitcolor": "white",
           "lakecolor": "white"
          },
          "annotationdefaults": {
           "arrowwidth": 1,
           "arrowhead": 0,
           "arrowcolor": "#2a3f5f"
          }
         }
        },
        "title": {
         "text": "Performance for different ransac_weight values"
        },
        "yaxis": {
         "domain": [
          0,
          1
         ],
         "anchor": "x"
        },
        "xaxis2": {
         "domain": [
          0.55,
          1
         ],
         "anchor": "y2",
         "title": {
          "text": "Time [s]"
         }
        },
        "yaxis2": {
         "domain": [
          0,
          1
         ],
         "anchor": "x2"
        },
        "xaxis": {
         "domain": [
          0,
          0.45
         ],
         "anchor": "y",
         "title": {
          "text": "Sample count"
         }
        },
        "annotations": [
         {
          "yanchor": "bottom",
          "xref": "paper",
          "xanchor": "center",
          "yref": "paper",
          "text": "TruePositives vs FalsePositives\n(Should be high tp and low fp))",
          "y": 1,
          "x": 0.225,
          "font": {
           "size": 16
          },
          "showarrow": false
         },
         {
          "yanchor": "bottom",
          "xref": "paper",
          "xanchor": "center",
          "yref": "paper",
          "text": "Runtime (lower is better)",
          "y": 1,
          "x": 0.775,
          "font": {
           "size": 16
          },
          "showarrow": false
         },
         {
          "yanchor": "middle",
          "xref": "paper",
          "xanchor": "right",
          "yref": "paper",
          "text": "Parameter value",
          "xshift": -40,
          "textangle": -90,
          "y": 0.5,
          "x": 0,
          "font": {
           "size": 16
          },
          "showarrow": false
         }
        ]
       }
      }
     },
     "metadata": {}
    },
    {
     "output_type": "stream",
     "name": "stdout",
     "text": [
      "With parameter ransac_make_seg = 25.0 the score was 71.29% with a runtime of 11.62s\n",
      "Out of ... expected samples, 71 were detected.\n",
      "With parameter ransac_make_seg = 50.0 the score was 81.05% with a runtime of 12.24s\n",
      "Out of ... expected samples, 69 were detected.\n",
      "With parameter ransac_make_seg = 75.0 the score was 52.08% with a runtime of 15.86s\n",
      "Out of ... expected samples, 58 were detected.\n",
      "With parameter ransac_make_seg = 100.0 the score was 32.09% with a runtime of 19.03s\n",
      "Out of ... expected samples, 55 were detected.\n"
     ]
    },
    {
     "output_type": "display_data",
     "data": {
      "application/vnd.plotly.v1+json": {
       "config": {
        "plotlyServerURL": "https://plot.ly"
       },
       "data": [
        {
         "textposition": "inside",
         "orientation": "h",
         "texttemplate": "%{y:.3f}",
         "insidetextanchor": "middle",
         "offsetgroup": "0",
         "y": [
          25,
          50,
          75,
          100
         ],
         "x": [
          54,
          59,
          34,
          20
         ],
         "type": "bar",
         "name": "True positives"
        },
        {
         "textposition": "inside",
         "orientation": "h",
         "texttemplate": "%{y:.3f}",
         "insidetextanchor": "middle",
         "offsetgroup": "0",
         "y": [
          25,
          50,
          75,
          100
         ],
         "x": [
          17,
          10,
          24,
          35
         ],
         "type": "bar",
         "name": "False positives"
        },
        {
         "textposition": "inside",
         "name": "Runtime",
         "yaxis": "y2",
         "texttemplate": "%{y:.3f}",
         "insidetextanchor": "middle",
         "marker": {
          "color": "orange"
         },
         "xaxis": "x2",
         "y": [
          25,
          50,
          75,
          100
         ],
         "x": [
          11.6203031539917,
          12.239404201507568,
          15.856096982955933,
          19.03181505203247
         ],
         "type": "bar",
         "orientation": "h"
        }
       ],
       "layout": {
        "template": {
         "data": {
          "mesh3d": [
           {
            "colorbar": {
             "outlinewidth": 0,
             "ticks": ""
            },
            "type": "mesh3d"
           }
          ],
          "scattercarpet": [
           {
            "marker": {
             "colorbar": {
              "outlinewidth": 0,
              "ticks": ""
             }
            },
            "type": "scattercarpet"
           }
          ],
          "pie": [
           {
            "automargin": true,
            "type": "pie"
           }
          ],
          "surface": [
           {
            "colorbar": {
             "outlinewidth": 0,
             "ticks": ""
            },
            "type": "surface",
            "colorscale": [
             [
              0,
              "#0d0887"
             ],
             [
              0.1111111111111111,
              "#46039f"
             ],
             [
              0.2222222222222222,
              "#7201a8"
             ],
             [
              0.3333333333333333,
              "#9c179e"
             ],
             [
              0.4444444444444444,
              "#bd3786"
             ],
             [
              0.5555555555555556,
              "#d8576b"
             ],
             [
              0.6666666666666666,
              "#ed7953"
             ],
             [
              0.7777777777777778,
              "#fb9f3a"
             ],
             [
              0.8888888888888888,
              "#fdca26"
             ],
             [
              1,
              "#f0f921"
             ]
            ]
           }
          ],
          "table": [
           {
            "header": {
             "line": {
              "color": "white"
             },
             "fill": {
              "color": "#C8D4E3"
             }
            },
            "cells": {
             "line": {
              "color": "white"
             },
             "fill": {
              "color": "#EBF0F8"
             }
            },
            "type": "table"
           }
          ],
          "scatterpolargl": [
           {
            "marker": {
             "colorbar": {
              "outlinewidth": 0,
              "ticks": ""
             }
            },
            "type": "scatterpolargl"
           }
          ],
          "contour": [
           {
            "colorbar": {
             "outlinewidth": 0,
             "ticks": ""
            },
            "type": "contour",
            "colorscale": [
             [
              0,
              "#0d0887"
             ],
             [
              0.1111111111111111,
              "#46039f"
             ],
             [
              0.2222222222222222,
              "#7201a8"
             ],
             [
              0.3333333333333333,
              "#9c179e"
             ],
             [
              0.4444444444444444,
              "#bd3786"
             ],
             [
              0.5555555555555556,
              "#d8576b"
             ],
             [
              0.6666666666666666,
              "#ed7953"
             ],
             [
              0.7777777777777778,
              "#fb9f3a"
             ],
             [
              0.8888888888888888,
              "#fdca26"
             ],
             [
              1,
              "#f0f921"
             ]
            ]
           }
          ],
          "carpet": [
           {
            "baxis": {
             "endlinecolor": "#2a3f5f",
             "gridcolor": "white",
             "linecolor": "white",
             "minorgridcolor": "white",
             "startlinecolor": "#2a3f5f"
            },
            "type": "carpet",
            "aaxis": {
             "endlinecolor": "#2a3f5f",
             "gridcolor": "white",
             "linecolor": "white",
             "minorgridcolor": "white",
             "startlinecolor": "#2a3f5f"
            }
           }
          ],
          "contourcarpet": [
           {
            "colorbar": {
             "outlinewidth": 0,
             "ticks": ""
            },
            "type": "contourcarpet"
           }
          ],
          "heatmap": [
           {
            "colorbar": {
             "outlinewidth": 0,
             "ticks": ""
            },
            "type": "heatmap",
            "colorscale": [
             [
              0,
              "#0d0887"
             ],
             [
              0.1111111111111111,
              "#46039f"
             ],
             [
              0.2222222222222222,
              "#7201a8"
             ],
             [
              0.3333333333333333,
              "#9c179e"
             ],
             [
              0.4444444444444444,
              "#bd3786"
             ],
             [
              0.5555555555555556,
              "#d8576b"
             ],
             [
              0.6666666666666666,
              "#ed7953"
             ],
             [
              0.7777777777777778,
              "#fb9f3a"
             ],
             [
              0.8888888888888888,
              "#fdca26"
             ],
             [
              1,
              "#f0f921"
             ]
            ]
           }
          ],
          "scattermapbox": [
           {
            "marker": {
             "colorbar": {
              "outlinewidth": 0,
              "ticks": ""
             }
            },
            "type": "scattermapbox"
           }
          ],
          "scatter3d": [
           {
            "marker": {
             "colorbar": {
              "outlinewidth": 0,
              "ticks": ""
             }
            },
            "line": {
             "colorbar": {
              "outlinewidth": 0,
              "ticks": ""
             }
            },
            "type": "scatter3d"
           }
          ],
          "scattergl": [
           {
            "marker": {
             "colorbar": {
              "outlinewidth": 0,
              "ticks": ""
             }
            },
            "type": "scattergl"
           }
          ],
          "scatterternary": [
           {
            "marker": {
             "colorbar": {
              "outlinewidth": 0,
              "ticks": ""
             }
            },
            "type": "scatterternary"
           }
          ],
          "histogram2d": [
           {
            "colorbar": {
             "outlinewidth": 0,
             "ticks": ""
            },
            "type": "histogram2d",
            "colorscale": [
             [
              0,
              "#0d0887"
             ],
             [
              0.1111111111111111,
              "#46039f"
             ],
             [
              0.2222222222222222,
              "#7201a8"
             ],
             [
              0.3333333333333333,
              "#9c179e"
             ],
             [
              0.4444444444444444,
              "#bd3786"
             ],
             [
              0.5555555555555556,
              "#d8576b"
             ],
             [
              0.6666666666666666,
              "#ed7953"
             ],
             [
              0.7777777777777778,
              "#fb9f3a"
             ],
             [
              0.8888888888888888,
              "#fdca26"
             ],
             [
              1,
              "#f0f921"
             ]
            ]
           }
          ],
          "heatmapgl": [
           {
            "colorbar": {
             "outlinewidth": 0,
             "ticks": ""
            },
            "type": "heatmapgl",
            "colorscale": [
             [
              0,
              "#0d0887"
             ],
             [
              0.1111111111111111,
              "#46039f"
             ],
             [
              0.2222222222222222,
              "#7201a8"
             ],
             [
              0.3333333333333333,
              "#9c179e"
             ],
             [
              0.4444444444444444,
              "#bd3786"
             ],
             [
              0.5555555555555556,
              "#d8576b"
             ],
             [
              0.6666666666666666,
              "#ed7953"
             ],
             [
              0.7777777777777778,
              "#fb9f3a"
             ],
             [
              0.8888888888888888,
              "#fdca26"
             ],
             [
              1,
              "#f0f921"
             ]
            ]
           }
          ],
          "scatterpolar": [
           {
            "marker": {
             "colorbar": {
              "outlinewidth": 0,
              "ticks": ""
             }
            },
            "type": "scatterpolar"
           }
          ],
          "histogram": [
           {
            "marker": {
             "colorbar": {
              "outlinewidth": 0,
              "ticks": ""
             }
            },
            "type": "histogram"
           }
          ],
          "scattergeo": [
           {
            "marker": {
             "colorbar": {
              "outlinewidth": 0,
              "ticks": ""
             }
            },
            "type": "scattergeo"
           }
          ],
          "bar": [
           {
            "marker": {
             "line": {
              "color": "#E5ECF6",
              "width": 0.5
             }
            },
            "error_x": {
             "color": "#2a3f5f"
            },
            "type": "bar",
            "error_y": {
             "color": "#2a3f5f"
            }
           }
          ],
          "choropleth": [
           {
            "colorbar": {
             "outlinewidth": 0,
             "ticks": ""
            },
            "type": "choropleth"
           }
          ],
          "parcoords": [
           {
            "line": {
             "colorbar": {
              "outlinewidth": 0,
              "ticks": ""
             }
            },
            "type": "parcoords"
           }
          ],
          "barpolar": [
           {
            "marker": {
             "line": {
              "color": "#E5ECF6",
              "width": 0.5
             }
            },
            "type": "barpolar"
           }
          ],
          "histogram2dcontour": [
           {
            "colorbar": {
             "outlinewidth": 0,
             "ticks": ""
            },
            "type": "histogram2dcontour",
            "colorscale": [
             [
              0,
              "#0d0887"
             ],
             [
              0.1111111111111111,
              "#46039f"
             ],
             [
              0.2222222222222222,
              "#7201a8"
             ],
             [
              0.3333333333333333,
              "#9c179e"
             ],
             [
              0.4444444444444444,
              "#bd3786"
             ],
             [
              0.5555555555555556,
              "#d8576b"
             ],
             [
              0.6666666666666666,
              "#ed7953"
             ],
             [
              0.7777777777777778,
              "#fb9f3a"
             ],
             [
              0.8888888888888888,
              "#fdca26"
             ],
             [
              1,
              "#f0f921"
             ]
            ]
           }
          ],
          "scatter": [
           {
            "marker": {
             "colorbar": {
              "outlinewidth": 0,
              "ticks": ""
             }
            },
            "type": "scatter"
           }
          ]
         },
         "layout": {
          "shapedefaults": {
           "line": {
            "color": "#2a3f5f"
           }
          },
          "polar": {
           "radialaxis": {
            "ticks": "",
            "gridcolor": "white",
            "linecolor": "white"
           },
           "bgcolor": "#E5ECF6",
           "angularaxis": {
            "ticks": "",
            "gridcolor": "white",
            "linecolor": "white"
           }
          },
          "colorway": [
           "#636efa",
           "#EF553B",
           "#00cc96",
           "#ab63fa",
           "#FFA15A",
           "#19d3f3",
           "#FF6692",
           "#B6E880",
           "#FF97FF",
           "#FECB52"
          ],
          "ternary": {
           "bgcolor": "#E5ECF6",
           "baxis": {
            "ticks": "",
            "gridcolor": "white",
            "linecolor": "white"
           },
           "caxis": {
            "ticks": "",
            "gridcolor": "white",
            "linecolor": "white"
           },
           "aaxis": {
            "ticks": "",
            "gridcolor": "white",
            "linecolor": "white"
           }
          },
          "autotypenumbers": "strict",
          "colorscale": {
           "diverging": [
            [
             0,
             "#8e0152"
            ],
            [
             0.1,
             "#c51b7d"
            ],
            [
             0.2,
             "#de77ae"
            ],
            [
             0.3,
             "#f1b6da"
            ],
            [
             0.4,
             "#fde0ef"
            ],
            [
             0.5,
             "#f7f7f7"
            ],
            [
             0.6,
             "#e6f5d0"
            ],
            [
             0.7,
             "#b8e186"
            ],
            [
             0.8,
             "#7fbc41"
            ],
            [
             0.9,
             "#4d9221"
            ],
            [
             1,
             "#276419"
            ]
           ],
           "sequential": [
            [
             0,
             "#0d0887"
            ],
            [
             0.1111111111111111,
             "#46039f"
            ],
            [
             0.2222222222222222,
             "#7201a8"
            ],
            [
             0.3333333333333333,
             "#9c179e"
            ],
            [
             0.4444444444444444,
             "#bd3786"
            ],
            [
             0.5555555555555556,
             "#d8576b"
            ],
            [
             0.6666666666666666,
             "#ed7953"
            ],
            [
             0.7777777777777778,
             "#fb9f3a"
            ],
            [
             0.8888888888888888,
             "#fdca26"
            ],
            [
             1,
             "#f0f921"
            ]
           ],
           "sequentialminus": [
            [
             0,
             "#0d0887"
            ],
            [
             0.1111111111111111,
             "#46039f"
            ],
            [
             0.2222222222222222,
             "#7201a8"
            ],
            [
             0.3333333333333333,
             "#9c179e"
            ],
            [
             0.4444444444444444,
             "#bd3786"
            ],
            [
             0.5555555555555556,
             "#d8576b"
            ],
            [
             0.6666666666666666,
             "#ed7953"
            ],
            [
             0.7777777777777778,
             "#fb9f3a"
            ],
            [
             0.8888888888888888,
             "#fdca26"
            ],
            [
             1,
             "#f0f921"
            ]
           ]
          },
          "paper_bgcolor": "white",
          "plot_bgcolor": "#E5ECF6",
          "title": {
           "x": 0.05
          },
          "scene": {
           "zaxis": {
            "linecolor": "white",
            "ticks": "",
            "gridwidth": 2,
            "showbackground": true,
            "zerolinecolor": "white",
            "gridcolor": "white",
            "backgroundcolor": "#E5ECF6"
           },
           "xaxis": {
            "linecolor": "white",
            "ticks": "",
            "gridwidth": 2,
            "showbackground": true,
            "zerolinecolor": "white",
            "gridcolor": "white",
            "backgroundcolor": "#E5ECF6"
           },
           "yaxis": {
            "linecolor": "white",
            "ticks": "",
            "gridwidth": 2,
            "showbackground": true,
            "zerolinecolor": "white",
            "gridcolor": "white",
            "backgroundcolor": "#E5ECF6"
           }
          },
          "yaxis": {
           "automargin": true,
           "title": {
            "standoff": 15
           },
           "zerolinewidth": 2,
           "ticks": "",
           "zerolinecolor": "white",
           "gridcolor": "white",
           "linecolor": "white"
          },
          "coloraxis": {
           "colorbar": {
            "outlinewidth": 0,
            "ticks": ""
           }
          },
          "hoverlabel": {
           "align": "left"
          },
          "xaxis": {
           "automargin": true,
           "title": {
            "standoff": 15
           },
           "zerolinewidth": 2,
           "ticks": "",
           "zerolinecolor": "white",
           "gridcolor": "white",
           "linecolor": "white"
          },
          "mapbox": {
           "style": "light"
          },
          "hovermode": "closest",
          "font": {
           "color": "#2a3f5f"
          },
          "geo": {
           "showland": true,
           "bgcolor": "white",
           "showlakes": true,
           "landcolor": "#E5ECF6",
           "subunitcolor": "white",
           "lakecolor": "white"
          },
          "annotationdefaults": {
           "arrowwidth": 1,
           "arrowhead": 0,
           "arrowcolor": "#2a3f5f"
          }
         }
        },
        "title": {
         "text": "Performance for different ransac_make_seg values"
        },
        "yaxis": {
         "domain": [
          0,
          1
         ],
         "anchor": "x"
        },
        "xaxis2": {
         "domain": [
          0.55,
          1
         ],
         "anchor": "y2",
         "title": {
          "text": "Time [s]"
         }
        },
        "yaxis2": {
         "domain": [
          0,
          1
         ],
         "anchor": "x2"
        },
        "xaxis": {
         "domain": [
          0,
          0.45
         ],
         "anchor": "y",
         "title": {
          "text": "Sample count"
         }
        },
        "annotations": [
         {
          "yanchor": "bottom",
          "xref": "paper",
          "xanchor": "center",
          "yref": "paper",
          "text": "TruePositives vs FalsePositives\n(Should be high tp and low fp))",
          "y": 1,
          "x": 0.225,
          "font": {
           "size": 16
          },
          "showarrow": false
         },
         {
          "yanchor": "bottom",
          "xref": "paper",
          "xanchor": "center",
          "yref": "paper",
          "text": "Runtime (lower is better)",
          "y": 1,
          "x": 0.775,
          "font": {
           "size": 16
          },
          "showarrow": false
         },
         {
          "yanchor": "middle",
          "xref": "paper",
          "xanchor": "right",
          "yref": "paper",
          "text": "Parameter value",
          "xshift": -40,
          "textangle": -90,
          "y": 0.5,
          "x": 0,
          "font": {
           "size": 16
          },
          "showarrow": false
         }
        ]
       }
      }
     },
     "metadata": {}
    },
    {
     "output_type": "stream",
     "name": "stdout",
     "text": [
      "With parameter voxel_leaf = 0.05 the score was 68.56% with a runtime of 18.26s\n",
      "Out of ... expected samples, 79 were detected.\n",
      "With parameter voxel_leaf = 0.1 the score was 81.05% with a runtime of 13.05s\n",
      "Out of ... expected samples, 69 were detected.\n",
      "With parameter voxel_leaf = 0.15 the score was 66.41% with a runtime of 12.37s\n",
      "Out of ... expected samples, 73 were detected.\n",
      "With parameter voxel_leaf = 0.2 the score was 64.08% with a runtime of 09.41s\n",
      "Out of ... expected samples, 57 were detected.\n"
     ]
    },
    {
     "output_type": "display_data",
     "data": {
      "application/vnd.plotly.v1+json": {
       "config": {
        "plotlyServerURL": "https://plot.ly"
       },
       "data": [
        {
         "textposition": "inside",
         "orientation": "h",
         "texttemplate": "%{y:.3f}",
         "insidetextanchor": "middle",
         "offsetgroup": "0",
         "y": [
          0.05,
          0.1,
          0.15000000000000002,
          0.2
         ],
         "x": [
          55,
          59,
          54,
          41
         ],
         "type": "bar",
         "name": "True positives"
        },
        {
         "textposition": "inside",
         "orientation": "h",
         "texttemplate": "%{y:.3f}",
         "insidetextanchor": "middle",
         "offsetgroup": "0",
         "y": [
          0.05,
          0.1,
          0.15000000000000002,
          0.2
         ],
         "x": [
          24,
          10,
          19,
          16
         ],
         "type": "bar",
         "name": "False positives"
        },
        {
         "textposition": "inside",
         "name": "Runtime",
         "yaxis": "y2",
         "texttemplate": "%{y:.3f}",
         "insidetextanchor": "middle",
         "marker": {
          "color": "orange"
         },
         "xaxis": "x2",
         "y": [
          0.05,
          0.1,
          0.15000000000000002,
          0.2
         ],
         "x": [
          18.263510942459106,
          13.049858093261719,
          12.36837100982666,
          9.407867193222046
         ],
         "type": "bar",
         "orientation": "h"
        }
       ],
       "layout": {
        "template": {
         "data": {
          "mesh3d": [
           {
            "colorbar": {
             "outlinewidth": 0,
             "ticks": ""
            },
            "type": "mesh3d"
           }
          ],
          "scattercarpet": [
           {
            "marker": {
             "colorbar": {
              "outlinewidth": 0,
              "ticks": ""
             }
            },
            "type": "scattercarpet"
           }
          ],
          "pie": [
           {
            "automargin": true,
            "type": "pie"
           }
          ],
          "surface": [
           {
            "colorbar": {
             "outlinewidth": 0,
             "ticks": ""
            },
            "type": "surface",
            "colorscale": [
             [
              0,
              "#0d0887"
             ],
             [
              0.1111111111111111,
              "#46039f"
             ],
             [
              0.2222222222222222,
              "#7201a8"
             ],
             [
              0.3333333333333333,
              "#9c179e"
             ],
             [
              0.4444444444444444,
              "#bd3786"
             ],
             [
              0.5555555555555556,
              "#d8576b"
             ],
             [
              0.6666666666666666,
              "#ed7953"
             ],
             [
              0.7777777777777778,
              "#fb9f3a"
             ],
             [
              0.8888888888888888,
              "#fdca26"
             ],
             [
              1,
              "#f0f921"
             ]
            ]
           }
          ],
          "table": [
           {
            "header": {
             "line": {
              "color": "white"
             },
             "fill": {
              "color": "#C8D4E3"
             }
            },
            "cells": {
             "line": {
              "color": "white"
             },
             "fill": {
              "color": "#EBF0F8"
             }
            },
            "type": "table"
           }
          ],
          "scatterpolargl": [
           {
            "marker": {
             "colorbar": {
              "outlinewidth": 0,
              "ticks": ""
             }
            },
            "type": "scatterpolargl"
           }
          ],
          "contour": [
           {
            "colorbar": {
             "outlinewidth": 0,
             "ticks": ""
            },
            "type": "contour",
            "colorscale": [
             [
              0,
              "#0d0887"
             ],
             [
              0.1111111111111111,
              "#46039f"
             ],
             [
              0.2222222222222222,
              "#7201a8"
             ],
             [
              0.3333333333333333,
              "#9c179e"
             ],
             [
              0.4444444444444444,
              "#bd3786"
             ],
             [
              0.5555555555555556,
              "#d8576b"
             ],
             [
              0.6666666666666666,
              "#ed7953"
             ],
             [
              0.7777777777777778,
              "#fb9f3a"
             ],
             [
              0.8888888888888888,
              "#fdca26"
             ],
             [
              1,
              "#f0f921"
             ]
            ]
           }
          ],
          "carpet": [
           {
            "baxis": {
             "endlinecolor": "#2a3f5f",
             "gridcolor": "white",
             "linecolor": "white",
             "minorgridcolor": "white",
             "startlinecolor": "#2a3f5f"
            },
            "type": "carpet",
            "aaxis": {
             "endlinecolor": "#2a3f5f",
             "gridcolor": "white",
             "linecolor": "white",
             "minorgridcolor": "white",
             "startlinecolor": "#2a3f5f"
            }
           }
          ],
          "contourcarpet": [
           {
            "colorbar": {
             "outlinewidth": 0,
             "ticks": ""
            },
            "type": "contourcarpet"
           }
          ],
          "heatmap": [
           {
            "colorbar": {
             "outlinewidth": 0,
             "ticks": ""
            },
            "type": "heatmap",
            "colorscale": [
             [
              0,
              "#0d0887"
             ],
             [
              0.1111111111111111,
              "#46039f"
             ],
             [
              0.2222222222222222,
              "#7201a8"
             ],
             [
              0.3333333333333333,
              "#9c179e"
             ],
             [
              0.4444444444444444,
              "#bd3786"
             ],
             [
              0.5555555555555556,
              "#d8576b"
             ],
             [
              0.6666666666666666,
              "#ed7953"
             ],
             [
              0.7777777777777778,
              "#fb9f3a"
             ],
             [
              0.8888888888888888,
              "#fdca26"
             ],
             [
              1,
              "#f0f921"
             ]
            ]
           }
          ],
          "scattermapbox": [
           {
            "marker": {
             "colorbar": {
              "outlinewidth": 0,
              "ticks": ""
             }
            },
            "type": "scattermapbox"
           }
          ],
          "scatter3d": [
           {
            "marker": {
             "colorbar": {
              "outlinewidth": 0,
              "ticks": ""
             }
            },
            "line": {
             "colorbar": {
              "outlinewidth": 0,
              "ticks": ""
             }
            },
            "type": "scatter3d"
           }
          ],
          "scattergl": [
           {
            "marker": {
             "colorbar": {
              "outlinewidth": 0,
              "ticks": ""
             }
            },
            "type": "scattergl"
           }
          ],
          "scatterternary": [
           {
            "marker": {
             "colorbar": {
              "outlinewidth": 0,
              "ticks": ""
             }
            },
            "type": "scatterternary"
           }
          ],
          "histogram2d": [
           {
            "colorbar": {
             "outlinewidth": 0,
             "ticks": ""
            },
            "type": "histogram2d",
            "colorscale": [
             [
              0,
              "#0d0887"
             ],
             [
              0.1111111111111111,
              "#46039f"
             ],
             [
              0.2222222222222222,
              "#7201a8"
             ],
             [
              0.3333333333333333,
              "#9c179e"
             ],
             [
              0.4444444444444444,
              "#bd3786"
             ],
             [
              0.5555555555555556,
              "#d8576b"
             ],
             [
              0.6666666666666666,
              "#ed7953"
             ],
             [
              0.7777777777777778,
              "#fb9f3a"
             ],
             [
              0.8888888888888888,
              "#fdca26"
             ],
             [
              1,
              "#f0f921"
             ]
            ]
           }
          ],
          "heatmapgl": [
           {
            "colorbar": {
             "outlinewidth": 0,
             "ticks": ""
            },
            "type": "heatmapgl",
            "colorscale": [
             [
              0,
              "#0d0887"
             ],
             [
              0.1111111111111111,
              "#46039f"
             ],
             [
              0.2222222222222222,
              "#7201a8"
             ],
             [
              0.3333333333333333,
              "#9c179e"
             ],
             [
              0.4444444444444444,
              "#bd3786"
             ],
             [
              0.5555555555555556,
              "#d8576b"
             ],
             [
              0.6666666666666666,
              "#ed7953"
             ],
             [
              0.7777777777777778,
              "#fb9f3a"
             ],
             [
              0.8888888888888888,
              "#fdca26"
             ],
             [
              1,
              "#f0f921"
             ]
            ]
           }
          ],
          "scatterpolar": [
           {
            "marker": {
             "colorbar": {
              "outlinewidth": 0,
              "ticks": ""
             }
            },
            "type": "scatterpolar"
           }
          ],
          "histogram": [
           {
            "marker": {
             "colorbar": {
              "outlinewidth": 0,
              "ticks": ""
             }
            },
            "type": "histogram"
           }
          ],
          "scattergeo": [
           {
            "marker": {
             "colorbar": {
              "outlinewidth": 0,
              "ticks": ""
             }
            },
            "type": "scattergeo"
           }
          ],
          "bar": [
           {
            "marker": {
             "line": {
              "color": "#E5ECF6",
              "width": 0.5
             }
            },
            "error_x": {
             "color": "#2a3f5f"
            },
            "type": "bar",
            "error_y": {
             "color": "#2a3f5f"
            }
           }
          ],
          "choropleth": [
           {
            "colorbar": {
             "outlinewidth": 0,
             "ticks": ""
            },
            "type": "choropleth"
           }
          ],
          "parcoords": [
           {
            "line": {
             "colorbar": {
              "outlinewidth": 0,
              "ticks": ""
             }
            },
            "type": "parcoords"
           }
          ],
          "barpolar": [
           {
            "marker": {
             "line": {
              "color": "#E5ECF6",
              "width": 0.5
             }
            },
            "type": "barpolar"
           }
          ],
          "histogram2dcontour": [
           {
            "colorbar": {
             "outlinewidth": 0,
             "ticks": ""
            },
            "type": "histogram2dcontour",
            "colorscale": [
             [
              0,
              "#0d0887"
             ],
             [
              0.1111111111111111,
              "#46039f"
             ],
             [
              0.2222222222222222,
              "#7201a8"
             ],
             [
              0.3333333333333333,
              "#9c179e"
             ],
             [
              0.4444444444444444,
              "#bd3786"
             ],
             [
              0.5555555555555556,
              "#d8576b"
             ],
             [
              0.6666666666666666,
              "#ed7953"
             ],
             [
              0.7777777777777778,
              "#fb9f3a"
             ],
             [
              0.8888888888888888,
              "#fdca26"
             ],
             [
              1,
              "#f0f921"
             ]
            ]
           }
          ],
          "scatter": [
           {
            "marker": {
             "colorbar": {
              "outlinewidth": 0,
              "ticks": ""
             }
            },
            "type": "scatter"
           }
          ]
         },
         "layout": {
          "shapedefaults": {
           "line": {
            "color": "#2a3f5f"
           }
          },
          "polar": {
           "radialaxis": {
            "ticks": "",
            "gridcolor": "white",
            "linecolor": "white"
           },
           "bgcolor": "#E5ECF6",
           "angularaxis": {
            "ticks": "",
            "gridcolor": "white",
            "linecolor": "white"
           }
          },
          "colorway": [
           "#636efa",
           "#EF553B",
           "#00cc96",
           "#ab63fa",
           "#FFA15A",
           "#19d3f3",
           "#FF6692",
           "#B6E880",
           "#FF97FF",
           "#FECB52"
          ],
          "ternary": {
           "bgcolor": "#E5ECF6",
           "baxis": {
            "ticks": "",
            "gridcolor": "white",
            "linecolor": "white"
           },
           "caxis": {
            "ticks": "",
            "gridcolor": "white",
            "linecolor": "white"
           },
           "aaxis": {
            "ticks": "",
            "gridcolor": "white",
            "linecolor": "white"
           }
          },
          "autotypenumbers": "strict",
          "colorscale": {
           "diverging": [
            [
             0,
             "#8e0152"
            ],
            [
             0.1,
             "#c51b7d"
            ],
            [
             0.2,
             "#de77ae"
            ],
            [
             0.3,
             "#f1b6da"
            ],
            [
             0.4,
             "#fde0ef"
            ],
            [
             0.5,
             "#f7f7f7"
            ],
            [
             0.6,
             "#e6f5d0"
            ],
            [
             0.7,
             "#b8e186"
            ],
            [
             0.8,
             "#7fbc41"
            ],
            [
             0.9,
             "#4d9221"
            ],
            [
             1,
             "#276419"
            ]
           ],
           "sequential": [
            [
             0,
             "#0d0887"
            ],
            [
             0.1111111111111111,
             "#46039f"
            ],
            [
             0.2222222222222222,
             "#7201a8"
            ],
            [
             0.3333333333333333,
             "#9c179e"
            ],
            [
             0.4444444444444444,
             "#bd3786"
            ],
            [
             0.5555555555555556,
             "#d8576b"
            ],
            [
             0.6666666666666666,
             "#ed7953"
            ],
            [
             0.7777777777777778,
             "#fb9f3a"
            ],
            [
             0.8888888888888888,
             "#fdca26"
            ],
            [
             1,
             "#f0f921"
            ]
           ],
           "sequentialminus": [
            [
             0,
             "#0d0887"
            ],
            [
             0.1111111111111111,
             "#46039f"
            ],
            [
             0.2222222222222222,
             "#7201a8"
            ],
            [
             0.3333333333333333,
             "#9c179e"
            ],
            [
             0.4444444444444444,
             "#bd3786"
            ],
            [
             0.5555555555555556,
             "#d8576b"
            ],
            [
             0.6666666666666666,
             "#ed7953"
            ],
            [
             0.7777777777777778,
             "#fb9f3a"
            ],
            [
             0.8888888888888888,
             "#fdca26"
            ],
            [
             1,
             "#f0f921"
            ]
           ]
          },
          "paper_bgcolor": "white",
          "plot_bgcolor": "#E5ECF6",
          "title": {
           "x": 0.05
          },
          "scene": {
           "zaxis": {
            "linecolor": "white",
            "ticks": "",
            "gridwidth": 2,
            "showbackground": true,
            "zerolinecolor": "white",
            "gridcolor": "white",
            "backgroundcolor": "#E5ECF6"
           },
           "xaxis": {
            "linecolor": "white",
            "ticks": "",
            "gridwidth": 2,
            "showbackground": true,
            "zerolinecolor": "white",
            "gridcolor": "white",
            "backgroundcolor": "#E5ECF6"
           },
           "yaxis": {
            "linecolor": "white",
            "ticks": "",
            "gridwidth": 2,
            "showbackground": true,
            "zerolinecolor": "white",
            "gridcolor": "white",
            "backgroundcolor": "#E5ECF6"
           }
          },
          "yaxis": {
           "automargin": true,
           "title": {
            "standoff": 15
           },
           "zerolinewidth": 2,
           "ticks": "",
           "zerolinecolor": "white",
           "gridcolor": "white",
           "linecolor": "white"
          },
          "coloraxis": {
           "colorbar": {
            "outlinewidth": 0,
            "ticks": ""
           }
          },
          "hoverlabel": {
           "align": "left"
          },
          "xaxis": {
           "automargin": true,
           "title": {
            "standoff": 15
           },
           "zerolinewidth": 2,
           "ticks": "",
           "zerolinecolor": "white",
           "gridcolor": "white",
           "linecolor": "white"
          },
          "mapbox": {
           "style": "light"
          },
          "hovermode": "closest",
          "font": {
           "color": "#2a3f5f"
          },
          "geo": {
           "showland": true,
           "bgcolor": "white",
           "showlakes": true,
           "landcolor": "#E5ECF6",
           "subunitcolor": "white",
           "lakecolor": "white"
          },
          "annotationdefaults": {
           "arrowwidth": 1,
           "arrowhead": 0,
           "arrowcolor": "#2a3f5f"
          }
         }
        },
        "title": {
         "text": "Performance for different voxel_leaf values"
        },
        "yaxis": {
         "domain": [
          0,
          1
         ],
         "anchor": "x"
        },
        "xaxis2": {
         "domain": [
          0.55,
          1
         ],
         "anchor": "y2",
         "title": {
          "text": "Time [s]"
         }
        },
        "yaxis2": {
         "domain": [
          0,
          1
         ],
         "anchor": "x2"
        },
        "xaxis": {
         "domain": [
          0,
          0.45
         ],
         "anchor": "y",
         "title": {
          "text": "Sample count"
         }
        },
        "annotations": [
         {
          "yanchor": "bottom",
          "xref": "paper",
          "xanchor": "center",
          "yref": "paper",
          "text": "TruePositives vs FalsePositives\n(Should be high tp and low fp))",
          "y": 1,
          "x": 0.225,
          "font": {
           "size": 16
          },
          "showarrow": false
         },
         {
          "yanchor": "bottom",
          "xref": "paper",
          "xanchor": "center",
          "yref": "paper",
          "text": "Runtime (lower is better)",
          "y": 1,
          "x": 0.775,
          "font": {
           "size": 16
          },
          "showarrow": false
         },
         {
          "yanchor": "middle",
          "xref": "paper",
          "xanchor": "right",
          "yref": "paper",
          "text": "Parameter value",
          "xshift": -40,
          "textangle": -90,
          "y": 0.5,
          "x": 0,
          "font": {
           "size": 16
          },
          "showarrow": false
         }
        ]
       }
      }
     },
     "metadata": {}
    },
    {
     "output_type": "stream",
     "name": "stdout",
     "text": [
      "With parameter max_iter = 2.0 the score was 84.66% with a runtime of 11.11s\n",
      "Out of ... expected samples, 65 were detected.\n",
      "With parameter max_iter = 4.0 the score was 81.05% with a runtime of 12.38s\n",
      "Out of ... expected samples, 69 were detected.\n",
      "With parameter max_iter = 6.0 the score was 81.32% with a runtime of 13.25s\n",
      "Out of ... expected samples, 70 were detected.\n",
      "With parameter max_iter = 8.0 the score was 81.32% with a runtime of 13.59s\n",
      "Out of ... expected samples, 70 were detected.\n"
     ]
    },
    {
     "output_type": "display_data",
     "data": {
      "application/vnd.plotly.v1+json": {
       "config": {
        "plotlyServerURL": "https://plot.ly"
       },
       "data": [
        {
         "textposition": "inside",
         "orientation": "h",
         "texttemplate": "%{y:.3f}",
         "insidetextanchor": "middle",
         "offsetgroup": "0",
         "y": [
          2,
          4,
          6,
          8
         ],
         "x": [
          58,
          59,
          60,
          60
         ],
         "type": "bar",
         "name": "True positives"
        },
        {
         "textposition": "inside",
         "orientation": "h",
         "texttemplate": "%{y:.3f}",
         "insidetextanchor": "middle",
         "offsetgroup": "0",
         "y": [
          2,
          4,
          6,
          8
         ],
         "x": [
          7,
          10,
          10,
          10
         ],
         "type": "bar",
         "name": "False positives"
        },
        {
         "textposition": "inside",
         "name": "Runtime",
         "yaxis": "y2",
         "texttemplate": "%{y:.3f}",
         "insidetextanchor": "middle",
         "marker": {
          "color": "orange"
         },
         "xaxis": "x2",
         "y": [
          2,
          4,
          6,
          8
         ],
         "x": [
          11.107362031936646,
          12.381075143814087,
          13.247984886169434,
          13.588186025619507
         ],
         "type": "bar",
         "orientation": "h"
        }
       ],
       "layout": {
        "template": {
         "data": {
          "mesh3d": [
           {
            "colorbar": {
             "outlinewidth": 0,
             "ticks": ""
            },
            "type": "mesh3d"
           }
          ],
          "scattercarpet": [
           {
            "marker": {
             "colorbar": {
              "outlinewidth": 0,
              "ticks": ""
             }
            },
            "type": "scattercarpet"
           }
          ],
          "pie": [
           {
            "automargin": true,
            "type": "pie"
           }
          ],
          "surface": [
           {
            "colorbar": {
             "outlinewidth": 0,
             "ticks": ""
            },
            "type": "surface",
            "colorscale": [
             [
              0,
              "#0d0887"
             ],
             [
              0.1111111111111111,
              "#46039f"
             ],
             [
              0.2222222222222222,
              "#7201a8"
             ],
             [
              0.3333333333333333,
              "#9c179e"
             ],
             [
              0.4444444444444444,
              "#bd3786"
             ],
             [
              0.5555555555555556,
              "#d8576b"
             ],
             [
              0.6666666666666666,
              "#ed7953"
             ],
             [
              0.7777777777777778,
              "#fb9f3a"
             ],
             [
              0.8888888888888888,
              "#fdca26"
             ],
             [
              1,
              "#f0f921"
             ]
            ]
           }
          ],
          "table": [
           {
            "header": {
             "line": {
              "color": "white"
             },
             "fill": {
              "color": "#C8D4E3"
             }
            },
            "cells": {
             "line": {
              "color": "white"
             },
             "fill": {
              "color": "#EBF0F8"
             }
            },
            "type": "table"
           }
          ],
          "scatterpolargl": [
           {
            "marker": {
             "colorbar": {
              "outlinewidth": 0,
              "ticks": ""
             }
            },
            "type": "scatterpolargl"
           }
          ],
          "contour": [
           {
            "colorbar": {
             "outlinewidth": 0,
             "ticks": ""
            },
            "type": "contour",
            "colorscale": [
             [
              0,
              "#0d0887"
             ],
             [
              0.1111111111111111,
              "#46039f"
             ],
             [
              0.2222222222222222,
              "#7201a8"
             ],
             [
              0.3333333333333333,
              "#9c179e"
             ],
             [
              0.4444444444444444,
              "#bd3786"
             ],
             [
              0.5555555555555556,
              "#d8576b"
             ],
             [
              0.6666666666666666,
              "#ed7953"
             ],
             [
              0.7777777777777778,
              "#fb9f3a"
             ],
             [
              0.8888888888888888,
              "#fdca26"
             ],
             [
              1,
              "#f0f921"
             ]
            ]
           }
          ],
          "carpet": [
           {
            "baxis": {
             "endlinecolor": "#2a3f5f",
             "gridcolor": "white",
             "linecolor": "white",
             "minorgridcolor": "white",
             "startlinecolor": "#2a3f5f"
            },
            "type": "carpet",
            "aaxis": {
             "endlinecolor": "#2a3f5f",
             "gridcolor": "white",
             "linecolor": "white",
             "minorgridcolor": "white",
             "startlinecolor": "#2a3f5f"
            }
           }
          ],
          "contourcarpet": [
           {
            "colorbar": {
             "outlinewidth": 0,
             "ticks": ""
            },
            "type": "contourcarpet"
           }
          ],
          "heatmap": [
           {
            "colorbar": {
             "outlinewidth": 0,
             "ticks": ""
            },
            "type": "heatmap",
            "colorscale": [
             [
              0,
              "#0d0887"
             ],
             [
              0.1111111111111111,
              "#46039f"
             ],
             [
              0.2222222222222222,
              "#7201a8"
             ],
             [
              0.3333333333333333,
              "#9c179e"
             ],
             [
              0.4444444444444444,
              "#bd3786"
             ],
             [
              0.5555555555555556,
              "#d8576b"
             ],
             [
              0.6666666666666666,
              "#ed7953"
             ],
             [
              0.7777777777777778,
              "#fb9f3a"
             ],
             [
              0.8888888888888888,
              "#fdca26"
             ],
             [
              1,
              "#f0f921"
             ]
            ]
           }
          ],
          "scattermapbox": [
           {
            "marker": {
             "colorbar": {
              "outlinewidth": 0,
              "ticks": ""
             }
            },
            "type": "scattermapbox"
           }
          ],
          "scatter3d": [
           {
            "marker": {
             "colorbar": {
              "outlinewidth": 0,
              "ticks": ""
             }
            },
            "line": {
             "colorbar": {
              "outlinewidth": 0,
              "ticks": ""
             }
            },
            "type": "scatter3d"
           }
          ],
          "scattergl": [
           {
            "marker": {
             "colorbar": {
              "outlinewidth": 0,
              "ticks": ""
             }
            },
            "type": "scattergl"
           }
          ],
          "scatterternary": [
           {
            "marker": {
             "colorbar": {
              "outlinewidth": 0,
              "ticks": ""
             }
            },
            "type": "scatterternary"
           }
          ],
          "histogram2d": [
           {
            "colorbar": {
             "outlinewidth": 0,
             "ticks": ""
            },
            "type": "histogram2d",
            "colorscale": [
             [
              0,
              "#0d0887"
             ],
             [
              0.1111111111111111,
              "#46039f"
             ],
             [
              0.2222222222222222,
              "#7201a8"
             ],
             [
              0.3333333333333333,
              "#9c179e"
             ],
             [
              0.4444444444444444,
              "#bd3786"
             ],
             [
              0.5555555555555556,
              "#d8576b"
             ],
             [
              0.6666666666666666,
              "#ed7953"
             ],
             [
              0.7777777777777778,
              "#fb9f3a"
             ],
             [
              0.8888888888888888,
              "#fdca26"
             ],
             [
              1,
              "#f0f921"
             ]
            ]
           }
          ],
          "heatmapgl": [
           {
            "colorbar": {
             "outlinewidth": 0,
             "ticks": ""
            },
            "type": "heatmapgl",
            "colorscale": [
             [
              0,
              "#0d0887"
             ],
             [
              0.1111111111111111,
              "#46039f"
             ],
             [
              0.2222222222222222,
              "#7201a8"
             ],
             [
              0.3333333333333333,
              "#9c179e"
             ],
             [
              0.4444444444444444,
              "#bd3786"
             ],
             [
              0.5555555555555556,
              "#d8576b"
             ],
             [
              0.6666666666666666,
              "#ed7953"
             ],
             [
              0.7777777777777778,
              "#fb9f3a"
             ],
             [
              0.8888888888888888,
              "#fdca26"
             ],
             [
              1,
              "#f0f921"
             ]
            ]
           }
          ],
          "scatterpolar": [
           {
            "marker": {
             "colorbar": {
              "outlinewidth": 0,
              "ticks": ""
             }
            },
            "type": "scatterpolar"
           }
          ],
          "histogram": [
           {
            "marker": {
             "colorbar": {
              "outlinewidth": 0,
              "ticks": ""
             }
            },
            "type": "histogram"
           }
          ],
          "scattergeo": [
           {
            "marker": {
             "colorbar": {
              "outlinewidth": 0,
              "ticks": ""
             }
            },
            "type": "scattergeo"
           }
          ],
          "bar": [
           {
            "marker": {
             "line": {
              "color": "#E5ECF6",
              "width": 0.5
             }
            },
            "error_x": {
             "color": "#2a3f5f"
            },
            "type": "bar",
            "error_y": {
             "color": "#2a3f5f"
            }
           }
          ],
          "choropleth": [
           {
            "colorbar": {
             "outlinewidth": 0,
             "ticks": ""
            },
            "type": "choropleth"
           }
          ],
          "parcoords": [
           {
            "line": {
             "colorbar": {
              "outlinewidth": 0,
              "ticks": ""
             }
            },
            "type": "parcoords"
           }
          ],
          "barpolar": [
           {
            "marker": {
             "line": {
              "color": "#E5ECF6",
              "width": 0.5
             }
            },
            "type": "barpolar"
           }
          ],
          "histogram2dcontour": [
           {
            "colorbar": {
             "outlinewidth": 0,
             "ticks": ""
            },
            "type": "histogram2dcontour",
            "colorscale": [
             [
              0,
              "#0d0887"
             ],
             [
              0.1111111111111111,
              "#46039f"
             ],
             [
              0.2222222222222222,
              "#7201a8"
             ],
             [
              0.3333333333333333,
              "#9c179e"
             ],
             [
              0.4444444444444444,
              "#bd3786"
             ],
             [
              0.5555555555555556,
              "#d8576b"
             ],
             [
              0.6666666666666666,
              "#ed7953"
             ],
             [
              0.7777777777777778,
              "#fb9f3a"
             ],
             [
              0.8888888888888888,
              "#fdca26"
             ],
             [
              1,
              "#f0f921"
             ]
            ]
           }
          ],
          "scatter": [
           {
            "marker": {
             "colorbar": {
              "outlinewidth": 0,
              "ticks": ""
             }
            },
            "type": "scatter"
           }
          ]
         },
         "layout": {
          "shapedefaults": {
           "line": {
            "color": "#2a3f5f"
           }
          },
          "polar": {
           "radialaxis": {
            "ticks": "",
            "gridcolor": "white",
            "linecolor": "white"
           },
           "bgcolor": "#E5ECF6",
           "angularaxis": {
            "ticks": "",
            "gridcolor": "white",
            "linecolor": "white"
           }
          },
          "colorway": [
           "#636efa",
           "#EF553B",
           "#00cc96",
           "#ab63fa",
           "#FFA15A",
           "#19d3f3",
           "#FF6692",
           "#B6E880",
           "#FF97FF",
           "#FECB52"
          ],
          "ternary": {
           "bgcolor": "#E5ECF6",
           "baxis": {
            "ticks": "",
            "gridcolor": "white",
            "linecolor": "white"
           },
           "caxis": {
            "ticks": "",
            "gridcolor": "white",
            "linecolor": "white"
           },
           "aaxis": {
            "ticks": "",
            "gridcolor": "white",
            "linecolor": "white"
           }
          },
          "autotypenumbers": "strict",
          "colorscale": {
           "diverging": [
            [
             0,
             "#8e0152"
            ],
            [
             0.1,
             "#c51b7d"
            ],
            [
             0.2,
             "#de77ae"
            ],
            [
             0.3,
             "#f1b6da"
            ],
            [
             0.4,
             "#fde0ef"
            ],
            [
             0.5,
             "#f7f7f7"
            ],
            [
             0.6,
             "#e6f5d0"
            ],
            [
             0.7,
             "#b8e186"
            ],
            [
             0.8,
             "#7fbc41"
            ],
            [
             0.9,
             "#4d9221"
            ],
            [
             1,
             "#276419"
            ]
           ],
           "sequential": [
            [
             0,
             "#0d0887"
            ],
            [
             0.1111111111111111,
             "#46039f"
            ],
            [
             0.2222222222222222,
             "#7201a8"
            ],
            [
             0.3333333333333333,
             "#9c179e"
            ],
            [
             0.4444444444444444,
             "#bd3786"
            ],
            [
             0.5555555555555556,
             "#d8576b"
            ],
            [
             0.6666666666666666,
             "#ed7953"
            ],
            [
             0.7777777777777778,
             "#fb9f3a"
            ],
            [
             0.8888888888888888,
             "#fdca26"
            ],
            [
             1,
             "#f0f921"
            ]
           ],
           "sequentialminus": [
            [
             0,
             "#0d0887"
            ],
            [
             0.1111111111111111,
             "#46039f"
            ],
            [
             0.2222222222222222,
             "#7201a8"
            ],
            [
             0.3333333333333333,
             "#9c179e"
            ],
            [
             0.4444444444444444,
             "#bd3786"
            ],
            [
             0.5555555555555556,
             "#d8576b"
            ],
            [
             0.6666666666666666,
             "#ed7953"
            ],
            [
             0.7777777777777778,
             "#fb9f3a"
            ],
            [
             0.8888888888888888,
             "#fdca26"
            ],
            [
             1,
             "#f0f921"
            ]
           ]
          },
          "paper_bgcolor": "white",
          "plot_bgcolor": "#E5ECF6",
          "title": {
           "x": 0.05
          },
          "scene": {
           "zaxis": {
            "linecolor": "white",
            "ticks": "",
            "gridwidth": 2,
            "showbackground": true,
            "zerolinecolor": "white",
            "gridcolor": "white",
            "backgroundcolor": "#E5ECF6"
           },
           "xaxis": {
            "linecolor": "white",
            "ticks": "",
            "gridwidth": 2,
            "showbackground": true,
            "zerolinecolor": "white",
            "gridcolor": "white",
            "backgroundcolor": "#E5ECF6"
           },
           "yaxis": {
            "linecolor": "white",
            "ticks": "",
            "gridwidth": 2,
            "showbackground": true,
            "zerolinecolor": "white",
            "gridcolor": "white",
            "backgroundcolor": "#E5ECF6"
           }
          },
          "yaxis": {
           "automargin": true,
           "title": {
            "standoff": 15
           },
           "zerolinewidth": 2,
           "ticks": "",
           "zerolinecolor": "white",
           "gridcolor": "white",
           "linecolor": "white"
          },
          "coloraxis": {
           "colorbar": {
            "outlinewidth": 0,
            "ticks": ""
           }
          },
          "hoverlabel": {
           "align": "left"
          },
          "xaxis": {
           "automargin": true,
           "title": {
            "standoff": 15
           },
           "zerolinewidth": 2,
           "ticks": "",
           "zerolinecolor": "white",
           "gridcolor": "white",
           "linecolor": "white"
          },
          "mapbox": {
           "style": "light"
          },
          "hovermode": "closest",
          "font": {
           "color": "#2a3f5f"
          },
          "geo": {
           "showland": true,
           "bgcolor": "white",
           "showlakes": true,
           "landcolor": "#E5ECF6",
           "subunitcolor": "white",
           "lakecolor": "white"
          },
          "annotationdefaults": {
           "arrowwidth": 1,
           "arrowhead": 0,
           "arrowcolor": "#2a3f5f"
          }
         }
        },
        "title": {
         "text": "Performance for different max_iter values"
        },
        "yaxis": {
         "domain": [
          0,
          1
         ],
         "anchor": "x"
        },
        "xaxis2": {
         "domain": [
          0.55,
          1
         ],
         "anchor": "y2",
         "title": {
          "text": "Time [s]"
         }
        },
        "yaxis2": {
         "domain": [
          0,
          1
         ],
         "anchor": "x2"
        },
        "xaxis": {
         "domain": [
          0,
          0.45
         ],
         "anchor": "y",
         "title": {
          "text": "Sample count"
         }
        },
        "annotations": [
         {
          "yanchor": "bottom",
          "xref": "paper",
          "xanchor": "center",
          "yref": "paper",
          "text": "TruePositives vs FalsePositives\n(Should be high tp and low fp))",
          "y": 1,
          "x": 0.225,
          "font": {
           "size": 16
          },
          "showarrow": false
         },
         {
          "yanchor": "bottom",
          "xref": "paper",
          "xanchor": "center",
          "yref": "paper",
          "text": "Runtime (lower is better)",
          "y": 1,
          "x": 0.775,
          "font": {
           "size": 16
          },
          "showarrow": false
         },
         {
          "yanchor": "middle",
          "xref": "paper",
          "xanchor": "right",
          "yref": "paper",
          "text": "Parameter value",
          "xshift": -40,
          "textangle": -90,
          "y": 0.5,
          "x": 0,
          "font": {
           "size": 16
          },
          "showarrow": false
         }
        ]
       }
      }
     },
     "metadata": {}
    },
    {
     "output_type": "stream",
     "name": "stdout",
     "text": [
      "With parameter min_points = 50.0 the score was 73.44% with a runtime of 12.61s\n",
      "Out of ... expected samples, 77 were detected.\n",
      "With parameter min_points = 100.0 the score was 81.05% with a runtime of 12.30s\n",
      "Out of ... expected samples, 69 were detected.\n",
      "With parameter min_points = 150.0 the score was 85.59% with a runtime of 11.12s\n",
      "Out of ... expected samples, 63 were detected.\n",
      "With parameter min_points = 200.0 the score was 87.75% with a runtime of 10.61s\n",
      "Out of ... expected samples, 55 were detected.\n"
     ]
    },
    {
     "output_type": "display_data",
     "data": {
      "application/vnd.plotly.v1+json": {
       "config": {
        "plotlyServerURL": "https://plot.ly"
       },
       "data": [
        {
         "textposition": "inside",
         "orientation": "h",
         "texttemplate": "%{y:.3f}",
         "insidetextanchor": "middle",
         "offsetgroup": "0",
         "y": [
          50,
          100,
          150,
          200
         ],
         "x": [
          60,
          59,
          57,
          51
         ],
         "type": "bar",
         "name": "True positives"
        },
        {
         "textposition": "inside",
         "orientation": "h",
         "texttemplate": "%{y:.3f}",
         "insidetextanchor": "middle",
         "offsetgroup": "0",
         "y": [
          50,
          100,
          150,
          200
         ],
         "x": [
          17,
          10,
          6,
          4
         ],
         "type": "bar",
         "name": "False positives"
        },
        {
         "textposition": "inside",
         "name": "Runtime",
         "yaxis": "y2",
         "texttemplate": "%{y:.3f}",
         "insidetextanchor": "middle",
         "marker": {
          "color": "orange"
         },
         "xaxis": "x2",
         "y": [
          50,
          100,
          150,
          200
         ],
         "x": [
          12.606263875961304,
          12.297638893127441,
          11.123571157455444,
          10.608731985092163
         ],
         "type": "bar",
         "orientation": "h"
        }
       ],
       "layout": {
        "template": {
         "data": {
          "mesh3d": [
           {
            "colorbar": {
             "outlinewidth": 0,
             "ticks": ""
            },
            "type": "mesh3d"
           }
          ],
          "scattercarpet": [
           {
            "marker": {
             "colorbar": {
              "outlinewidth": 0,
              "ticks": ""
             }
            },
            "type": "scattercarpet"
           }
          ],
          "pie": [
           {
            "automargin": true,
            "type": "pie"
           }
          ],
          "surface": [
           {
            "colorbar": {
             "outlinewidth": 0,
             "ticks": ""
            },
            "type": "surface",
            "colorscale": [
             [
              0,
              "#0d0887"
             ],
             [
              0.1111111111111111,
              "#46039f"
             ],
             [
              0.2222222222222222,
              "#7201a8"
             ],
             [
              0.3333333333333333,
              "#9c179e"
             ],
             [
              0.4444444444444444,
              "#bd3786"
             ],
             [
              0.5555555555555556,
              "#d8576b"
             ],
             [
              0.6666666666666666,
              "#ed7953"
             ],
             [
              0.7777777777777778,
              "#fb9f3a"
             ],
             [
              0.8888888888888888,
              "#fdca26"
             ],
             [
              1,
              "#f0f921"
             ]
            ]
           }
          ],
          "table": [
           {
            "header": {
             "line": {
              "color": "white"
             },
             "fill": {
              "color": "#C8D4E3"
             }
            },
            "cells": {
             "line": {
              "color": "white"
             },
             "fill": {
              "color": "#EBF0F8"
             }
            },
            "type": "table"
           }
          ],
          "scatterpolargl": [
           {
            "marker": {
             "colorbar": {
              "outlinewidth": 0,
              "ticks": ""
             }
            },
            "type": "scatterpolargl"
           }
          ],
          "contour": [
           {
            "colorbar": {
             "outlinewidth": 0,
             "ticks": ""
            },
            "type": "contour",
            "colorscale": [
             [
              0,
              "#0d0887"
             ],
             [
              0.1111111111111111,
              "#46039f"
             ],
             [
              0.2222222222222222,
              "#7201a8"
             ],
             [
              0.3333333333333333,
              "#9c179e"
             ],
             [
              0.4444444444444444,
              "#bd3786"
             ],
             [
              0.5555555555555556,
              "#d8576b"
             ],
             [
              0.6666666666666666,
              "#ed7953"
             ],
             [
              0.7777777777777778,
              "#fb9f3a"
             ],
             [
              0.8888888888888888,
              "#fdca26"
             ],
             [
              1,
              "#f0f921"
             ]
            ]
           }
          ],
          "carpet": [
           {
            "baxis": {
             "endlinecolor": "#2a3f5f",
             "gridcolor": "white",
             "linecolor": "white",
             "minorgridcolor": "white",
             "startlinecolor": "#2a3f5f"
            },
            "type": "carpet",
            "aaxis": {
             "endlinecolor": "#2a3f5f",
             "gridcolor": "white",
             "linecolor": "white",
             "minorgridcolor": "white",
             "startlinecolor": "#2a3f5f"
            }
           }
          ],
          "contourcarpet": [
           {
            "colorbar": {
             "outlinewidth": 0,
             "ticks": ""
            },
            "type": "contourcarpet"
           }
          ],
          "heatmap": [
           {
            "colorbar": {
             "outlinewidth": 0,
             "ticks": ""
            },
            "type": "heatmap",
            "colorscale": [
             [
              0,
              "#0d0887"
             ],
             [
              0.1111111111111111,
              "#46039f"
             ],
             [
              0.2222222222222222,
              "#7201a8"
             ],
             [
              0.3333333333333333,
              "#9c179e"
             ],
             [
              0.4444444444444444,
              "#bd3786"
             ],
             [
              0.5555555555555556,
              "#d8576b"
             ],
             [
              0.6666666666666666,
              "#ed7953"
             ],
             [
              0.7777777777777778,
              "#fb9f3a"
             ],
             [
              0.8888888888888888,
              "#fdca26"
             ],
             [
              1,
              "#f0f921"
             ]
            ]
           }
          ],
          "scattermapbox": [
           {
            "marker": {
             "colorbar": {
              "outlinewidth": 0,
              "ticks": ""
             }
            },
            "type": "scattermapbox"
           }
          ],
          "scatter3d": [
           {
            "marker": {
             "colorbar": {
              "outlinewidth": 0,
              "ticks": ""
             }
            },
            "line": {
             "colorbar": {
              "outlinewidth": 0,
              "ticks": ""
             }
            },
            "type": "scatter3d"
           }
          ],
          "scattergl": [
           {
            "marker": {
             "colorbar": {
              "outlinewidth": 0,
              "ticks": ""
             }
            },
            "type": "scattergl"
           }
          ],
          "scatterternary": [
           {
            "marker": {
             "colorbar": {
              "outlinewidth": 0,
              "ticks": ""
             }
            },
            "type": "scatterternary"
           }
          ],
          "histogram2d": [
           {
            "colorbar": {
             "outlinewidth": 0,
             "ticks": ""
            },
            "type": "histogram2d",
            "colorscale": [
             [
              0,
              "#0d0887"
             ],
             [
              0.1111111111111111,
              "#46039f"
             ],
             [
              0.2222222222222222,
              "#7201a8"
             ],
             [
              0.3333333333333333,
              "#9c179e"
             ],
             [
              0.4444444444444444,
              "#bd3786"
             ],
             [
              0.5555555555555556,
              "#d8576b"
             ],
             [
              0.6666666666666666,
              "#ed7953"
             ],
             [
              0.7777777777777778,
              "#fb9f3a"
             ],
             [
              0.8888888888888888,
              "#fdca26"
             ],
             [
              1,
              "#f0f921"
             ]
            ]
           }
          ],
          "heatmapgl": [
           {
            "colorbar": {
             "outlinewidth": 0,
             "ticks": ""
            },
            "type": "heatmapgl",
            "colorscale": [
             [
              0,
              "#0d0887"
             ],
             [
              0.1111111111111111,
              "#46039f"
             ],
             [
              0.2222222222222222,
              "#7201a8"
             ],
             [
              0.3333333333333333,
              "#9c179e"
             ],
             [
              0.4444444444444444,
              "#bd3786"
             ],
             [
              0.5555555555555556,
              "#d8576b"
             ],
             [
              0.6666666666666666,
              "#ed7953"
             ],
             [
              0.7777777777777778,
              "#fb9f3a"
             ],
             [
              0.8888888888888888,
              "#fdca26"
             ],
             [
              1,
              "#f0f921"
             ]
            ]
           }
          ],
          "scatterpolar": [
           {
            "marker": {
             "colorbar": {
              "outlinewidth": 0,
              "ticks": ""
             }
            },
            "type": "scatterpolar"
           }
          ],
          "histogram": [
           {
            "marker": {
             "colorbar": {
              "outlinewidth": 0,
              "ticks": ""
             }
            },
            "type": "histogram"
           }
          ],
          "scattergeo": [
           {
            "marker": {
             "colorbar": {
              "outlinewidth": 0,
              "ticks": ""
             }
            },
            "type": "scattergeo"
           }
          ],
          "bar": [
           {
            "marker": {
             "line": {
              "color": "#E5ECF6",
              "width": 0.5
             }
            },
            "error_x": {
             "color": "#2a3f5f"
            },
            "type": "bar",
            "error_y": {
             "color": "#2a3f5f"
            }
           }
          ],
          "choropleth": [
           {
            "colorbar": {
             "outlinewidth": 0,
             "ticks": ""
            },
            "type": "choropleth"
           }
          ],
          "parcoords": [
           {
            "line": {
             "colorbar": {
              "outlinewidth": 0,
              "ticks": ""
             }
            },
            "type": "parcoords"
           }
          ],
          "barpolar": [
           {
            "marker": {
             "line": {
              "color": "#E5ECF6",
              "width": 0.5
             }
            },
            "type": "barpolar"
           }
          ],
          "histogram2dcontour": [
           {
            "colorbar": {
             "outlinewidth": 0,
             "ticks": ""
            },
            "type": "histogram2dcontour",
            "colorscale": [
             [
              0,
              "#0d0887"
             ],
             [
              0.1111111111111111,
              "#46039f"
             ],
             [
              0.2222222222222222,
              "#7201a8"
             ],
             [
              0.3333333333333333,
              "#9c179e"
             ],
             [
              0.4444444444444444,
              "#bd3786"
             ],
             [
              0.5555555555555556,
              "#d8576b"
             ],
             [
              0.6666666666666666,
              "#ed7953"
             ],
             [
              0.7777777777777778,
              "#fb9f3a"
             ],
             [
              0.8888888888888888,
              "#fdca26"
             ],
             [
              1,
              "#f0f921"
             ]
            ]
           }
          ],
          "scatter": [
           {
            "marker": {
             "colorbar": {
              "outlinewidth": 0,
              "ticks": ""
             }
            },
            "type": "scatter"
           }
          ]
         },
         "layout": {
          "shapedefaults": {
           "line": {
            "color": "#2a3f5f"
           }
          },
          "polar": {
           "radialaxis": {
            "ticks": "",
            "gridcolor": "white",
            "linecolor": "white"
           },
           "bgcolor": "#E5ECF6",
           "angularaxis": {
            "ticks": "",
            "gridcolor": "white",
            "linecolor": "white"
           }
          },
          "colorway": [
           "#636efa",
           "#EF553B",
           "#00cc96",
           "#ab63fa",
           "#FFA15A",
           "#19d3f3",
           "#FF6692",
           "#B6E880",
           "#FF97FF",
           "#FECB52"
          ],
          "ternary": {
           "bgcolor": "#E5ECF6",
           "baxis": {
            "ticks": "",
            "gridcolor": "white",
            "linecolor": "white"
           },
           "caxis": {
            "ticks": "",
            "gridcolor": "white",
            "linecolor": "white"
           },
           "aaxis": {
            "ticks": "",
            "gridcolor": "white",
            "linecolor": "white"
           }
          },
          "autotypenumbers": "strict",
          "colorscale": {
           "diverging": [
            [
             0,
             "#8e0152"
            ],
            [
             0.1,
             "#c51b7d"
            ],
            [
             0.2,
             "#de77ae"
            ],
            [
             0.3,
             "#f1b6da"
            ],
            [
             0.4,
             "#fde0ef"
            ],
            [
             0.5,
             "#f7f7f7"
            ],
            [
             0.6,
             "#e6f5d0"
            ],
            [
             0.7,
             "#b8e186"
            ],
            [
             0.8,
             "#7fbc41"
            ],
            [
             0.9,
             "#4d9221"
            ],
            [
             1,
             "#276419"
            ]
           ],
           "sequential": [
            [
             0,
             "#0d0887"
            ],
            [
             0.1111111111111111,
             "#46039f"
            ],
            [
             0.2222222222222222,
             "#7201a8"
            ],
            [
             0.3333333333333333,
             "#9c179e"
            ],
            [
             0.4444444444444444,
             "#bd3786"
            ],
            [
             0.5555555555555556,
             "#d8576b"
            ],
            [
             0.6666666666666666,
             "#ed7953"
            ],
            [
             0.7777777777777778,
             "#fb9f3a"
            ],
            [
             0.8888888888888888,
             "#fdca26"
            ],
            [
             1,
             "#f0f921"
            ]
           ],
           "sequentialminus": [
            [
             0,
             "#0d0887"
            ],
            [
             0.1111111111111111,
             "#46039f"
            ],
            [
             0.2222222222222222,
             "#7201a8"
            ],
            [
             0.3333333333333333,
             "#9c179e"
            ],
            [
             0.4444444444444444,
             "#bd3786"
            ],
            [
             0.5555555555555556,
             "#d8576b"
            ],
            [
             0.6666666666666666,
             "#ed7953"
            ],
            [
             0.7777777777777778,
             "#fb9f3a"
            ],
            [
             0.8888888888888888,
             "#fdca26"
            ],
            [
             1,
             "#f0f921"
            ]
           ]
          },
          "paper_bgcolor": "white",
          "plot_bgcolor": "#E5ECF6",
          "title": {
           "x": 0.05
          },
          "scene": {
           "zaxis": {
            "linecolor": "white",
            "ticks": "",
            "gridwidth": 2,
            "showbackground": true,
            "zerolinecolor": "white",
            "gridcolor": "white",
            "backgroundcolor": "#E5ECF6"
           },
           "xaxis": {
            "linecolor": "white",
            "ticks": "",
            "gridwidth": 2,
            "showbackground": true,
            "zerolinecolor": "white",
            "gridcolor": "white",
            "backgroundcolor": "#E5ECF6"
           },
           "yaxis": {
            "linecolor": "white",
            "ticks": "",
            "gridwidth": 2,
            "showbackground": true,
            "zerolinecolor": "white",
            "gridcolor": "white",
            "backgroundcolor": "#E5ECF6"
           }
          },
          "yaxis": {
           "automargin": true,
           "title": {
            "standoff": 15
           },
           "zerolinewidth": 2,
           "ticks": "",
           "zerolinecolor": "white",
           "gridcolor": "white",
           "linecolor": "white"
          },
          "coloraxis": {
           "colorbar": {
            "outlinewidth": 0,
            "ticks": ""
           }
          },
          "hoverlabel": {
           "align": "left"
          },
          "xaxis": {
           "automargin": true,
           "title": {
            "standoff": 15
           },
           "zerolinewidth": 2,
           "ticks": "",
           "zerolinecolor": "white",
           "gridcolor": "white",
           "linecolor": "white"
          },
          "mapbox": {
           "style": "light"
          },
          "hovermode": "closest",
          "font": {
           "color": "#2a3f5f"
          },
          "geo": {
           "showland": true,
           "bgcolor": "white",
           "showlakes": true,
           "landcolor": "#E5ECF6",
           "subunitcolor": "white",
           "lakecolor": "white"
          },
          "annotationdefaults": {
           "arrowwidth": 1,
           "arrowhead": 0,
           "arrowcolor": "#2a3f5f"
          }
         }
        },
        "title": {
         "text": "Performance for different min_points values"
        },
        "yaxis": {
         "domain": [
          0,
          1
         ],
         "anchor": "x"
        },
        "xaxis2": {
         "domain": [
          0.55,
          1
         ],
         "anchor": "y2",
         "title": {
          "text": "Time [s]"
         }
        },
        "yaxis2": {
         "domain": [
          0,
          1
         ],
         "anchor": "x2"
        },
        "xaxis": {
         "domain": [
          0,
          0.45
         ],
         "anchor": "y",
         "title": {
          "text": "Sample count"
         }
        },
        "annotations": [
         {
          "yanchor": "bottom",
          "xref": "paper",
          "xanchor": "center",
          "yref": "paper",
          "text": "TruePositives vs FalsePositives\n(Should be high tp and low fp))",
          "y": 1,
          "x": 0.225,
          "font": {
           "size": 16
          },
          "showarrow": false
         },
         {
          "yanchor": "bottom",
          "xref": "paper",
          "xanchor": "center",
          "yref": "paper",
          "text": "Runtime (lower is better)",
          "y": 1,
          "x": 0.775,
          "font": {
           "size": 16
          },
          "showarrow": false
         },
         {
          "yanchor": "middle",
          "xref": "paper",
          "xanchor": "right",
          "yref": "paper",
          "text": "Parameter value",
          "xshift": -40,
          "textangle": -90,
          "y": 0.5,
          "x": 0,
          "font": {
           "size": 16
          },
          "showarrow": false
         }
        ]
       }
      }
     },
     "metadata": {}
    }
   ],
   "metadata": {}
  }
 ],
 "metadata": {
  "kernelspec": {
   "name": "python3",
   "display_name": "Python 2.7.17 64-bit"
  },
  "language_info": {
   "mimetype": "text/x-python",
   "nbconvert_exporter": "python",
   "name": "python",
   "pygments_lexer": "ipython2",
   "version": "2.7.17",
   "file_extension": ".py",
   "codemirror_mode": {
    "version": 2,
    "name": "ipython"
   }
  },
  "interpreter": {
   "hash": "767d51c1340bd893661ea55ea3124f6de3c7a262a8b4abca0554b478b1e2ff90"
  }
 },
 "nbformat": 4,
 "nbformat_minor": 5
}