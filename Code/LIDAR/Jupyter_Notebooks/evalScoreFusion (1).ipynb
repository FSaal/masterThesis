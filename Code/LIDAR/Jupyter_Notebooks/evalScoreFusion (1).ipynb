{
 "cells": [
  {
   "cell_type": "markdown",
   "metadata": {},
   "source": [
    "In this notebook, different statistics of the detected ramp planes will be analyzed and visualized.<br>\n",
    "Also a score will be calculated to determine how well the algorithm works.<br>\n",
    "This will be done for multiple rosbags to get an average score."
   ]
  },
  {
   "cell_type": "code",
   "execution_count": 1,
   "metadata": {},
   "outputs": [],
   "source": [
    "from tf.transformations import euler_from_quaternion, euler_matrix\n",
    "import ros_numpy\n",
    "import pcl\n",
    "import numpy as np\n",
    "import math\n",
    "import rosbag\n",
    "import pandas as pd\n",
    "import plotly.express as px\n",
    "import plotly.graph_objects as go\n",
    "from plotly.offline import plot\n",
    "from plotly.subplots import make_subplots\n",
    "import plotly.io as pio\n",
    "pio.templates.default = 'plotly_dark'\n",
    "from IPython import display"
   ]
  },
  {
   "cell_type": "markdown",
   "metadata": {},
   "source": [
    "Class of the actual ramp detection algorithm"
   ]
  },
  {
   "cell_type": "code",
   "execution_count": 2,
   "metadata": {},
   "outputs": [],
   "source": [
    "# My ROS Node\n",
    "class VisualDetection():\n",
    "\n",
    "    def __init__(self):\n",
    "        self.calibrated = False\n",
    "        self.rp = [0, 0]\n",
    "        self.ramp_data = [[] for i in range(5)]\n",
    "        self.publish_clouds = False\n",
    "        self.arr = np.zeros((1,3))\n",
    "        # x coordinates where ramp starts\n",
    "        self.ramp_start = x_range[0]\n",
    "\n",
    "    def spin(self, cloud, pose):\n",
    "        self.cloud = cloud\n",
    "        self.pose = pose\n",
    "        # Robosense Lidar has a rate of 10 Hz\n",
    "        # Convert PointCloud2 msg to numpy array\n",
    "        pc_array = ros_numpy.point_cloud2.pointcloud2_to_xyz_array(self.cloud, remove_nans=True)\n",
    "\n",
    "        # Apply lidar to car frame transformation\n",
    "        pc_array_tf = self.transform_pc(pc_array, roll=0, pitch=19.174, yaw=0, transl_x=-1.944)\n",
    "\n",
    "        # Filter unwanted points (to reduce point cloud size) with passthrough filter\n",
    "        # TODO: Check if Points further than 30m have intensity less than 10%\n",
    "        # * Max Range of lidar is 100m (30m @ 10% NIST)\n",
    "        pc_array_cut = self.reduce_pc(pc_array_tf, 0, 30, -3.5, 3.5, -1, 1.5)\n",
    "            \n",
    "        # Convert numpy array to pcl object\n",
    "        pc_cut = pcl.PointCloud()\n",
    "        pc_cut.from_array(pc_array_cut.astype('float32'))\n",
    "\n",
    "        # Downsample point cloud using voxel filter to further decrease size\n",
    "        pc_small = self.voxel_filter(pc_cut, 0.1)\n",
    "        if self.publish_clouds: self.publish_pc(pc_small.to_list(), 'pc_small')\n",
    "\n",
    "        # Perform RANSAC until no new planes are being detected\n",
    "        plane_coor, data = self.plane_detection(pc_small, 100, 4)\n",
    "        return plane_coor, data, self.relative_to_absolute(pc_array_cut)\n",
    "        # self.ramp_detection_confidence(10, 5, data)\n",
    "\n",
    "    def transform_pc(self, pc, roll=0, pitch=0, yaw=0, transl_x=1.753, transl_y=0, transl_z=1.156):\n",
    "        \"\"\"Transformation from Lidar frame to car frame. Rotation in rad and translation in m.\"\"\"\n",
    "        # Rotation matrix\n",
    "        rot = euler_matrix(roll, pitch, yaw, 'sxyz')[:3, :3]\n",
    "        # Apply rotation\n",
    "        pc_tf = np.inner(pc, rot)\n",
    "\n",
    "        # Translation\n",
    "        translation = [transl_x, transl_y, transl_z]\n",
    "        # Combine rotation and translation\n",
    "        pc_tf += translation\n",
    "        return pc_tf\n",
    "\n",
    "    def reduce_pc(self, pc, x_lower, x_upper, y_lower, y_upper, z_lower, z_upper):\n",
    "        \"\"\"Removes points outside of box\"\"\"\n",
    "        pc_cut = pc[(pc[:, 0] > x_lower) & (pc[:, 0] < x_upper) & (pc[:, 1] > y_lower) & (\n",
    "            pc[:, 1] < y_upper) & (pc[:, 2] > z_lower) & (pc[:, 2] < z_upper)]\n",
    "        return pc_cut\n",
    "\n",
    "    def voxel_filter(self, pc, leaf_size):\n",
    "        \"\"\"Downsample point cloud using voxel filter\"\"\"\n",
    "        vg = pc.make_voxel_grid_filter()\n",
    "        # Leaf_size is the length of the side of the voxel cube in m\n",
    "        vg.set_leaf_size(leaf_size, leaf_size, leaf_size)\n",
    "        pc_filtered = vg.filter()\n",
    "        # print('Reduced size from {} to {}'.format(pc.size, pc_filtered.size))\n",
    "        return pc_filtered\n",
    "\n",
    "    def plane_detection(self, pc, min_points, max_planes):\n",
    "        \"\"\"Detects all planes in point cloud\"\"\"\n",
    "        # Ground vector\n",
    "        g_vec = None\n",
    "        counter = 0\n",
    "        while pc.size > min_points and counter < max_planes:\n",
    "            # Detect most dominate plane and get inliers and normal vector\n",
    "            indices, coefficients = self.ransac(pc)\n",
    "            n_vec = coefficients[:-1]\n",
    "\n",
    "            # Split pointcloud in inliers and outliers of plane\n",
    "            pc, plane, pc_points = self.split_pc(pc, indices)\n",
    "\n",
    "            # Exit if plane is empty\n",
    "            if not plane:\n",
    "                # print('ERROR: No plane could be detected')\n",
    "                return [], []\n",
    "\n",
    "            # Ignore walls to the side or in front\n",
    "            if self.is_plane_near_ground(n_vec):\n",
    "                # First ground like detection is most probably the ground\n",
    "                if g_vec is None:\n",
    "                    g_vec = n_vec\n",
    "                    if self.publish_clouds: self.publish_pc(plane, 'pc_ground')\n",
    "                # Either ground is detected again or potential ramp\n",
    "                else:\n",
    "                    # self.pub_angle.publish(angle)\n",
    "                    is_ramp, data = self.ramp_detection(plane, g_vec, n_vec, 4, 7, 2, 4)\n",
    "                    if is_ramp:\n",
    "                        # Transform plane from local rslidar coordinates to global map coordinates\n",
    "                        plane_global = self.relative_to_absolute(plane)\n",
    "                    \n",
    "                        if self.publish_clouds: self.publish_pc(plane, 'pc_ramp')\n",
    "                        return plane_global, data\n",
    "                    else:  \n",
    "                        continue\n",
    "            counter += 1\n",
    "        return [], []\n",
    "\n",
    "    def relative_to_absolute(self, pc):\n",
    "        \"\"\"Transforms relative lidar data to absolute by adding translation rotating\"\"\"\n",
    "        # pc_arr = pc.to_array()\n",
    "        pc_arr = np.array(pc)\n",
    "    \n",
    "        # Odometer\n",
    "        pos = self.pose.position\n",
    "        translation = [pos.x, pos.y, pos.z]\n",
    "        ori = self.pose.orientation\n",
    "        quat = [ori.x, ori.y, ori.z, ori.w]\n",
    "        roll, pitch, yaw = euler_from_quaternion(quat)\n",
    "\n",
    "        # Rotation matrix\n",
    "        rot = euler_matrix(roll, pitch, yaw, 'sxyz')[:3, :3]\n",
    "        # Apply rotation\n",
    "        pc_tf = np.inner(pc_arr, rot)\n",
    "\n",
    "        # Combine rotation and translation\n",
    "        pc_tf += translation\n",
    "        return pc_tf\n",
    "\n",
    "    def ramp_detection(\n",
    "            self, plane, g_vec, n_vec, min_angle, max_angle, \n",
    "            min_width, max_width, logging=False):\n",
    "        \"\"\"Checks if conditions to be considered a ramp are fullfilled.\"\"\"\n",
    "        # Convert pcl plane to numpy array\n",
    "        plane_array = np.array(plane)\n",
    "\n",
    "        # Calculate angle [deg] between new and previously recorded normal vector of ground\n",
    "        angle = self.angle_calc(g_vec, n_vec)\n",
    "        # Assert ramp angle threshold\n",
    "        if min_angle <= angle <= max_angle:\n",
    "            if logging: print('ANGLE PASSED')\n",
    "            pass\n",
    "        else:\n",
    "            if logging: print('Angle wrong with {}'.format(angle))\n",
    "            return False, []\n",
    "\n",
    "        # Get ramp width (Difference between y-values)\n",
    "        width = max(plane_array[:, 1]) - min(plane_array[:, 1])\n",
    "        # Assert ramp width threshold\n",
    "        if min_width <= width <= max_width:\n",
    "            if logging: print('WIDTH PASSED')\n",
    "            pass\n",
    "        else:\n",
    "            if logging: print('Width wrong with {}'.format(width))\n",
    "            return False, []\n",
    "\n",
    "        # Ramp distance (x-value of nearest point of the plane)\n",
    "        dist = min(plane_array[:,0])\n",
    "\n",
    "        self.angle = angle\n",
    "        self.d = dist\n",
    "        if logging:\n",
    "            print('Possible ramp in {:05.2f}m with angle {:05.2f}deg and width {:05.2f}m'.format(\n",
    "            dist, angle, width))        \n",
    "        true_dist = self.ramp_start - self.pose.position.x\n",
    "        return True, [angle, width, dist, true_dist]\n",
    "\n",
    "    def ransac(self, pc):\n",
    "        \"\"\"Finds inliers and normal vector of dominant plane\"\"\"\n",
    "        # 50?\n",
    "        seg = pc.make_segmenter_normals(50)\n",
    "        # Doubles the speed if True\n",
    "        seg.set_optimize_coefficients(True)\n",
    "        seg.set_model_type(pcl.SACMODEL_NORMAL_PLANE)\n",
    "        seg.set_method_type(pcl.SAC_RANSAC)\n",
    "        # How close a point must be to model to be considered inlier\n",
    "        seg.set_distance_threshold(0.01)\n",
    "        # normal_distance_weight?\n",
    "        seg.set_normal_distance_weight(0.01)\n",
    "        # How many tries\n",
    "        seg.set_max_iterations(100)\n",
    "        indices, coefficients = seg.segment()\n",
    "        return indices, coefficients\n",
    "\n",
    "    def split_pc(self, pc, inliers):\n",
    "        \"\"\"Extract detected plane from point cloud and split into two pcs\"\"\"\n",
    "        # Get point cooridnates of plane\n",
    "        detected_plane = [pc[i] for i in inliers]\n",
    "        # Point cloud of detected plane (inliers)\n",
    "        pc_inliers = pc.extract(inliers)\n",
    "\n",
    "        # Point cloud of outliers\n",
    "        outlier_indices = list(set(np.arange(pc.size)).symmetric_difference(inliers))\n",
    "        pc_outliers = pc.extract(outlier_indices)\n",
    "\n",
    "        return pc_outliers, detected_plane, pc_inliers\n",
    "\n",
    "    def is_plane_near_ground(self, v, threshold=0.8):\n",
    "        \"\"\"Returns True if plane is on the ground (and false if e.g. side wall)\"\"\"\n",
    "        return abs(v[2]) > threshold   \n",
    "\n",
    "    def angle_calc(self, v1, v2, degrees=True):\n",
    "        \"\"\"Calculate angle between two vectors (planes)\"\"\"\n",
    "        # Assuming both vectors can be rotated alongside one axis to be aligned\n",
    "        dot = np.dot(v1, v2)\n",
    "        if dot <= 1:\n",
    "            angle = np.arccos(dot)\n",
    "        else:\n",
    "            # print('ERROR: dot product > 1')\n",
    "            # print('v1 is {} abs({}) and v2 is {} abs ({})'.format(v1, np.linalg.norm(v1), v2, np.linalg.norm(v2)))\n",
    "            angle = 0\n",
    "\n",
    "        if degrees is True:\n",
    "            return np.degrees(angle)\n",
    "        else:\n",
    "            return angle"
   ]
  },
  {
   "cell_type": "markdown",
   "metadata": {},
   "source": [
    "Load data (pointcloud and odom) from rosbag and make sure both topics are synchronized"
   ]
  },
  {
   "cell_type": "code",
   "execution_count": 3,
   "metadata": {},
   "outputs": [],
   "source": [
    "class GetScore():\n",
    "    def __init__(self, bag_name, x_range, y_range):\n",
    "        self.bag_name = bag_name\n",
    "        self.x_range = x_range\n",
    "        self.y_range = y_range\n",
    "\n",
    "    def extract_data(self):\n",
    "        bag_path = '/home/user/rosbags/big/evaluation/' + self.bag_name\n",
    "        # Load rosbag\n",
    "        bag = rosbag.Bag(bag_path)\n",
    "\n",
    "        # Synch help\n",
    "        msg_pose_t = []\n",
    "        msg_lidar_t = []\n",
    "\n",
    "        # Extract data from hdl bag\n",
    "        # Contains raw lidar data and the position/orientation of car\n",
    "        pose = []\n",
    "        for topic, msg, t in bag.read_messages(topics='/odom'):\n",
    "            msg_pose_t.append(t.to_time())\n",
    "            pose.append(msg.pose.pose)\n",
    "        lidar = []\n",
    "        for topic, msg, t in bag.read_messages(topics='/right/rslidar_points'):\n",
    "            msg_lidar_t.append(t.to_time())\n",
    "            lidar.append(msg)\n",
    "\n",
    "        # Difference between length of the two topics\n",
    "        len_diff = len(msg_lidar_t) - len(msg_pose_t)\n",
    "        # Time difference at start and end of recording\n",
    "        diff1 = msg_pose_t[0] - msg_lidar_t[0]\n",
    "        diff2 = msg_pose_t[-1] - msg_lidar_t[-1]\n",
    "        if  diff1 > 0:\n",
    "            lidar = lidar[len_diff:]\n",
    "        else:\n",
    "            print(msg_pose_t[abs(len_diff)] - msg_lidar_t[0])\n",
    "        \n",
    "        return lidar, pose"
   ]
  },
  {
   "cell_type": "markdown",
   "metadata": {},
   "source": [
    "Run algorithm with rosbag data.<br>\n",
    "Store many different calculated metrics generated by the algorithm in a pandas data frame (to allow a faster plotting)."
   ]
  },
  {
   "cell_type": "code",
   "execution_count": 4,
   "metadata": {},
   "outputs": [],
   "source": [
    "class GetScore(GetScore):\n",
    "    def run_the_algorithm(self, lidar, pose):\n",
    "        # Create instance of class (using standard parameters):\n",
    "        vd = VisualDetection()\n",
    "        # Lists to fill, will contain entry for each plane\n",
    "        planes = []\n",
    "        ramp_stats = []\n",
    "        true_dist = []\n",
    "        all_points = []\n",
    "        for i in range(len(lidar)):\n",
    "            plane_points, data, pc_whole = vd.spin(lidar[i], pose[i])\n",
    "            planes.append(plane_points)\n",
    "            ramp_stats.append(data)\n",
    "            all_points.append(pc_whole)\n",
    "            # True distance to start of ramp\n",
    "            true_dist.append(self.x_range[0] - pose[i].position.x)\n",
    "        true_dist = np.array(true_dist)\n",
    "        return planes, ramp_stats, true_dist\n",
    "\n",
    "    def convert_to_df(self, planes, ramp_stats):\n",
    "        # Remove empty lists (when no ramp has been detected)\n",
    "        # because information such as angle, width of ramp etc \n",
    "        # are only stored when a ramp is detected, 0 otherwise\n",
    "        ramp_arrays = [x for x in planes if not isinstance(x, list)]\n",
    "        ramp_stats = [x for x in ramp_stats if x != []]\n",
    "        # Get indices where ramp has been detected\n",
    "        ramp_indices = [i for i,v in enumerate(planes) if not isinstance(v, list)]\n",
    "\n",
    "        # Convert list to dictionary\n",
    "        dic = []\n",
    "        for i, arr in enumerate(ramp_arrays):\n",
    "            for j, point in enumerate(arr):\n",
    "                dic.append(\n",
    "                    {\n",
    "                        'sampleIdx': i,\n",
    "                        'pointIdx': j,\n",
    "                        'x': point[0],\n",
    "                        'y': point[1],\n",
    "                        'z': point[2]\n",
    "                    }\n",
    "                )\n",
    "        # And finally to pandas data frame\n",
    "        df = pd.DataFrame(dic)\n",
    "        # Reorder columns\n",
    "        df = df[['sampleIdx', 'pointIdx', 'x', 'y', 'z']]\n",
    "        return df, ramp_stats\n",
    "\n",
    "    def ground_truth_check(self, df, ramp_stats):\n",
    "        # Check if a point lies within ramp region\n",
    "        lies_inside = []\n",
    "        for i,x in enumerate(df['x']):\n",
    "            if self.x_range[0] < x < self.x_range[1]:\n",
    "                if self.y_range[0] < df['y'][i] < self.y_range[1]:\n",
    "                    # True if x and y coordinate inside region\n",
    "                    lies_inside.append(True)\n",
    "                else:\n",
    "                    lies_inside.append(False)\n",
    "            else:\n",
    "                lies_inside.append(False)\n",
    "        # Add column (bool: if point lies in region) to data frame\n",
    "        df['inlier'] = lies_inside\n",
    "\n",
    "        # Calculate how many points of each sample lie in ramp region\n",
    "        true_inliers = []\n",
    "        samples_num = df.sampleIdx.max() + 1\n",
    "        for i in range(samples_num):\n",
    "            # Bool list of inliers and outliers of sample\n",
    "            bool_lst = df[df['sampleIdx'] == i]['inlier']\n",
    "            # Percentage of inliers of sample\n",
    "            true_inliers.append(sum(bool_lst) / float(len(bool_lst)))\n",
    "\n",
    "        # New dataframe with stats for each frame\n",
    "        # Structure reminder of ramp_stats: [angle, width, dist, true_dist]\n",
    "        dic = []\n",
    "        for i in range(samples_num):\n",
    "            dic.append(\n",
    "                {\n",
    "                    'sampleIdx': i,\n",
    "                    'TrueInliers': true_inliers[i],\n",
    "                    'Angle': ramp_stats[i][0],\n",
    "                    'Width': ramp_stats[i][1],\n",
    "                    'Dist': ramp_stats[i][2],\n",
    "                    'TrueDist': ramp_stats[i][3],\n",
    "                }\n",
    "            )\n",
    "        # Convert dictionary to dataframe\n",
    "        df_stats = pd.DataFrame(dic)\n",
    "        # Reorder columns\n",
    "        df_stats = df_stats[['sampleIdx', 'TrueInliers', 'Angle', 'Width', 'Dist', 'TrueDist']]\n",
    "        return df_stats\n",
    "\n",
    "    def some_plot(self, true_dist, df_stats):\n",
    "        expected_detections = []\n",
    "        actual_detections = []\n",
    "        # Split dataset in 1m intervals\n",
    "        for i in range(15, -5, -1):\n",
    "            # Filter distance to ramp (from odom data) in 1m intervals\n",
    "            expected_detections.append(len(true_dist[(i < true_dist) & (true_dist < i + 1)]))\n",
    "            # Get corresponding distance estimations\n",
    "            actual_detections.append(len(df_stats['TrueDist'][(i < df_stats['TrueDist']) & (df_stats['TrueDist'] < i + 1)]))\n",
    "        # Create pandas data frame\n",
    "        eval_df = pd.DataFrame()\n",
    "        # Distance to ramp e.g. a value of 15 means interval from 16m to 15m \n",
    "        eval_df['distToRamp'] = range(15, -5, -1)\n",
    "        eval_df['expectedDetections'] = expected_detections\n",
    "        eval_df['actualDetections'] = actual_detections\n",
    "\n",
    "        # Plot\n",
    "        fig = go.Figure()\n",
    "        fig.add_trace(go.Bar(\n",
    "            y = eval_df['expectedDetections'], x=eval_df['distToRamp'],\n",
    "            name=\"False negatives (Not detected)\",\n",
    "            offsetgroup=0\n",
    "        ))\n",
    "        fig.add_trace(go.Bar(\n",
    "            y = eval_df['actualDetections'], x=eval_df['distToRamp'],\n",
    "            name=\"True positives (Detected)\",\n",
    "            offsetgroup=0\n",
    "        ))\n",
    "        fig.update_xaxes(title_text=\"Distance to ramp [m]\", autorange='reversed')\n",
    "        fig.update_yaxes(title_text=\"Number of ramps detected\")\n",
    "        fig.update_layout(title_text=\"How many samples were collected in 1m intervals and how many of them have been identified as ramp\")\n",
    "        fig.show()\n",
    "        return fig\n",
    "\n",
    "    def calc_score(self, df_stats, true_dist, min_dist, max_dist):\n",
    "        # Sensitivity\n",
    "        # How many sample were recorded in given range\n",
    "        expected_detections = len(true_dist[(min_dist < true_dist) & (true_dist < max_dist)])\n",
    "        # How many samples were identified as ramp in given range\n",
    "        actual_detections = len(df_stats['TrueDist'][(min_dist < df_stats['TrueDist']) & (df_stats['TrueDist'] < max_dist)])\n",
    "        # Calculate ratio\n",
    "        sensitivity = float(actual_detections) / expected_detections\n",
    "        print(self.bag_name)\n",
    "        print('Out of {} recorded samples {} were detected in the range of {} to {}m before the ramp.'.format(\n",
    "            expected_detections, actual_detections, min_dist, max_dist))\n",
    "        print('Resulting in a score of {:.2f}%\\n'.format(sensitivity*100))\n",
    "\n",
    "        # Inlier score \n",
    "        f = df_stats['TrueInliers'][(min_dist < df_stats['TrueDist']) & (df_stats['TrueDist'] < max_dist)]\n",
    "        score2 = sum(f) / len(f)\n",
    "        print('Of the {} detected planes {:.2f}% inlier points were actually inside the ramp region.\\n'.format(\n",
    "            actual_detections, score2*100))\n",
    "\n",
    "        # False positives?  \n",
    "        f = df_stats['TrueInliers'][(min_dist < df_stats['TrueDist']) & (df_stats['TrueDist'] < max_dist)]\n",
    "        thresh = 0.5\n",
    "        true_detections = sum(f > thresh)\n",
    "        score3 = float(true_detections) / len(f)\n",
    "        print('Of the {} detected planes {} had at least {}% of points inside the ramp region.'.format(\n",
    "            actual_detections, true_detections, int(thresh*100)))\n",
    "        print('Resulting in a score of {:.2f}%\\n\\n'.format(score3*100))\n",
    "        \n",
    "        scores = [sensitivity, score2, score3]\n",
    "        return scores\n",
    "\n",
    "    # Run everything\n",
    "    def boss_method(self, min_dist=4, max_dist=10, show_plot=True):\n",
    "        lidar, pose = self.extract_data()\n",
    "        planes, ramp_stats, true_dist = self.run_the_algorithm(lidar, pose)\n",
    "        df, ramp_stats = self.convert_to_df(planes, ramp_stats)\n",
    "        df_stats = self.ground_truth_check(df, ramp_stats)\n",
    "        if show_plot: self.some_plot(true_dist, df_stats)\n",
    "        scores = self.calc_score(df_stats, true_dist, min_dist, max_dist)\n",
    "        return scores\n"
   ]
  },
  {
   "cell_type": "markdown",
   "metadata": {},
   "source": [
    "- Straight onto the curved ramped\n",
    "\n",
    "<img src=\"Images/2021-10-19-15-30-50_map_odom.png\" alt=\"Drawing\" style=\"width: 1200px;\"/>\n",
    "\n",
    "- Straight onto the straight ramp\n",
    "\n",
    "<img src=\"Images/2021-10-19-15-43-09_map_odom.png\" alt=\"Drawing\" style=\"width: 1200px;\"/>\n",
    "\n",
    "- Driving at a slight angle onto the ramp in -1th floor\n",
    "\n",
    "<img src=\"Images/2021-10-19-15-52-21_map_odom.png\" alt=\"Drawing\" style=\"width: 1200px;\"/>\n",
    "\n"
   ]
  },
  {
   "cell_type": "code",
   "execution_count": 5,
   "metadata": {},
   "outputs": [
    {
     "data": {
      "application/vnd.plotly.v1+json": {
       "config": {
        "plotlyServerURL": "https://plot.ly"
       },
       "data": [
        {
         "name": "False negatives (Not detected)",
         "offsetgroup": "0",
         "type": "bar",
         "x": [
          15,
          14,
          13,
          12,
          11,
          10,
          9,
          8,
          7,
          6,
          5,
          4,
          3,
          2,
          1,
          0,
          -1,
          -2,
          -3,
          -4
         ],
         "y": [
          9,
          8,
          8,
          9,
          8,
          9,
          9,
          9,
          9,
          9,
          9,
          9,
          9,
          9,
          9,
          9,
          9,
          9,
          12,
          12
         ]
        },
        {
         "name": "True positives (Detected)",
         "offsetgroup": "0",
         "type": "bar",
         "x": [
          15,
          14,
          13,
          12,
          11,
          10,
          9,
          8,
          7,
          6,
          5,
          4,
          3,
          2,
          1,
          0,
          -1,
          -2,
          -3,
          -4
         ],
         "y": [
          1,
          1,
          1,
          5,
          4,
          4,
          8,
          7,
          8,
          7,
          9,
          7,
          3,
          3,
          2,
          3,
          1,
          1,
          1,
          3
         ]
        }
       ],
       "layout": {
        "template": {
         "data": {
          "bar": [
           {
            "error_x": {
             "color": "#f2f5fa"
            },
            "error_y": {
             "color": "#f2f5fa"
            },
            "marker": {
             "line": {
              "color": "rgb(17,17,17)",
              "width": 0.5
             }
            },
            "type": "bar"
           }
          ],
          "barpolar": [
           {
            "marker": {
             "line": {
              "color": "rgb(17,17,17)",
              "width": 0.5
             }
            },
            "type": "barpolar"
           }
          ],
          "carpet": [
           {
            "aaxis": {
             "endlinecolor": "#A2B1C6",
             "gridcolor": "#506784",
             "linecolor": "#506784",
             "minorgridcolor": "#506784",
             "startlinecolor": "#A2B1C6"
            },
            "baxis": {
             "endlinecolor": "#A2B1C6",
             "gridcolor": "#506784",
             "linecolor": "#506784",
             "minorgridcolor": "#506784",
             "startlinecolor": "#A2B1C6"
            },
            "type": "carpet"
           }
          ],
          "choropleth": [
           {
            "colorbar": {
             "outlinewidth": 0,
             "ticks": ""
            },
            "type": "choropleth"
           }
          ],
          "contour": [
           {
            "colorbar": {
             "outlinewidth": 0,
             "ticks": ""
            },
            "colorscale": [
             [
              0,
              "#0d0887"
             ],
             [
              0.1111111111111111,
              "#46039f"
             ],
             [
              0.2222222222222222,
              "#7201a8"
             ],
             [
              0.3333333333333333,
              "#9c179e"
             ],
             [
              0.4444444444444444,
              "#bd3786"
             ],
             [
              0.5555555555555556,
              "#d8576b"
             ],
             [
              0.6666666666666666,
              "#ed7953"
             ],
             [
              0.7777777777777778,
              "#fb9f3a"
             ],
             [
              0.8888888888888888,
              "#fdca26"
             ],
             [
              1,
              "#f0f921"
             ]
            ],
            "type": "contour"
           }
          ],
          "contourcarpet": [
           {
            "colorbar": {
             "outlinewidth": 0,
             "ticks": ""
            },
            "type": "contourcarpet"
           }
          ],
          "heatmap": [
           {
            "colorbar": {
             "outlinewidth": 0,
             "ticks": ""
            },
            "colorscale": [
             [
              0,
              "#0d0887"
             ],
             [
              0.1111111111111111,
              "#46039f"
             ],
             [
              0.2222222222222222,
              "#7201a8"
             ],
             [
              0.3333333333333333,
              "#9c179e"
             ],
             [
              0.4444444444444444,
              "#bd3786"
             ],
             [
              0.5555555555555556,
              "#d8576b"
             ],
             [
              0.6666666666666666,
              "#ed7953"
             ],
             [
              0.7777777777777778,
              "#fb9f3a"
             ],
             [
              0.8888888888888888,
              "#fdca26"
             ],
             [
              1,
              "#f0f921"
             ]
            ],
            "type": "heatmap"
           }
          ],
          "heatmapgl": [
           {
            "colorbar": {
             "outlinewidth": 0,
             "ticks": ""
            },
            "colorscale": [
             [
              0,
              "#0d0887"
             ],
             [
              0.1111111111111111,
              "#46039f"
             ],
             [
              0.2222222222222222,
              "#7201a8"
             ],
             [
              0.3333333333333333,
              "#9c179e"
             ],
             [
              0.4444444444444444,
              "#bd3786"
             ],
             [
              0.5555555555555556,
              "#d8576b"
             ],
             [
              0.6666666666666666,
              "#ed7953"
             ],
             [
              0.7777777777777778,
              "#fb9f3a"
             ],
             [
              0.8888888888888888,
              "#fdca26"
             ],
             [
              1,
              "#f0f921"
             ]
            ],
            "type": "heatmapgl"
           }
          ],
          "histogram": [
           {
            "marker": {
             "colorbar": {
              "outlinewidth": 0,
              "ticks": ""
             }
            },
            "type": "histogram"
           }
          ],
          "histogram2d": [
           {
            "colorbar": {
             "outlinewidth": 0,
             "ticks": ""
            },
            "colorscale": [
             [
              0,
              "#0d0887"
             ],
             [
              0.1111111111111111,
              "#46039f"
             ],
             [
              0.2222222222222222,
              "#7201a8"
             ],
             [
              0.3333333333333333,
              "#9c179e"
             ],
             [
              0.4444444444444444,
              "#bd3786"
             ],
             [
              0.5555555555555556,
              "#d8576b"
             ],
             [
              0.6666666666666666,
              "#ed7953"
             ],
             [
              0.7777777777777778,
              "#fb9f3a"
             ],
             [
              0.8888888888888888,
              "#fdca26"
             ],
             [
              1,
              "#f0f921"
             ]
            ],
            "type": "histogram2d"
           }
          ],
          "histogram2dcontour": [
           {
            "colorbar": {
             "outlinewidth": 0,
             "ticks": ""
            },
            "colorscale": [
             [
              0,
              "#0d0887"
             ],
             [
              0.1111111111111111,
              "#46039f"
             ],
             [
              0.2222222222222222,
              "#7201a8"
             ],
             [
              0.3333333333333333,
              "#9c179e"
             ],
             [
              0.4444444444444444,
              "#bd3786"
             ],
             [
              0.5555555555555556,
              "#d8576b"
             ],
             [
              0.6666666666666666,
              "#ed7953"
             ],
             [
              0.7777777777777778,
              "#fb9f3a"
             ],
             [
              0.8888888888888888,
              "#fdca26"
             ],
             [
              1,
              "#f0f921"
             ]
            ],
            "type": "histogram2dcontour"
           }
          ],
          "mesh3d": [
           {
            "colorbar": {
             "outlinewidth": 0,
             "ticks": ""
            },
            "type": "mesh3d"
           }
          ],
          "parcoords": [
           {
            "line": {
             "colorbar": {
              "outlinewidth": 0,
              "ticks": ""
             }
            },
            "type": "parcoords"
           }
          ],
          "pie": [
           {
            "automargin": true,
            "type": "pie"
           }
          ],
          "scatter": [
           {
            "marker": {
             "line": {
              "color": "#283442"
             }
            },
            "type": "scatter"
           }
          ],
          "scatter3d": [
           {
            "line": {
             "colorbar": {
              "outlinewidth": 0,
              "ticks": ""
             }
            },
            "marker": {
             "colorbar": {
              "outlinewidth": 0,
              "ticks": ""
             }
            },
            "type": "scatter3d"
           }
          ],
          "scattercarpet": [
           {
            "marker": {
             "colorbar": {
              "outlinewidth": 0,
              "ticks": ""
             }
            },
            "type": "scattercarpet"
           }
          ],
          "scattergeo": [
           {
            "marker": {
             "colorbar": {
              "outlinewidth": 0,
              "ticks": ""
             }
            },
            "type": "scattergeo"
           }
          ],
          "scattergl": [
           {
            "marker": {
             "line": {
              "color": "#283442"
             }
            },
            "type": "scattergl"
           }
          ],
          "scattermapbox": [
           {
            "marker": {
             "colorbar": {
              "outlinewidth": 0,
              "ticks": ""
             }
            },
            "type": "scattermapbox"
           }
          ],
          "scatterpolar": [
           {
            "marker": {
             "colorbar": {
              "outlinewidth": 0,
              "ticks": ""
             }
            },
            "type": "scatterpolar"
           }
          ],
          "scatterpolargl": [
           {
            "marker": {
             "colorbar": {
              "outlinewidth": 0,
              "ticks": ""
             }
            },
            "type": "scatterpolargl"
           }
          ],
          "scatterternary": [
           {
            "marker": {
             "colorbar": {
              "outlinewidth": 0,
              "ticks": ""
             }
            },
            "type": "scatterternary"
           }
          ],
          "surface": [
           {
            "colorbar": {
             "outlinewidth": 0,
             "ticks": ""
            },
            "colorscale": [
             [
              0,
              "#0d0887"
             ],
             [
              0.1111111111111111,
              "#46039f"
             ],
             [
              0.2222222222222222,
              "#7201a8"
             ],
             [
              0.3333333333333333,
              "#9c179e"
             ],
             [
              0.4444444444444444,
              "#bd3786"
             ],
             [
              0.5555555555555556,
              "#d8576b"
             ],
             [
              0.6666666666666666,
              "#ed7953"
             ],
             [
              0.7777777777777778,
              "#fb9f3a"
             ],
             [
              0.8888888888888888,
              "#fdca26"
             ],
             [
              1,
              "#f0f921"
             ]
            ],
            "type": "surface"
           }
          ],
          "table": [
           {
            "cells": {
             "fill": {
              "color": "#506784"
             },
             "line": {
              "color": "rgb(17,17,17)"
             }
            },
            "header": {
             "fill": {
              "color": "#2a3f5f"
             },
             "line": {
              "color": "rgb(17,17,17)"
             }
            },
            "type": "table"
           }
          ]
         },
         "layout": {
          "annotationdefaults": {
           "arrowcolor": "#f2f5fa",
           "arrowhead": 0,
           "arrowwidth": 1
          },
          "autotypenumbers": "strict",
          "coloraxis": {
           "colorbar": {
            "outlinewidth": 0,
            "ticks": ""
           }
          },
          "colorscale": {
           "diverging": [
            [
             0,
             "#8e0152"
            ],
            [
             0.1,
             "#c51b7d"
            ],
            [
             0.2,
             "#de77ae"
            ],
            [
             0.3,
             "#f1b6da"
            ],
            [
             0.4,
             "#fde0ef"
            ],
            [
             0.5,
             "#f7f7f7"
            ],
            [
             0.6,
             "#e6f5d0"
            ],
            [
             0.7,
             "#b8e186"
            ],
            [
             0.8,
             "#7fbc41"
            ],
            [
             0.9,
             "#4d9221"
            ],
            [
             1,
             "#276419"
            ]
           ],
           "sequential": [
            [
             0,
             "#0d0887"
            ],
            [
             0.1111111111111111,
             "#46039f"
            ],
            [
             0.2222222222222222,
             "#7201a8"
            ],
            [
             0.3333333333333333,
             "#9c179e"
            ],
            [
             0.4444444444444444,
             "#bd3786"
            ],
            [
             0.5555555555555556,
             "#d8576b"
            ],
            [
             0.6666666666666666,
             "#ed7953"
            ],
            [
             0.7777777777777778,
             "#fb9f3a"
            ],
            [
             0.8888888888888888,
             "#fdca26"
            ],
            [
             1,
             "#f0f921"
            ]
           ],
           "sequentialminus": [
            [
             0,
             "#0d0887"
            ],
            [
             0.1111111111111111,
             "#46039f"
            ],
            [
             0.2222222222222222,
             "#7201a8"
            ],
            [
             0.3333333333333333,
             "#9c179e"
            ],
            [
             0.4444444444444444,
             "#bd3786"
            ],
            [
             0.5555555555555556,
             "#d8576b"
            ],
            [
             0.6666666666666666,
             "#ed7953"
            ],
            [
             0.7777777777777778,
             "#fb9f3a"
            ],
            [
             0.8888888888888888,
             "#fdca26"
            ],
            [
             1,
             "#f0f921"
            ]
           ]
          },
          "colorway": [
           "#636efa",
           "#EF553B",
           "#00cc96",
           "#ab63fa",
           "#FFA15A",
           "#19d3f3",
           "#FF6692",
           "#B6E880",
           "#FF97FF",
           "#FECB52"
          ],
          "font": {
           "color": "#f2f5fa"
          },
          "geo": {
           "bgcolor": "rgb(17,17,17)",
           "lakecolor": "rgb(17,17,17)",
           "landcolor": "rgb(17,17,17)",
           "showlakes": true,
           "showland": true,
           "subunitcolor": "#506784"
          },
          "hoverlabel": {
           "align": "left"
          },
          "hovermode": "closest",
          "mapbox": {
           "style": "dark"
          },
          "paper_bgcolor": "rgb(17,17,17)",
          "plot_bgcolor": "rgb(17,17,17)",
          "polar": {
           "angularaxis": {
            "gridcolor": "#506784",
            "linecolor": "#506784",
            "ticks": ""
           },
           "bgcolor": "rgb(17,17,17)",
           "radialaxis": {
            "gridcolor": "#506784",
            "linecolor": "#506784",
            "ticks": ""
           }
          },
          "scene": {
           "xaxis": {
            "backgroundcolor": "rgb(17,17,17)",
            "gridcolor": "#506784",
            "gridwidth": 2,
            "linecolor": "#506784",
            "showbackground": true,
            "ticks": "",
            "zerolinecolor": "#C8D4E3"
           },
           "yaxis": {
            "backgroundcolor": "rgb(17,17,17)",
            "gridcolor": "#506784",
            "gridwidth": 2,
            "linecolor": "#506784",
            "showbackground": true,
            "ticks": "",
            "zerolinecolor": "#C8D4E3"
           },
           "zaxis": {
            "backgroundcolor": "rgb(17,17,17)",
            "gridcolor": "#506784",
            "gridwidth": 2,
            "linecolor": "#506784",
            "showbackground": true,
            "ticks": "",
            "zerolinecolor": "#C8D4E3"
           }
          },
          "shapedefaults": {
           "line": {
            "color": "#f2f5fa"
           }
          },
          "sliderdefaults": {
           "bgcolor": "#C8D4E3",
           "bordercolor": "rgb(17,17,17)",
           "borderwidth": 1,
           "tickwidth": 0
          },
          "ternary": {
           "aaxis": {
            "gridcolor": "#506784",
            "linecolor": "#506784",
            "ticks": ""
           },
           "baxis": {
            "gridcolor": "#506784",
            "linecolor": "#506784",
            "ticks": ""
           },
           "bgcolor": "rgb(17,17,17)",
           "caxis": {
            "gridcolor": "#506784",
            "linecolor": "#506784",
            "ticks": ""
           }
          },
          "title": {
           "x": 0.05
          },
          "updatemenudefaults": {
           "bgcolor": "#506784",
           "borderwidth": 0
          },
          "xaxis": {
           "automargin": true,
           "gridcolor": "#283442",
           "linecolor": "#506784",
           "ticks": "",
           "title": {
            "standoff": 15
           },
           "zerolinecolor": "#283442",
           "zerolinewidth": 2
          },
          "yaxis": {
           "automargin": true,
           "gridcolor": "#283442",
           "linecolor": "#506784",
           "ticks": "",
           "title": {
            "standoff": 15
           },
           "zerolinecolor": "#283442",
           "zerolinewidth": 2
          }
         }
        },
        "title": {
         "text": "How many samples were collected in 1m intervals and how many of them have been identified as ramp"
        },
        "xaxis": {
         "autorange": "reversed",
         "title": {
          "text": "Distance to ramp [m]"
         }
        },
        "yaxis": {
         "title": {
          "text": "Number of ramps detected"
         }
        }
       }
      }
     },
     "metadata": {},
     "output_type": "display_data"
    },
    {
     "name": "stdout",
     "output_type": "stream",
     "text": [
      "2021-10-19-15-30-50_hdl.bag\n",
      "Out of 54 recorded samples 46 were detected in the range of 4 to 10m before the ramp.\n",
      "Resulting in a score of 85.19%\n",
      "\n",
      "Of the 46 detected planes 90.37% inlier points were actually inside the ramp region.\n",
      "\n",
      "Of the 46 detected planes 42 had at least 50% of points inside the ramp region.\n",
      "Resulting in a score of 91.30%\n",
      "\n",
      "\n"
     ]
    },
    {
     "data": {
      "application/vnd.plotly.v1+json": {
       "config": {
        "plotlyServerURL": "https://plot.ly"
       },
       "data": [
        {
         "name": "False negatives (Not detected)",
         "offsetgroup": "0",
         "type": "bar",
         "x": [
          15,
          14,
          13,
          12,
          11,
          10,
          9,
          8,
          7,
          6,
          5,
          4,
          3,
          2,
          1,
          0,
          -1,
          -2,
          -3,
          -4
         ],
         "y": [
          6,
          5,
          5,
          5,
          5,
          5,
          5,
          5,
          4,
          5,
          5,
          4,
          5,
          6,
          5,
          5,
          6,
          6,
          7,
          7
         ]
        },
        {
         "name": "True positives (Detected)",
         "offsetgroup": "0",
         "type": "bar",
         "x": [
          15,
          14,
          13,
          12,
          11,
          10,
          9,
          8,
          7,
          6,
          5,
          4,
          3,
          2,
          1,
          0,
          -1,
          -2,
          -3,
          -4
         ],
         "y": [
          2,
          1,
          3,
          0,
          1,
          3,
          4,
          3,
          1,
          3,
          5,
          1,
          1,
          0,
          3,
          1,
          1,
          3,
          1,
          2
         ]
        }
       ],
       "layout": {
        "template": {
         "data": {
          "bar": [
           {
            "error_x": {
             "color": "#f2f5fa"
            },
            "error_y": {
             "color": "#f2f5fa"
            },
            "marker": {
             "line": {
              "color": "rgb(17,17,17)",
              "width": 0.5
             }
            },
            "type": "bar"
           }
          ],
          "barpolar": [
           {
            "marker": {
             "line": {
              "color": "rgb(17,17,17)",
              "width": 0.5
             }
            },
            "type": "barpolar"
           }
          ],
          "carpet": [
           {
            "aaxis": {
             "endlinecolor": "#A2B1C6",
             "gridcolor": "#506784",
             "linecolor": "#506784",
             "minorgridcolor": "#506784",
             "startlinecolor": "#A2B1C6"
            },
            "baxis": {
             "endlinecolor": "#A2B1C6",
             "gridcolor": "#506784",
             "linecolor": "#506784",
             "minorgridcolor": "#506784",
             "startlinecolor": "#A2B1C6"
            },
            "type": "carpet"
           }
          ],
          "choropleth": [
           {
            "colorbar": {
             "outlinewidth": 0,
             "ticks": ""
            },
            "type": "choropleth"
           }
          ],
          "contour": [
           {
            "colorbar": {
             "outlinewidth": 0,
             "ticks": ""
            },
            "colorscale": [
             [
              0,
              "#0d0887"
             ],
             [
              0.1111111111111111,
              "#46039f"
             ],
             [
              0.2222222222222222,
              "#7201a8"
             ],
             [
              0.3333333333333333,
              "#9c179e"
             ],
             [
              0.4444444444444444,
              "#bd3786"
             ],
             [
              0.5555555555555556,
              "#d8576b"
             ],
             [
              0.6666666666666666,
              "#ed7953"
             ],
             [
              0.7777777777777778,
              "#fb9f3a"
             ],
             [
              0.8888888888888888,
              "#fdca26"
             ],
             [
              1,
              "#f0f921"
             ]
            ],
            "type": "contour"
           }
          ],
          "contourcarpet": [
           {
            "colorbar": {
             "outlinewidth": 0,
             "ticks": ""
            },
            "type": "contourcarpet"
           }
          ],
          "heatmap": [
           {
            "colorbar": {
             "outlinewidth": 0,
             "ticks": ""
            },
            "colorscale": [
             [
              0,
              "#0d0887"
             ],
             [
              0.1111111111111111,
              "#46039f"
             ],
             [
              0.2222222222222222,
              "#7201a8"
             ],
             [
              0.3333333333333333,
              "#9c179e"
             ],
             [
              0.4444444444444444,
              "#bd3786"
             ],
             [
              0.5555555555555556,
              "#d8576b"
             ],
             [
              0.6666666666666666,
              "#ed7953"
             ],
             [
              0.7777777777777778,
              "#fb9f3a"
             ],
             [
              0.8888888888888888,
              "#fdca26"
             ],
             [
              1,
              "#f0f921"
             ]
            ],
            "type": "heatmap"
           }
          ],
          "heatmapgl": [
           {
            "colorbar": {
             "outlinewidth": 0,
             "ticks": ""
            },
            "colorscale": [
             [
              0,
              "#0d0887"
             ],
             [
              0.1111111111111111,
              "#46039f"
             ],
             [
              0.2222222222222222,
              "#7201a8"
             ],
             [
              0.3333333333333333,
              "#9c179e"
             ],
             [
              0.4444444444444444,
              "#bd3786"
             ],
             [
              0.5555555555555556,
              "#d8576b"
             ],
             [
              0.6666666666666666,
              "#ed7953"
             ],
             [
              0.7777777777777778,
              "#fb9f3a"
             ],
             [
              0.8888888888888888,
              "#fdca26"
             ],
             [
              1,
              "#f0f921"
             ]
            ],
            "type": "heatmapgl"
           }
          ],
          "histogram": [
           {
            "marker": {
             "colorbar": {
              "outlinewidth": 0,
              "ticks": ""
             }
            },
            "type": "histogram"
           }
          ],
          "histogram2d": [
           {
            "colorbar": {
             "outlinewidth": 0,
             "ticks": ""
            },
            "colorscale": [
             [
              0,
              "#0d0887"
             ],
             [
              0.1111111111111111,
              "#46039f"
             ],
             [
              0.2222222222222222,
              "#7201a8"
             ],
             [
              0.3333333333333333,
              "#9c179e"
             ],
             [
              0.4444444444444444,
              "#bd3786"
             ],
             [
              0.5555555555555556,
              "#d8576b"
             ],
             [
              0.6666666666666666,
              "#ed7953"
             ],
             [
              0.7777777777777778,
              "#fb9f3a"
             ],
             [
              0.8888888888888888,
              "#fdca26"
             ],
             [
              1,
              "#f0f921"
             ]
            ],
            "type": "histogram2d"
           }
          ],
          "histogram2dcontour": [
           {
            "colorbar": {
             "outlinewidth": 0,
             "ticks": ""
            },
            "colorscale": [
             [
              0,
              "#0d0887"
             ],
             [
              0.1111111111111111,
              "#46039f"
             ],
             [
              0.2222222222222222,
              "#7201a8"
             ],
             [
              0.3333333333333333,
              "#9c179e"
             ],
             [
              0.4444444444444444,
              "#bd3786"
             ],
             [
              0.5555555555555556,
              "#d8576b"
             ],
             [
              0.6666666666666666,
              "#ed7953"
             ],
             [
              0.7777777777777778,
              "#fb9f3a"
             ],
             [
              0.8888888888888888,
              "#fdca26"
             ],
             [
              1,
              "#f0f921"
             ]
            ],
            "type": "histogram2dcontour"
           }
          ],
          "mesh3d": [
           {
            "colorbar": {
             "outlinewidth": 0,
             "ticks": ""
            },
            "type": "mesh3d"
           }
          ],
          "parcoords": [
           {
            "line": {
             "colorbar": {
              "outlinewidth": 0,
              "ticks": ""
             }
            },
            "type": "parcoords"
           }
          ],
          "pie": [
           {
            "automargin": true,
            "type": "pie"
           }
          ],
          "scatter": [
           {
            "marker": {
             "line": {
              "color": "#283442"
             }
            },
            "type": "scatter"
           }
          ],
          "scatter3d": [
           {
            "line": {
             "colorbar": {
              "outlinewidth": 0,
              "ticks": ""
             }
            },
            "marker": {
             "colorbar": {
              "outlinewidth": 0,
              "ticks": ""
             }
            },
            "type": "scatter3d"
           }
          ],
          "scattercarpet": [
           {
            "marker": {
             "colorbar": {
              "outlinewidth": 0,
              "ticks": ""
             }
            },
            "type": "scattercarpet"
           }
          ],
          "scattergeo": [
           {
            "marker": {
             "colorbar": {
              "outlinewidth": 0,
              "ticks": ""
             }
            },
            "type": "scattergeo"
           }
          ],
          "scattergl": [
           {
            "marker": {
             "line": {
              "color": "#283442"
             }
            },
            "type": "scattergl"
           }
          ],
          "scattermapbox": [
           {
            "marker": {
             "colorbar": {
              "outlinewidth": 0,
              "ticks": ""
             }
            },
            "type": "scattermapbox"
           }
          ],
          "scatterpolar": [
           {
            "marker": {
             "colorbar": {
              "outlinewidth": 0,
              "ticks": ""
             }
            },
            "type": "scatterpolar"
           }
          ],
          "scatterpolargl": [
           {
            "marker": {
             "colorbar": {
              "outlinewidth": 0,
              "ticks": ""
             }
            },
            "type": "scatterpolargl"
           }
          ],
          "scatterternary": [
           {
            "marker": {
             "colorbar": {
              "outlinewidth": 0,
              "ticks": ""
             }
            },
            "type": "scatterternary"
           }
          ],
          "surface": [
           {
            "colorbar": {
             "outlinewidth": 0,
             "ticks": ""
            },
            "colorscale": [
             [
              0,
              "#0d0887"
             ],
             [
              0.1111111111111111,
              "#46039f"
             ],
             [
              0.2222222222222222,
              "#7201a8"
             ],
             [
              0.3333333333333333,
              "#9c179e"
             ],
             [
              0.4444444444444444,
              "#bd3786"
             ],
             [
              0.5555555555555556,
              "#d8576b"
             ],
             [
              0.6666666666666666,
              "#ed7953"
             ],
             [
              0.7777777777777778,
              "#fb9f3a"
             ],
             [
              0.8888888888888888,
              "#fdca26"
             ],
             [
              1,
              "#f0f921"
             ]
            ],
            "type": "surface"
           }
          ],
          "table": [
           {
            "cells": {
             "fill": {
              "color": "#506784"
             },
             "line": {
              "color": "rgb(17,17,17)"
             }
            },
            "header": {
             "fill": {
              "color": "#2a3f5f"
             },
             "line": {
              "color": "rgb(17,17,17)"
             }
            },
            "type": "table"
           }
          ]
         },
         "layout": {
          "annotationdefaults": {
           "arrowcolor": "#f2f5fa",
           "arrowhead": 0,
           "arrowwidth": 1
          },
          "autotypenumbers": "strict",
          "coloraxis": {
           "colorbar": {
            "outlinewidth": 0,
            "ticks": ""
           }
          },
          "colorscale": {
           "diverging": [
            [
             0,
             "#8e0152"
            ],
            [
             0.1,
             "#c51b7d"
            ],
            [
             0.2,
             "#de77ae"
            ],
            [
             0.3,
             "#f1b6da"
            ],
            [
             0.4,
             "#fde0ef"
            ],
            [
             0.5,
             "#f7f7f7"
            ],
            [
             0.6,
             "#e6f5d0"
            ],
            [
             0.7,
             "#b8e186"
            ],
            [
             0.8,
             "#7fbc41"
            ],
            [
             0.9,
             "#4d9221"
            ],
            [
             1,
             "#276419"
            ]
           ],
           "sequential": [
            [
             0,
             "#0d0887"
            ],
            [
             0.1111111111111111,
             "#46039f"
            ],
            [
             0.2222222222222222,
             "#7201a8"
            ],
            [
             0.3333333333333333,
             "#9c179e"
            ],
            [
             0.4444444444444444,
             "#bd3786"
            ],
            [
             0.5555555555555556,
             "#d8576b"
            ],
            [
             0.6666666666666666,
             "#ed7953"
            ],
            [
             0.7777777777777778,
             "#fb9f3a"
            ],
            [
             0.8888888888888888,
             "#fdca26"
            ],
            [
             1,
             "#f0f921"
            ]
           ],
           "sequentialminus": [
            [
             0,
             "#0d0887"
            ],
            [
             0.1111111111111111,
             "#46039f"
            ],
            [
             0.2222222222222222,
             "#7201a8"
            ],
            [
             0.3333333333333333,
             "#9c179e"
            ],
            [
             0.4444444444444444,
             "#bd3786"
            ],
            [
             0.5555555555555556,
             "#d8576b"
            ],
            [
             0.6666666666666666,
             "#ed7953"
            ],
            [
             0.7777777777777778,
             "#fb9f3a"
            ],
            [
             0.8888888888888888,
             "#fdca26"
            ],
            [
             1,
             "#f0f921"
            ]
           ]
          },
          "colorway": [
           "#636efa",
           "#EF553B",
           "#00cc96",
           "#ab63fa",
           "#FFA15A",
           "#19d3f3",
           "#FF6692",
           "#B6E880",
           "#FF97FF",
           "#FECB52"
          ],
          "font": {
           "color": "#f2f5fa"
          },
          "geo": {
           "bgcolor": "rgb(17,17,17)",
           "lakecolor": "rgb(17,17,17)",
           "landcolor": "rgb(17,17,17)",
           "showlakes": true,
           "showland": true,
           "subunitcolor": "#506784"
          },
          "hoverlabel": {
           "align": "left"
          },
          "hovermode": "closest",
          "mapbox": {
           "style": "dark"
          },
          "paper_bgcolor": "rgb(17,17,17)",
          "plot_bgcolor": "rgb(17,17,17)",
          "polar": {
           "angularaxis": {
            "gridcolor": "#506784",
            "linecolor": "#506784",
            "ticks": ""
           },
           "bgcolor": "rgb(17,17,17)",
           "radialaxis": {
            "gridcolor": "#506784",
            "linecolor": "#506784",
            "ticks": ""
           }
          },
          "scene": {
           "xaxis": {
            "backgroundcolor": "rgb(17,17,17)",
            "gridcolor": "#506784",
            "gridwidth": 2,
            "linecolor": "#506784",
            "showbackground": true,
            "ticks": "",
            "zerolinecolor": "#C8D4E3"
           },
           "yaxis": {
            "backgroundcolor": "rgb(17,17,17)",
            "gridcolor": "#506784",
            "gridwidth": 2,
            "linecolor": "#506784",
            "showbackground": true,
            "ticks": "",
            "zerolinecolor": "#C8D4E3"
           },
           "zaxis": {
            "backgroundcolor": "rgb(17,17,17)",
            "gridcolor": "#506784",
            "gridwidth": 2,
            "linecolor": "#506784",
            "showbackground": true,
            "ticks": "",
            "zerolinecolor": "#C8D4E3"
           }
          },
          "shapedefaults": {
           "line": {
            "color": "#f2f5fa"
           }
          },
          "sliderdefaults": {
           "bgcolor": "#C8D4E3",
           "bordercolor": "rgb(17,17,17)",
           "borderwidth": 1,
           "tickwidth": 0
          },
          "ternary": {
           "aaxis": {
            "gridcolor": "#506784",
            "linecolor": "#506784",
            "ticks": ""
           },
           "baxis": {
            "gridcolor": "#506784",
            "linecolor": "#506784",
            "ticks": ""
           },
           "bgcolor": "rgb(17,17,17)",
           "caxis": {
            "gridcolor": "#506784",
            "linecolor": "#506784",
            "ticks": ""
           }
          },
          "title": {
           "x": 0.05
          },
          "updatemenudefaults": {
           "bgcolor": "#506784",
           "borderwidth": 0
          },
          "xaxis": {
           "automargin": true,
           "gridcolor": "#283442",
           "linecolor": "#506784",
           "ticks": "",
           "title": {
            "standoff": 15
           },
           "zerolinecolor": "#283442",
           "zerolinewidth": 2
          },
          "yaxis": {
           "automargin": true,
           "gridcolor": "#283442",
           "linecolor": "#506784",
           "ticks": "",
           "title": {
            "standoff": 15
           },
           "zerolinecolor": "#283442",
           "zerolinewidth": 2
          }
         }
        },
        "title": {
         "text": "How many samples were collected in 1m intervals and how many of them have been identified as ramp"
        },
        "xaxis": {
         "autorange": "reversed",
         "title": {
          "text": "Distance to ramp [m]"
         }
        },
        "yaxis": {
         "title": {
          "text": "Number of ramps detected"
         }
        }
       }
      }
     },
     "metadata": {},
     "output_type": "display_data"
    },
    {
     "name": "stdout",
     "output_type": "stream",
     "text": [
      "2021-10-19-15-43-09_hdl.bag\n",
      "Out of 28 recorded samples 17 were detected in the range of 4 to 10m before the ramp.\n",
      "Resulting in a score of 60.71%\n",
      "\n",
      "Of the 17 detected planes 61.64% inlier points were actually inside the ramp region.\n",
      "\n",
      "Of the 17 detected planes 11 had at least 50% of points inside the ramp region.\n",
      "Resulting in a score of 64.71%\n",
      "\n",
      "\n"
     ]
    },
    {
     "data": {
      "application/vnd.plotly.v1+json": {
       "config": {
        "plotlyServerURL": "https://plot.ly"
       },
       "data": [
        {
         "name": "False negatives (Not detected)",
         "offsetgroup": "0",
         "type": "bar",
         "x": [
          15,
          14,
          13,
          12,
          11,
          10,
          9,
          8,
          7,
          6,
          5,
          4,
          3,
          2,
          1,
          0,
          -1,
          -2,
          -3,
          -4
         ],
         "y": [
          0,
          4,
          12,
          9,
          7,
          6,
          6,
          5,
          5,
          5,
          4,
          6,
          5,
          6,
          8,
          12,
          22,
          20,
          22,
          18
         ]
        },
        {
         "name": "True positives (Detected)",
         "offsetgroup": "0",
         "type": "bar",
         "x": [
          15,
          14,
          13,
          12,
          11,
          10,
          9,
          8,
          7,
          6,
          5,
          4,
          3,
          2,
          1,
          0,
          -1,
          -2,
          -3,
          -4
         ],
         "y": [
          0,
          0,
          2,
          0,
          0,
          0,
          1,
          0,
          2,
          2,
          1,
          6,
          4,
          1,
          1,
          4,
          2,
          2,
          1,
          2
         ]
        }
       ],
       "layout": {
        "template": {
         "data": {
          "bar": [
           {
            "error_x": {
             "color": "#f2f5fa"
            },
            "error_y": {
             "color": "#f2f5fa"
            },
            "marker": {
             "line": {
              "color": "rgb(17,17,17)",
              "width": 0.5
             }
            },
            "type": "bar"
           }
          ],
          "barpolar": [
           {
            "marker": {
             "line": {
              "color": "rgb(17,17,17)",
              "width": 0.5
             }
            },
            "type": "barpolar"
           }
          ],
          "carpet": [
           {
            "aaxis": {
             "endlinecolor": "#A2B1C6",
             "gridcolor": "#506784",
             "linecolor": "#506784",
             "minorgridcolor": "#506784",
             "startlinecolor": "#A2B1C6"
            },
            "baxis": {
             "endlinecolor": "#A2B1C6",
             "gridcolor": "#506784",
             "linecolor": "#506784",
             "minorgridcolor": "#506784",
             "startlinecolor": "#A2B1C6"
            },
            "type": "carpet"
           }
          ],
          "choropleth": [
           {
            "colorbar": {
             "outlinewidth": 0,
             "ticks": ""
            },
            "type": "choropleth"
           }
          ],
          "contour": [
           {
            "colorbar": {
             "outlinewidth": 0,
             "ticks": ""
            },
            "colorscale": [
             [
              0,
              "#0d0887"
             ],
             [
              0.1111111111111111,
              "#46039f"
             ],
             [
              0.2222222222222222,
              "#7201a8"
             ],
             [
              0.3333333333333333,
              "#9c179e"
             ],
             [
              0.4444444444444444,
              "#bd3786"
             ],
             [
              0.5555555555555556,
              "#d8576b"
             ],
             [
              0.6666666666666666,
              "#ed7953"
             ],
             [
              0.7777777777777778,
              "#fb9f3a"
             ],
             [
              0.8888888888888888,
              "#fdca26"
             ],
             [
              1,
              "#f0f921"
             ]
            ],
            "type": "contour"
           }
          ],
          "contourcarpet": [
           {
            "colorbar": {
             "outlinewidth": 0,
             "ticks": ""
            },
            "type": "contourcarpet"
           }
          ],
          "heatmap": [
           {
            "colorbar": {
             "outlinewidth": 0,
             "ticks": ""
            },
            "colorscale": [
             [
              0,
              "#0d0887"
             ],
             [
              0.1111111111111111,
              "#46039f"
             ],
             [
              0.2222222222222222,
              "#7201a8"
             ],
             [
              0.3333333333333333,
              "#9c179e"
             ],
             [
              0.4444444444444444,
              "#bd3786"
             ],
             [
              0.5555555555555556,
              "#d8576b"
             ],
             [
              0.6666666666666666,
              "#ed7953"
             ],
             [
              0.7777777777777778,
              "#fb9f3a"
             ],
             [
              0.8888888888888888,
              "#fdca26"
             ],
             [
              1,
              "#f0f921"
             ]
            ],
            "type": "heatmap"
           }
          ],
          "heatmapgl": [
           {
            "colorbar": {
             "outlinewidth": 0,
             "ticks": ""
            },
            "colorscale": [
             [
              0,
              "#0d0887"
             ],
             [
              0.1111111111111111,
              "#46039f"
             ],
             [
              0.2222222222222222,
              "#7201a8"
             ],
             [
              0.3333333333333333,
              "#9c179e"
             ],
             [
              0.4444444444444444,
              "#bd3786"
             ],
             [
              0.5555555555555556,
              "#d8576b"
             ],
             [
              0.6666666666666666,
              "#ed7953"
             ],
             [
              0.7777777777777778,
              "#fb9f3a"
             ],
             [
              0.8888888888888888,
              "#fdca26"
             ],
             [
              1,
              "#f0f921"
             ]
            ],
            "type": "heatmapgl"
           }
          ],
          "histogram": [
           {
            "marker": {
             "colorbar": {
              "outlinewidth": 0,
              "ticks": ""
             }
            },
            "type": "histogram"
           }
          ],
          "histogram2d": [
           {
            "colorbar": {
             "outlinewidth": 0,
             "ticks": ""
            },
            "colorscale": [
             [
              0,
              "#0d0887"
             ],
             [
              0.1111111111111111,
              "#46039f"
             ],
             [
              0.2222222222222222,
              "#7201a8"
             ],
             [
              0.3333333333333333,
              "#9c179e"
             ],
             [
              0.4444444444444444,
              "#bd3786"
             ],
             [
              0.5555555555555556,
              "#d8576b"
             ],
             [
              0.6666666666666666,
              "#ed7953"
             ],
             [
              0.7777777777777778,
              "#fb9f3a"
             ],
             [
              0.8888888888888888,
              "#fdca26"
             ],
             [
              1,
              "#f0f921"
             ]
            ],
            "type": "histogram2d"
           }
          ],
          "histogram2dcontour": [
           {
            "colorbar": {
             "outlinewidth": 0,
             "ticks": ""
            },
            "colorscale": [
             [
              0,
              "#0d0887"
             ],
             [
              0.1111111111111111,
              "#46039f"
             ],
             [
              0.2222222222222222,
              "#7201a8"
             ],
             [
              0.3333333333333333,
              "#9c179e"
             ],
             [
              0.4444444444444444,
              "#bd3786"
             ],
             [
              0.5555555555555556,
              "#d8576b"
             ],
             [
              0.6666666666666666,
              "#ed7953"
             ],
             [
              0.7777777777777778,
              "#fb9f3a"
             ],
             [
              0.8888888888888888,
              "#fdca26"
             ],
             [
              1,
              "#f0f921"
             ]
            ],
            "type": "histogram2dcontour"
           }
          ],
          "mesh3d": [
           {
            "colorbar": {
             "outlinewidth": 0,
             "ticks": ""
            },
            "type": "mesh3d"
           }
          ],
          "parcoords": [
           {
            "line": {
             "colorbar": {
              "outlinewidth": 0,
              "ticks": ""
             }
            },
            "type": "parcoords"
           }
          ],
          "pie": [
           {
            "automargin": true,
            "type": "pie"
           }
          ],
          "scatter": [
           {
            "marker": {
             "line": {
              "color": "#283442"
             }
            },
            "type": "scatter"
           }
          ],
          "scatter3d": [
           {
            "line": {
             "colorbar": {
              "outlinewidth": 0,
              "ticks": ""
             }
            },
            "marker": {
             "colorbar": {
              "outlinewidth": 0,
              "ticks": ""
             }
            },
            "type": "scatter3d"
           }
          ],
          "scattercarpet": [
           {
            "marker": {
             "colorbar": {
              "outlinewidth": 0,
              "ticks": ""
             }
            },
            "type": "scattercarpet"
           }
          ],
          "scattergeo": [
           {
            "marker": {
             "colorbar": {
              "outlinewidth": 0,
              "ticks": ""
             }
            },
            "type": "scattergeo"
           }
          ],
          "scattergl": [
           {
            "marker": {
             "line": {
              "color": "#283442"
             }
            },
            "type": "scattergl"
           }
          ],
          "scattermapbox": [
           {
            "marker": {
             "colorbar": {
              "outlinewidth": 0,
              "ticks": ""
             }
            },
            "type": "scattermapbox"
           }
          ],
          "scatterpolar": [
           {
            "marker": {
             "colorbar": {
              "outlinewidth": 0,
              "ticks": ""
             }
            },
            "type": "scatterpolar"
           }
          ],
          "scatterpolargl": [
           {
            "marker": {
             "colorbar": {
              "outlinewidth": 0,
              "ticks": ""
             }
            },
            "type": "scatterpolargl"
           }
          ],
          "scatterternary": [
           {
            "marker": {
             "colorbar": {
              "outlinewidth": 0,
              "ticks": ""
             }
            },
            "type": "scatterternary"
           }
          ],
          "surface": [
           {
            "colorbar": {
             "outlinewidth": 0,
             "ticks": ""
            },
            "colorscale": [
             [
              0,
              "#0d0887"
             ],
             [
              0.1111111111111111,
              "#46039f"
             ],
             [
              0.2222222222222222,
              "#7201a8"
             ],
             [
              0.3333333333333333,
              "#9c179e"
             ],
             [
              0.4444444444444444,
              "#bd3786"
             ],
             [
              0.5555555555555556,
              "#d8576b"
             ],
             [
              0.6666666666666666,
              "#ed7953"
             ],
             [
              0.7777777777777778,
              "#fb9f3a"
             ],
             [
              0.8888888888888888,
              "#fdca26"
             ],
             [
              1,
              "#f0f921"
             ]
            ],
            "type": "surface"
           }
          ],
          "table": [
           {
            "cells": {
             "fill": {
              "color": "#506784"
             },
             "line": {
              "color": "rgb(17,17,17)"
             }
            },
            "header": {
             "fill": {
              "color": "#2a3f5f"
             },
             "line": {
              "color": "rgb(17,17,17)"
             }
            },
            "type": "table"
           }
          ]
         },
         "layout": {
          "annotationdefaults": {
           "arrowcolor": "#f2f5fa",
           "arrowhead": 0,
           "arrowwidth": 1
          },
          "autotypenumbers": "strict",
          "coloraxis": {
           "colorbar": {
            "outlinewidth": 0,
            "ticks": ""
           }
          },
          "colorscale": {
           "diverging": [
            [
             0,
             "#8e0152"
            ],
            [
             0.1,
             "#c51b7d"
            ],
            [
             0.2,
             "#de77ae"
            ],
            [
             0.3,
             "#f1b6da"
            ],
            [
             0.4,
             "#fde0ef"
            ],
            [
             0.5,
             "#f7f7f7"
            ],
            [
             0.6,
             "#e6f5d0"
            ],
            [
             0.7,
             "#b8e186"
            ],
            [
             0.8,
             "#7fbc41"
            ],
            [
             0.9,
             "#4d9221"
            ],
            [
             1,
             "#276419"
            ]
           ],
           "sequential": [
            [
             0,
             "#0d0887"
            ],
            [
             0.1111111111111111,
             "#46039f"
            ],
            [
             0.2222222222222222,
             "#7201a8"
            ],
            [
             0.3333333333333333,
             "#9c179e"
            ],
            [
             0.4444444444444444,
             "#bd3786"
            ],
            [
             0.5555555555555556,
             "#d8576b"
            ],
            [
             0.6666666666666666,
             "#ed7953"
            ],
            [
             0.7777777777777778,
             "#fb9f3a"
            ],
            [
             0.8888888888888888,
             "#fdca26"
            ],
            [
             1,
             "#f0f921"
            ]
           ],
           "sequentialminus": [
            [
             0,
             "#0d0887"
            ],
            [
             0.1111111111111111,
             "#46039f"
            ],
            [
             0.2222222222222222,
             "#7201a8"
            ],
            [
             0.3333333333333333,
             "#9c179e"
            ],
            [
             0.4444444444444444,
             "#bd3786"
            ],
            [
             0.5555555555555556,
             "#d8576b"
            ],
            [
             0.6666666666666666,
             "#ed7953"
            ],
            [
             0.7777777777777778,
             "#fb9f3a"
            ],
            [
             0.8888888888888888,
             "#fdca26"
            ],
            [
             1,
             "#f0f921"
            ]
           ]
          },
          "colorway": [
           "#636efa",
           "#EF553B",
           "#00cc96",
           "#ab63fa",
           "#FFA15A",
           "#19d3f3",
           "#FF6692",
           "#B6E880",
           "#FF97FF",
           "#FECB52"
          ],
          "font": {
           "color": "#f2f5fa"
          },
          "geo": {
           "bgcolor": "rgb(17,17,17)",
           "lakecolor": "rgb(17,17,17)",
           "landcolor": "rgb(17,17,17)",
           "showlakes": true,
           "showland": true,
           "subunitcolor": "#506784"
          },
          "hoverlabel": {
           "align": "left"
          },
          "hovermode": "closest",
          "mapbox": {
           "style": "dark"
          },
          "paper_bgcolor": "rgb(17,17,17)",
          "plot_bgcolor": "rgb(17,17,17)",
          "polar": {
           "angularaxis": {
            "gridcolor": "#506784",
            "linecolor": "#506784",
            "ticks": ""
           },
           "bgcolor": "rgb(17,17,17)",
           "radialaxis": {
            "gridcolor": "#506784",
            "linecolor": "#506784",
            "ticks": ""
           }
          },
          "scene": {
           "xaxis": {
            "backgroundcolor": "rgb(17,17,17)",
            "gridcolor": "#506784",
            "gridwidth": 2,
            "linecolor": "#506784",
            "showbackground": true,
            "ticks": "",
            "zerolinecolor": "#C8D4E3"
           },
           "yaxis": {
            "backgroundcolor": "rgb(17,17,17)",
            "gridcolor": "#506784",
            "gridwidth": 2,
            "linecolor": "#506784",
            "showbackground": true,
            "ticks": "",
            "zerolinecolor": "#C8D4E3"
           },
           "zaxis": {
            "backgroundcolor": "rgb(17,17,17)",
            "gridcolor": "#506784",
            "gridwidth": 2,
            "linecolor": "#506784",
            "showbackground": true,
            "ticks": "",
            "zerolinecolor": "#C8D4E3"
           }
          },
          "shapedefaults": {
           "line": {
            "color": "#f2f5fa"
           }
          },
          "sliderdefaults": {
           "bgcolor": "#C8D4E3",
           "bordercolor": "rgb(17,17,17)",
           "borderwidth": 1,
           "tickwidth": 0
          },
          "ternary": {
           "aaxis": {
            "gridcolor": "#506784",
            "linecolor": "#506784",
            "ticks": ""
           },
           "baxis": {
            "gridcolor": "#506784",
            "linecolor": "#506784",
            "ticks": ""
           },
           "bgcolor": "rgb(17,17,17)",
           "caxis": {
            "gridcolor": "#506784",
            "linecolor": "#506784",
            "ticks": ""
           }
          },
          "title": {
           "x": 0.05
          },
          "updatemenudefaults": {
           "bgcolor": "#506784",
           "borderwidth": 0
          },
          "xaxis": {
           "automargin": true,
           "gridcolor": "#283442",
           "linecolor": "#506784",
           "ticks": "",
           "title": {
            "standoff": 15
           },
           "zerolinecolor": "#283442",
           "zerolinewidth": 2
          },
          "yaxis": {
           "automargin": true,
           "gridcolor": "#283442",
           "linecolor": "#506784",
           "ticks": "",
           "title": {
            "standoff": 15
           },
           "zerolinecolor": "#283442",
           "zerolinewidth": 2
          }
         }
        },
        "title": {
         "text": "How many samples were collected in 1m intervals and how many of them have been identified as ramp"
        },
        "xaxis": {
         "autorange": "reversed",
         "title": {
          "text": "Distance to ramp [m]"
         }
        },
        "yaxis": {
         "title": {
          "text": "Number of ramps detected"
         }
        }
       }
      }
     },
     "metadata": {},
     "output_type": "display_data"
    },
    {
     "name": "stdout",
     "output_type": "stream",
     "text": [
      "2021-10-19-15-52-21_hdl.bag\n",
      "Out of 31 recorded samples 12 were detected in the range of 4 to 10m before the ramp.\n",
      "Resulting in a score of 38.71%\n",
      "\n",
      "Of the 12 detected planes 65.87% inlier points were actually inside the ramp region.\n",
      "\n",
      "Of the 12 detected planes 9 had at least 50% of points inside the ramp region.\n",
      "Resulting in a score of 75.00%\n",
      "\n",
      "\n"
     ]
    }
   ],
   "source": [
    "# Rosbag names to evaluate\n",
    "bag_names = [\n",
    "    '2021-10-19-15-30-50_hdl.bag', \n",
    "    '2021-10-19-15-43-09_hdl.bag', \n",
    "    '2021-10-19-15-52-21_hdl.bag']\n",
    "    \n",
    "# Ground truth ramp region for each bag\n",
    "xy_range = [[[24, 36], [-2.6, 1.5]],\n",
    "            [[20, 32], [-1.4, 2.5]], \n",
    "            [[14.5, 24], [1.5, 5.8]]]\n",
    "\n",
    "scores = []\n",
    "for i,bag_name in enumerate(bag_names):\n",
    "    # Extract ramp region data\n",
    "    x_range, y_range = xy_range[i]\n",
    "    # Create instance of class\n",
    "    gs = GetScore(bag_name, x_range, y_range)\n",
    "    score = gs.boss_method()\n",
    "    scores.append(score)"
   ]
  }
 ],
 "metadata": {
  "interpreter": {
   "hash": "767d51c1340bd893661ea55ea3124f6de3c7a262a8b4abca0554b478b1e2ff90"
  },
  "kernelspec": {
   "display_name": "Python 2.7.17 64-bit",
   "name": "python3"
  },
  "language_info": {
   "codemirror_mode": {
    "name": "ipython",
    "version": 2
   },
   "file_extension": ".py",
   "mimetype": "text/x-python",
   "name": "python",
   "nbconvert_exporter": "python",
   "pygments_lexer": "ipython2",
   "version": "2.7.17"
  }
 },
 "nbformat": 4,
 "nbformat_minor": 5
}
