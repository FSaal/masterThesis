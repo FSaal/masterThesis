{
 "cells": [
  {
   "cell_type": "markdown",
   "metadata": {},
   "source": [
    "#### Importing the required libraries"
   ]
  },
  {
   "cell_type": "code",
   "execution_count": null,
   "metadata": {
    "jupyter": {
     "source_hidden": true
    },
    "tags": []
   },
   "outputs": [],
   "source": [
    "import bagpy\n",
    "import matplotlib.pyplot as plt\n",
    "import numpy as np\n",
    "import pandas as pd\n",
    "from scipy import signal\n",
    "from scipy.spatial.transform import Rotation as R\n",
    "# from tf.transformations import unit_vector, vector_norm, quaternion_conjugate, quaternion_multiply, euler_matrix, quaternion_matrix\n",
    "\n",
    "# Standard plotly imports\n",
    "import plotly.graph_objects as go\n",
    "from plotly.offline import iplot, init_notebook_mode\n",
    "import plotly.express as px\n",
    "import plotly.io as pio\n",
    "pio.templates.default = 'plotly_dark'"
   ]
  },
  {
   "cell_type": "markdown",
   "metadata": {},
   "source": [
    "#### Importing the data"
   ]
  },
  {
   "cell_type": "code",
   "execution_count": null,
   "metadata": {
    "tags": []
   },
   "outputs": [],
   "source": [
    "os = 'ubuntu'\n",
    "# os = 'windows'"
   ]
  },
  {
   "cell_type": "code",
   "execution_count": null,
   "metadata": {
    "jupyter": {
     "source_hidden": true
    },
    "tags": []
   },
   "outputs": [],
   "source": [
    "# beide rampen mehrmals hoch und runter (auch rückwärts)\n",
    "bag_file_name = '2021-06-30-14-48-17.bag'\n",
    "if os == 'ubuntu':\n",
    "    filepath = '/home/user/rosbags/' + bag_file_name\n",
    "if os == 'windows':\n",
    "    filepath = r\"C:\\Users\\FSaal\\Google Drive\\Uni\\Masterarbeit\\{}\".format(bag_file_name)\n",
    "\n",
    "# Load rosbag\n",
    "bag = bagpy.bagreader(filepath)\n",
    "# bag.topic_table\n",
    "\n",
    "# Extract recorded topics/messages\n",
    "imu = bag.message_by_topic('/imu/data_raw')\n",
    "tab_imu = pd.read_csv(imu)\n",
    "ang_vel = np.asarray(tab_imu.iloc[:,18:21])\n",
    "lin_acc = np.asarray(tab_imu.iloc[:,30:33])\n",
    "\n",
    "odom = bag.message_by_topic('/eGolf/sensors/odometry')\n",
    "tab_odom = pd.read_csv(odom)\n",
    "odom = np.asarray(tab_odom.iloc[:,-5:])\n",
    "\n",
    "# Frequency defintion\n",
    "f_imu = 100 # Hz\n",
    "f_odom = 100 # Hz\n",
    "\n",
    "t = np.linspace(0, lin_acc.shape[0]/f_imu, lin_acc.shape[0])"
   ]
  },
  {
   "cell_type": "markdown",
   "metadata": {
    "tags": []
   },
   "source": [
    "#### Helper functions"
   ]
  },
  {
   "cell_type": "code",
   "execution_count": null,
   "metadata": {
    "tags": []
   },
   "outputs": [],
   "source": [
    "def plotAngle(title_ext, car_angle, *additional_data):\n",
    "    if not additional_data:\n",
    "        fig = px.line(pd.DataFrame(data=car_angle, index=t))\n",
    "        fig.update_layout(yaxis_range=[-10,10], xaxis_title='Time [s]', yaxis_title='$[deg]$', title='Car pitch angle using {}'.format(title_ext), showlegend=False)\n",
    "    else:\n",
    "        signal = additional_data[0]\n",
    "        custom_legend = additional_data[1]\n",
    "        fig = px.line(pd.DataFrame(data=np.vstack([car_angle, signal]).T, index=t, columns=custom_legend))\n",
    "        fig.update_layout(yaxis_range=[-10,10], xaxis_title='Time [s]', yaxis_title='$[deg]$', title='Car pitch angle using {}'.format(title_ext))\n",
    "        if len(additional_data) == 3:\n",
    "            hide_data = additional_data[2]\n",
    "            fig.for_each_trace(lambda trace: trace.update(visible='legendonly')\n",
    "                  if trace.name in hide_data else ())\n",
    "    fig.show()\n",
    "    \n",
    "# Functions to replace the functions from tf.transformations (**only execute if on Windows**)\n",
    "def vector_norm(v):\n",
    "    return np.linalg.norm(v)\n",
    "\n",
    "def unit_vector(v):\n",
    "    mag = vector_norm(v)\n",
    "    return v / mag\n",
    "\n",
    "def quaternion_matrix(q):\n",
    "    return R.from_quat(q).as_matrix()\n",
    "\n",
    "def quaternion_multiply(q0, q1):\n",
    "    x0, y0, z0, w0 = q0\n",
    "    x1, y1, z1, w1 = q1\n",
    "    return np.array([-x1 * x0 - y1 * y0 - z1 * z0 + w1 * w0,\n",
    "                     x1 * w0 + y1 * z0 - z1 * y0 + w1 * x0,\n",
    "                     -x1 * z0 + y1 * w0 + z1 * x0 + w1 * y0,\n",
    "                     x1 * y0 - y1 * x0 + z1 * w0 + w1 * z0], dtype=np.float64)\n",
    "\n",
    "def quaternion_conjugate(q):\n",
    "    return np.hstack([-q[:-1], q[-1]])\n",
    "\n",
    "def euler_matrix(x, y, z, nvm):\n",
    "    if x != 0:\n",
    "        return R.from_euler('x', x).as_matrix()\n",
    "    if y != 0:\n",
    "        return R.from_euler('y', y).as_matrix()\n",
    "    else:\n",
    "        return R.from_euler('z', z).as_matrix()"
   ]
  },
  {
   "cell_type": "markdown",
   "metadata": {},
   "source": [
    "### Plot measurements\n",
    "Beide rampen mehrmals hoch und runter (auch rückwärts)"
   ]
  },
  {
   "cell_type": "code",
   "execution_count": null,
   "metadata": {
    "jupyter": {
     "source_hidden": true
    },
    "tags": []
   },
   "outputs": [],
   "source": [
    "fig = px.line(pd.DataFrame(data=ang_vel, columns=['x','y','z'], index=t))\n",
    "fig.update_layout(xaxis_title='Time [s]', yaxis_title='$\\mathrm{[rad/s]}$', title='Angular velocity')\n",
    "fig.show()\n",
    "\n",
    "fig = px.line(pd.DataFrame(data=lin_acc, columns=['x','y','z'], index=t))\n",
    "fig.update_layout(xaxis_title='Time [s]', yaxis_title='$\\mathrm{[ms^{-2}]}$', title='Linear acceleration')\n",
    "fig.show()"
   ]
  },
  {
   "cell_type": "markdown",
   "metadata": {},
   "source": [
    "# Align device (IMU) frame with car frame\n",
    "<img style=\"float: right;\" src=\"Images/imu_orientation.png\" width=\"25%\"> \n",
    "\n",
    "### Orientation of IMU and car:\n",
    "\n",
    "- IMU frame is shown in picture\n",
    "- Car frame has x-axis forward, y-axis to the left and z-axis up \n",
    "- The ZED Cam and IMU are mounted on the car as seen in the picture (but usually the camera is slightly tilted up), with the lenses facing in forward direction\n",
    "\n",
    "### Steps to get rotation:\n",
    "#### Step 1) Get correct z-axis\n",
    "- Find rotation matrix, such that measured **g vector aligns with z-axis** (of car) $\\rightarrow$ results in correct inclination and roll\n",
    "- This is done by using the linear acceleration measurement during stand still (record 1s and take average)\n",
    "- Calculate vector norm and unit vector, because the car stands still it can be assumed that the only measured accleration is the gravity acceleration and thus the vector ```g_imu = unit_vector(lin_acc_imu)``` is the gravity vector\n",
    "- Rotate the gravity vector on to the desired vector ```g_car = [0,0,1]``` by calculating the needed rotation axis $$ax = \\frac{g_\\mathrm{imu}\\cdot g_\\mathrm{car}}{\\lVert g_\\mathrm{imu}\\times g_\\mathrm{car} \\rVert}$$ and the needed rotation angle $$\\alpha = \\arctan\\left(\\frac{\\lVert g_\\mathrm{imu}\\times g_\\mathrm{car}\\rVert}{g_\\mathrm{imu}\\cdot g_\\mathrm{car}}\\right) $$ which then leads to the following quaternion $$q=[ax\\cdot\\sin(\\frac{\\alpha}{2}),\\quad \\cos(\\frac{\\alpha}{2})]$$\n",
    "- atm the quaternion will be converted to a rotation matrix ```rotmat1```\n",
    "- Apply rotation to IMU measurements\n",
    "\n",
    "\n",
    "#### Step 2) Get correct x-axis and y-axis\n",
    "- Find rotation matrix to **correct the heading**\n",
    "- In the previous step the z-axis was already aligned, to get the correct x-axis and y-axis a rotation around the z-axis is neccessary\n",
    "- This is done by accelerating the car in forward direction and recording the linear acceleration measurement during the process\n",
    "- Because the z-axis is already aligned, the forward acceleration should only be measured by the x- and y-axis\n",
    "- Now rotate around the z-axis with different rotation angles and search for the angle, which maximizes the linear acceleration values of the x-axis (or minimizes the y-axis values)\n",
    "- Rotation axis ([0, 0, 1]) and rotation angle is now known and the second rotation matrix ```rotmat2``` can be calculated\n",
    "\n",
    "\n",
    "#### Step 3) Get final rotation matrix\n",
    "- Find rotation to transform from the IMU frame to the car frame\n",
    "- Rotation matrix concatenation is always in reverse order and hence the final rotation matrix can be calculated using ```mat_imu_car = rotmat2 * rotmat1```"
   ]
  },
  {
   "cell_type": "markdown",
   "metadata": {},
   "source": [
    "## Step 1) Align IMU g vector with z-axis"
   ]
  },
  {
   "cell_type": "code",
   "execution_count": null,
   "metadata": {},
   "outputs": [],
   "source": [
    "# Ideal normed g measurement in car frame\n",
    "g_car = [0, 0, 1] \n",
    "\n",
    "def trafo1(lin_acc):\n",
    "    \"\"\"Rotation to align IMU measured g-vector with car z-axis\n",
    "    :param lin_acc: Linear acceleration while car stands still\n",
    "    :return:        Quaternion\n",
    "    \"\"\"\n",
    "    g_mag = vector_norm(np.mean(lin_acc, axis=0))\n",
    "    print('Average linear acceleration magnitude: {}  (should ideally be 9.81)'.format(round(g_mag, 2)))\n",
    "    g_imu = unit_vector(np.mean(lin_acc, axis=0))\n",
    "    quat = quat_from_vectors(g_imu, g_car)\n",
    "    return quat\n",
    "\n",
    "def quat_from_vectors(vec1, vec2):\n",
    "    \"\"\"Quaternion that aligns vec1 to vec2\n",
    "    :param vec1: A 3d \"source\" vector\n",
    "    :param vec2: A 3d \"destination\" vector\n",
    "    :return quat: A quaternion [x, y, z, w] which when applied to vec1, aligns it with vec2\n",
    "    \"\"\"\n",
    "    a, b = unit_vector(vec1), unit_vector(vec2)\n",
    "    c = np.cross(a, b)\n",
    "    d = np.dot(a, b)\n",
    "    \n",
    "    # Rotation axis\n",
    "    ax = c / vector_norm(c)\n",
    "    # Rotation angle\n",
    "    a = np.arctan2(vector_norm(c), d)\n",
    "\n",
    "    quat = np.append(ax*np.sin(a/2), np.cos(a/2))\n",
    "    return quat\n",
    "\n",
    "def quaternion_rotate(q, v):\n",
    "    rot_vec = []\n",
    "    if v.ndim == 1:\n",
    "        v = np.append(v, 0)\n",
    "        rot_vec = quaternion_multiply(quaternion_multiply(q, v), quaternion_conjugate(q))[:-1]\n",
    "    else:\n",
    "        v = np.hstack((v, np.zeros((v.shape[0],1))))\n",
    "        for vec in v:\n",
    "            rot_vec.append(quaternion_multiply(quaternion_multiply(q, vec), quaternion_conjugate(q))[:-1])\n",
    "    return np.asarray(rot_vec)\n",
    "\n",
    "# Use first second of linear acceleration data\n",
    "quat1 = trafo1(lin_acc[:100])\n",
    "# Convert quaternion to rotation matrix\n",
    "rot_mat1 = quaternion_matrix(quat1)[:3,:3]\n",
    "# Apply rotation\n",
    "acc_rot1_quat = quaternion_rotate(quat1, lin_acc)\n",
    "acc_rot1 = np.inner(rot_mat1, lin_acc).T"
   ]
  },
  {
   "cell_type": "code",
   "execution_count": null,
   "metadata": {},
   "outputs": [],
   "source": [
    "print(quat1)\n",
    "quat1_1 = np.append(quat1[-1], quat1[:3])\n",
    "print(quat1_1)"
   ]
  },
  {
   "cell_type": "code",
   "execution_count": null,
   "metadata": {},
   "outputs": [],
   "source": [
    "quaternion_rotate(quat1_1, lin_acc)"
   ]
  },
  {
   "cell_type": "code",
   "execution_count": null,
   "metadata": {},
   "outputs": [],
   "source": [
    "acc_rot1"
   ]
  },
  {
   "cell_type": "markdown",
   "metadata": {},
   "source": [
    "## Step 2) Get correct x-axis and y-axis\n",
    "By looking at the data (linear acceleration after first rotation) the start of acceleration was determined to be at around 5-7s"
   ]
  },
  {
   "cell_type": "code",
   "execution_count": null,
   "metadata": {
    "tags": []
   },
   "outputs": [],
   "source": [
    "fig = px.line(pd.DataFrame(data=lin_acc[:1000], columns=['x','y','z'], index=t[:1000]))\n",
    "fig.add_vrect(x0=5, x1=7, fillcolor='aqua', opacity=0.2)\n",
    "fig.update_layout(xaxis_title='Time [s]', yaxis_title='$\\mathrm{[ms^{-2}]}$', title='Linear acceleration - First 10s')\n",
    "\n",
    "fig.show()"
   ]
  },
  {
   "cell_type": "code",
   "execution_count": null,
   "metadata": {},
   "outputs": [],
   "source": [
    "def find_z_angle(lin_acc_rot):\n",
    "    \"\"\" Find the yaw angle to align IMU x-axis with x-axis of car \n",
    "    :param lin_acc:     Linear acceleration while car accelerates after first rotation\n",
    "    :return ang_opt:    Rotation angle around z-axis in rad\n",
    "    \"\"\"\n",
    "    x_mean_old = 0\n",
    "    # Precision of returned rotation angle in deg\n",
    "    ang_precision = 0.1\n",
    "    # Max expected yaw angle deviation of IMU from facing straight forward (expected to be 90)\n",
    "    ang_error = np.deg2rad(180)\n",
    "\n",
    "    # Find rotation angle around z-axis which maximizes the measurements of x-axis\n",
    "    for i in np.arange(-ang_error, ang_error, np.deg2rad(ang_precision)):\n",
    "        # Apply rotation of i rad around z-axis\n",
    "        rot_mat = euler_matrix(0, 0, i, 'sxyz')[:3,:3]\n",
    "        z_rot = np.inner(rot_mat, lin_acc_rot).T\n",
    "        \n",
    "        x_mean = np.mean(z_rot[:,0])\n",
    "        if x_mean > x_mean_old:\n",
    "            x_mean_old = x_mean\n",
    "            ang_opt = i\n",
    "    print('Yaw angle was corrected by {} degree'.format(np.degrees(ang_opt)))\n",
    "    return ang_opt\n",
    "\n",
    "def trafo2(lin_acc, rot_mat1):\n",
    "    \"\"\" Find rotation matrix to correct yaw angle error and combine with previous rotation matrix\n",
    "    :param lin_acc:             Linear acceleration while car accelerates\n",
    "    :param rot_mat1:            Rotation matrix from the first transform step\n",
    "    :return rot_mat_imu_car:    Rotation matrix to transform IMU frame to car frame\n",
    "    \"\"\"\n",
    "    # Apply first rotation (trafo1)\n",
    "    lin_acc_rot1 = np.inner(rot_mat1, lin_acc).T\n",
    "    # Get second rotation\n",
    "    z_angle = find_z_angle(lin_acc_rot1)\n",
    "    # Second rotation matrix for yaw correction\n",
    "    rot_mat2 = euler_matrix(0, 0, z_angle, 'sxyz')[:3,:3]\n",
    "\n",
    "    rot_mat_imu_car = np.matmul(rot_mat2, rot_mat1)\n",
    "    return rot_mat_imu_car\n",
    "\n",
    "# Use 5s-7s of linear acceleration data\n",
    "tf_imu_car = trafo2(lin_acc[500:700], rot_mat1)\n",
    "# Apply rotation\n",
    "#acc_rot2 = quaternion_rotate(quat1, lin_acc)\n",
    "acc_rot2 = np.inner(tf_imu_car, lin_acc).T"
   ]
  },
  {
   "cell_type": "code",
   "execution_count": null,
   "metadata": {
    "tags": []
   },
   "outputs": [],
   "source": [
    "fig = px.line(pd.DataFrame(data=np.hstack([lin_acc, acc_rot1, acc_rot2]), columns=['x0','y0','z0','x1','y1','z1','x2','y2','z2'], index=t))\n",
    "fig.update_layout(xaxis_title='Time [s]', yaxis_title='$\\mathrm{[ms^{-2}]}$', \n",
    "                  title='Linear acceleration from IMU [0], after heading alignment [1], after z-axis alignment [2]')\n",
    "fig.for_each_trace(lambda trace: trace.update(visible='legendonly')\n",
    "                  if trace.name in ['x0','y0','z0','x1','y1','z1'] else ())\n",
    "fig.show()"
   ]
  },
  {
   "cell_type": "markdown",
   "metadata": {
    "tags": []
   },
   "source": [
    "# Pitch angle car calculation\n",
    "<img style=\"float: right;\" src=\"Images/roadGradeEstimation.png\" width=\"40%\"> \n",
    "The first idea to calculate the pitch angle would be using the so called acceleration method. Using the forward (x-axis after tf to car frame) linear acceleration measurements of the IMU and the odometry measurements the angle can be calculated using\n",
    "\\begin{equation*}\n",
    "\\alpha =\\arcsin\\left(\\frac{a_x-a_{at}}{g}\\right)=\\arcsin\\left(\\frac{a_x-\\frac{dv}{dt}}{g}\\right) = \\arctan2(a_x,a_z)\n",
    "\\end{equation*}\n",
    "with:\n",
    "\n",
    "- $a_x$: IMU acceleration measurements of forward-axis in car frame (x-axis)\n",
    "- $\\frac{dv}{dt}$: longitudinal acceleration (vehicle acceleration from odometry)\n",
    "    - can be calculated by using \"Einspurmodell\" on wheel speed measurements to get car velocity and then deriving car velocity with respect to time to get the acceleration\n",
    "- $g$: earths gravitational acceleration (magnitude)\n",
    "\n"
   ]
  },
  {
   "cell_type": "markdown",
   "metadata": {},
   "source": [
    "### Checking how noisy the data is\n",
    "\n",
    "Because the car velocity is time discrete a derivation of the signal can lead to large jumps. This can be seen in the car acceleration plot, without filtering the car velocity the derived signal is not really usable.\n",
    "\n",
    "The IMU measurement is also quite a noisy."
   ]
  },
  {
   "cell_type": "code",
   "execution_count": null,
   "metadata": {
    "tags": []
   },
   "outputs": [],
   "source": [
    "def car_vel_acc_from_odom(odom):\n",
    "    wheelbase = 2.631 # m\n",
    "    #alpha = (msg.rear_left_wheel_speed - msg.rear_right_wheel_speed) / self.wheelbase\n",
    "    alpha = (odom[:,2] - odom[:,3]) / wheelbase\n",
    "    yaw = alpha * 1.0 / f_odom\n",
    "    # 3.6 to convert from km/h to m/s\n",
    "    #car_vel_x = ((msg.rear_left_wheel_speed + msg.rear_right_wheel_speed) / 2) * np.cos(yaw) / 3.6\n",
    "    vel_x_car = ((odom[:,2] + odom[:,3]) / 2) * np.cos(yaw) / 3.6\n",
    "    acc_x_car = acc_from_vel(vel_x_car)\n",
    "    return vel_x_car, acc_x_car\n",
    "\n",
    "def acc_from_vel(vel):\n",
    "    acc = []\n",
    "    for i in range(len(vel)-1):\n",
    "        a = (vel[i+1] - vel[i]) / (1.0/f_odom)\n",
    "        acc.append(a)\n",
    "    acc.append(a)\n",
    "    acc.append(a)\n",
    "    return acc\n",
    "\n",
    "vel_x_car, acc_x_car = car_vel_acc_from_odom(odom)\n",
    "acc_x_imu = acc_rot2[:,0]\n",
    "\n",
    "fig = px.line(pd.DataFrame(data=vel_x_car, index=t[:-1]))\n",
    "fig.update_layout(xaxis_title='Time [s]', yaxis_title='$\\mathrm{[ms^{-1}]}$', title='Car velocity', showlegend=False)\n",
    "fig.show()\n",
    "fig = px.line(pd.DataFrame(data=acc_x_car, index=t))\n",
    "fig.update_layout(xaxis_title='Time [s]', yaxis_title='$\\mathrm{[ms^{-2}]}$', title='Car acceleration', showlegend=False)\n",
    "fig.show()\n",
    "fig = px.line(pd.DataFrame(data=acc_x_imu, index=t))\n",
    "fig.update_layout(xaxis_title='Time [s]', yaxis_title='$\\mathrm{[ms^{-2}]}$', title='Imu forward acceleration', showlegend=False)\n",
    "fig.show()"
   ]
  },
  {
   "cell_type": "markdown",
   "metadata": {},
   "source": [
    "### Calculate car pitch angle using the unfiltered data\n",
    "\n",
    "Demonstration of the results without any filtering. Using only the IMU measurements (no $-a_{at}$ part) the course is somewhat recognizable (e.g. still stand on ramp at 20-30s), but every acceleration on a flat surface also leads to a change of the angle (e.g. at 7s).  \n",
    "The result when also using the odometry data is not useable at all though, because the car acceleration from the derived car velocity is very volatile."
   ]
  },
  {
   "cell_type": "code",
   "execution_count": null,
   "metadata": {
    "tags": []
   },
   "outputs": [],
   "source": [
    "def pitch_car(acc_x):\n",
    "    deg = np.degrees(np.arcsin(acc_x/g_mag))\n",
    "    return deg\n",
    "\n",
    "def pitch_car_odom(acc_x_imu, acc_x_car = None):\n",
    "    if acc_x_car == None:\n",
    "        _, acc_x_car = car_vel_acc_from_odom(odom)\n",
    "    deg = np.degrees(np.arcsin((acc_x_imu - acc_x_car) / g_mag))\n",
    "    return deg\n",
    "\n",
    "g_mag = vector_norm(np.mean(lin_acc[:100], axis=0))\n",
    "car_angle = pitch_car(acc_x_imu)\n",
    "car_angle_odom = pitch_car_odom(acc_x_imu)\n",
    "\n",
    "plotAngle('IMU and/or Odometry', car_angle_odom, car_angle, ['IMU + Odometry', 'IMU'])"
   ]
  },
  {
   "cell_type": "markdown",
   "metadata": {},
   "source": [
    "### Filtering the data\n",
    "Note: When driving on a flat surface the measurements from IMU and odometry should be about the same, but when driving on a ramp they can and should be different\n",
    "\n",
    "In the first plot it can be seen, that measurements from IMU and odometry almost match each other as long the car is not driving onto a ramp. Because the angle is depended on the difference between those two measurements, this leads to a better car angle, which can be seen in plot 3 (purple line). The angle now significantly changes when driving onto a ramp, but sometimes the angle still deviates up to 3 degrees on a flat surface (e.g. at 70s).\n",
    "\n",
    "For the filtering a moving average filter with a window length of 0.5s was used, because it easy to implement and real time ready. But it leads to a slight delay and also does not perform as well as e.g. a butterworth filter. Further investigation is neccessary to get a better real time ready filtering method."
   ]
  },
  {
   "cell_type": "code",
   "execution_count": null,
   "metadata": {
    "tags": []
   },
   "outputs": [],
   "source": [
    "def moving_average(signal, window_size):\n",
    "    sum = 0\n",
    "    values = []\n",
    "    filtered = []\n",
    "    for i,v in enumerate(signal):\n",
    "        values.append(v)\n",
    "        sum += v\n",
    "        if len(values) > window_size:\n",
    "            sum -= values.pop(0)\n",
    "        filtered.append(float(sum) / len(values))\n",
    "    return np.array(filtered)\n",
    "\n",
    "acc_x_imu_filt = moving_average(acc_x_imu, 50)\n",
    "vel_x_car_filt = moving_average(vel_x_car, 50)\n",
    "acc_x_car_filt = acc_from_vel(vel_x_car_filt)\n",
    "\n",
    "# Scipy Butterworth filter (also online possible?)\n",
    "fc = 0.2 # Cutoff frequency in Hz\n",
    "w = fc / (f_imu/2) # norm fc\n",
    "b, a = signal.butter(2, w, 'low')\n",
    "acc_x_imu_filtButter = signal.filtfilt(b,a, acc_x_imu)\n",
    "vel_x_car_filtButter = signal.filtfilt(b,a, vel_x_car)\n",
    "acc_x_car_filtButter = acc_from_vel(vel_x_car_filtButter)\n",
    "\n",
    "fig = px.line(pd.DataFrame(data=np.vstack([acc_x_imu, acc_x_car, acc_x_imu_filt, acc_x_car_filt]).T, index=t, columns=['IMU unfiltered','Car acc unfiltered', 'Filtered IMU', 'Car acc from filtered vel']))\n",
    "fig.update_layout(xaxis_title='Time [s]', yaxis_title='$\\mathrm{[ms^{-2}]}$', title='Comparison of both acceleration measurement methods')\n",
    "fig.for_each_trace(lambda trace: trace.update(visible='legendonly')\n",
    "                  if trace.name in ['IMU unfiltered','Car acc unfiltered'] else ())\n",
    "fig.show()\n",
    "fig = px.line(pd.DataFrame(data=np.vstack([vel_x_car, vel_x_car_filt]).T, index=t[:-1], columns=['Unfiltered', 'Filtered']))\n",
    "fig.update_layout(xaxis_title='Time [s]', yaxis_title='$\\mathrm{[ms^{-1}]}$', title='Car velocity')\n",
    "fig.show()\n",
    "\n",
    "plotAngle('various combinations', pitch_car_odom(acc_x_imu), \n",
    "          [pitch_car_odom(acc_x_imu_filt), pitch_car_odom(acc_x_imu, acc_x_car_filt), pitch_car(acc_x_imu_filt), pitch_car_odom(acc_x_imu_filt, acc_x_car_filt),\n",
    "          pitch_car_odom(acc_x_imu_filtButter, acc_x_car_filtButter)], \n",
    "          ['IMU + Odom unfiltered', 'IMU filtered + Odom', 'IMU + Odom filtered', 'Only IMU filtered (w/o the use of odom)', 'IMU filtered + Odom filtered', 'IMU filtered + Odom filtered (Butterworth)'],\n",
    "         ['IMU + Odom unfiltered', 'IMU filtered + Odom', 'IMU + Odom filtered'])"
   ]
  },
  {
   "cell_type": "markdown",
   "metadata": {},
   "source": [
    "### Using angular velocity measurements to further improve results\n",
    "After the transformation from imu to car frame a rotation around the y-axis results in the inclination of the car. Therefore the measured angular velocity of the y-axis is important.  \n",
    "A negative value means the car drives a ramp up (or accelerates fast forward) and a positive value means that the car drives a ramp down (or breaks hard). To make the comparison with the previous car angle calculation easier, the sign of the angle from gyro measurement has been inverted. The z-axis measurement indicate a change of the yaw angle. The x-axis measurement is the roll angle and should be near zero all the time. \n",
    "\n",
    "The gryoscope measures the angular velocity. By integrating the velocity the distance (in this case the angle in rad) over time can be calculated. But the gyroscope measurements has white noise, which leads to a drift when integrating, which has to be taken into account.  \n",
    "Use the first n seconds where the car stands still (expected angle at start and end is 0) and calculate a straight line from start to finish and substract that line from the angle.After the transformation from imu to car frame a rotation around the y-axis results in the inclination of the car. Therefore the measured angular velocity of the y-axis is important.  \n",
    "A positive value means the car drives a ramp up (or accelerates fast forward) and a negative value means that the car drives a ramp down (or breaks hard). The z-axis measurement indicate a change of the yaw angle. The x-axis measurement is the roll angle and should be near zero all the time. \n",
    "\n",
    "The gryoscope measures the angular velocity. By integrating the velocity the distance (in this case the angle in rad) over time can be calculated. But the gyroscope measurements has white noise, which leads to a drift when integrating, which has to be taken into account.  \n",
    "Use the first n seconds where the car stands still (expected angle at start and end is 0) and calculate a straight line from start to finish and substract that line from the angle."
   ]
  },
  {
   "cell_type": "code",
   "execution_count": null,
   "metadata": {
    "tags": []
   },
   "outputs": [],
   "source": [
    "vel_rot = np.inner(tf_imu_car, ang_vel).T\n",
    "vel_y = vel_rot[:, 1]\n",
    "\n",
    "fig = px.line(pd.DataFrame(data=vel_rot, index=t, columns=['x','y','z']))\n",
    "fig.update_layout(xaxis_title='Time [s]', yaxis_title='[rad/s]', title='Angular velocity in car frame coordinates')\n",
    "fig.show()\n",
    "\n",
    "ang_y = -np.degrees(np.cumsum(vel_y) / f_imu)\n",
    "drift = np.linspace(ang_y[0], ang_y[-1], len(ang_y))\n",
    "ang_y_no_drift = ang_y - drift\n",
    "\n",
    "fig = px.line(pd.DataFrame(data=np.vstack([ang_y_no_drift, ang_y, drift]).T, index=t, columns=['Corrected','No correction','Drift']))\n",
    "fig.update_layout(xaxis_title='Time [s]', yaxis_title='[deg]', title='Y-Angle over time')\n",
    "fig.for_each_trace(lambda trace: trace.update(visible='legendonly')\n",
    "                  if trace.name in ['No correction','Drift'] else ())\n",
    "fig.show()"
   ]
  },
  {
   "cell_type": "code",
   "execution_count": null,
   "metadata": {
    "tags": []
   },
   "outputs": [],
   "source": [
    "# Integrate angular velocity and convert from rad to deg\n",
    "def gyr_ang(ang_vel):\n",
    "    return -np.degrees(np.cumsum(ang_vel)/f_imu)\n",
    "\n",
    "def gyr_no_drift(ang_vel, ang_vel_still=vel_rot[:500, 1]):\n",
    "    \"\"\"\n",
    "    Calculate drift free angle over time from angular velocity\n",
    "    :param ang_vel:       Angular velocity from IMU\n",
    "    :return ang_no_drift: Drift free angle over time\n",
    "    \"\"\"\n",
    "    ang_still = -np.degrees(np.cumsum(ang_vel_still / f_imu))\n",
    "    drift = np.linspace(ang_still[0], ang_still[-1]/(len(ang_vel_still)/len(ang_vel)), len(ang_vel))\n",
    "    ang = -np.degrees(np.cumsum(ang_vel) / f_imu)\n",
    "    ang_no_drift = ang - drift\n",
    "    # negate, so that angular change has the same sign as from odom and imu\n",
    "    return ang_no_drift"
   ]
  },
  {
   "cell_type": "markdown",
   "metadata": {},
   "source": [
    "#### Using gyroscope to limit outlier from lin_acc and odom\n",
    "Idea: Use a buffer of lets say 10 samples and calculate drift free angular change of this period. Now set an arbitrary threshold, below which every pitch angle change is ignored. Disadvantage of this approach is that a very slow change of the pitch angle might not be detected, that is why the threshold has to be selected carefully."
   ]
  },
  {
   "cell_type": "code",
   "execution_count": null,
   "metadata": {},
   "outputs": [],
   "source": [
    "def gyr_change_detection(ang_vel, win_len, threshold):\n",
    "    \"\"\"\n",
    "    Returns bool if sth happend\n",
    "    :param ang_vel:   Angular velocity\n",
    "    :param win_len:   Window length, after which the calculation should be performed\n",
    "    :param threshold: Angular changes below this threshold are ignored.\n",
    "    :return bool_lst_flat: Boolean list of length ang_vel, if angular change > threshold then True, else False\n",
    "    \"\"\"\n",
    "    buffer = []\n",
    "    bool_lst = []\n",
    "    for i,v in enumerate(ang_vel):\n",
    "        buffer.append(v)\n",
    "        if len(buffer) == win_len:\n",
    "            ang_diff = gyr_no_drift(buffer)[-1]\n",
    "            if abs(ang_diff) > threshold:\n",
    "                # print('Sth happened at {}s, the change was {}deg'.format(i/100, ang_diff))\n",
    "                bool_lst.append([True] * win_len)\n",
    "            else:\n",
    "                bool_lst.append([False] * win_len)\n",
    "            buffer = []\n",
    "    # Fill missing values if len(ang_vel) is not cleanly divisble by win_len\n",
    "    if len(ang_vel) % win_len != 0:\n",
    "        bool_lst.append([False] * (len(ang_vel) % win_len))\n",
    "            \n",
    "    # Flatten list\n",
    "    bool_lst_flat = [item for sublist in bool_lst for item in sublist]\n",
    "    return bool_lst_flat\n",
    "\n",
    "def fuse_gyr(car_angle, bool_lst):\n",
    "    fused_sig = []\n",
    "    last_change = 0\n",
    "    for i,v in enumerate(car_angle):\n",
    "        if bool_lst[i]:\n",
    "            fused_sig.append(v)\n",
    "            last_change = v\n",
    "        else:\n",
    "            fused_sig.append(last_change)\n",
    "    return np.array(fused_sig)"
   ]
  },
  {
   "cell_type": "code",
   "execution_count": null,
   "metadata": {},
   "outputs": [],
   "source": [
    "car_ang = pitch_car_odom(acc_x_imu_filt, acc_x_car_filt)\n",
    "\n",
    "fig = go.Figure()\n",
    "fig.add_trace(go.Scatter(x=t, y=car_ang))\n",
    "win_len = 10\n",
    "# Add traces, one for each slider step\n",
    "for step in np.arange(0, 0.2, 0.01):\n",
    "    fig.add_trace(\n",
    "        go.Scatter(\n",
    "            visible=False,\n",
    "            x=t,\n",
    "            y=fuse_gyr(car_ang, gyr_change_detection(vel_y, win_len, step))))\n",
    "fig.data[0].visible = True\n",
    "# Create and add slider\n",
    "steps = []\n",
    "for i in range(len(fig.data)):\n",
    "    step = dict(\n",
    "        method=\"update\",\n",
    "        args=[{\"visible\": [True] + [False] * len(fig.data)},\n",
    "              {\"title\": \"Fused signal with window length: {}s and threshold: {} deg\".format(win_len/100.0, i*0.01)}],  # layout attribute\n",
    "    )\n",
    "    step[\"args\"][0][\"visible\"][i] = True  # Toggle i'th trace to \"visible\"\n",
    "    steps.append(step)\n",
    "sliders = [dict(\n",
    "    active=0,\n",
    "    currentvalue={\"prefix\": \"Threshold: \"},\n",
    "    steps=steps)]\n",
    "fig.update_layout(sliders=sliders, xaxis_title='Time [s]', yaxis_title='[deg]')\n",
    "fig.show()"
   ]
  },
  {
   "cell_type": "markdown",
   "metadata": {},
   "source": [
    "#### Complementary filter (similar results to Kalman filter but less complex)\n",
    "Complementary filter uses the good short term accuracy of the gyroscope and combines it with the accelerometer data, to reduce the drifting.\n",
    "$$ \\theta = (1-\\alpha)(\\theta + gyrData\\cdot dt) + \\alpha(accData)$$\n",
    "with $accData = \\arctan2(a_x, a_z)$"
   ]
  },
  {
   "cell_type": "code",
   "execution_count": null,
   "metadata": {},
   "outputs": [],
   "source": [
    "def complementary_filter(acc_data, gyr_data, alpha):\n",
    "    angle = 0\n",
    "    angle_fused = []\n",
    "    for i,v in enumerate(acc_data):\n",
    "        angle = (1-alpha)*(angle + gyr_data[i]*(1/f_imu)) + alpha*acc_data[i]\n",
    "        angle_fused.append(angle)\n",
    "    return angle_fused\n",
    "    \n",
    "fig = px.line(pd.DataFrame(data=np.vstack([ang_y_no_drift,\n",
    "                                           car_ang,\n",
    "                                           pitch_car_odom(acc_x_imu_filtButter, acc_x_car_filtButter),\n",
    "                                           complementary_filter(car_ang, vel_y, 0.01),\n",
    "                                           complementary_filter(car_ang, vel_y, 0.025)]).T,\n",
    "                           index=t, columns=['Gyro w/o drift', 'IMU + Odom + Moving average', 'IMU + Odom + Butterworth',\n",
    "                                             'Complementary filter - 0.01', 'Complementary filter - 0.025']))\n",
    "fig.update_layout(xaxis_title='Time [s]', yaxis_title='[deg]', title='Y-Angle over time')"
   ]
  },
  {
   "cell_type": "markdown",
   "metadata": {},
   "source": [
    "##### Testing different parameter values"
   ]
  },
  {
   "cell_type": "code",
   "execution_count": null,
   "metadata": {},
   "outputs": [],
   "source": [
    "fig = go.Figure()\n",
    "fig.add_trace(go.Scatter(y= vel_y*0.01))\n",
    "fig.add_trace(go.Scatter(y = 0.025*car_ang))\n",
    "\n",
    "fig = go.Figure()\n",
    "fig.add_trace(go.Scatter(x=t, y=car_ang))\n",
    "win_len = 10\n",
    "# Add traces, one for each slider step\n",
    "for step in np.linspace(0, 0.1, 51):\n",
    "    fig.add_trace(\n",
    "        go.Scatter(\n",
    "            visible=False,\n",
    "            x=t,\n",
    "            y=complementary_filter(car_ang, vel_y, step)))\n",
    "fig.data[0].visible = True\n",
    "# Create and add slider\n",
    "steps = []\n",
    "for i in range(len(fig.data)):\n",
    "    step = dict(\n",
    "        method=\"update\",\n",
    "        args=[{\"visible\": [True] + [False] * len(fig.data)},\n",
    "              {\"title\": \"Angle using complementary filter with alpha: {}\".format(i*0.002-0.002)}],  # layout attribute\n",
    "    )\n",
    "    step[\"args\"][0][\"visible\"][i] = True  # Toggle i'th trace to \"visible\"\n",
    "    steps.append(step)\n",
    "sliders = [dict(\n",
    "    active=0,\n",
    "    currentvalue={\"prefix\": \"alpha: \"},\n",
    "    steps=steps)]\n",
    "fig.update_layout(sliders=sliders, xaxis_title='Time [s]', yaxis_title='[deg]', title='Complementary Filter')\n",
    "fig.show()"
   ]
  },
  {
   "cell_type": "markdown",
   "metadata": {},
   "source": [
    "# Improving live filtering and numerical differentiation"
   ]
  },
  {
   "cell_type": "markdown",
   "metadata": {},
   "source": [
    "## Numerical Differentation"
   ]
  },
  {
   "cell_type": "markdown",
   "metadata": {},
   "source": [
    "Problems with numerical differentiation:\n",
    "- Signal is discrete and often noisy\n",
    "- Differentation acts as a high pass filter and amplifies noise\n",
    "- Rounding errors can occur\n",
    "\n",
    "The most basic approach is to use finite difference apporaximations.\n",
    "There are three different possibilites (with h=$f_s^{-1}$):\n",
    "- forward difference: $$f'(x) = \\frac{f(x+h)-f(x)}{h}$$\n",
    "- central difference: $$f'(x) = \\frac{f(x+h)-f(x-h)}{2h}$$\n",
    "- backward difference: $$f'(x) = \\frac{f(x)-f(x-h)}{h}$$\n",
    "\n",
    "Higher-order methods are also possible, where more than one future/past point is being used to calculate the current derivative. [Finite difference coefficents](https://en.wikipedia.org/wiki/Finite_difference_coefficient) to use already exist. Advantages are that the resulting signal gets smoother and is less affected by outliers, but at the cost of a slight time delay."
   ]
  },
  {
   "cell_type": "code",
   "execution_count": null,
   "metadata": {},
   "outputs": [],
   "source": [
    "def acc_from_vel_fwd(vel):\n",
    "    acc = []\n",
    "    for i in range(len(vel)-1):\n",
    "        a = (vel[i+1] - vel[i]) / (1.0/f_odom)\n",
    "        acc.append(a)\n",
    "    acc.append(a)\n",
    "    # Add points if odometry topic recorded less msgs than imu\n",
    "    msgs_diff = len(lin_acc) - len(odom)\n",
    "    while msgs_diff > 0:\n",
    "        acc.append(a)\n",
    "        msgs_diff -= 1\n",
    "    return acc\n",
    "\n",
    "def acc_from_vel_central(vel):\n",
    "    acc = [0]\n",
    "    for i in range(1, len(vel)-1):\n",
    "        a = (vel[i+1] - vel[i-1]) / (2*1.0/f_odom)\n",
    "        acc.append(a)\n",
    "    acc.append(a)\n",
    "    # Add points if odometry topic recorded less msgs than imu\n",
    "    msgs_diff = len(lin_acc) - len(odom)\n",
    "    while msgs_diff > 0:\n",
    "        acc.append(a)\n",
    "        msgs_diff -= 1\n",
    "    return acc\n",
    "\n",
    "# Example of high-order method (here with an order of 5)\n",
    "def acc_from_vel_5(vel):\n",
    "    acc = [0, 0]\n",
    "    for i in range(2, len(vel)-2):\n",
    "        a = (-vel[i+2] + 8*vel[i+1] - 8*vel[i-1] + vel[i-2]) / (12*1.0/f_odom)\n",
    "        acc.append(a)\n",
    "    acc.extend([a, a])\n",
    "    msgs_diff = len(lin_acc) - len(odom)\n",
    "    while msgs_diff > 0:\n",
    "        acc.append(a)\n",
    "        msgs_diff -= 1\n",
    "    return acc\n",
    "\n",
    "fig = go.Figure()\n",
    "fig.add_trace(go.Scatter(y=acc_from_vel_fwd(vel_x_car_filt), name='Forward'))\n",
    "fig.add_trace(go.Scatter(y=acc_from_vel_central(vel_x_car_filt), name='Central'))\n",
    "fig.add_trace(go.Scatter(y=acc_from_vel_5(vel_x_car_filt), name='Central 5th order'))"
   ]
  },
  {
   "cell_type": "markdown",
   "metadata": {},
   "source": [
    "Comparison of the different numerical differentiation methods, by deriving the car velocity  \n",
    "It can be seen that the difference between the methods is very marginal, thus the use of the most simplest method (forward (or backward)) is sufficent."
   ]
  },
  {
   "cell_type": "markdown",
   "metadata": {},
   "source": [
    "## Filtering"
   ]
  },
  {
   "cell_type": "markdown",
   "metadata": {},
   "source": [
    "Moving average filter"
   ]
  },
  {
   "cell_type": "code",
   "execution_count": null,
   "metadata": {},
   "outputs": [],
   "source": [
    "def moving_average(signal, window_size):\n",
    "    sum = 0\n",
    "    values = []\n",
    "    filtered = []\n",
    "    for i,v in enumerate(signal):\n",
    "        values.append(v)\n",
    "        sum += v\n",
    "        if len(values) > window_size:\n",
    "            sum -= values.pop(0)\n",
    "        filtered.append(float(sum) / len(values))\n",
    "    return np.array(filtered)"
   ]
  },
  {
   "cell_type": "markdown",
   "metadata": {},
   "source": [
    "4-th order Butterworth filter with a cut-off frequency of 1 Hz"
   ]
  },
  {
   "cell_type": "code",
   "execution_count": null,
   "metadata": {
    "tags": []
   },
   "outputs": [],
   "source": [
    "fc = 1 # Cutoff frequency in Hz\n",
    "w = fc / (f_imu/2) # norm fc\n",
    "b, a = signal.butter(4, w, 'low')\n",
    "\n",
    "b2, a2 = signal.iirfilter(4, w, btype='lowpass')"
   ]
  },
  {
   "cell_type": "code",
   "execution_count": null,
   "metadata": {},
   "outputs": [],
   "source": [
    "def lp_filter(sig, window_size):\n",
    "    fc = 1 # Cutoff frequency in Hz\n",
    "    w = fc / (f_imu/2) # Nyquist\n",
    "    b, a = signal.butter(4, w, 'low')\n",
    "    values = []\n",
    "    filtered = []\n",
    "    for i,v in enumerate(sig):\n",
    "        values.append(v)\n",
    "        filtered.append(signal.lfilter(b,a,values)[-1])\n",
    "        if len(values) == window_size:\n",
    "            values.pop(0)\n",
    "    return np.array(filtered)\n",
    "            \n",
    "fig = go.Figure()\n",
    "fig.add_trace(go.Scatter(y=acc_x_imu))\n",
    "fig.add_trace(go.Scatter(y=signal.filtfilt(b,a,acc_x_imu)))\n",
    "fig.add_trace(go.Scatter(y=moving_average(acc_x_imu, 50)))\n",
    "# fig.add_trace(go.Scatter(y=lp_filter(acc_x_imu, 50)))\n",
    "fig.add_trace(go.Scatter(y=signal.lfilter(b,a,acc_x_imu)))\n",
    "fig.add_trace(go.Scatter(y=signal.lfilter(b2,a2,acc_x_imu)))"
   ]
  }
 ],
 "metadata": {
  "interpreter": {
   "hash": "31f2aee4e71d21fbe5cf8b01ff0e069b9275f58929596ceb00d14d90e3e16cd6"
  },
  "kernelspec": {
   "display_name": "Python 3",
   "language": "python",
   "name": "python3"
  },
  "language_info": {
   "codemirror_mode": {
    "name": "ipython",
    "version": 3
   },
   "file_extension": ".py",
   "mimetype": "text/x-python",
   "name": "python",
   "nbconvert_exporter": "python",
   "pygments_lexer": "ipython3",
   "version": "3.6.9"
  },
  "toc-autonumbering": true
 },
 "nbformat": 4,
 "nbformat_minor": 4
}
