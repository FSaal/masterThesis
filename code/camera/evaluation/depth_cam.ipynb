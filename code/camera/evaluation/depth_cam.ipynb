{
 "cells": [
  {
   "cell_type": "code",
   "execution_count": null,
   "metadata": {},
   "outputs": [],
   "source": [
    "import numpy as np\n",
    "import cv2\n",
    "import rosbag\n",
    "from cv_bridge import CvBridge\n",
    "from ros_numpy.point_cloud2 import pointcloud2_to_xyz_array\n",
    "import pcl\n",
    "from tf.transformations import quaternion_matrix\n",
    "import cv2\n",
    "\n",
    "# Standard plotly imports\n",
    "import plotly.graph_objects as go\n",
    "import plotly.express as px\n",
    "import plotly.io as pio\n",
    "pio.templates.default = 'plotly_dark'"
   ]
  },
  {
   "cell_type": "code",
   "execution_count": null,
   "metadata": {},
   "outputs": [],
   "source": [
    "# Load rosbag containing depth map, point cloud and camera image\n",
    "bag = rosbag.Bag(\"/home/user/rosbags/pcl_rampe.bag\")\n",
    "\n",
    "for topic, msg, t in bag.read_messages(topics=\"/zed2i/zed_node/left/image_rect_color\"):\n",
    "    # Convert from image msg to numpy array\n",
    "    img = CvBridge().imgmsg_to_cv2(msg, desired_encoding=\"rgb8\")\n",
    "    break\n",
    "for topic, msg, t in bag.read_messages(topics=\"/zed2i/zed_node/depth/depth_registered\"):\n",
    "    # Convert depth map to numpy array\n",
    "    depth_img = CvBridge().imgmsg_to_cv2(msg, desired_encoding=\"32FC1\")\n",
    "    break\n",
    "for topic, msg, t in bag.read_messages(topics=\"/zed2i/zed_node/point_cloud/cloud_registered\"):\n",
    "    # Convert from image msg to numpy array\n",
    "    pc_array = pointcloud2_to_xyz_array(msg)\n",
    "    break\n",
    "bag.close()"
   ]
  },
  {
   "cell_type": "markdown",
   "metadata": {},
   "source": [
    "Some functions"
   ]
  },
  {
   "cell_type": "code",
   "execution_count": null,
   "metadata": {},
   "outputs": [],
   "source": [
    "def reduce_pc(pc, x_range, y_range, z_range):\n",
    "    \"\"\"Removes points outside of box\"\"\"\n",
    "    # Filter array\n",
    "    pc_cut = pc[\n",
    "        (pc[:, 0] > x_range[0])\n",
    "        & (pc[:, 0] < x_range[1])\n",
    "        & (pc[:, 1] > y_range[0])\n",
    "        & (pc[:, 1] < y_range[1])\n",
    "        & (pc[:, 2] > z_range[0])\n",
    "        & (pc[:, 2] < z_range[1])\n",
    "    ]\n",
    "    return pc_cut\n",
    "\n",
    "def reduce_pc2d(pc, x_range, y_range):\n",
    "    \"\"\"Removes points outside of box\"\"\"\n",
    "    # Indices of points inside box\n",
    "    inliers = [\n",
    "        (pc[:, 0] > x_range[0])\n",
    "        & (pc[:, 0] < x_range[1])\n",
    "        & (pc[:, 1] > y_range[0])\n",
    "        & (pc[:, 1] < y_range[1])\n",
    "    ][0]\n",
    "    # Filter array\n",
    "    pc_cut = pc[inliers]\n",
    "    return pc_cut, inliers\n",
    "\n",
    "\n",
    "def voxel_filter(pc, leaf_size):\n",
    "    \"\"\"Downsample point cloud using voxel filter\"\"\"\n",
    "    vgf = pc.make_voxel_grid_filter()\n",
    "    # Leaf_size is the length of the side of the voxel cube in m\n",
    "    vgf.set_leaf_size(leaf_size, leaf_size, leaf_size)\n",
    "    pc_filtered = vgf.filter()\n",
    "    return pc_filtered\n",
    "\n",
    "def array_to_pcl(pc_array):\n",
    "    \"\"\"Gets pcl point cloud from numpy array\"\"\"\n",
    "    pc = pcl.PointCloud()\n",
    "    pc.from_array(pc_array.astype(\"float32\"))\n",
    "    return pc\n",
    "\n",
    "def ransac(pc):\n",
    "    \"\"\"Find inliers and normal vector of dominant plane\"\"\"\n",
    "    # 50?\n",
    "    seg = pc.make_segmenter_normals(50)\n",
    "    # Doubles the speed if True\n",
    "    seg.set_optimize_coefficients(True)\n",
    "    seg.set_model_type(pcl.SACMODEL_NORMAL_PLANE)\n",
    "    seg.set_method_type(pcl.SAC_RANSAC)\n",
    "    # How close a point must be to model to be considered inlier\n",
    "    seg.set_distance_threshold(0.11)\n",
    "    # normal_distance_weight?\n",
    "    seg.set_normal_distance_weight(0.01)\n",
    "    # How many tries\n",
    "    seg.set_max_iterations(100)\n",
    "    inliers_idx, coefficients = seg.segment()\n",
    "    return inliers_idx, coefficients\n",
    "\n",
    "def project_pointcloud(pc):\n",
    "    # Transformation from pointcloud (camera left) to left camera lens (optical) (using output from tf node)\n",
    "    trans = [0.0, 0.0, 0.01]\n",
    "    quat = [0.5, -0.49999999999755174, 0.5, 0.5000000000024483]\n",
    "\n",
    "    # Pointcloud points\n",
    "    objectPoints = np.asarray(pc, dtype=np.float64)\n",
    "\n",
    "    # Get rotation vector from lidar frame to camera frame\n",
    "    # Convert quaternion to rotation matrix\n",
    "    rotMat = quaternion_matrix(quat)[:3, :3]\n",
    "    # Convert rotation matrix to rotation vector\n",
    "    rvec, _ = cv2.Rodrigues(rotMat)\n",
    "\n",
    "    # Translation vector from lidar to camera frame\n",
    "    tvec = np.asarray(trans)\n",
    "\n",
    "    # Camera matrix (K)\n",
    "    cameraMatrix = np.asarray(\n",
    "        [539.15087890625, 0.0, 564.685546875, 0.0, 539.15087890625, 316.5738220214844, 0.0, 0.0, 1.0]\n",
    "    )\n",
    "    cameraMatrix = np.reshape(cameraMatrix, (3, 3))\n",
    "\n",
    "\n",
    "    # Distortion coefficients (D)\n",
    "    distCoeffs = np.array([0.0, 0.0, 0.0, 0.0, 0.0])\n",
    "\n",
    "    # Projection of 3D points onto 2D plane\n",
    "    lidar_img_points, _ = cv2.projectPoints(objectPoints, rvec, tvec, cameraMatrix, distCoeffs)\n",
    "    lidar_img_points = lidar_img_points.reshape(len(lidar_img_points), 2)\n",
    "    return lidar_img_points"
   ]
  },
  {
   "cell_type": "markdown",
   "metadata": {},
   "source": [
    "### Visualize all three views"
   ]
  },
  {
   "cell_type": "code",
   "execution_count": null,
   "metadata": {},
   "outputs": [],
   "source": [
    "# IMAGE\n",
    "px.imshow(img).show()\n",
    "\n",
    "# DEPTH MAP\n",
    "# Replace points without range information\n",
    "# depth_img_no_nans = np.nan_to_num(depth_img, 0)\n",
    "px.imshow(depth_img).show()\n",
    "\n",
    "# POINTCLOUD\n",
    "# Convert point cloud from numpy to pcl format\n",
    "pc = array_to_pcl(pc_array)\n",
    "# Downsample point cloud\n",
    "pc_small = voxel_filter(pc, 0.1)\n",
    "pc_small = np.asarray(pc_small)\n",
    "# Project point cloud to 2D image\n",
    "pc_2d = project_pointcloud(pc_small)\n",
    "fig = px.imshow(img)\n",
    "fig.add_trace(go.Scatter(x=pc_2d[:, 0], y=pc_2d[:, 1], mode=\"markers\", marker=dict(size=2)))"
   ]
  },
  {
   "cell_type": "markdown",
   "metadata": {},
   "source": [
    "### Load the detected bounding box from detectron2"
   ]
  },
  {
   "cell_type": "markdown",
   "metadata": {},
   "source": [
    "Using the trained network, detectron2 outputs the following box $(x_0,y_0,w,h)$\n",
    "\n",
    "``[437, 399, 240, 121]``\n",
    "\n",
    "This box can now be cut from the image to get the ramp region"
   ]
  },
  {
   "cell_type": "code",
   "execution_count": null,
   "metadata": {},
   "outputs": [],
   "source": [
    "# Box dimensions\n",
    "box = [437, 399, 240, 121]\n",
    "# Get box coorinates\n",
    "x_range = [box[0], box[0] + box[2]]\n",
    "y_range = [box[1], box[1] + box[3]]\n",
    "\n",
    "# Visualize bounding box in image\n",
    "fig = px.imshow(img)\n",
    "fig.add_shape(type=\"rect\", x0=box[0], y0=box[1], x1=box[0]+box[2], y1=box[1]+box[3], line=dict(color=\"red\", width=2))\n",
    "fig.show()\n",
    "\n",
    "# Crop to bounding box in the point cloud\n",
    "# Filter points outside of bounding box\n",
    "pc_ramp_2d, inliers = reduce_pc2d(pc_2d, x_range, y_range)\n",
    "fig = px.imshow(img)\n",
    "fig.add_trace(go.Scatter(x=pc_ramp_2d[:, 0], y=pc_ramp_2d[:, 1], mode=\"markers\", marker=dict(size=2)))\n",
    "fig.show()\n",
    "\n",
    "# Crop to bounding box in the 2D image\n",
    "# 2D image\n",
    "crop_img = img.copy()\n",
    "crop_img = crop_img[box[1] : box[1] + box[3], box[0] : box[0] + box[2]]\n",
    "px.imshow(crop_img).show()\n",
    "\n",
    "# Crop to bounding box in the depth map\n",
    "crop_depth_img = depth_img.copy()\n",
    "crop_depth_img = crop_depth_img[box[1] : box[1] + box[3], box[0] : box[0] + box[2]]\n",
    "px.imshow(crop_depth_img).show()\n"
   ]
  },
  {
   "cell_type": "markdown",
   "metadata": {},
   "source": [
    "### Apply RANSAC to extracted ramp Pointcloud"
   ]
  },
  {
   "cell_type": "code",
   "execution_count": null,
   "metadata": {},
   "outputs": [],
   "source": [
    "# Extract ramp region from (downsampled) 3D point cloud\n",
    "pc_ramp = pc_small[inliers]\n",
    "\n",
    "# Apply RANSAC to find dominant plane\n",
    "pc_ramp_indices, _ = ransac(array_to_pcl(pc_ramp))\n",
    "pc_ramp_plane = np.asarray(array_to_pcl(pc_ramp).extract(pc_ramp_indices))\n",
    "\n",
    "go.Figure(go.Scatter3d(x=pc_ramp[:, 0], y=pc_ramp[:, 1], z=pc_ramp[:, 2], mode='markers', marker=dict(size=1))).show()\n",
    "go.Figure(go.Scatter3d(x=pc_ramp_plane[:, 0], y=pc_ramp_plane[:, 1], z=pc_ramp_plane[:, 2], mode='markers', marker=dict(size=1))).show()"
   ]
  }
 ],
 "metadata": {
  "interpreter": {
   "hash": "767d51c1340bd893661ea55ea3124f6de3c7a262a8b4abca0554b478b1e2ff90"
  },
  "kernelspec": {
   "display_name": "Python 2.7.17 64-bit",
   "language": "python",
   "name": "python3"
  },
  "language_info": {
   "codemirror_mode": {
    "name": "ipython",
    "version": 2
   },
   "file_extension": ".py",
   "mimetype": "text/x-python",
   "name": "python",
   "nbconvert_exporter": "python",
   "pygments_lexer": "ipython2",
   "version": "2.7.17"
  },
  "orig_nbformat": 4
 },
 "nbformat": 4,
 "nbformat_minor": 2
}
