{
 "cells": [
  {
   "cell_type": "code",
   "execution_count": null,
   "metadata": {},
   "outputs": [],
   "source": [
    "import numpy as np\n",
    "import cv2\n",
    "import rosbag\n",
    "from cv_bridge import CvBridge\n",
    "\n",
    "# Standard plotly imports\n",
    "import plotly.graph_objects as go\n",
    "import plotly.express as px\n",
    "import plotly.io as pio\n",
    "pio.templates.default = 'plotly_dark'"
   ]
  },
  {
   "cell_type": "code",
   "execution_count": null,
   "metadata": {},
   "outputs": [],
   "source": [
    "# Load depth map    \n",
    "bag = rosbag.Bag(\"/home/user/rosbags/2021-12-03-20-27-23.bag\")\n",
    "\n",
    "depth_imgs = []\n",
    "imgs = []\n",
    "i = 0\n",
    "for topic, msg, t in bag.read_messages(topics=\"/zed2i/zed_node/depth/depth_registered\"):\n",
    "    if i % 30 == 0:\n",
    "        depth_imgs.append(msg)\n",
    "    i += 1\n",
    "for topic, msg, t in bag.read_messages(topics=\"/zed2i/zed_node/left/image_rect_color\"):\n",
    "    if i % 30 == 0:\n",
    "        # Convert from image msg to numpy array\n",
    "        img = CvBridge().imgmsg_to_cv2(msg, desired_encoding=\"rgb8\")\n",
    "        imgs.append(img)\n",
    "    i += 1\n",
    "bag.close()"
   ]
  },
  {
   "cell_type": "markdown",
   "metadata": {},
   "source": [
    "Extract one 2D image and depth image"
   ]
  },
  {
   "cell_type": "code",
   "execution_count": null,
   "metadata": {},
   "outputs": [],
   "source": [
    "# 2D image\n",
    "img = imgs[7]\n",
    "px.imshow(img).show()\n",
    "\n",
    "# Depth image\n",
    "depth_img = CvBridge().imgmsg_to_cv2(depth_imgs[8], desired_encoding=\"32FC1\")\n",
    "# Replace points without range information\n",
    "# depth_img_no_nans = np.nan_to_num(depth_img, 40.0)\n",
    "px.imshow(depth_img)"
   ]
  },
  {
   "cell_type": "markdown",
   "metadata": {},
   "source": [
    "Using the trained network, detectron2 outputs the following box\n",
    "\n",
    "``array([[522.8492 , 440.39346, 724.945  , 546.60345]], dtype=float32)``\n",
    "\n",
    "This box can now be cut from the image to get the ramp region"
   ]
  },
  {
   "cell_type": "code",
   "execution_count": null,
   "metadata": {},
   "outputs": [],
   "source": [
    "box = np.array([522.8492 , 440.39346, 724.945  , 546.60345], dtype=np.float32)\n",
    "\n",
    "# Test 2D image first\n",
    "crop_img = img.copy()\n",
    "crop_img = crop_img[int(box[1]):int(box[3]), int(box[0]):int(box[2])]\n",
    "px.imshow(crop_img).show()\n",
    "\n",
    "# Now the same for the 3D image\n",
    "crop_depth_img = depth_img.copy()\n",
    "crop_depth_img = crop_depth_img[int(box[1]):int(box[3]), int(box[0]):int(box[2])]\n",
    "px.imshow(crop_depth_img)"
   ]
  }
 ],
 "metadata": {
  "interpreter": {
   "hash": "767d51c1340bd893661ea55ea3124f6de3c7a262a8b4abca0554b478b1e2ff90"
  },
  "kernelspec": {
   "display_name": "Python 2.7.17 64-bit",
   "language": "python",
   "name": "python3"
  },
  "language_info": {
   "codemirror_mode": {
    "name": "ipython",
    "version": 2
   },
   "file_extension": ".py",
   "mimetype": "text/x-python",
   "name": "python",
   "nbconvert_exporter": "python",
   "pygments_lexer": "ipython2",
   "version": "2.7.17"
  },
  "orig_nbformat": 4
 },
 "nbformat": 4,
 "nbformat_minor": 2
}
