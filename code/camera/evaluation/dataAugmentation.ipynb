{
 "cells": [
  {
   "cell_type": "code",
   "execution_count": null,
   "metadata": {},
   "outputs": [],
   "source": [
    "import cv2\n",
    "import albumentations as A\n",
    "from matplotlib import pyplot as plt\n",
    "import plotly.express as px\n",
    "import json"
   ]
  },
  {
   "cell_type": "code",
   "execution_count": null,
   "metadata": {},
   "outputs": [],
   "source": [
    "# stuff for u_c2s_half_odom_stereo120.jpg\n",
    "bbox = [493.0, 455.0, 50.0, 29.0]\n",
    "segmentation = [[493.3, 484.5, 543.7, 484.2, 536.2, 455.7, 501.9, 455.8]]"
   ]
  },
  {
   "cell_type": "code",
   "execution_count": null,
   "metadata": {},
   "outputs": [],
   "source": [
    "def load_image(image_path):\n",
    "    img = imageio.imread(image_path)\n",
    "    img = ia.imresize_single_image(img, 1.0)\n",
    "    return img\n",
    "\n",
    "def load_json(json_path):\n",
    "    with open(json_path, 'r') as f:\n",
    "        data = json.load(f)\n",
    "    return data\n",
    "\n",
    "def get_annotation(json_path):\n",
    "    f = load_json(json_path)\n",
    "    return f[\"shapes\"][0][\"points\"]\n",
    "    \n",
    "\n",
    "def modify_json(json_path, orig_json, polygons, img_path):\n",
    "    data = load_json(orig_json)\n",
    "    data['shapes'] = polygons\n",
    "    data['imagePath'] = img_path\n",
    "    with open(json_path, 'w') as f:\n",
    "        json.dump(data, f)\n",
    "        \n",
    "def aug(image, polygons):\n",
    "    # Get correct polygon format\n",
    "    psoi = ia.PolygonsOnImage([polygons], shape=image.shape)\n",
    "    \n",
    "    # Create augmentation pipeline\n",
    "    aug = iaa.Sequential([\n",
    "    iaa.AdditiveGaussianNoise(scale=10),\n",
    "    # iaa.CoarseDropout(0.1, size_px=8),\n",
    "    iaa.AddToHueAndSaturation((-50, 50))\n",
    "    ])\n",
    "\n",
    "    # Run augmentation\n",
    "    image_aug, psoi_aug = aug(image=image, polygons=psoi)\n",
    "    return image_aug, psoi_aug"
   ]
  },
  {
   "cell_type": "code",
   "execution_count": null,
   "metadata": {},
   "outputs": [],
   "source": [
    "img_path = '/home/user/rosbags/final/object_detection/u_c2s_half_odom_stereo120.jpg'\n",
    "json_path = '/home/user/rosbags/final/object_detection/u_c2s_half_odom_stereo120.json'\n",
    "\n",
    "# Load the image\n",
    "img = load_image(img_path)\n",
    "# Load the annotations\n",
    "poly = get_annotation(json_path)\n",
    "\n"
   ]
  },
  {
   "cell_type": "code",
   "execution_count": null,
   "metadata": {},
   "outputs": [],
   "source": [
    "poly"
   ]
  },
  {
   "cell_type": "code",
   "execution_count": null,
   "metadata": {},
   "outputs": [],
   "source": [
    "f[\"shapes\"][0][\"points\"]"
   ]
  },
  {
   "cell_type": "code",
   "execution_count": null,
   "metadata": {},
   "outputs": [],
   "source": [
    "f[\"shapes\"]\n",
    "# f[\"imagePath\"]"
   ]
  },
  {
   "cell_type": "code",
   "execution_count": null,
   "metadata": {},
   "outputs": [],
   "source": [
    "def augmentate(img):\n",
    "    "
   ]
  },
  {
   "cell_type": "code",
   "execution_count": null,
   "metadata": {},
   "outputs": [],
   "source": [
    "import imageio\n",
    "import imgaug as ia\n",
    "%matplotlib inline\n",
    "\n",
    "# image = cv2.imread(\"/home/user/rosbags/final/object_detection/u_c2s_half_odom_stereo120.jpg\", cv2.COLOR_RGB2BGR)\n",
    "image = imageio.imread(\"/home/user/rosbags/final/object_detection/u_c2s_half_odom_stereo120.jpg\")\n",
    "image = ia.imresize_single_image(image, 1.0)\n",
    "print(image.shape)\n",
    "\n",
    "px.imshow(image)"
   ]
  },
  {
   "cell_type": "code",
   "execution_count": null,
   "metadata": {},
   "outputs": [],
   "source": [
    "import numpy as np\n",
    "from imgaug.augmentables.polys import Polygon, PolygonsOnImage\n",
    "# Transform bbox to imgaug format\n",
    "ramp = Polygon([\n",
    "    (493.3, 484.5), \n",
    "    (543.7, 484.2),\n",
    "    (536.2, 455.7),\n",
    "    (501.9, 455.8)\n",
    "])\n",
    "\n",
    "image_polys = np.copy(image)\n",
    "image_polys = ramp.draw_on_image(image_polys, alpha_face=0.2, size_points=3)\n",
    "px.imshow(image_polys)"
   ]
  },
  {
   "cell_type": "code",
   "execution_count": null,
   "metadata": {},
   "outputs": [],
   "source": [
    "image_polys = ramp.to_bounding_box().draw_on_image(image_polys, size=3)\n",
    "px.imshow(image_polys)"
   ]
  },
  {
   "cell_type": "code",
   "execution_count": null,
   "metadata": {},
   "outputs": [],
   "source": []
  },
  {
   "cell_type": "code",
   "execution_count": null,
   "metadata": {},
   "outputs": [],
   "source": [
    "psoi = ia.PolygonsOnImage([ramp], shape=image.shape)"
   ]
  },
  {
   "cell_type": "code",
   "execution_count": null,
   "metadata": {},
   "outputs": [],
   "source": [
    "import imgaug.augmenters as iaa\n",
    "ia.seed(42)\n",
    "\n",
    "aug = iaa.Sequential([\n",
    "    iaa.AdditiveGaussianNoise(scale=10),\n",
    "    # iaa.CoarseDropout(0.1, size_px=8),\n",
    "    iaa.AddToHueAndSaturation((-50, 50))\n",
    "])\n",
    "\n",
    "image_aug, psoi_aug = aug(image=image, polygons=psoi)\n",
    "px.imshow(psoi_aug.draw_on_image(image_aug, alpha_face=0.2, size_points=7))"
   ]
  },
  {
   "cell_type": "code",
   "execution_count": null,
   "metadata": {},
   "outputs": [],
   "source": [
    "# Declare an augmentation pipeline\n",
    "transform = A.Compose([\n",
    "    A.RandomCrop(width=256, height=256),\n",
    "    A.HorizontalFlip(p=0.5),\n",
    "    A.RandomBrightnessContrast(p=0.2),\n",
    "], \n",
    "    bbox_params=A.BboxParams(format=\"coco\", label_fields=[\"bbox_classes\"]),)\n",
    "\n",
    "# Read an image with OpenCV and convert it to the RGB colorspace\n",
    "image = cv2.imread(\"/home/user/rosbags/final/object_detection/u_c2s_half_odom_stereo120.jpg\")\n",
    "image = cv2.cvtColor(image, cv2.COLOR_BGR2RGB)\n",
    "\n",
    "# Augment an image\n",
    "transformed = transform(image=image, bboxes=bbox)\n",
    "transformed_image = transformed[\"image\"]\n",
    "\n",
    "plt.imshow(image)\n",
    "plt.show()\n",
    "\n",
    "plt.imshow(transformed_image)\n",
    "plt.show()"
   ]
  }
 ],
 "metadata": {
  "interpreter": {
   "hash": "31f2aee4e71d21fbe5cf8b01ff0e069b9275f58929596ceb00d14d90e3e16cd6"
  },
  "kernelspec": {
   "display_name": "Python 3.6.9 64-bit",
   "language": "python",
   "name": "python3"
  },
  "language_info": {
   "codemirror_mode": {
    "name": "ipython",
    "version": 3
   },
   "file_extension": ".py",
   "mimetype": "text/x-python",
   "name": "python",
   "nbconvert_exporter": "python",
   "pygments_lexer": "ipython3",
   "version": "3.6.9"
  },
  "orig_nbformat": 4
 },
 "nbformat": 4,
 "nbformat_minor": 2
}
