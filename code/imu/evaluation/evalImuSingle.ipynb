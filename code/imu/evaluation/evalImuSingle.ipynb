{
 "cells": [
  {
   "cell_type": "code",
   "execution_count": null,
   "metadata": {
    "tags": []
   },
   "outputs": [],
   "source": [
    "import numpy as np\n",
    "import pandas as pd\n",
    "from scipy import signal\n",
    "# Load methods to extract data from rosbags\n",
    "from unpack_rosbag import unpack_bag, synchronize_topics\n",
    "from imu_ramp_offline import ImuRampDetect\n",
    "\n",
    "# Standard plotly imports\n",
    "import plotly.graph_objects as go\n",
    "import plotly.express as px\n",
    "import plotly.io as pio\n",
    "from plotly.subplots import make_subplots\n",
    "pio.templates.default = 'plotly_dark'"
   ]
  },
  {
   "cell_type": "code",
   "execution_count": null,
   "metadata": {},
   "outputs": [],
   "source": [
    "#! Select a bag\n",
    "BAG_NUM = -2\n",
    "\n",
    "BAG_NAMES = [\n",
    "    \"d_d2r2s_lidar_wo_odom_hdl.bag\",\n",
    "    \"d_d2r2s_odom_hdl.bag\",\n",
    "    \"d_e2q_hdl.bag\",\n",
    "    \"straight_wo_ramps_odom_hdl.bag\",\n",
    "    \"u_c2s_half_odom_hdl.bag\",\n",
    "    'u_c2s_half_odom_stereo_hdl.bag',\n",
    "    \"u_c2s_hdl.bag\",\n",
    "    \"u_c2s_stop_hdl.bag\",\n",
    "    \"u_d2e_hdl.bag\",\n",
    "    \"u_s2c_half_odom_hdl.bag\",\n",
    "    \"u_s2c2d_hdl.bag\"\n",
    "]\n",
    "\n",
    "# ROS topics\n",
    "ODOM_TOPIC = '/eGolf/sensors/odometry'\n",
    "IMU_TOPIC = '/zed2i/zed_node/imu/data'\n",
    "# IMU_TOPIC = '/imu/data'\n",
    "\n",
    "# Rosbag path\n",
    "BAG_PATH = \"/home/user/rosbags/final/slam/\" + BAG_NAMES[BAG_NUM]"
   ]
  },
  {
   "cell_type": "markdown",
   "metadata": {},
   "source": [
    "Loading some functions"
   ]
  },
  {
   "cell_type": "code",
   "execution_count": null,
   "metadata": {},
   "outputs": [],
   "source": [
    "# Accelerometer\n",
    "def pitch_from_acc(acc_x_imu):\n",
    "    return np.rad2deg(np.arcsin(acc_x_imu / g_mag))\n",
    "\n",
    "# Odometer\n",
    "def vel_from_odom(odom, track_width = 1.52):\n",
    "    \"\"\"Car velocity from wheel speeds\"\"\"\n",
    "    alpha = (odom[:, 2] - odom[:, 3]) / track_width\n",
    "    yaw = alpha * 1 / f\n",
    "    # 3.6 to convert from km/h to m/s\n",
    "    vel_x_car = ((odom[:, 2] + odom[:, 3]) / 2) * np.cos(yaw) / 3.6\n",
    "    return vel_x_car\n",
    "\n",
    "def acc_from_vel(sig):\n",
    "    return np.diff(sig, prepend=0) / (1.0 / f)\n",
    "\n",
    "def pitch_from_grav(acc_x_imu, odom, win):\n",
    "    # Calculate car velocity\n",
    "    vel_x_car = vel_from_odom(odom)\n",
    "    # Calculate acceleration of filtered velocity\n",
    "    acc_x_car_filt = acc_from_vel(moving_average(vel_x_car, win))\n",
    "    acc_x_imu_filt = moving_average(acc_x_imu, win)\n",
    "    acc_x_fuse = acc_x_imu_filt - acc_x_car_filt\n",
    "    return np.rad2deg(np.arcsin(acc_x_fuse / g_mag))\n",
    "\n",
    "# Gyroscope\n",
    "def pitch_from_gyr(ang_vel_y):\n",
    "    return -np.rad2deg(np.cumsum(ang_vel_y) / f)\n",
    "\n",
    "def remove_drift(ang_vel):\n",
    "    drift = np.zeros(len(ang_vel))\n",
    "    # Only remove drift if end position is also on flat ground\n",
    "    if not \"half\" in BAG_PATH:\n",
    "        drift = np.linspace(ang_vel[0], ang_vel[-1], len(ang_vel))\n",
    "    ang_y_no_drift = ang_vel - drift\n",
    "    return ang_y_no_drift, drift\n",
    "\n",
    "# Complementary filter\n",
    "def complementary_filter(acc_x_imu, vel_y_imu, f, K):\n",
    "    # Delay\n",
    "    # K = tau / (tau + 1.0/f)\n",
    "    # initial estimations\n",
    "    angle_k = 0\n",
    "    angle_est = []\n",
    "    for i, v in enumerate(acc_x_imu):\n",
    "        # Calculate pitch angle using linear acceleration data\n",
    "        theta_a = np.arcsin(acc_x_imu[i] / g_mag)\n",
    "        angle_k = K * (angle_k - vel_y_imu[i] / f) + (1 - K) * theta_a\n",
    "        # Ignore acc readings if they are unreliable\n",
    "        angle_est.append(angle_k)\n",
    "    return np.rad2deg(angle_est)\n",
    "\n",
    "def get_compl_gain(T_free, f_s=f):\n",
    "    f0 = 1.0 / T_free\n",
    "    alpha = 1 / (2*np.pi*f0)\n",
    "    gamma = alpha / (alpha + 1.0 / f_s)\n",
    "    return gamma\n",
    "\n",
    "def get_gyro_trust(gamma, f_s=f):\n",
    "    return 1/(1/gamma/(2*np.pi))\n",
    "\n",
    "# Filter\n",
    "def moving_average(sig, win):\n",
    "    # Convert window size from s to idx\n",
    "    win = int(win * f)\n",
    "    b = np.ones(win) / win\n",
    "    a = np.ones(1)\n",
    "    return signal.lfilter(b, a, sig)"
   ]
  },
  {
   "cell_type": "markdown",
   "metadata": {},
   "source": [
    "#### Importing the data"
   ]
  },
  {
   "cell_type": "code",
   "execution_count": null,
   "metadata": {},
   "outputs": [],
   "source": [
    "# IMU data (angular velocity and linear acceleration)\n",
    "imu, t_imu = unpack_bag(BAG_PATH, IMU_TOPIC, 'imu')\n",
    "# quat, _ = unpack_bag(BAG_PATH, IMU_TOPIC, 'quat')\n",
    "# Odom data (wheel speeds and handwheel angle)\n",
    "odom, t_odom = unpack_bag(BAG_PATH, ODOM_TOPIC, 'car_odom')\n",
    "\n",
    "# Ignore odom if none has been recorded\n",
    "if len(odom) == 0:\n",
    "    odom = np.zeros((len(imu), 5))\n",
    "    is_odom = False\n",
    "else:\n",
    "    # Synchronize both topics (IMU is 400 Hz whereas odom is only 100 Hz)\n",
    "    # Downsamples higher freq signal and matches start and end time\n",
    "    imu, odom = synchronize_topics(imu, t_imu, odom, t_odom)\n",
    "    is_odom = True\n",
    "    \n",
    "# Split linear acceleration and angular velocity \n",
    "ang_vel = imu[:, 0]\n",
    "lin_acc = imu[:, 1]\n",
    "# Magnitude of accelerometer when still\n",
    "g_mag = np.linalg.norm(np.mean(lin_acc[:100], axis=0))\n",
    "\n",
    "# Frequency (of slowest sensor) [Hz]\n",
    "f = 400\n",
    "if is_odom or IMU_TOPIC == '/imu/data':\n",
    "    f = 100\n",
    "print(f)\n",
    "# Time vector\n",
    "t = np.linspace(0, odom.shape[0]/f, odom.shape[0])"
   ]
  },
  {
   "cell_type": "markdown",
   "metadata": {},
   "source": [
    "### Run the algorithm\n",
    "Returns estimated angles and raw data of imu in car frame"
   ]
  },
  {
   "cell_type": "code",
   "execution_count": null,
   "metadata": {},
   "outputs": [],
   "source": [
    "ird = ImuRampDetect(f)\n",
    "tf, gyr_bias = ird.align_imu(lin_acc, ang_vel, odom)\n",
    "angles = []\n",
    "lin_acc_car = []\n",
    "ang_vel_car = []\n",
    "for i, _ in enumerate(lin_acc):\n",
    "    la, av, angs = ird.spin(lin_acc[i], ang_vel[i], odom[i], tf, gyr_bias)\n",
    "    lin_acc_car.append(la)\n",
    "    ang_vel_car.append(av)\n",
    "    angles.append(angs)\n",
    "    \n",
    "# Convert to numpy array\n",
    "lin_acc_car = np.asarray(lin_acc_car)\n",
    "ang_vel_car = np.asarray(ang_vel_car)\n",
    "# Convert from radians to degree\n",
    "angles = np.rad2deg(np.asarray(angles))\n",
    "# Convert to pandas dataframe (for plotting)\n",
    "df_angles = pd.DataFrame(angles, columns = [\"acc\", \"gyr\", \"acc_odom\", \"compl\"])\n",
    "\n",
    "# Only linear acceleration measured along x-axis is of interest\n",
    "acc_x_imu = lin_acc_car[:, 0]\n",
    "# Only angular velocity measured along y-axis is of interest\n",
    "vel_y_imu = ang_vel_car[:, 1]"
   ]
  },
  {
   "cell_type": "markdown",
   "metadata": {},
   "source": [
    "Linear acceleration only and with odom"
   ]
  },
  {
   "cell_type": "code",
   "execution_count": null,
   "metadata": {},
   "outputs": [],
   "source": [
    "# Car pitch angle using raw accelerometer data\n",
    "car_angle_acc = pitch_from_acc(acc_x_imu)\n",
    "# Car pitch angle using filtered accelerometer data\n",
    "car_angle_acc_filt = pitch_from_acc(moving_average(acc_x_imu, 0.5))\n",
    "\n",
    "# Car pitch angle using accelerometer data with acc from odom subtracted\n",
    "car_angle_grav = pitch_from_grav(acc_x_imu, odom, 0.5)\n",
    "\n",
    "fig = go.Figure()\n",
    "fig.add_trace(go.Scatter(x=t, y = car_angle_acc, name=\"acc\"))\n",
    "fig.add_trace(go.Scatter(x=t, y = car_angle_acc_filt, name=\"acc_filt\"))\n",
    "fig.add_trace(go.Scatter(x=t, y = car_angle_grav, name=\"grav\"))"
   ]
  },
  {
   "cell_type": "markdown",
   "metadata": {},
   "source": [
    "Angular velocity only"
   ]
  },
  {
   "cell_type": "code",
   "execution_count": null,
   "metadata": {},
   "outputs": [],
   "source": [
    "# Car pitch angle using raw gyroscope data\n",
    "car_angle_gyr = pitch_from_gyr(vel_y_imu)\n",
    "# Removing drift from gyroscope (only works if end position is on flat ground again)\n",
    "car_angle_gyr_no_drift, drift = remove_drift(car_angle_gyr)\n",
    "\n",
    "fig = go.Figure()\n",
    "fig.add_trace(go.Scatter(x=t, y = car_angle_gyr, name=\"gyr\"))\n",
    "fig.add_trace(go.Scatter(x=t, y = car_angle_gyr_no_drift, name=\"gyr_no_drift\"))\n",
    "# fig.add_trace(go.Scatter(x=t, y = drift, name=\"drift\"))"
   ]
  },
  {
   "cell_type": "markdown",
   "metadata": {},
   "source": [
    "Complementary filter\n",
    "\n",
    "The time $T_\\mathrm{free}$ where the drift of the angle estimation from the gyroscope is negligible, is inversely proportional to the cut-off frequency $f_0 = \\frac{1}{T_\\mathrm{free}}$.\n",
    "E.g. if the drift from the gyroscope is only negligible for 10 s then the cut-off frequency should be chosen at $f_0 ~= ~\\frac{1}{10 s} = 0.1 Hz$ or higher.\n",
    "The value of the filter gain $\\gamma$ can then be calculated using \n",
    "\\begin{equation}\n",
    "\t\\alpha\n",
    "\t= \\frac{\\tau}{\\tau + T}\n",
    "\t% = \\frac{1}{w_0}\n",
    "\t= \\frac{1}{2\\pi f_0}\n",
    "\\end{equation}\n",
    "with $T=\\frac{1}{f_s}$\n",
    "\\begin{equation}\n",
    "\t\\gamma = \\frac{\\alpha}{\\alpha + T} \\in [0,1]\n",
    "\\end{equation}\n",
    "The complementary filter formula is\n",
    "\\begin{equation}\n",
    "\t\\hat{\\theta}_t = \\gamma\\left(\\hat{\\theta}_{t - 1} + T \\omega_{\\mathrm{gyr},t}\\right) + (1 - \\gamma) \\theta_{\\mathrm{acc},t},\n",
    "\\end{equation}\n",
    "\n",
    "**TODO**: \n",
    "\n",
    "Complementary filter which fuses angle from gravity method with gyroscope.\n",
    "Problem is that the angle from gravity method is delayed, which is not easy to implement for the angle calculation using angular velocity\n",
    "\n"
   ]
  },
  {
   "cell_type": "code",
   "execution_count": null,
   "metadata": {},
   "outputs": [],
   "source": [
    "# Car pitch angle using raw accelerometer data\n",
    "car_angle_grav = pitch_from_grav(acc_x_imu, odom, 0.5)\n",
    "# Car pitch angle using raw gyroscope data\n",
    "car_angle_gyr = moving_average(pitch_from_gyr(vel_y_imu), 0.5)\n",
    "\n",
    "gamma1, gamma2 = 0.9998, 0.99\n",
    "car_angle_compl = complementary_filter(acc_x_imu, vel_y_imu, f, gamma1)\n",
    "car_angle_compl2 = complementary_filter(acc_x_imu, vel_y_imu, f, gamma2)\n",
    "print(\"Filter 1 assumes that gyro is reliable for {:.3f} s and filter 2 for {}\".format(\n",
    "    get_gyro_trust(gamma1), get_gyro_trust(gamma2)\n",
    "))\n",
    "\n",
    "fig = go.Figure()\n",
    "fig.add_trace(go.Scatter(x=t, y=car_angle_acc, name=\"acc\"))\n",
    "fig.add_trace(go.Scatter(x=t, y=car_angle_gyr, name=\"gyr\"))\n",
    "fig.add_trace(go.Scatter(x=t, y=car_angle_compl, name=\"compl 0.9998\"))\n",
    "fig.add_trace(go.Scatter(x=t, y=car_angle_compl2, name=\"compl 0.99\"))\n"
   ]
  },
  {
   "cell_type": "code",
   "execution_count": null,
   "metadata": {},
   "outputs": [],
   "source": [
    "fig = go.Figure()\n",
    "fig.add_trace(go.Scatter(x=t, y=car_angle_acc))\n",
    "fig.add_trace(go.Scatter(x=t, y=car_angle_gyr))\n",
    "# fig.add_trace(go.Scatter(y=ang_from_compl))\n",
    "# Add multiple compl opt\n",
    "step_vals = np.arange(1, 0.98, -0.0001)\n",
    "# Add traces, one for each slider step\n",
    "for step in step_vals:\n",
    "    fig.add_trace(go.Scatter(visible=False, x=t, y=complementary_filter(acc_x_imu[:7100], vel_y_imu[:7100], f, step)))\n",
    "step_vals_label = np.insert(step_vals, 0,  [np.nan]*2)\n",
    "# Create and add slider\n",
    "steps = []\n",
    "for i in range(len(fig.data)):\n",
    "    step = dict(\n",
    "        method=\"update\",\n",
    "        args=[{\"visible\": [True] * 2 + [False] * len(fig.data)},\n",
    "              {\"title\": \"Angle using complementary filter with alpha: {:.4f}\\n(assumes drift is negligible for {}s\".format(\n",
    "                  step_vals_label[i], 1/(1/step_vals_label[i]/(2*np.pi)))}],  # layout attribute\n",
    "    )\n",
    "    step[\"args\"][0][\"visible\"][i] = True  # Toggle i'th trace to \"visible\"\n",
    "    steps.append(step)\n",
    "sliders = [dict(active=0, currentvalue={\"prefix\": \"alpha: \"}, steps=steps)]\n",
    "fig.update_layout(sliders=sliders, xaxis_title='Time [s]', yaxis_title='[deg]', title='Complementary Filter compared to IMU+Odom filt with moving avg')\n",
    "fig.show()"
   ]
  }
 ],
 "metadata": {
  "interpreter": {
   "hash": "1f7ea0bc50929e9761c6dc908034703a32cbda6ecac539c3027db206c2668001"
  },
  "kernelspec": {
   "display_name": "Python 3.8.8 64-bit ('base': conda)",
   "name": "python3"
  },
  "language_info": {
   "codemirror_mode": {
    "name": "ipython",
    "version": 2
   },
   "file_extension": ".py",
   "mimetype": "text/x-python",
   "name": "python",
   "nbconvert_exporter": "python",
   "pygments_lexer": "ipython2",
   "version": "2.7.17"
  },
  "toc-autonumbering": true
 },
 "nbformat": 4,
 "nbformat_minor": 4
}
