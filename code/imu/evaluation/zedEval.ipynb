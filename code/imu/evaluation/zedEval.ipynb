{
 "cells": [
  {
   "cell_type": "code",
   "execution_count": null,
   "metadata": {},
   "outputs": [],
   "source": [
    "import pandas as pd\n",
    "import plotly.express as px\n",
    "import numpy as np\n",
    "import plotly.graph_objects as go\n",
    "from plotly.subplots import make_subplots\n",
    "import os \n",
    "import glob"
   ]
  },
  {
   "cell_type": "code",
   "execution_count": null,
   "metadata": {},
   "outputs": [],
   "source": [
    "# Get list of bag files\n",
    "# path = \"/home/user/Downloads/new/\"\n",
    "path = \"/home/user/Downloads/zed_compare/\"\n",
    "os.chdir(path)\n",
    "file_lst = glob.glob('*.csv')"
   ]
  },
  {
   "cell_type": "code",
   "execution_count": null,
   "metadata": {},
   "outputs": [],
   "source": [
    "file_lst"
   ]
  },
  {
   "cell_type": "code",
   "execution_count": null,
   "metadata": {},
   "outputs": [],
   "source": [
    "df = []\n",
    "for i, file in enumerate(file_lst):\n",
    "    file_path = path + file\n",
    "    df = pd.read_csv(file_path)\n",
    "    f = 1000 / (df[\"imu_Timestamp[sec]\"][1000] - df[\"imu_Timestamp[sec]\"][0])\n",
    "    t = np.linspace(0, df.shape[0]/f, df.shape[0])\n",
    "    fig = make_subplots(specs=[[{\"secondary_y\": True}]])\n",
    "    fig.add_trace(go.Scatter(x=t, y = df.iloc[:, 13], name=\"orX\"), secondary_y=False)\n",
    "    fig.add_trace(go.Scatter(x=t, y = df.iloc[:, 14], name=\"ory\"), secondary_y=False)\n",
    "    fig.add_trace(go.Scatter(x=t, y = df.iloc[:, 15], name=\"orZ\"), secondary_y=False)\n",
    "    fig.add_trace(go.Scatter(x=t, y = df.iloc[:, 22], name=\"temp\"), secondary_y=True)\n",
    "    fig.update_layout(title_text=file)\n",
    "    fig.update_xaxes(title_text=\"Time [s]\")\n",
    "    fig.update_yaxes(title_text=\"Angle [deg]\", secondary_y=False)\n",
    "    fig.update_yaxes(title_text=\"Temperature [C]\", secondary_y=True)\n",
    "    fig.show()"
   ]
  },
  {
   "cell_type": "code",
   "execution_count": null,
   "metadata": {},
   "outputs": [],
   "source": [
    "px.line(df[0].iloc[:,4:7])"
   ]
  },
  {
   "cell_type": "code",
   "execution_count": null,
   "metadata": {},
   "outputs": [],
   "source": [
    "fig = px.line(df.iloc[:,7:10])\n",
    "fig.show()"
   ]
  },
  {
   "cell_type": "code",
   "execution_count": null,
   "metadata": {},
   "outputs": [],
   "source": [
    "def ang_from_vel(ang_vel):\n",
    "    deg = np.cumsum(ang_vel) / f\n",
    "    return deg\n",
    "\n",
    "def remove_drift(ang_y_gyr):\n",
    "    drift = np.zeros(len(ang_y_gyr))\n",
    "    # Only remove drift if end position is also on flat ground\n",
    "    if np.abs((ang_y_gyr[0] - ang_y_gyr[-1])) < 3:\n",
    "        drift = np.linspace(ang_y_gyr[0], ang_y_gyr[-1], len(ang_y_gyr))\n",
    "    ang_y_no_drift = ang_y_gyr - drift\n",
    "    return ang_y_no_drift, drift\n",
    "\n",
    "# Calculate pitch angle\n",
    "ang_gyr = ang_from_vel(df.iloc[:, 7:10])\n",
    "\n",
    "# # Remove drift (assumes start and end pitch angle are the same)\n",
    "# ang_y_no_drift, drift = remove_drift(ang_y_gyr)"
   ]
  },
  {
   "cell_type": "code",
   "execution_count": null,
   "metadata": {},
   "outputs": [],
   "source": [
    "px.line(ang_gyr)"
   ]
  },
  {
   "cell_type": "code",
   "execution_count": null,
   "metadata": {},
   "outputs": [],
   "source": [
    "px.line(df.iloc[:,10:13])"
   ]
  },
  {
   "cell_type": "code",
   "execution_count": null,
   "metadata": {},
   "outputs": [],
   "source": [
    "px.line(df.iloc[:,13:16])"
   ]
  },
  {
   "cell_type": "code",
   "execution_count": null,
   "metadata": {},
   "outputs": [],
   "source": [
    "px.line(df.iloc[:,19:23])"
   ]
  },
  {
   "cell_type": "code",
   "execution_count": null,
   "metadata": {},
   "outputs": [],
   "source": [
    "df_new = ang_gyr.copy()\n",
    "df_new.columns = [\"orGyrX[deg]\", \"orGyrY[deg]\", \"orGyrZ[deg]\"]\n",
    "df_new.index = df.index\n",
    "df_new = df_new.join(df.iloc[:,13:16])\n",
    "df_new.index = df[\"imu_Timestamp[sec]\"]\n",
    "df_new.head()"
   ]
  },
  {
   "cell_type": "code",
   "execution_count": null,
   "metadata": {},
   "outputs": [],
   "source": [
    "px.line(df_new)"
   ]
  },
  {
   "cell_type": "code",
   "execution_count": null,
   "metadata": {},
   "outputs": [],
   "source": []
  }
 ],
 "metadata": {
  "interpreter": {
   "hash": "767d51c1340bd893661ea55ea3124f6de3c7a262a8b4abca0554b478b1e2ff90"
  },
  "kernelspec": {
   "display_name": "Python 2.7.17 64-bit",
   "language": "python",
   "name": "python3"
  },
  "language_info": {
   "codemirror_mode": {
    "name": "ipython",
    "version": 2
   },
   "file_extension": ".py",
   "mimetype": "text/x-python",
   "name": "python",
   "nbconvert_exporter": "python",
   "pygments_lexer": "ipython2",
   "version": "2.7.17"
  },
  "orig_nbformat": 4
 },
 "nbformat": 4,
 "nbformat_minor": 2
}
