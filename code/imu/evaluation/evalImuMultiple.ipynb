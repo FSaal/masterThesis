{
 "cells": [
  {
   "cell_type": "code",
   "execution_count": null,
   "metadata": {
    "tags": []
   },
   "outputs": [],
   "source": [
    "import numpy as np\n",
    "import pandas as pd\n",
    "from scipy import signal\n",
    "# Load methods to extract data from rosbags\n",
    "from unpack_rosbag import unpack_bag, synchronize_topics\n",
    "from imu_ramp_offline import ImuRampDetect\n",
    "\n",
    "# Standard plotly imports\n",
    "import plotly.express as px\n",
    "import plotly.io as pio\n",
    "pio.templates.default = 'plotly_dark'"
   ]
  },
  {
   "cell_type": "code",
   "execution_count": null,
   "metadata": {},
   "outputs": [],
   "source": [
    "# ROS topics\n",
    "ODOM_TOPIC = '/eGolf/sensors/odometry'\n",
    "IMU_TOPIC = '/zed2i/zed_node/imu/data'\n",
    "# IMU_TOPIC = '/imu/data'\n",
    "\n",
    "# Rosbags path\n",
    "BAG_DIRECTORY = '/home/user/rosbags/final/slam/'\n",
    "\n",
    "BAG_NAMES = [\n",
    "    \"d_d2r2s_lidar_wo_odom_hdl.bag\",\n",
    "    \"d_d2r2s_odom_hdl.bag\",\n",
    "    \"d_e2q_hdl.bag\",\n",
    "    \"straight_wo_ramps_odom_hdl.bag\",\n",
    "    \"u_c2s_half_odom_hdl.bag\",\n",
    "    'u_c2s_half_odom_stereo_hdl.bag',\n",
    "    \"u_c2s_hdl.bag\",\n",
    "    \"u_c2s_stop_hdl.bag\",\n",
    "    \"u_d2e_hdl.bag\",\n",
    "    \"u_s2c_half_odom_hdl.bag\",\n",
    "    \"u_s2c2d_hdl.bag\"\n",
    "]"
   ]
  },
  {
   "cell_type": "code",
   "execution_count": null,
   "metadata": {},
   "outputs": [],
   "source": [
    "def get_data(bag_name, imu_topic=IMU_TOPIC):\n",
    "    bag_path = BAG_DIRECTORY + bag_name\n",
    "    # IMU data (angular velocity and linear acceleration)\n",
    "    imu, t_imu = unpack_bag(bag_path, imu_topic, 'imu')\n",
    "    # Odom data (wheel speeds and handwheel angle)\n",
    "    odom, t_odom = unpack_bag(bag_path, ODOM_TOPIC, 'car_odom')\n",
    "\n",
    "    # Ignore odom if none has been recorded\n",
    "    if len(odom) == 0:\n",
    "        f = 400\n",
    "        odom = np.zeros((len(imu), 5))\n",
    "        if imu_topic == \"/imu/data\":\n",
    "            f = 100\n",
    "    else:\n",
    "        # Synchronize both topics (IMU is 400 Hz whereas odom is only 100 Hz)\n",
    "        # Downsamples higher freq signal and matches start and end time\n",
    "        imu, odom = synchronize_topics(imu, t_imu, odom, t_odom)\n",
    "        f = 100\n",
    "        \n",
    "    # Split linear acceleration and angular velocity \n",
    "    ang_vel = imu[:, 0]\n",
    "    lin_acc = imu[:, 1]\n",
    "\n",
    "    t = np.linspace(0, odom.shape[0]/f, odom.shape[0])\n",
    "    \n",
    "    return lin_acc, ang_vel, odom, t, f\n",
    "\n",
    "def run_algo(lin_acc, ang_vel, odom, f):\n",
    "    ird = ImuRampDetect(f)\n",
    "    tf = ird.align_imu(lin_acc)\n",
    "    angles = []\n",
    "    for i, _ in enumerate(lin_acc):\n",
    "        angs = ird.spin(lin_acc[i], ang_vel[i], odom[i], tf)\n",
    "        angles.append(angs)\n",
    "    return angles\n",
    "\n",
    "def visualize_results(angles, t, bag_name):\n",
    "    # Convert from radians to degree\n",
    "    angles = np.rad2deg(np.asarray(angles))\n",
    "    # Convert to pandas dataframe (for plotting)\n",
    "    df_angles = pd.DataFrame(angles, index = t, columns = [\"acc\", \"gyr\", \"acc_odom\", \"compl_0.01\", \"compl_0.005\"])\n",
    "    fig = px.line(df_angles)\n",
    "    fig.update_layout(title = bag_name, xaxis_title=\"Time [s]\", yaxis_title=\"Pitch angle [deg]\")\n",
    "    fig.show()"
   ]
  },
  {
   "cell_type": "code",
   "execution_count": null,
   "metadata": {},
   "outputs": [],
   "source": [
    "all_angles = []\n",
    "for _, bag_name in enumerate(BAG_NAMES):\n",
    "    lin_acc, ang_vel, odom, t, f = get_data(bag_name)\n",
    "    angles = run_algo(lin_acc, ang_vel, odom, f)\n",
    "    all_angles.append(angles)\n",
    "    visualize_results(angles, t, bag_name)"
   ]
  },
  {
   "cell_type": "code",
   "execution_count": null,
   "metadata": {},
   "outputs": [],
   "source": [
    "ang = np.rad2deg(np.asarray(all_angles[-1]))\n",
    "def complementary_filter(ang_from_acc, gyr_data, alpha):\n",
    "    angle = 0\n",
    "    angle_fused = []\n",
    "    for i,v in enumerate(ang_from_acc):\n",
    "        angle = (1 - alpha) * (angle - gyr_data[i] * 1/f) + alpha * np.deg2rad(ang_from_acc[i])\n",
    "        angle_fused.append(angle)\n",
    "    return np.rad2deg(angle_fused)\n",
    "\n",
    "px.line(complementary_filter(ang[:,0], ang_vel[:,1], 0.005))"
   ]
  }
 ],
 "metadata": {
  "interpreter": {
   "hash": "1f7ea0bc50929e9761c6dc908034703a32cbda6ecac539c3027db206c2668001"
  },
  "kernelspec": {
   "display_name": "Python 3.8.8 64-bit ('base': conda)",
   "name": "python3"
  },
  "language_info": {
   "codemirror_mode": {
    "name": "ipython",
    "version": 2
   },
   "file_extension": ".py",
   "mimetype": "text/x-python",
   "name": "python",
   "nbconvert_exporter": "python",
   "pygments_lexer": "ipython2",
   "version": "2.7.17"
  },
  "toc-autonumbering": true
 },
 "nbformat": 4,
 "nbformat_minor": 4
}
