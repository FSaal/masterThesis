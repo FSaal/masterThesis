{
 "cells": [
  {
   "cell_type": "code",
   "execution_count": 1,
   "metadata": {},
   "outputs": [],
   "source": [
    "import numpy as np\n",
    "import cv2\n",
    "import rosbag\n",
    "from cv_bridge import CvBridge\n",
    "from matplotlib import pyplot as plt\n",
    "import ros_numpy\n",
    "from tf.transformations import quaternion_matrix\n",
    "import plotly.express as px\n",
    "import plotly.graph_objects as go\n",
    "import pandas as pd"
   ]
  },
  {
   "cell_type": "markdown",
   "metadata": {},
   "source": [
    "The following values need to be adjusted for each rosbag\n",
    "\n",
    "Get transformation from lidar to camera frame:\n",
    "\n",
    "1) Add `static_transform_publisher` with zed and lidar transforms to base_link to a launch file and launch it\n",
    "2) Run `get_tfs.py` which returns the translation `(x, y, z)` and rotation `(qx, qy, qz, qw)` between two frames\n",
    "3) Copy them from terminal\n",
    "4) Insert them below"
   ]
  },
  {
   "cell_type": "code",
   "execution_count": 168,
   "metadata": {},
   "outputs": [],
   "source": [
    "# Load rosbag\n",
    "bag = rosbag.Bag('/home/user/rosbags/final/slam/u_c2s_half_odom_hdl.bag')\n",
    "# Frame (is equivalent to time: frame/10 s)\n",
    "frame = 1\n",
    "\n",
    "# Transform lidar to camera left optical (using output from tf node)\n",
    "trans = [0.06500000000000006, -0.029994648094052723, -0.4211903145677902]\n",
    "quat = [-0.452267597655442, 0.452267597655442, -0.5435568232585948, -0.5435568232585948]"
   ]
  },
  {
   "cell_type": "markdown",
   "metadata": {},
   "source": [
    "Helper functions"
   ]
  },
  {
   "cell_type": "code",
   "execution_count": 169,
   "metadata": {},
   "outputs": [],
   "source": [
    "def unpack_bag(topic):\n",
    "    \"\"\"Extracts all msgs (with time) of a topic from a rosbag\"\"\"\n",
    "    t_msg = []\n",
    "    msgs = []\n",
    "    for topic, msg, t in bag.read_messages(topics=topic):\n",
    "        msgs.append(msg)\n",
    "        # Time at which msg was recorded\n",
    "        t_msg.append(t.to_time())\n",
    "    return msgs, t_msg\n",
    "\n",
    "def synchronize_topics(topic1, t_topic1, topic2, t_topic2):\n",
    "    \"\"\"Synchronizes two topics of different rate by downsampling\n",
    "    topic with higher frequency\"\"\"\n",
    "    if len(topic1) == len(topic2):\n",
    "        return topic1, topic2\n",
    "\n",
    "    # Assume first array is bigger\n",
    "    array_big = np.asarray(t_topic1)\n",
    "    array_small = np.asarray(t_topic2)\n",
    "    is_topic1_bigger = True\n",
    "    # Swap if not\n",
    "    if len(t_topic1) < len(t_topic2):\n",
    "        array_small, array_big = array_big, array_small\n",
    "        is_topic1_bigger = False\n",
    "    indices = []\n",
    "    # For each time of the small array, check which is\n",
    "    # the closest msg in the big array\n",
    "    for i, v in enumerate(array_small):\n",
    "        # Offset big array with a msg from small array\n",
    "        diff = np.abs(array_big - v)\n",
    "        # Index where time difference is the smallest\n",
    "        idx = diff.argmin()\n",
    "        indices.append(idx)\n",
    "\n",
    "    # Check if there is no offset\n",
    "    diffs = array_big[indices] - array_small\n",
    "    if max(diffs) > 0.1:\n",
    "        print(\"ATTENTION, maybe offset\")\n",
    "\n",
    "    if is_topic1_bigger:\n",
    "        topic1_synched = np.asarray(topic1)[indices]\n",
    "        return topic1_synched, np.asarray(topic2)\n",
    "    else:\n",
    "        topic2_synched = np.asarray(topic2)[indices]\n",
    "        return topic1, topic2_synched\n",
    "\n",
    "\n",
    "def cut_pc(pc2D, x1=1280, y1=720, idx=None):\n",
    "    \"\"\"Cuts points of 2D pointcloud which lie outside of camera image\"\"\"\n",
    "    if idx is None:\n",
    "        idx = (\n",
    "            (pc2D[:, 0] > 0) & (pc2D[:, 0] < x1) & (pc2D[:, 1] > 0) & (pc2D[:, 1] < y1)\n",
    "        )\n",
    "        pc_smol = pc2D[idx]\n",
    "        return pc_smol, idx\n",
    "    return pc2D[idx]"
   ]
  },
  {
   "cell_type": "code",
   "execution_count": 11,
   "metadata": {},
   "outputs": [],
   "source": []
  },
  {
   "cell_type": "markdown",
   "metadata": {},
   "source": [
    "Load data (camera image and pointcloud) and extract one frame"
   ]
  },
  {
   "cell_type": "code",
   "execution_count": 4,
   "metadata": {},
   "outputs": [],
   "source": [
    "# ZED camera\n",
    "image, t_image = unpack_bag('/zed2i/zed_node/left/image_rect_color')\n",
    "# Velodyne point cloud\n",
    "lidar, t_lidar = unpack_bag('/velodyne_points')\n",
    "\n",
    "# Synchronize both topics (zed camera has 30 fps whereas lidar is only 10 Hz)\n",
    "image, lidar = synchronize_topics(image, t_image, lidar, t_lidar)\n",
    "\n",
    "# Extract one frame\n",
    "img = image[frame]\n",
    "pc = lidar[frame]"
   ]
  },
  {
   "cell_type": "markdown",
   "metadata": {},
   "source": [
    "Convert msgs to numpy array"
   ]
  },
  {
   "cell_type": "code",
   "execution_count": 6,
   "metadata": {},
   "outputs": [],
   "source": [
    "# Convert from image msg to numpy array\n",
    "bridge = CvBridge()\n",
    "img = bridge.imgmsg_to_cv2(img, desired_encoding=\"passthrough\")\n",
    "\n",
    "# Convert point cloud msg to numpy array\n",
    "pc_array = ros_numpy.point_cloud2.pointcloud2_to_xyz_array(pc, remove_nans=True)"
   ]
  },
  {
   "cell_type": "markdown",
   "metadata": {},
   "source": [
    "Get camera parameters\n",
    "\n",
    "1) Start rosbag with zed recording and echo `camera_info` topic\n",
    "2) Copy important information\n",
    "    1) D are the distortion parameters (**needed**)\n",
    "    2) K is the intrinsic camera matrix (for the raw (distorted) images) (**needed**)\n",
    "    3) R is the Rectification matrix \n",
    "    4) P is the projection/camera matrix\n",
    "3) Insert them below"
   ]
  },
  {
   "cell_type": "code",
   "execution_count": 7,
   "metadata": {},
   "outputs": [],
   "source": [
    "# Lidar points\n",
    "# Remove points behind car (because not visible in camera frame)\n",
    "pc_array = pc_array[pc_array[:, 0] > 0]\n",
    "objectPoints = pc_array\n",
    "\n",
    "# Get rotation vector from lidar frame to camera frame\n",
    "# Convert quaternion to rotation matrix\n",
    "rotMat = quaternion_matrix(quat)[:3, :3]\n",
    "# Convert rotation matrix to rotation vector\n",
    "rot_vec, _ = cv2.Rodrigues(rotMat)\n",
    "# Rotation vector from lidar frame to camera frame\n",
    "rvec = rot_vec\n",
    "\n",
    "# Translation vector from lidar to camera frame\n",
    "tvec = np.asarray(trans)\n",
    "\n",
    "# Camera matrix (K)\n",
    "cameraMatrix = np.array(\n",
    "    [\n",
    "        [519.9877319335938, 0.0, 630.9716796875],\n",
    "        [0.0, 519.9877319335938, 352.2940673828125],\n",
    "        [0.0, 0.0, 1.0],\n",
    "    ]\n",
    ")\n",
    "\n",
    "# Distortion coefficients (D)\n",
    "distCoeffs = np.array([0.0, 0.0, 0.0, 0.0, 0.0])"
   ]
  },
  {
   "cell_type": "markdown",
   "metadata": {},
   "source": [
    "Project 3D lidar points onto 2D plane"
   ]
  },
  {
   "cell_type": "code",
   "execution_count": 8,
   "metadata": {},
   "outputs": [],
   "source": [
    "# Projection of 3D points onto 2D plane\n",
    "lidar_img_points, _ = cv2.projectPoints(\n",
    "    objectPoints, rvec, tvec, cameraMatrix, distCoeffs)\n",
    "lidar_img_points = lidar_img_points.reshape(len(lidar_img_points), 2)\n",
    "\n",
    "# Remove points which do not lie inside image plane\n",
    "lidar_img_points_small, indices = cut_pc(lidar_img_points, img.shape[1], img.shape[0])\n",
    "# Same for original pointcloud (used for distance)\n",
    "pc_array_small = cut_pc(pc_array, idx=indices)\n",
    "\n",
    "# Create dataframe with x, y coordinates and distance of lidar points\n",
    "df = pd.DataFrame(lidar_img_points_small, columns=[\"x\", \"y\"])\n",
    "# Add distance information\n",
    "df[\"dist\"] = pc_array_small[:, 0]"
   ]
  },
  {
   "cell_type": "markdown",
   "metadata": {},
   "source": [
    "Visualize"
   ]
  },
  {
   "cell_type": "code",
   "execution_count": 9,
   "metadata": {},
   "outputs": [],
   "source": [
    "fig = px.imshow(img)\n",
    "# fig.add_trace(px.scatter(lidar_img_points_small[:, 0], lidar_img_points_small[:, 1]))\n",
    "fig.add_trace(\n",
    "    go.Scatter(\n",
    "        x=df[\"x\"],\n",
    "        y=df[\"y\"],\n",
    "        mode=\"markers\",\n",
    "        marker=dict(size=3, opacity=0.8, color=df[\"dist\"]),\n",
    "    )\n",
    ")\n",
    "fig.update_layout(width=1920 * 0.7, height=1080 * 0.7)\n",
    "fig.show()"
   ]
  }
 ],
 "metadata": {
  "interpreter": {
   "hash": "767d51c1340bd893661ea55ea3124f6de3c7a262a8b4abca0554b478b1e2ff90"
  },
  "kernelspec": {
   "display_name": "Python 2.7.17 64-bit",
   "language": "python",
   "name": "python3"
  },
  "language_info": {
   "codemirror_mode": {
    "name": "ipython",
    "version": 3
   },
   "file_extension": ".py",
   "mimetype": "text/x-python",
   "name": "python",
   "nbconvert_exporter": "python",
   "pygments_lexer": "ipython3",
   "version": "3.6.9"
  },
  "orig_nbformat": 4
 },
 "nbformat": 4,
 "nbformat_minor": 2
}
