{
 "cells": [
  {
   "cell_type": "code",
   "execution_count": null,
   "metadata": {},
   "outputs": [],
   "source": [
    "import numpy as np\n",
    "import cv2\n",
    "import rosbag\n",
    "from cv_bridge import CvBridge\n",
    "from matplotlib import pyplot as plt\n",
    "import ros_numpy\n",
    "from tf.transformations import quaternion_matrix\n",
    "import plotly.express as px\n",
    "import plotly.graph_objects as go\n",
    "import pandas as pd"
   ]
  },
  {
   "cell_type": "markdown",
   "metadata": {},
   "source": [
    "Load data (camera image and pointcloud) and extract one frame"
   ]
  },
  {
   "cell_type": "code",
   "execution_count": null,
   "metadata": {},
   "outputs": [],
   "source": [
    "# Load rosbag\n",
    "bag = rosbag.Bag('/home/user/rosbags/2021-12-03-20-27-23.bag')\n",
    "frame = 100\n",
    "\n",
    "# ZED camera\n",
    "i = 0\n",
    "for topic, msg, t in bag.read_messages(topics='/zed2i/zed_node/left/image_rect_color'):\n",
    "    img = msg\n",
    "    i+=1\n",
    "    if i == frame:\n",
    "        break\n",
    "    \n",
    "# Velodyne point cloud\n",
    "i = 0\n",
    "for topic, msg, t in bag.read_messages(topics='/velodyne_points'):\n",
    "    pc = msg\n",
    "    i+=1\n",
    "    if i == frame:\n",
    "        break"
   ]
  },
  {
   "cell_type": "markdown",
   "metadata": {},
   "source": [
    "Convert msgs to numpy array"
   ]
  },
  {
   "cell_type": "code",
   "execution_count": null,
   "metadata": {},
   "outputs": [],
   "source": [
    "# Convert from image msg to numpy array\n",
    "bridge = CvBridge()\n",
    "img = bridge.imgmsg_to_cv2(img, desired_encoding='passthrough')\n",
    "\n",
    "# Convert point cloud msg to numpy array\n",
    "pc_array = ros_numpy.point_cloud2.pointcloud2_to_xyz_array(pc, remove_nans=True)\n",
    "\n",
    "# Display image frame\n",
    "px.imshow(img)"
   ]
  },
  {
   "cell_type": "markdown",
   "metadata": {},
   "source": [
    "Get transformation from lidar to camera frame:\n",
    "\n",
    "1) Add `static_transform_publisher` with zed and lidar transforms to base_link to a launch file and launch it\n",
    "2) Run `get_tfs.py` which returns the translation `(x, y, z)` and rotation `(qx, qy, qz, qw)` between two frames\n",
    "3) Copy them from terminal\n",
    "4) Insert them below"
   ]
  },
  {
   "cell_type": "code",
   "execution_count": null,
   "metadata": {},
   "outputs": [],
   "source": [
    "# Transform lidar to camera left optical (using tf node with lookupTransform)\n",
    "trans = [0.06500000000000006, -0.029994648094052723, -0.4211903145677902]\n",
    "quat = [0.45451945741323646, 0.45451945741323657, -0.5416752374188588, 0.5416752374188588]\n",
    "\n",
    "# Convert quaternion to rotation matrix\n",
    "rotMat = quaternion_matrix(quat)[:3, :3]\n",
    "# Convert rotation matrix to rotation vector\n",
    "rot_vec, _ = cv2.Rodrigues(rotMat)"
   ]
  },
  {
   "cell_type": "markdown",
   "metadata": {},
   "source": [
    "Get camera parameters\n",
    "\n",
    "1) Start rosbag with zed recording and echo `camera_info` topic\n",
    "2) Copy important information\n",
    "    1) D are the distortion parameters (**needed**)\n",
    "    2) K is the intrinsic camera matrix (for the raw (distorted) images) (**needed**)\n",
    "    3) R is the Rectification matrix \n",
    "    4) P is the projection/camera matrix\n",
    "3) Insert them below"
   ]
  },
  {
   "cell_type": "code",
   "execution_count": null,
   "metadata": {},
   "outputs": [],
   "source": [
    "# Lidar points\n",
    "#! Next code only because lidar was facing backwards\n",
    "# Remove points which face opposite direction of camera\n",
    "# < 0 because lidar was mounted the wrong way (facing backwards)\n",
    "pc_array = pc_array[pc_array[:,0] < 0]\n",
    "# Remove points behind car (because not visible in camera frame)\n",
    "# pc_array = pc_array[pc_array[:,0] > 0]\n",
    "objectPoints = pc_array\n",
    "\n",
    "# Rotation vector from lidar frame to camera frame\n",
    "rvec = rot_vec\n",
    "\n",
    "# Translation vector from lidar to camera frame\n",
    "tvec = np.asarray(trans)\n",
    "\n",
    "# Camera matrix (K)\n",
    "cameraMatrix = np.array(\n",
    "    [[519.9877319335938, 0.0, 630.9716796875], \n",
    "    [0.0, 519.9877319335938, 352.2940673828125], \n",
    "    [0.0, 0.0, 1.0]])\n",
    "\n",
    "# Distortion coefficients (D)\n",
    "distCoeffs = np.array([0.0, 0.0, 0.0, 0.0, 0.0])"
   ]
  },
  {
   "cell_type": "markdown",
   "metadata": {},
   "source": [
    "Project 3D lidar points onto 2D plane"
   ]
  },
  {
   "cell_type": "code",
   "execution_count": null,
   "metadata": {},
   "outputs": [],
   "source": [
    "# Projection of 3D points onto 2D plane\n",
    "lidar_img_points, _ = cv2.projectPoints(objectPoints, rvec, tvec, cameraMatrix, distCoeffs)\n",
    "lidar_img_points = lidar_img_points.reshape(len(lidar_img_points), 2)\n",
    "\n",
    "# Remove points which do not lie inside image plane\n",
    "lidar_img_points_small = lidar_img_points[\n",
    "    (lidar_img_points[:,0] > 0)\n",
    "    & (lidar_img_points[:,0] < img.shape[1])\n",
    "    & (lidar_img_points[:,1] > 0)\n",
    "    & (lidar_img_points[:,1] < img.shape[0])\n",
    "    ]\n",
    "\n",
    "# Same for original pointcloud\n",
    "pc_array_small = pc_array[\n",
    "    (lidar_img_points[:,0] > 0)\n",
    "    & (lidar_img_points[:,0] < img.shape[1])\n",
    "    & (lidar_img_points[:,1] > 0)\n",
    "    & (lidar_img_points[:,1] < img.shape[0])\n",
    "    ]\n",
    "\n",
    "# Create dataframe with x, y coordinates and distance of lidar points \n",
    "df = pd.DataFrame(lidar_img_points_small, columns=['x', 'y'])\n",
    "# Add distance information\n",
    "#! - because lidar was facing backward\n",
    "df['dist'] = -pc_array_small[:,0]\n",
    "df.head()"
   ]
  },
  {
   "cell_type": "markdown",
   "metadata": {},
   "source": [
    "Visualize"
   ]
  },
  {
   "cell_type": "code",
   "execution_count": null,
   "metadata": {},
   "outputs": [],
   "source": [
    "fig = px.imshow(img)\n",
    "# fig.add_trace(px.scatter(lidar_img_points_small[:, 0], lidar_img_points_small[:, 1]))\n",
    "fig.add_trace(go.Scatter(\n",
    "    x=df['x'], y=df['y'],\n",
    "    mode='markers', \n",
    "    marker=dict(size=3, opacity=0.8, color=df['dist'])))\n",
    "fig.update_layout(width = 1920*0.7, height=1080*0.7)\n",
    "fig.show()"
   ]
  }
 ],
 "metadata": {
  "interpreter": {
   "hash": "767d51c1340bd893661ea55ea3124f6de3c7a262a8b4abca0554b478b1e2ff90"
  },
  "kernelspec": {
   "display_name": "Python 2.7.17 64-bit",
   "language": "python",
   "name": "python3"
  },
  "language_info": {
   "codemirror_mode": {
    "name": "ipython",
    "version": 2
   },
   "file_extension": ".py",
   "mimetype": "text/x-python",
   "name": "python",
   "nbconvert_exporter": "python",
   "pygments_lexer": "ipython2",
   "version": "2.7.17"
  },
  "orig_nbformat": 4
 },
 "nbformat": 4,
 "nbformat_minor": 2
}
